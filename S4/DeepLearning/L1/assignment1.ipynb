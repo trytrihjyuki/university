{
 "cells": [
  {
   "cell_type": "markdown",
   "metadata": {
    "id": "CGXgWugfJ0Vl"
   },
   "source": [
    "## Assignment 1\n",
    "\n",
    "**Submission deadlines:** \n",
    "- get at least **2** points by Tuesday, 9.03.2021\n",
    "- remaining points: last lab session before or on Tuesday, 16.03.2021\n",
    "\n",
    "**Points:** Aim to get 8 out of 12 possible points\n",
    "\n",
    "## Submission instructions\n",
    "The class is held remotely. To sumbmit your solutions please show the notebook over the video call. Make sure you know all the questions and asnwers, and that the notebook contains results (before presentation do `Runtime -> Restar and run all`)\n",
    "\n",
    "We provide starter code, however you are not required to use it as long as you properly solve the tasks.\n",
    "\n",
    "As always, please submit corrections using GitHub's Pull Requests to https://github.com/janchorowski/dl_uwr."
   ]
  },
  {
   "cell_type": "markdown",
   "metadata": {
    "id": "5S8iRaCPyO2a"
   },
   "source": [
    "# Task description\r\n",
    "\r\n",
    "## TLDR\r\n",
    "Implement and train a neural network using pure numpy."
   ]
  },
  {
   "cell_type": "markdown",
   "metadata": {
    "id": "JHcz7I2V-bVM"
   },
   "source": [
    "\r\n",
    "## Problem 1 [2p]\r\n",
    "Implement a two-layer network, manually set weights and biases to solve the XOR task.\r\n",
    "\r\n",
    "A two-layer neural network implementes a function $f: \\mathbb{R}^D \\rightarrow \\mathbb{R}^O$ where $D$ is the input dimensionality and $O$ is the output dinemsionality. The output goes through an intermediate representation (the hidden layer) with dimensionality $H$. \r\n",
    "\r\n",
    "The computations are as follows:\r\n",
    "\\begin{equation}\r\n",
    "\\begin{split}\r\n",
    "A_1 &= x W_1^T + b_1  & \\qquad\\text{Total input to neurons in the hidden layer (network's first layer)} \\\\\r\n",
    "O_1 &= \\sigma_1(A_1)  & \\qquad\\text{Output of the hidden layer} \\\\\r\n",
    "A_2 &= O_1 W_2^T + b_2 & \\qquad\\text{Total input to neurons in the output layer (network's second layer)}\\\\\r\n",
    "O_2 &= \\sigma_2(A_2) & \\qquad\\text{Output of the network}\r\n",
    "\\end{split}\r\n",
    "\\end{equation}\r\n",
    "\r\n",
    "Where $W$ are weight matrices, $b$ are bias vectors, $\\sigma$ are non-linear activation functions (e.g. the logistic sigmoid applied element-wise, or softmax).\r\n",
    "\r\n",
    "For the 2D xor problem the network will:\r\n",
    "- have 2 inputs, 2 hidden neurons, one output\r\n",
    "- use the logistic sigmoid everywhere (that way we, when hand-designig the weights, we can assume that neurons' outputs are binary).\r\n",
    "\r\n",
    "Therrefore the shapes of the data floing through the network will be:\r\n",
    "- input: $x\\in\\mathbb{}R^{2}$\r\n",
    "- hidden layer parameters: $W_1\\in\\mathbb{}R^{2\\times 2}$ and $b_1\\in\\mathbb{}R^{2}$\r\n",
    "- representations in the hidden layer: $A_1\\in\\mathbb{}R^{2}$ and $O_1\\in\\mathbb{}R^{2}$\r\n",
    "- output layer parameters: $W_2\\in\\mathbb{}R^{1\\times 2}$ and $b_1\\in\\mathbb{}R^{1}$\r\n",
    "- representations in the output layer: $A_2\\in\\mathbb{}R^{1}$ and $O_2\\in\\mathbb{}R^{1}$\r\n",
    "\r\n",
    "The network can be seen as a logistic regression model, prefixed by a nonlinear transformation of the data.\r\n",
    "\r\n",
    "The first tasks consists of:\r\n",
    "- implementing the network\r\n",
    "- selecting parametwrs ($W_1, b_1, W_2, b_2$) such that $f(x)\\approx XOR(x_1, x_2)$ where the approximation is die to the sigmoids - the output may be close to 0 or 1, but doesn't need to saturate at 0 or 1.\r\n",
    "\r\n",
    "NB: the convention on weight matrix shapes follows linear [layers in PyTorch](https://pytorch.org/docs/stable/generated/torch.nn.Linear.html).\r\n"
   ]
  },
  {
   "cell_type": "markdown",
   "metadata": {
    "id": "0QSpZxuH-bLe"
   },
   "source": [
    "## Problem 2 [2p]\r\n",
    "1. Add a backward pass.\r\n",
    "2. Use a sensible random initialization for weights and biases.\r\n",
    "3. Numerically check the correctness of your gradient computation.\r\n",
    "\r\n",
    "There is nice article about taking derivative over vectors and vector chain rule: https://explained.ai/matrix-calculus/ if someone don't have experience with suchr calculus.\r\n"
   ]
  },
  {
   "cell_type": "markdown",
   "metadata": {
    "id": "s1Tn8j0m-bAy"
   },
   "source": [
    "## Problem 3 [2p]\r\n",
    "1. Implement gradient descent\r\n",
    "2. Train your network to solve 3D XOR\r\n",
    "3. Try several hidden layer sizes, for each size record the fracton of successful trainings. Then answer:\r\n",
    "    - What is the minimal hidden size required to solve 3D XOR (even with low reliability, when the training has to be repeated multiple times)\r\n",
    "    - What is the minimal hidden size required to reliably solve 3D XOR\r\n",
    "    - Which networks are easier to train - small or large ones? Why?\r\n"
   ]
  },
  {
   "cell_type": "markdown",
   "metadata": {
    "id": "RP9Pvpmf-a2A"
   },
   "source": [
    "## Problem 4 [1p]\r\n",
    "Replace the first nonlinearity with the [ReLU](https://en.wikipedia.org/wiki/Rectifier_(neural_networks)) activation function. Find a network architecture which reliably learns the 3D XOR problem.\r\n"
   ]
  },
  {
   "cell_type": "markdown",
   "metadata": {
    "id": "cGgtpe-w-asB"
   },
   "source": [
    "## Problem 5 [1p]\r\n",
    "Add a second hidden layer to your network, implement the forward and backward pass, then demonstrate training.\r\n"
   ]
  },
  {
   "cell_type": "markdown",
   "metadata": {
    "id": "Pe-pcFeO-aiE"
   },
   "source": [
    "## Problem 6 [2p]\r\n",
    "Implement a way to have a _variable number_ of hidden layers. Check how deep sigmoid or ReLU networks you  can train. For simplicity you can assume that all hidden layers have the same number of neurons, and use the same activation function.\r\n"
   ]
  },
  {
   "cell_type": "markdown",
   "metadata": {
    "id": "kIpn17Cm-aW7"
   },
   "source": [
    "## Problem 7 [2p]\r\n",
    "For each weight matrix $w\\in\\mathbb{R}^{n\\times m}$, add a randomly initialized `backward weight` $w_b\\in\\mathbb{R}^{m\\times n}$, which will not change during training. Change the backward pass to use $w_b$ instead of $w^T$, getting an approxmatoin of the true gradient. Can you get your network to train?\r\n",
    "\r\n",
    "NB: this approach, dubbed [feedback alignment](https://www.nature.com/articles/ncomms13276), was proposed to make error backpropagation more biologically plausible, by providing a solution to the \"weight transport problem\". Regular backpropagation requires that neurons not only know their incoming weights (thet they control), but also their outgoing weights (that are controlled by neurons in the upper layers). This is nearly impossible in a real brain."
   ]
  },
  {
   "cell_type": "markdown",
   "metadata": {
    "id": "rXJaoHSH0DZO"
   },
   "source": [
    "# Solutions and starter code"
   ]
  },
  {
   "cell_type": "code",
   "execution_count": 1,
   "metadata": {
    "id": "YiTEWD2oqW0Y"
   },
   "outputs": [],
   "source": [
    "import matplotlib.pyplot as plt\n",
    "import numpy as np"
   ]
  },
  {
   "cell_type": "markdown",
   "metadata": {
    "id": "eqtfJKR40J3x"
   },
   "source": [
    "XOR dataset creation"
   ]
  },
  {
   "cell_type": "code",
   "execution_count": 2,
   "metadata": {
    "colab": {
     "base_uri": "https://localhost:8080/",
     "height": 296
    },
    "id": "lYEbCfbSpv5M",
    "outputId": "48a99aad-e15b-4c7b-f881-bbfbe1941a15"
   },
   "outputs": [
    {
     "data": {
      "text/plain": [
       "(-0.05985663082437276,\n",
       " 1.0704965700586295,\n",
       " -0.06517660044150111,\n",
       " 1.065176600441501)"
      ]
     },
     "execution_count": 2,
     "metadata": {},
     "output_type": "execute_result"
    },
    {
     "data": {
      "image/png": "[encoded data removed]",
      "text/plain": [
       "<Figure size 432x288 with 1 Axes>"
      ]
     },
     "metadata": {
      "needs_background": "light"
     },
     "output_type": "display_data"
    }
   ],
   "source": [
    "# Let's define a XOR dataset\n",
    "\n",
    "# X will be matrix of N 2-dimensional inputs\n",
    "X = np.array([[0, 0], [0, 1], [1, 0], [1, 1],], dtype=np.float32)\n",
    "# Y is a matrix of N numners - answers\n",
    "Y = np.array([[0], [1], [1], [0],], dtype=np.float32)\n",
    "\n",
    "plt.scatter(\n",
    "    X[:, 0], X[:, 1], c=Y[:, 0],\n",
    ")\n",
    "plt.xlabel(\"X[0]\")\n",
    "plt.ylabel(\"X[1]\")\n",
    "plt.axis(\"square\")"
   ]
  },
  {
   "cell_type": "markdown",
   "metadata": {
    "id": "Rb3azMn929_I"
   },
   "source": [
    "## Problem 1"
   ]
  },
  {
   "cell_type": "markdown",
   "metadata": {
    "id": "RZCM_hdELE04"
   },
   "source": [
    "The code below contains a mock-up of a two-layer neural network. Fill in the code and manually set weights to solve the XOR problem.\n",
    "\n",
    "Please note: the shapes are set to be compatible with PyTorch's conventions:\n",
    "* a batch containing $N$ $D$-dimensional examples has shape $N\\times D$ (each example is a row!)\n",
    "* a weight matrix in a linear layer with $I$ inputs and $O$ outputs has shape $O \\times I$\n",
    "* a bias vector is a 1D vector. Please note that [broadcasting rules](https://docs.scipy.org/doc/numpy/user/basics.broadcasting.html) allow us to think about it as a $1 \\times D$ matrix."
   ]
  },
  {
   "cell_type": "code",
   "execution_count": 3,
   "metadata": {
    "id": "lrrRuk6zLiF0"
   },
   "outputs": [],
   "source": [
    "def sigmoid(x):\n",
    "    return 1 / (1 + np.exp(-x))\n",
    "\n",
    "def relu(x):\n",
    "    return x * (x > 0)\n",
    "\n",
    "class SmallNet:\n",
    "    def __init__(self, in_features, num_hidden, activation_f_name, dtype=np.float32):\n",
    "        self.W1 = np.zeros((num_hidden, in_features), dtype=dtype)\n",
    "        self.b1 = np.zeros((num_hidden,), dtype=dtype)\n",
    "        self.W2 = np.zeros((1, num_hidden), dtype=dtype)\n",
    "        self.b2 = np.zeros((1,), dtype=dtype)\n",
    "        self.activation_f_name = activation_f_name\n",
    "        self.init_params()\n",
    "\n",
    "    def init_params(self):\n",
    "        mu, std = 0, 0.5\n",
    "        self.W1 = np.random.normal(mu, std, size=(self.W1.shape))\n",
    "        self.W2 = np.random.normal(mu, std, size=(self.W2.shape))\n",
    "        self.b1 = np.random.normal(mu, std, size=(self.b1.shape))\n",
    "        self.b2 = np.random.normal(mu, std, size=(self.b2.shape))\n",
    "        if self.activation_f_name not in ['relu', 'sigmoid']:\n",
    "            raise NotImplementedError(\"No activation function!\")\n",
    "\n",
    "    def forward(self, X, Y=None, do_backward=False):\n",
    "\n",
    "        # Input to neurons in 1st layer\n",
    "        A1 = X@self.W1.T + self.b1\n",
    "        # Outputs after the sigmoid non-linearity\n",
    "        if self.activation_f_name == 'sigmoid':\n",
    "            O1 = sigmoid(A1)\n",
    "        if self.activation_f_name == 'relu':\n",
    "            O1 = relu(A1)\n",
    "        # Inputs to neuron in the second layer\n",
    "        A2 = O1@self.W2.T + self.b2\n",
    "        # Outputs after the sigmoid non-linearity\n",
    "        if self.activation_f_name == 'sigmoid':\n",
    "            O2 = sigmoid(A2)\n",
    "        if self.activation_f_name == 'relu':\n",
    "            O2 = relu(A2)\n",
    "\n",
    "        # When Y is none, simply return the predictions. Else compute the loss\n",
    "        if Y is not None:\n",
    "            eps = 1e-9\n",
    "            loss = -Y * np.log(O2+eps) - (1 - Y) * np.log(1.0 - O2+eps)\n",
    "            # normalize loss by batch size\n",
    "            loss = loss.sum() / X.shape[0]\n",
    "        else:\n",
    "            loss = np.nan\n",
    "\n",
    "        if do_backward:\n",
    "            n, _ = X.shape\n",
    "            A2_grad = (O2 - Y).T\n",
    "            self.b2_grad = A2_grad.sum(axis=1) / n\n",
    "            self.W2_grad = A2_grad@O1 / n\n",
    "            O1_grad = A2_grad.T@self.W2\n",
    "            if self.activation_f_name == 'sigmoid':\n",
    "                A1_grad = O1_grad*O1*(np.ones(O1.shape) - O1) # Sigmoid\n",
    "            if self.activation_f_name == 'relu':\n",
    "                A1_grad = O1_grad*(A1 > 0) # Relu\n",
    "            self.b1_grad = A1_grad.sum(axis=0) / n\n",
    "            self.W1_grad = (X.T@A1_grad).T / n\n",
    "\n",
    "        return O2, loss"
   ]
  },
  {
   "cell_type": "code",
   "execution_count": 4,
   "metadata": {
    "colab": {
     "base_uri": "https://localhost:8080/"
    },
    "id": "jJswvBk0oiIY",
    "outputId": "e6559317-7afa-4509-fbac-4880e73b91cc"
   },
   "outputs": [
    {
     "name": "stdout",
     "output_type": "stream",
     "text": [
      "XORnet([0. 0.]) = 4.543910487654591e-05\n",
      "XORnet([0. 1.]) = 0.999954519621495\n",
      "XORnet([1. 0.]) = 0.999954519621495\n",
      "XORnet([1. 1.]) = 4.543910487654591e-05\n"
     ]
    }
   ],
   "source": [
    "# TODO Problem 1:\n",
    "# Set by hand the weight values to solve the XOR problem\n",
    "\n",
    "net = SmallNet(2, 2, 'sigmoid',dtype=np.float64)\n",
    "net.W1 = np.array([[20,20],[-20,-20]])\n",
    "net.b1 = np.array([[-10, 30]])\n",
    "net.W2 = np.array([[20,20]])\n",
    "net.b2 = np.array([[-30]])\n",
    "\n",
    "# Hint: since we use the logistic sigmoid activation, the weights may need to\n",
    "# be fairly large\n",
    "\n",
    "\n",
    "predictions, loss = net.forward(X, Y, do_backward=False)\n",
    "for x, p in zip(X, predictions):\n",
    "    print(f\"XORnet({x}) = {p[0]}\")"
   ]
  },
  {
   "cell_type": "markdown",
   "metadata": {
    "id": "wmxCi5Vl6_xB"
   },
   "source": [
    "## Problem 2"
   ]
  },
  {
   "cell_type": "code",
   "execution_count": 5,
   "metadata": {
    "id": "eSM5hgJ1mrhY"
   },
   "outputs": [],
   "source": [
    "def check_grad(net, param_name, X, Y, eps=1e-5):\n",
    "    \"\"\"A gradient checking routine\"\"\"\n",
    "\n",
    "    param = getattr(net, param_name)\n",
    "    param_flat_accessor = param.reshape(-1)\n",
    "\n",
    "    grad = np.empty_like(param)\n",
    "    grad_flat_accessor = grad.reshape(-1)\n",
    "\n",
    "    net.forward(X, Y, do_backward=True)\n",
    "    orig_grad = getattr(net, param_name + \"_grad\")\n",
    "#     print(param_name)\n",
    "#     print(param)\n",
    "#     print(param.shape)\n",
    "#     print(orig_grad)\n",
    "#     print(orig_grad.shape)\n",
    "    assert param.shape == orig_grad.shape\n",
    "\n",
    "    for i in range(param_flat_accessor.shape[0]):\n",
    "        orig_val = param_flat_accessor[i]\n",
    "        param_flat_accessor[i] = orig_val + eps\n",
    "        _, loss_positive = net.forward(X, Y)\n",
    "        param_flat_accessor[i] = orig_val - eps\n",
    "        _, loss_negative = net.forward(X, Y)\n",
    "        param_flat_accessor[i] = orig_val\n",
    "        grad_flat_accessor[i] = (loss_positive - loss_negative) / (2 * eps)\n",
    "    assert np.allclose(grad, orig_grad)\n",
    "    return grad, orig_grad"
   ]
  },
  {
   "cell_type": "code",
   "execution_count": 6,
   "metadata": {
    "id": "TTZu0jFEvgXF"
   },
   "outputs": [],
   "source": [
    "# Hint: use float64 for checking the correctness of the gradient\n",
    "net = SmallNet(2, 2, 'sigmoid', dtype=np.float64)\n",
    "\n",
    "for param_name in [\"W1\", \"b1\", \"W2\", \"b2\"]:\n",
    "    check_grad(net, param_name, X, Y)"
   ]
  },
  {
   "cell_type": "markdown",
   "metadata": {
    "id": "8mUOs3cVvjM2"
   },
   "source": [
    "## Problem 3"
   ]
  },
  {
   "cell_type": "code",
   "execution_count": 7,
   "metadata": {
    "colab": {
     "base_uri": "https://localhost:8080/"
    },
    "id": "nn2AAoZo0vjU",
    "outputId": "7b6b5a9a-dea5-4357-e8c1-36a34c7c272a"
   },
   "outputs": [
    {
     "name": "stdout",
     "output_type": "stream",
     "text": [
      "after 0 steps \tloss=0.7572311461013245\n",
      "after 5000 steps \tloss=0.039664911806490025\n",
      "after 10000 steps \tloss=0.010176320069483099\n",
      "after 15000 steps \tloss=0.005693921073081803\n",
      "after 20000 steps \tloss=0.003929007455643436\n",
      "after 25000 steps \tloss=0.0029909517556063214\n",
      "after 30000 steps \tloss=0.002410475682452366\n",
      "after 35000 steps \tloss=0.002016406861947632\n",
      "after 40000 steps \tloss=0.0017316284621279577\n",
      "after 45000 steps \tloss=0.0015163424088620002\n",
      "after 50000 steps \tloss=0.0013479534047282015\n",
      "after 55000 steps \tloss=0.0012126895281591506\n",
      "after 60000 steps \tloss=0.0011016825576307748\n",
      "after 65000 steps \tloss=0.0010089658903566525\n",
      "after 70000 steps \tloss=0.0009303786416119376\n",
      "after 75000 steps \tloss=0.000862931218346955\n",
      "after 80000 steps \tloss=0.0008044206380939624\n",
      "after 85000 steps \tloss=0.000753188012648394\n",
      "after 90000 steps \tloss=0.0007079604870604346\n",
      "after 95000 steps \tloss=0.0006677452195971539\n"
     ]
    }
   ],
   "source": [
    "net = SmallNet(2, 10, 'sigmoid', dtype=np.float64)\n",
    "\n",
    "alpha = 0.1  # set a learning rate\n",
    "\n",
    "for i in range(100000):\n",
    "    _, loss = net.forward(X, Y, do_backward=True)\n",
    "    if (i % 5000) == 0:\n",
    "        print(f\"after {i} steps \\tloss={loss}\")\n",
    "    for param_name in [\"W1\", \"b1\", \"W2\", \"b2\"]:\n",
    "        param = getattr(net, param_name)\n",
    "        # Hint: use the construct `param[:]` to change the contents of the array!\n",
    "        # Doing instead `param = new_val` simply changes to what the variable\n",
    "        # param points to, without affecting the network!\n",
    "        # alternatively, you could do setattr(net, param_name, new_value)\n",
    "        param[:] = param - alpha * getattr(\n",
    "            net, param_name + \"_grad\")\n",
    "#         param[:] = TODO"
   ]
  },
  {
   "cell_type": "code",
   "execution_count": 8,
   "metadata": {
    "colab": {
     "base_uri": "https://localhost:8080/"
    },
    "id": "TwpEjpkU1JvK",
    "outputId": "dc044de9-81c1-4944-d9a2-5dcc72bf9a57"
   },
   "outputs": [
    {
     "name": "stdout",
     "output_type": "stream",
     "text": [
      "XORnet([0. 0.]) = 0.00023177282386206978\n",
      "XORnet([0. 1.]) = 0.9995466267885181\n",
      "XORnet([1. 0.]) = 0.9991500304893388\n",
      "XORnet([1. 1.]) = 0.0009909319096957627\n"
     ]
    }
   ],
   "source": [
    "predictions, loss = net.forward(X, Y, do_backward=True)\n",
    "for x, p in zip(X, predictions):\n",
    "    print(f\"XORnet({x}) = {p[0]}\")"
   ]
  },
  {
   "cell_type": "code",
   "execution_count": 46,
   "metadata": {
    "id": "U0ZMyHqz8xrC"
   },
   "outputs": [
    {
     "name": "stdout",
     "output_type": "stream",
     "text": [
      "sigmoid\n",
      "Hidden dim: 1\n",
      "Hidden dim: 2\n",
      "Hidden dim: 3\n",
      "Hidden dim: 4\n",
      "Hidden dim: 5\n",
      "Hidden dim: 6\n",
      "Hidden dim: 7\n",
      "Hidden dim: 8\n",
      "Hidden dim: 9\n",
      "Hidden dim: 10\n",
      "Hidden dim: 50\n",
      "Hidden dim: 100\n",
      "Hidden dim: 1000\n",
      "Hidden dim: 2000\n",
      "relu\n",
      "Hidden dim: 1\n",
      "Hidden dim: 2\n",
      "Hidden dim: 3\n",
      "Hidden dim: 4\n"
     ]
    },
    {
     "name": "stderr",
     "output_type": "stream",
     "text": [
      "<ipython-input-3-1e731028a8b2>:45: RuntimeWarning: invalid value encountered in log\n",
      "  loss = -Y * np.log(O2+eps) - (1 - Y) * np.log(1.0 - O2+eps)\n"
     ]
    },
    {
     "name": "stdout",
     "output_type": "stream",
     "text": [
      "Hidden dim: 5\n",
      "Hidden dim: 6\n",
      "Hidden dim: 7\n",
      "Hidden dim: 8\n",
      "Hidden dim: 9\n",
      "Hidden dim: 10\n",
      "Hidden dim: 50\n",
      "Hidden dim: 100\n",
      "Hidden dim: 1000\n",
      "Hidden dim: 2000\n"
     ]
    }
   ],
   "source": [
    "# TODO:\n",
    "# Generate data for a 3D XOR task\n",
    "# Then estimate the success rate of training the network with diferent\n",
    "# hidden sizes.\n",
    "\n",
    "X3 = np.array([[0, 0, 0], [0, 1, 0], [1, 0, 0], [1, 1, 0], [0, 0, 1], [0, 1, 1], [1, 0, 1], [1, 1, 1],], dtype=np.float32)\n",
    "Y3 = np.array([[0], [1], [1], [0], [1], [0], [0], [1],], dtype=np.float32)\n",
    "\n",
    "loss_history = [{}, {}]\n",
    "tmp = -1\n",
    "for af in ['sigmoid', 'relu']:\n",
    "    print(af)\n",
    "    tmp+=1\n",
    "    for hidden_dim in [1, 2, 3, 4, 5, 6, 7, 8, 9, 10, 50, 100, 1000, 2000]:\n",
    "        net = SmallNet(3, hidden_dim, af, dtype=np.float64)\n",
    "        print('Hidden dim: {}'.format(hidden_dim))\n",
    "        alpha = 0.1  # set a learning rate\n",
    "\n",
    "        loss_history[tmp][hidden_dim] = []\n",
    "\n",
    "        for i in range(10000):\n",
    "            _, loss = net.forward(X3, Y3, do_backward=True)\n",
    "            loss_history[tmp][hidden_dim].append(loss)\n",
    "            for param_name in [\"W1\", \"b1\", \"W2\", \"b2\"]:\n",
    "                param = getattr(net, param_name)\n",
    "                param[:] = param - alpha * getattr(\n",
    "                    net, param_name + \"_grad\")"
   ]
  },
  {
   "cell_type": "code",
   "execution_count": 10,
   "metadata": {},
   "outputs": [
    {
     "data": {
      "image/png": "[encoded data removed]",
      "text/plain": [
       "<Figure size 792x792 with 1 Axes>"
      ]
     },
     "metadata": {
      "needs_background": "light"
     },
     "output_type": "display_data"
    }
   ],
   "source": [
    "x = np.arange(10000)\n",
    "plt.figure(figsize = (11,11))\n",
    "plt.plot(x, loss_history[0][1], label = '1')\n",
    "plt.plot(x, loss_history[0][2], label = '2')\n",
    "plt.plot(x, loss_history[0][3], label = '3')\n",
    "plt.plot(x, loss_history[0][4], label = '4')\n",
    "plt.plot(x, loss_history[0][5], label = '5')\n",
    "plt.plot(x, loss_history[0][6], label = '6')\n",
    "plt.plot(x, loss_history[0][7], label = '7')\n",
    "plt.plot(x, loss_history[0][8], label = '8')\n",
    "plt.plot(x, loss_history[0][9], label = '9')\n",
    "plt.plot(x, loss_history[0][10], label = '10')\n",
    "\n",
    "plt.legend()\n",
    "axes = plt.gca()\n",
    "axes.set_ylim([0,1])\n",
    "plt.show()"
   ]
  },
  {
   "cell_type": "code",
   "execution_count": 11,
   "metadata": {},
   "outputs": [
    {
     "data": {
      "image/png": "[encoded data removed]",
      "text/plain": [
       "<Figure size 792x792 with 1 Axes>"
      ]
     },
     "metadata": {
      "needs_background": "light"
     },
     "output_type": "display_data"
    }
   ],
   "source": [
    "x = np.arange(10000)\n",
    "plt.figure(figsize = (11,11))\n",
    "plt.plot(x, loss_history[0][1], label = '1')\n",
    "plt.plot(x, loss_history[0][2], label = '2')\n",
    "plt.plot(x, loss_history[0][3], label = '3')\n",
    "plt.plot(x, loss_history[0][10], label = '10')\n",
    "plt.plot(x, loss_history[0][50], label = '50')\n",
    "plt.plot(x, loss_history[0][100], label = '100')\n",
    "plt.plot(x, loss_history[0][1000], label = '1000')\n",
    "plt.legend()\n",
    "axes = plt.gca()\n",
    "axes.set_ylim([0,1])\n",
    "plt.show()"
   ]
  },
  {
   "cell_type": "markdown",
   "metadata": {},
   "source": [
    "    - What is the minimal hidden size required to solve 3D XOR (even with low reliability, when the training has to be repeated multiple times)\n",
    "    4\n",
    "    - What is the minimal hidden size required to reliably solve 3D XOR\n",
    "    100\n",
    "    - Which networks are easier to train - small or large ones? Why?\n",
    "    Larger, they are more tunable."
   ]
  },
  {
   "cell_type": "markdown",
   "metadata": {
    "id": "UuaLEoV-9DLG"
   },
   "source": [
    "## Problem 4\n"
   ]
  },
  {
   "cell_type": "code",
   "execution_count": 12,
   "metadata": {
    "id": "w3lk9_TM-MvK"
   },
   "outputs": [
    {
     "data": {
      "image/png": "[encoded data removed]",
      "text/plain": [
       "<Figure size 792x792 with 1 Axes>"
      ]
     },
     "metadata": {
      "needs_background": "light"
     },
     "output_type": "display_data"
    }
   ],
   "source": [
    "x = np.arange(10000)\n",
    "plt.figure(figsize = (11,11))\n",
    "# plt.plot(x, loss_history[0][1], label = 's1')\n",
    "# plt.plot(x, loss_history[0][2], label = 's2')\n",
    "# plt.plot(x, loss_history[0][3], label = 's3')\n",
    "# plt.plot(x, loss_history[0][10], label = 's10')\n",
    "# plt.plot(x, loss_history[0][50], label = 's50')\n",
    "# plt.plot(x, loss_history[0][100], label = 's100')\n",
    "# plt.plot(x, loss_history[0][1000], label = 's1000')\n",
    "# plt.plot(x, loss_history[1][1], label = 'r1')\n",
    "# plt.plot(x, loss_history[1][2], label = 'r2')\n",
    "# plt.plot(x, loss_history[1][3], label = 'r3')\n",
    "plt.plot(x, loss_history[1][10], label = 'r10')\n",
    "plt.plot(x, loss_history[1][50], label = 'r50')\n",
    "plt.plot(x, loss_history[1][100], label = 'r100')\n",
    "plt.plot(x, loss_history[1][1000], label = 'r1000')\n",
    "plt.legend()\n",
    "axes = plt.gca()\n",
    "axes.set_ylim([0,1])\n",
    "plt.show()"
   ]
  },
  {
   "cell_type": "markdown",
   "metadata": {},
   "source": [
    "SmallNet(3, 100, 'relu, dtype=np.float64)"
   ]
  },
  {
   "cell_type": "markdown",
   "metadata": {
    "id": "4PcNxrCt-NcN"
   },
   "source": [
    "## Problem 6 & 5"
   ]
  },
  {
   "cell_type": "code",
   "execution_count": 219,
   "metadata": {
    "id": "6Brepirl-Nln"
   },
   "outputs": [],
   "source": [
    "def sigmoid(x):\n",
    "    if x is None:\n",
    "        return 1\n",
    "    return 1 / (1 + np.exp(-x))\n",
    "\n",
    "def relu(x):\n",
    "    return x * (x > 0)\n",
    "\n",
    "class BigNet:\n",
    "    def __init__(self, in_features, num_hidden, num_layers, activation_f_name, dtype=np.float32):\n",
    "        self.num_layers = num_layers\n",
    "        self.num_hidden = num_hidden\n",
    "        \n",
    "        self.W = [np.zeros((num_hidden, in_features), dtype=dtype)] + [np.zeros((num_hidden, num_hidden), dtype=dtype) for _ in range(num_layers-1)] + [np.zeros((1, num_hidden), dtype=dtype)]\n",
    "        self.b = [np.zeros((num_hidden,), dtype=dtype)] + [np.zeros((num_hidden,), dtype=dtype) for _ in range(num_layers-1)] + [np.zeros((1,), dtype=dtype)]\n",
    "        \n",
    "        self.activation_f_name = activation_f_name\n",
    "        \n",
    "        self.init_params()\n",
    "\n",
    "    def init_params(self):\n",
    "        mu, std = 0, 0.5\n",
    "        self.W = [np.random.normal(mu, std, size=(self.W[i].shape)) for i in range(self.num_layers + 1)]\n",
    "        self.b = [np.random.normal(mu, std, size=(self.b[i].shape)) for i in range(self.num_layers + 1)]\n",
    "        if self.activation_f_name not in ['relu', 'sigmoid']:\n",
    "            raise NotImplementedError(\"No activation function!\")\n",
    "\n",
    "    def forward(self, X, Y=None, do_backward=False):\n",
    "\n",
    "        Os = [X]\n",
    "        As = [None]\n",
    "\n",
    "        for i in range(1, self.num_layers+2):\n",
    "            A = Os[-1]@self.W[i-1].T + self.b[i-1]\n",
    "            As.append(A)\n",
    "            if self.activation_f_name == 'sigmoid':\n",
    "                Os.append(sigmoid(A))\n",
    "#             if self.activation_f_name == 'relu':\n",
    "#                 Os.append(relu(A))\n",
    "    \n",
    "\n",
    "        # When Y is none, simply return the predictions. Else compute the loss\n",
    "        if Y is not None:\n",
    "            eps = 0.0\n",
    "            loss = -Y * np.log(Os[-1]+eps) - (1 - Y) * np.log(1.0 - Os[-1]+eps)\n",
    "            # normalize loss by batch size\n",
    "            loss = loss.sum() / X.shape[0]\n",
    "        else:\n",
    "            loss = np.nan\n",
    "\n",
    "        if do_backward:\n",
    "            n, _ = X.shape\n",
    "            A_grads = [None] * (self.num_layers + 2)\n",
    "            O_grads = [None] * (self.num_layers + 2)\n",
    "            self.b_grads = [None] * (self.num_layers + 2)\n",
    "            self.W_grads = [None] * (self.num_layers + 2)\n",
    "\n",
    "            A_grads[self.num_layers+1] = (-Y * (1- sigmoid(As[-1])) + (1-Y) * sigmoid(As[-1])) / n\n",
    "            \n",
    "            \n",
    "            for i in range(self.num_layers+1, 0, -1):\n",
    "                self.b_grads[i] = A_grads[i].sum(0)\n",
    "                self.W_grads[i] = A_grads[i].T@Os[i-1]\n",
    "                O_grads[i-1] = A_grads[i]@self.W[i-1]\n",
    "                if self.activation_f_name == 'sigmoid':\n",
    "                    A_grads[i-1] = sigmoid(As[i-1]) * (1-sigmoid(As[i-1])) * O_grads[i-1]\n",
    "#                 if self.activation_f_name == 'relu':\n",
    "#                     A_grad = O_grad*(inputs[i] > 0) # Relu\n",
    "\n",
    "\n",
    "        return Os[-1], loss"
   ]
  },
  {
   "cell_type": "code",
   "execution_count": 221,
   "metadata": {},
   "outputs": [
    {
     "name": "stdout",
     "output_type": "stream",
     "text": [
      "Num hidden layers: 2\n",
      "Hidden dim: 30\n",
      "after 0 steps \tloss=0.7783275095035876\n",
      "after 1000 steps \tloss=0.6917100963691825\n",
      "after 2000 steps \tloss=0.68875200551755\n",
      "after 3000 steps \tloss=0.6754503611036082\n",
      "after 4000 steps \tloss=0.4880587535853789\n",
      "after 5000 steps \tloss=0.11058547747574109\n",
      "after 6000 steps \tloss=0.030486150957800252\n",
      "after 7000 steps \tloss=0.014146400842778515\n",
      "after 8000 steps \tloss=0.008493793086729845\n",
      "after 9000 steps \tloss=0.005840550649008762\n",
      "Hidden dim: 50\n",
      "after 0 steps \tloss=2.096473722521987\n",
      "after 1000 steps \tloss=0.6730519347061812\n",
      "after 2000 steps \tloss=0.35764644606471163\n",
      "after 3000 steps \tloss=0.11496762021337487\n",
      "after 4000 steps \tloss=0.04870111802322342\n",
      "after 5000 steps \tloss=0.026632529380133482\n",
      "after 6000 steps \tloss=0.017110139747424605\n",
      "after 7000 steps \tloss=0.012144388188782563\n",
      "after 8000 steps \tloss=0.009203261634702904\n",
      "after 9000 steps \tloss=0.0073000165930843085\n",
      "Hidden dim: 70\n",
      "after 0 steps \tloss=0.7243554073366074\n",
      "after 1000 steps \tloss=0.6804180752075114\n",
      "after 2000 steps \tloss=0.5458417962160271\n",
      "after 3000 steps \tloss=0.0824949564154063\n",
      "after 4000 steps \tloss=0.02750384152369885\n",
      "after 5000 steps \tloss=0.014911592356753049\n",
      "after 6000 steps \tloss=0.009836455615797943\n",
      "after 7000 steps \tloss=0.0071935784309722335\n",
      "after 8000 steps \tloss=0.005603188814517306\n",
      "after 9000 steps \tloss=0.0045532085777414055\n",
      "Num hidden layers: 4\n",
      "Hidden dim: 30\n",
      "after 0 steps \tloss=1.9063315412126816\n",
      "after 1000 steps \tloss=0.6931592472482166\n",
      "after 2000 steps \tloss=0.6930058355334967\n",
      "after 3000 steps \tloss=0.6928303806990938\n",
      "after 4000 steps \tloss=0.6926011820195057\n",
      "after 5000 steps \tloss=0.6922630950767287\n",
      "after 6000 steps \tloss=0.6916969295190545\n",
      "after 7000 steps \tloss=0.690586697060308\n",
      "after 8000 steps \tloss=0.6878353269238167\n",
      "after 9000 steps \tloss=0.6774229619915813\n",
      "Hidden dim: 50\n",
      "after 0 steps \tloss=2.1272730084298077\n",
      "after 1000 steps \tloss=0.6925857902264712\n",
      "after 2000 steps \tloss=0.6916618702067638\n",
      "after 3000 steps \tloss=0.6898316142672059\n",
      "after 4000 steps \tloss=0.6842158754123859\n",
      "after 5000 steps \tloss=0.5985319611243314\n",
      "after 6000 steps \tloss=0.021586778812879605\n",
      "after 7000 steps \tloss=0.0059203969057536\n",
      "after 8000 steps \tloss=0.0031051095398736076\n",
      "after 9000 steps \tloss=0.002029115554660738\n",
      "Hidden dim: 70\n",
      "after 0 steps \tloss=0.820667878605337\n",
      "after 1000 steps \tloss=0.6880190893464148\n",
      "after 2000 steps \tloss=0.6529225324560144\n",
      "after 3000 steps \tloss=0.046732554056275855\n",
      "after 4000 steps \tloss=0.007851900839253738\n",
      "after 5000 steps \tloss=0.003690781482939264\n",
      "after 6000 steps \tloss=0.0023016937318135295\n",
      "after 7000 steps \tloss=0.0016352284030662204\n",
      "after 8000 steps \tloss=0.0012517762153673073\n",
      "after 9000 steps \tloss=0.0010055969567301926\n",
      "Num hidden layers: 6\n",
      "Hidden dim: 30\n",
      "after 0 steps \tloss=1.243870086092529\n",
      "after 1000 steps \tloss=0.6931456555762812\n",
      "after 2000 steps \tloss=0.693142270327576\n",
      "after 3000 steps \tloss=0.6931388632437538\n",
      "after 4000 steps \tloss=0.6931354139315377\n",
      "after 5000 steps \tloss=0.6931319018206474\n",
      "after 6000 steps \tloss=0.6931283058554168\n",
      "after 7000 steps \tloss=0.6931246041773274\n",
      "after 8000 steps \tloss=0.693120773788663\n",
      "after 9000 steps \tloss=0.6931167901865467\n",
      "Hidden dim: 50\n",
      "after 0 steps \tloss=1.2334559236219287\n",
      "after 1000 steps \tloss=0.6920503315239561\n",
      "after 2000 steps \tloss=0.6893872938813537\n",
      "after 3000 steps \tloss=0.6537914615263214\n",
      "after 4000 steps \tloss=0.021464794079329018\n",
      "after 5000 steps \tloss=0.002545731703658149\n",
      "after 6000 steps \tloss=0.0012393935197908517\n",
      "after 7000 steps \tloss=0.0008001806195144218\n",
      "after 8000 steps \tloss=0.0005845643105018445\n",
      "after 9000 steps \tloss=0.00045773989924900813\n",
      "Hidden dim: 70\n",
      "after 0 steps \tloss=0.9114074381221491\n",
      "after 1000 steps \tloss=0.6918631604184706\n",
      "after 2000 steps \tloss=0.6883135787898231\n",
      "after 3000 steps \tloss=0.6734628987674832\n",
      "after 4000 steps \tloss=0.014124502511886895\n",
      "after 5000 steps \tloss=0.0034821408727284354\n",
      "after 6000 steps \tloss=0.001796283898492648\n",
      "after 7000 steps \tloss=0.0011678794194696542\n",
      "after 8000 steps \tloss=0.0008498426064875522\n",
      "after 9000 steps \tloss=0.0006608944596537427\n"
     ]
    }
   ],
   "source": [
    "X3 = np.array([[0, 0, 0], [0, 1, 0], [1, 0, 0], [1, 1, 0], [0, 0, 1], [0, 1, 1], [1, 0, 1], [1, 1, 1],], dtype=np.float32)\n",
    "Y3 = np.array([[0], [1], [1], [0], [1], [0], [0], [1],], dtype=np.float32)\n",
    "\n",
    "loss_history = [{}, {}]\n",
    "tmp = -1\n",
    "for num_layers in [2,4,6]:\n",
    "    print('Num hidden layers: {}'.format(num_layers))\n",
    "    for hidden_dim in [30, 50, 70]:\n",
    "        net = BigNet(3, hidden_dim, num_layers, 'sigmoid', dtype=np.float64)\n",
    "        print('Hidden dim: {}'.format(hidden_dim))\n",
    "        alpha = 0.1  # set a learning rate\n",
    "\n",
    "        loss_history[tmp][hidden_dim] = []\n",
    "\n",
    "        for i in range(10000):\n",
    "            _, loss = net.forward(X3, Y3, do_backward=True)\n",
    "            loss_history[tmp][hidden_dim].append(loss)\n",
    "            if (i % 1000) == 0:\n",
    "                print(f\"after {i} steps \\tloss={loss}\")\n",
    "            for i in range(0, net.num_layers + 1):\n",
    "    #             print(i)\n",
    "    #             print(net.W[i-1].shape)\n",
    "    #             print(net.W_grads[i].shape)\n",
    "                net.W[i] -= alpha * net.W_grads[i+1]\n",
    "\n",
    "                net.b[i] -= alpha * net.b_grads[i+1]"
   ]
  },
  {
   "cell_type": "code",
   "execution_count": null,
   "metadata": {},
   "outputs": [],
   "source": []
  }
 ],
 "metadata": {
  "colab": {
   "collapsed_sections": [],
   "name": "Copy of Assignment1.ipynb",
   "provenance": []
  },
  "kernelspec": {
   "display_name": "Python 3",
   "language": "python",
   "name": "python3"
  },
  "language_info": {
   "codemirror_mode": {
    "name": "ipython",
    "version": 3
   },
   "file_extension": ".py",
   "mimetype": "text/x-python",
   "name": "python",
   "nbconvert_exporter": "python",
   "pygments_lexer": "ipython3",
   "version": "3.8.5"
  }
 },
 "nbformat": 4,
 "nbformat_minor": 4
}
