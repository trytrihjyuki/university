{
 "cells": [
  {
   "cell_type": "markdown",
   "metadata": {
    "id": "CGXgWugfJ0Vl"
   },
   "source": [
    "## Assignment 1\n",
    "\n",
    "**Submission deadlines:** \n",
    "- get at least **2** points by Tuesday, 9.03.2021\n",
    "- remaining points: last lab session before or on Tuesday, 16.03.2021\n",
    "\n",
    "**Points:** Aim to get 8 out of 12 possible points\n",
    "\n",
    "## Submission instructions\n",
    "The class is held remotely. To sumbmit your solutions please show the notebook over the video call. Make sure you know all the questions and asnwers, and that the notebook contains results (before presentation do `Runtime -> Restar and run all`)\n",
    "\n",
    "We provide starter code, however you are not required to use it as long as you properly solve the tasks.\n",
    "\n",
    "As always, please submit corrections using GitHub's Pull Requests to https://github.com/janchorowski/dl_uwr."
   ]
  },
  {
   "cell_type": "markdown",
   "metadata": {
    "id": "5S8iRaCPyO2a"
   },
   "source": [
    "# Task description\r\n",
    "\r\n",
    "## TLDR\r\n",
    "Implement and train a neural network using pure numpy."
   ]
  },
  {
   "cell_type": "markdown",
   "metadata": {
    "id": "JHcz7I2V-bVM"
   },
   "source": [
    "\r\n",
    "## Problem 1 [2p]\r\n",
    "Implement a two-layer network, manually set weights and biases to solve the XOR task.\r\n",
    "\r\n",
    "A two-layer neural network implementes a function $f: \\mathbb{R}^D \\rightarrow \\mathbb{R}^O$ where $D$ is the input dimensionality and $O$ is the output dinemsionality. The output goes through an intermediate representation (the hidden layer) with dimensionality $H$. \r\n",
    "\r\n",
    "The computations are as follows:\r\n",
    "\\begin{equation}\r\n",
    "\\begin{split}\r\n",
    "A_1 &= x W_1^T + b_1  & \\qquad\\text{Total input to neurons in the hidden layer (network's first layer)} \\\\\r\n",
    "O_1 &= \\sigma_1(A_1)  & \\qquad\\text{Output of the hidden layer} \\\\\r\n",
    "A_2 &= O_1 W_2^T + b_2 & \\qquad\\text{Total input to neurons in the output layer (network's second layer)}\\\\\r\n",
    "O_2 &= \\sigma_2(A_2) & \\qquad\\text{Output of the network}\r\n",
    "\\end{split}\r\n",
    "\\end{equation}\r\n",
    "\r\n",
    "Where $W$ are weight matrices, $b$ are bias vectors, $\\sigma$ are non-linear activation functions (e.g. the logistic sigmoid applied element-wise, or softmax).\r\n",
    "\r\n",
    "For the 2D xor problem the network will:\r\n",
    "- have 2 inputs, 2 hidden neurons, one output\r\n",
    "- use the logistic sigmoid everywhere (that way we, when hand-designig the weights, we can assume that neurons' outputs are binary).\r\n",
    "\r\n",
    "Therrefore the shapes of the data floing through the network will be:\r\n",
    "- input: $x\\in\\mathbb{}R^{2}$\r\n",
    "- hidden layer parameters: $W_1\\in\\mathbb{}R^{2\\times 2}$ and $b_1\\in\\mathbb{}R^{2}$\r\n",
    "- representations in the hidden layer: $A_1\\in\\mathbb{}R^{2}$ and $O_1\\in\\mathbb{}R^{2}$\r\n",
    "- output layer parameters: $W_2\\in\\mathbb{}R^{1\\times 2}$ and $b_1\\in\\mathbb{}R^{1}$\r\n",
    "- representations in the output layer: $A_2\\in\\mathbb{}R^{1}$ and $O_2\\in\\mathbb{}R^{1}$\r\n",
    "\r\n",
    "The network can be seen as a logistic regression model, prefixed by a nonlinear transformation of the data.\r\n",
    "\r\n",
    "The first tasks consists of:\r\n",
    "- implementing the network\r\n",
    "- selecting parametwrs ($W_1, b_1, W_2, b_2$) such that $f(x)\\approx XOR(x_1, x_2)$ where the approximation is die to the sigmoids - the output may be close to 0 or 1, but doesn't need to saturate at 0 or 1.\r\n",
    "\r\n",
    "NB: the convention on weight matrix shapes follows linear [layers in PyTorch](https://pytorch.org/docs/stable/generated/torch.nn.Linear.html).\r\n"
   ]
  },
  {
   "cell_type": "markdown",
   "metadata": {
    "id": "0QSpZxuH-bLe"
   },
   "source": [
    "## Problem 2 [2p]\r\n",
    "1. Add a backward pass.\r\n",
    "2. Use a sensible random initialization for weights and biases.\r\n",
    "3. Numerically check the correctness of your gradient computation.\r\n",
    "\r\n",
    "There is nice article about taking derivative over vectors and vector chain rule: https://explained.ai/matrix-calculus/ if someone don't have experience with suchr calculus.\r\n"
   ]
  },
  {
   "cell_type": "markdown",
   "metadata": {
    "id": "s1Tn8j0m-bAy"
   },
   "source": [
    "## Problem 3 [2p]\r\n",
    "1. Implement gradient descent\r\n",
    "2. Train your network to solve 3D XOR\r\n",
    "3. Try several hidden layer sizes, for each size record the fracton of successful trainings. Then answer:\r\n",
    "    - What is the minimal hidden size required to solve 3D XOR (even with low reliability, when the training has to be repeated multiple times)\r\n",
    "    - What is the minimal hidden size required to reliably solve 3D XOR\r\n",
    "    - Which networks are easier to train - small or large ones? Why?\r\n"
   ]
  },
  {
   "cell_type": "markdown",
   "metadata": {
    "id": "RP9Pvpmf-a2A"
   },
   "source": [
    "## Problem 4 [1p]\r\n",
    "Replace the first nonlinearity with the [ReLU](https://en.wikipedia.org/wiki/Rectifier_(neural_networks)) activation function. Find a network architecture which reliably learns the 3D XOR problem.\r\n"
   ]
  },
  {
   "cell_type": "markdown",
   "metadata": {
    "id": "cGgtpe-w-asB"
   },
   "source": [
    "## Problem 5 [1p]\r\n",
    "Add a second hidden layer to your network, implement the forward and backward pass, then demonstrate training.\r\n"
   ]
  },
  {
   "cell_type": "markdown",
   "metadata": {
    "id": "Pe-pcFeO-aiE"
   },
   "source": [
    "## Problem 6 [2p]\r\n",
    "Implement a way to have a _variable number_ of hidden layers. Check how deep sigmoid or ReLU networks you  can train. For simplicity you can assume that all hidden layers have the same number of neurons, and use the same activation function.\r\n"
   ]
  },
  {
   "cell_type": "markdown",
   "metadata": {
    "id": "kIpn17Cm-aW7"
   },
   "source": [
    "## Problem 7 [2p]\r\n",
    "For each weight matrix $w\\in\\mathbb{R}^{n\\times m}$, add a randomly initialized `backward weight` $w_b\\in\\mathbb{R}^{m\\times n}$, which will not change during training. Change the backward pass to use $w_b$ instead of $w^T$, getting an approxmatoin of the true gradient. Can you get your network to train?\r\n",
    "\r\n",
    "NB: this approach, dubbed [feedback alignment](https://www.nature.com/articles/ncomms13276), was proposed to make error backpropagation more biologically plausible, by providing a solution to the \"weight transport problem\". Regular backpropagation requires that neurons not only know their incoming weights (thet they control), but also their outgoing weights (that are controlled by neurons in the upper layers). This is nearly impossible in a real brain."
   ]
  },
  {
   "cell_type": "markdown",
   "metadata": {
    "id": "rXJaoHSH0DZO"
   },
   "source": [
    "# Solutions and starter code"
   ]
  },
  {
   "cell_type": "code",
   "execution_count": 1,
   "metadata": {
    "id": "YiTEWD2oqW0Y"
   },
   "outputs": [],
   "source": [
    "import matplotlib.pyplot as plt\n",
    "import numpy as np"
   ]
  },
  {
   "cell_type": "markdown",
   "metadata": {
    "id": "eqtfJKR40J3x"
   },
   "source": [
    "XOR dataset creation"
   ]
  },
  {
   "cell_type": "code",
   "execution_count": 2,
   "metadata": {
    "colab": {
     "base_uri": "https://localhost:8080/",
     "height": 296
    },
    "id": "lYEbCfbSpv5M",
    "outputId": "48a99aad-e15b-4c7b-f881-bbfbe1941a15"
   },
   "outputs": [
    {
     "data": {
      "text/plain": [
       "(-0.05985663082437276,\n",
       " 1.0704965700586295,\n",
       " -0.06517660044150111,\n",
       " 1.065176600441501)"
      ]
     },
     "execution_count": 2,
     "metadata": {},
     "output_type": "execute_result"
    },
    {
     "data": {
      "image/png": "[encoded data removed]",
      "text/plain": [
       "<Figure size 432x288 with 1 Axes>"
      ]
     },
     "metadata": {
      "needs_background": "light"
     },
     "output_type": "display_data"
    }
   ],
   "source": [
    "# Let's define a XOR dataset\n",
    "\n",
    "# X will be matrix of N 2-dimensional inputs\n",
    "X = np.array([[0, 0], [0, 1], [1, 0], [1, 1],], dtype=np.float32)\n",
    "# Y is a matrix of N numners - answers\n",
    "Y = np.array([[0], [1], [1], [0],], dtype=np.float32)\n",
    "\n",
    "plt.scatter(\n",
    "    X[:, 0], X[:, 1], c=Y[:, 0],\n",
    ")\n",
    "plt.xlabel(\"X[0]\")\n",
    "plt.ylabel(\"X[1]\")\n",
    "plt.axis(\"square\")"
   ]
  },
  {
   "cell_type": "markdown",
   "metadata": {
    "id": "Rb3azMn929_I"
   },
   "source": [
    "## Problem 1"
   ]
  },
  {
   "cell_type": "markdown",
   "metadata": {
    "id": "RZCM_hdELE04"
   },
   "source": [
    "The code below contains a mock-up of a two-layer neural network. Fill in the code and manually set weights to solve the XOR problem.\n",
    "\n",
    "Please note: the shapes are set to be compatible with PyTorch's conventions:\n",
    "* a batch containing $N$ $D$-dimensional examples has shape $N\\times D$ (each example is a row!)\n",
    "* a weight matrix in a linear layer with $I$ inputs and $O$ outputs has shape $O \\times I$\n",
    "* a bias vector is a 1D vector. Please note that [broadcasting rules](https://docs.scipy.org/doc/numpy/user/basics.broadcasting.html) allow us to think about it as a $1 \\times D$ matrix."
   ]
  },
  {
   "cell_type": "code",
   "execution_count": 187,
   "metadata": {
    "id": "lrrRuk6zLiF0"
   },
   "outputs": [],
   "source": [
    "def sigmoid(x):\n",
    "    return 1 / (1 + np.exp(-x))\n",
    "\n",
    "\n",
    "class SmallNet:\n",
    "    def __init__(self, in_features, num_hidden, dtype=np.float32):\n",
    "        self.W1 = np.zeros((num_hidden, in_features), dtype=dtype)\n",
    "        self.b1 = np.zeros((num_hidden,), dtype=dtype)\n",
    "        self.W2 = np.zeros((1, num_hidden), dtype=dtype)\n",
    "        self.b2 = np.zeros((1,), dtype=dtype)\n",
    "        self.init_params()\n",
    "\n",
    "    def init_params(self):\n",
    "        # TODO for Problem 2:\n",
    "        # set all parameters to small random values, e.g. from N(0, 0.5)\n",
    "        mu, std = 0, 0.5\n",
    "        self.W1 = np.random.normal(mu, std, size=(self.W1.shape))\n",
    "        self.W2 = np.random.normal(mu, std, size=(self.W2.shape))\n",
    "        self.b1 = np.random.normal(mu, std, size=(self.b1.shape))\n",
    "        self.b2 = np.random.normal(mu, std, size=(self.b2.shape))\n",
    "\n",
    "    def forward(self, X, Y=None, do_backward=False):\n",
    "        # TODO Problem 1: Fill in details of forward propagation\n",
    "\n",
    "        # Input to neurons in 1st layer\n",
    "        A1 = X@self.W1.T + self.b1\n",
    "        # Outputs after the sigmoid non-linearity\n",
    "        O1 = sigmoid(A1)\n",
    "        # Inputs to neuron in the second layer\n",
    "        A2 = O1@self.W2.T + self.b2\n",
    "        # Outputs after the sigmoid non-linearity\n",
    "        O2 = sigmoid(A2)\n",
    "\n",
    "        # When Y is none, simply return the predictions. Else compute the loss\n",
    "        if Y is not None:\n",
    "            loss = -Y * np.log(O2) - (1 - Y) * np.log(1.0 - O2)\n",
    "            # normalize loss by batch size\n",
    "            loss = loss.sum() / X.shape[0]\n",
    "        else:\n",
    "            loss = np.nan\n",
    "\n",
    "        if do_backward:\n",
    "            # TODO in Problem 2:\n",
    "            # fill in the gradient computation\n",
    "            # Please note, that there is a correspondance between\n",
    "            # the forward and backward pass: with backward computations happening\n",
    "            # in reverse order.\n",
    "            # We save the gradients with respect to the parameters as fields of self.\n",
    "            # It is not very elegant, but simplifies training code later on.\n",
    "\n",
    "            # A2_grad is the gradient of loss with respect to A2\n",
    "            # Hint: there is a concise formula for the gradient\n",
    "            # of logistic sigmoid and cross-entropy loss\n",
    "\n",
    "            n, _ = X.shape\n",
    "            A2_grad = (O2 - Y).T # 1 x n\n",
    "            self.b2_grad = A2_grad.sum(axis=1) / n\n",
    "            self.W2_grad = A2_grad@O1 / n # ((1 x n) x (n x h)).T = (1 x h).T\n",
    "            O1_grad = A2_grad.T@self.W2 # (n x 1) x (1 x h) = n x h\n",
    "            A1_grad = O1_grad*O1*(np.ones(O1.shape) - O1) # n x h\n",
    "              \n",
    "            self.b1_grad = A1_grad.sum(axis=0) / n # 1 x h\n",
    "            self.W1_grad = (X.T@A1_grad).T / n # (m x n) x (n x h) = m x h\n",
    "\n",
    "        return O2, loss"
   ]
  },
  {
   "cell_type": "code",
   "execution_count": 188,
   "metadata": {
    "colab": {
     "base_uri": "https://localhost:8080/"
    },
    "id": "jJswvBk0oiIY",
    "outputId": "e6559317-7afa-4509-fbac-4880e73b91cc"
   },
   "outputs": [
    {
     "name": "stdout",
     "output_type": "stream",
     "text": [
      "XORnet([0. 0.]) = 4.543910487654591e-05\n",
      "XORnet([0. 1.]) = 0.999954519621495\n",
      "XORnet([1. 0.]) = 0.999954519621495\n",
      "XORnet([1. 1.]) = 4.543910487654591e-05\n"
     ]
    }
   ],
   "source": [
    "# TODO Problem 1:\n",
    "# Set by hand the weight values to solve the XOR problem\n",
    "\n",
    "net = SmallNet(2, 2, dtype=np.float64)\n",
    "net.W1 = np.array([[20,20],[-20,-20]])\n",
    "net.b1 = np.array([[-10, 30]])\n",
    "net.W2 = np.array([[20,20]])\n",
    "net.b2 = np.array([[-30]])\n",
    "\n",
    "# Hint: since we use the logistic sigmoid activation, the weights may need to\n",
    "# be fairly large\n",
    "\n",
    "\n",
    "predictions, loss = net.forward(X, Y, do_backward=False)\n",
    "for x, p in zip(X, predictions):\n",
    "    print(f\"XORnet({x}) = {p[0]}\")"
   ]
  },
  {
   "cell_type": "markdown",
   "metadata": {
    "id": "wmxCi5Vl6_xB"
   },
   "source": [
    "## Problem 2"
   ]
  },
  {
   "cell_type": "code",
   "execution_count": 189,
   "metadata": {
    "id": "eSM5hgJ1mrhY"
   },
   "outputs": [],
   "source": [
    "def check_grad(net, param_name, X, Y, eps=1e-5):\n",
    "    \"\"\"A gradient checking routine\"\"\"\n",
    "\n",
    "    param = getattr(net, param_name)\n",
    "    param_flat_accessor = param.reshape(-1)\n",
    "\n",
    "    grad = np.empty_like(param)\n",
    "    grad_flat_accessor = grad.reshape(-1)\n",
    "\n",
    "    net.forward(X, Y, do_backward=True)\n",
    "    orig_grad = getattr(net, param_name + \"_grad\")\n",
    "#     print(param_name)\n",
    "#     print(param)\n",
    "#     print(param.shape)\n",
    "#     print(orig_grad)\n",
    "#     print(orig_grad.shape)\n",
    "    assert param.shape == orig_grad.shape\n",
    "\n",
    "    for i in range(param_flat_accessor.shape[0]):\n",
    "        orig_val = param_flat_accessor[i]\n",
    "        param_flat_accessor[i] = orig_val + eps\n",
    "        _, loss_positive = net.forward(X, Y)\n",
    "        param_flat_accessor[i] = orig_val - eps\n",
    "        _, loss_negative = net.forward(X, Y)\n",
    "        param_flat_accessor[i] = orig_val\n",
    "        grad_flat_accessor[i] = (loss_positive - loss_negative) / (2 * eps)\n",
    "    assert np.allclose(grad, orig_grad)\n",
    "    return grad, orig_grad"
   ]
  },
  {
   "cell_type": "code",
   "execution_count": 190,
   "metadata": {
    "id": "TTZu0jFEvgXF"
   },
   "outputs": [],
   "source": [
    "# Hint: use float64 for checking the correctness of the gradient\n",
    "net = SmallNet(2, 2, dtype=np.float64)\n",
    "\n",
    "for param_name in [\"W1\", \"b1\", \"W2\", \"b2\"]:\n",
    "    check_grad(net, param_name, X, Y)"
   ]
  },
  {
   "cell_type": "markdown",
   "metadata": {
    "id": "8mUOs3cVvjM2"
   },
   "source": [
    "## Problem 3"
   ]
  },
  {
   "cell_type": "code",
   "execution_count": null,
   "metadata": {
    "colab": {
     "base_uri": "https://localhost:8080/"
    },
    "id": "nn2AAoZo0vjU",
    "outputId": "7b6b5a9a-dea5-4357-e8c1-36a34c7c272a"
   },
   "outputs": [
    {
     "name": "stdout",
     "output_type": "stream",
     "text": [
      "after 0 steps \tloss=0.7030986613179002\n",
      "after 5000 steps \tloss=0.039262771262978426\n",
      "after 10000 steps \tloss=0.0112648330309782\n",
      "after 15000 steps \tloss=0.006341719247904163\n",
      "after 20000 steps \tloss=0.004353905250332843\n",
      "after 25000 steps \tloss=0.003290179535302945\n",
      "after 30000 steps \tloss=0.002631393986662781\n",
      "after 35000 steps \tloss=0.002184915778143186\n",
      "after 40000 steps \tloss=0.0018631892106566138\n",
      "after 45000 steps \tloss=0.0016208122322581048\n",
      "after 50000 steps \tloss=0.0014319432296474692\n",
      "after 55000 steps \tloss=0.0012808141799311246\n",
      "after 60000 steps \tloss=0.0011572694776801507\n",
      "after 65000 steps \tloss=0.0010544792022085616\n",
      "after 70000 steps \tloss=0.0009676844511458502\n",
      "after 75000 steps \tloss=0.0008934698953391141\n",
      "after 80000 steps \tloss=0.00082932229204248\n",
      "after 85000 steps \tloss=0.0007733520280307468\n",
      "after 90000 steps \tloss=0.0007241116137770096\n",
      "after 95000 steps \tloss=0.0006804739570141409\n"
     ]
    }
   ],
   "source": [
    "net = SmallNet(2, 10, dtype=np.float64)\n",
    "\n",
    "alpha = TODO  # set a learning rate\n",
    "\n",
    "for i in range(100000):\n",
    "    _, loss = net.forward(X, Y, do_backward=True)\n",
    "    if (i % 5000) == 0:\n",
    "        print(f\"after {i} steps \\tloss={loss}\")\n",
    "    for param_name in [\"W1\", \"b1\", \"W2\", \"b2\"]:\n",
    "        param = getattr(net, param_name)\n",
    "        # Hint: use the construct `param[:]` to change the contents of the array!\n",
    "        # Doing instead `param = new_val` simply changes to what the variable\n",
    "        # param points to, without affecting the network!\n",
    "        # alternatively, you could do setattr(net, param_name, new_value)\n",
    "        param[:] = param - alpha * getattr(\n",
    "            net, param_name + \"_grad\"\n",
    "        param[:] = TODO"
   ]
  },
  {
   "cell_type": "code",
   "execution_count": null,
   "metadata": {
    "colab": {
     "base_uri": "https://localhost:8080/"
    },
    "id": "TwpEjpkU1JvK",
    "outputId": "dc044de9-81c1-4944-d9a2-5dcc72bf9a57"
   },
   "outputs": [
    {
     "name": "stdout",
     "output_type": "stream",
     "text": [
      "XORnet([0. 0.]) = 0.0003640859392990912\n",
      "XORnet([0. 1.]) = 0.9993732130571722\n",
      "XORnet([1. 0.]) = 0.9993232671323241\n",
      "XORnet([1. 1.]) = 0.0008976938717558672\n"
     ]
    }
   ],
   "source": [
    "predictions, loss = net.forward(X, Y, do_backward=True)\n",
    "for x, p in zip(X, predictions):\n",
    "    print(f\"XORnet({x}) = {p[0]}\")"
   ]
  },
  {
   "cell_type": "code",
   "execution_count": null,
   "metadata": {
    "id": "U0ZMyHqz8xrC"
   },
   "outputs": [],
   "source": [
    "# TODO:\n",
    "# Generate data for a 3D XOR task\n",
    "# Then estimate the success rate of training the network with diferent\n",
    "# hidden sizes.\n",
    "\n",
    "X3 = TODO\n",
    "Y3 = TODO\n",
    "\n",
    "for hidden_dim in [2, 3, 5, 10, 20]:\n",
    "    # TODO: run a few trainings and record the fraction of successful ones\n",
    "    pass"
   ]
  },
  {
   "cell_type": "markdown",
   "metadata": {
    "id": "UuaLEoV-9DLG"
   },
   "source": [
    "## Problem 4\n"
   ]
  },
  {
   "cell_type": "code",
   "execution_count": null,
   "metadata": {
    "id": "w3lk9_TM-MvK"
   },
   "outputs": [],
   "source": []
  },
  {
   "cell_type": "markdown",
   "metadata": {
    "id": "_Hr_iAKX-ND1"
   },
   "source": [
    "## Problem 5"
   ]
  },
  {
   "cell_type": "code",
   "execution_count": null,
   "metadata": {
    "id": "rnz6CndQ-NRI"
   },
   "outputs": [],
   "source": []
  },
  {
   "cell_type": "markdown",
   "metadata": {
    "id": "4PcNxrCt-NcN"
   },
   "source": [
    "## Problem 6"
   ]
  },
  {
   "cell_type": "code",
   "execution_count": null,
   "metadata": {
    "id": "6Brepirl-Nln"
   },
   "outputs": [],
   "source": []
  },
  {
   "cell_type": "markdown",
   "metadata": {
    "id": "nWuv7Q77-Nut"
   },
   "source": [
    "## Problem 7"
   ]
  },
  {
   "cell_type": "code",
   "execution_count": null,
   "metadata": {
    "id": "avuvSoWY-N4Z"
   },
   "outputs": [],
   "source": []
  }
 ],
 "metadata": {
  "colab": {
   "collapsed_sections": [],
   "name": "Copy of Assignment1.ipynb",
   "provenance": []
  },
  "kernelspec": {
   "display_name": "Python 3",
   "language": "python",
   "name": "python3"
  },
  "language_info": {
   "codemirror_mode": {
    "name": "ipython",
    "version": 3
   },
   "file_extension": ".py",
   "mimetype": "text/x-python",
   "name": "python",
   "nbconvert_exporter": "python",
   "pygments_lexer": "ipython3",
   "version": "3.8.5"
  }
 },
 "nbformat": 4,
 "nbformat_minor": 4
}
