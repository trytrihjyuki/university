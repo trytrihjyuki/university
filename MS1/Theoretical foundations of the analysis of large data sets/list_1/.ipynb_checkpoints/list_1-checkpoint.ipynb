{
 "cells": [
  {
   "cell_type": "code",
   "execution_count": 28,
   "id": "1eab6aa4-869a-4249-8b98-de76b6b6a42e",
   "metadata": {},
   "outputs": [],
   "source": [
    "import numpy as np\n",
    "from scipy.stats import rv_continuous\n",
    "from tqdm import tqdm\n",
    "import itertools\n",
    "import matplotlib.pyplot as plt\n",
    "import scipy.stats as st"
   ]
  },
  {
   "cell_type": "code",
   "execution_count": 29,
   "id": "bdec5ad6-a13c-4536-9720-4817606491f4",
   "metadata": {},
   "outputs": [],
   "source": [
    "true_alpha = 5\n",
    "n = 200"
   ]
  },
  {
   "cell_type": "code",
   "execution_count": 30,
   "id": "06254b97-c0b2-4a34-aff5-8798c03fc3c3",
   "metadata": {},
   "outputs": [],
   "source": [
    "def pdf(x, alpha=5):\n",
    "    return (alpha + 1)*np.power(x, alpha)\n",
    "\n",
    "def get_samples(n, alpha):\n",
    "    x = np.linspace(0,1,1000000)\n",
    "    fit_pdf = pdf(x)\n",
    "    return np.random.choice(x, size=n, p=fit_pdf/np.sum(fit_pdf)) "
   ]
  },
  {
   "cell_type": "markdown",
   "id": "d58bb50d-513f-48d9-b26f-c20c4c55739b",
   "metadata": {},
   "source": [
    "## d)"
   ]
  },
  {
   "cell_type": "code",
   "execution_count": 31,
   "id": "cc084127-3f1a-4782-bef3-9b2c2af17aa9",
   "metadata": {},
   "outputs": [],
   "source": [
    "def get_mle(ns):\n",
    "    return -1-len(ns)/(np.sum(np.log(ns)))\n",
    "\n",
    "def get_mom(ns):\n",
    "    avg = np.average(ns)\n",
    "    return (2*avg - 1)/(1-avg)"
   ]
  },
  {
   "cell_type": "code",
   "execution_count": 32,
   "id": "e01a5e5f-86b2-4a69-8958-1cefce4fe2d7",
   "metadata": {},
   "outputs": [
    {
     "name": "stdout",
     "output_type": "stream",
     "text": [
      "-0.17141304893342024 -0.1970551348232883 0.029382433344651123 0.03883072616022432\n"
     ]
    }
   ],
   "source": [
    "ns = get_samples(n, true_alpha)\n",
    "mle = get_mle(ns)\n",
    "mom = get_mom(ns)\n",
    "print(5-mle, 5-mom, (mle-5)**2, (mom-5)**2)"
   ]
  },
  {
   "cell_type": "markdown",
   "id": "3f9f8f57-75d2-40b6-930a-fc2bfb679432",
   "metadata": {},
   "source": [
    "## e)"
   ]
  },
  {
   "cell_type": "code",
   "execution_count": 33,
   "id": "d6affaa9-e23f-465a-a381-3c0ee8baa19c",
   "metadata": {},
   "outputs": [],
   "source": [
    "num_exp = 1000\n",
    "sample_size = 200"
   ]
  },
  {
   "cell_type": "code",
   "execution_count": 34,
   "id": "ca74d3c2-9da8-4ce1-bd63-c3afe7268e55",
   "metadata": {},
   "outputs": [
    {
     "name": "stderr",
     "output_type": "stream",
     "text": [
      " 21%|█████████████▊                                                   | 213/1000 [00:07<00:28, 27.62it/s]\n"
     ]
    },
    {
     "ename": "KeyboardInterrupt",
     "evalue": "",
     "output_type": "error",
     "traceback": [
      "\u001b[0;31m---------------------------------------------------------------------------\u001b[0m",
      "\u001b[0;31mKeyboardInterrupt\u001b[0m                         Traceback (most recent call last)",
      "Cell \u001b[0;32mIn [34], line 5\u001b[0m\n\u001b[1;32m      2\u001b[0m moms \u001b[38;5;241m=\u001b[39m np\u001b[38;5;241m.\u001b[39mzeros(num_exp)\n\u001b[1;32m      4\u001b[0m \u001b[38;5;28;01mfor\u001b[39;00m i \u001b[38;5;129;01min\u001b[39;00m tqdm(\u001b[38;5;28mrange\u001b[39m(num_exp)):\n\u001b[0;32m----> 5\u001b[0m     ns \u001b[38;5;241m=\u001b[39m \u001b[43mget_samples\u001b[49m\u001b[43m(\u001b[49m\u001b[43msample_size\u001b[49m\u001b[43m,\u001b[49m\u001b[43m \u001b[49m\u001b[43mtrue_alpha\u001b[49m\u001b[43m)\u001b[49m\n\u001b[1;32m      6\u001b[0m     mles[i] \u001b[38;5;241m=\u001b[39m get_mle(ns)\n\u001b[1;32m      7\u001b[0m     moms[i] \u001b[38;5;241m=\u001b[39m get_mom(ns)\n",
      "Cell \u001b[0;32mIn [30], line 7\u001b[0m, in \u001b[0;36mget_samples\u001b[0;34m(n, alpha)\u001b[0m\n\u001b[1;32m      5\u001b[0m x \u001b[38;5;241m=\u001b[39m np\u001b[38;5;241m.\u001b[39mlinspace(\u001b[38;5;241m0\u001b[39m,\u001b[38;5;241m1\u001b[39m,\u001b[38;5;241m1000000\u001b[39m)\n\u001b[1;32m      6\u001b[0m fit_pdf \u001b[38;5;241m=\u001b[39m pdf(x)\n\u001b[0;32m----> 7\u001b[0m \u001b[38;5;28;01mreturn\u001b[39;00m \u001b[43mnp\u001b[49m\u001b[38;5;241;43m.\u001b[39;49m\u001b[43mrandom\u001b[49m\u001b[38;5;241;43m.\u001b[39;49m\u001b[43mchoice\u001b[49m\u001b[43m(\u001b[49m\u001b[43mx\u001b[49m\u001b[43m,\u001b[49m\u001b[43m \u001b[49m\u001b[43msize\u001b[49m\u001b[38;5;241;43m=\u001b[39;49m\u001b[43mn\u001b[49m\u001b[43m,\u001b[49m\u001b[43m \u001b[49m\u001b[43mp\u001b[49m\u001b[38;5;241;43m=\u001b[39;49m\u001b[43mfit_pdf\u001b[49m\u001b[38;5;241;43m/\u001b[39;49m\u001b[43mnp\u001b[49m\u001b[38;5;241;43m.\u001b[39;49m\u001b[43msum\u001b[49m\u001b[43m(\u001b[49m\u001b[43mfit_pdf\u001b[49m\u001b[43m)\u001b[49m\u001b[43m)\u001b[49m\n",
      "File \u001b[0;32mmtrand.pyx:946\u001b[0m, in \u001b[0;36mnumpy.random.mtrand.RandomState.choice\u001b[0;34m()\u001b[0m\n",
      "File \u001b[0;32m<__array_function__ internals>:177\u001b[0m, in \u001b[0;36mprod\u001b[0;34m(*args, **kwargs)\u001b[0m\n",
      "\u001b[0;31mKeyboardInterrupt\u001b[0m: "
     ]
    }
   ],
   "source": [
    "mles = np.zeros(num_exp)\n",
    "moms = np.zeros(num_exp)\n",
    "\n",
    "for i in tqdm(range(num_exp)):\n",
    "    ns = get_samples(sample_size, true_alpha)\n",
    "    mles[i] = get_mle(ns)\n",
    "    moms[i] = get_mom(ns)"
   ]
  },
  {
   "cell_type": "markdown",
   "id": "cd5e540a-4790-46cd-a9b7-50b6bbd77d26",
   "metadata": {},
   "source": [
    "PLOTS"
   ]
  },
  {
   "cell_type": "code",
   "execution_count": null,
   "id": "757a3992-bd3b-48df-9754-d1e2d36b7a43",
   "metadata": {
    "tags": []
   },
   "outputs": [],
   "source": [
    "fig, axs = plt.subplots(2)\n",
    "fig.set_figheight(10)\n",
    "fig.set_figwidth(10)\n",
    "axs[0].hist(moms, color='C1', bins=300)\n",
    "axs[0].set_title('Moment estimator')\n",
    "axs[1].hist(mles, color='C2', bins=300)\n",
    "axs[1].set_title('MLE')"
   ]
  },
  {
   "cell_type": "code",
   "execution_count": null,
   "id": "0b9eb4b1-17fe-4086-8596-d872bed4fe78",
   "metadata": {
    "tags": []
   },
   "outputs": [],
   "source": [
    "fig = plt.figure(figsize =(5, 5))\n",
    "ax = fig.add_subplot()\n",
    "ax.boxplot([mles, moms],widths=0.8)\n",
    "plt.xticks([1, 2], ['MLE', 'MOM'])\n",
    "ax.set_aspect(0.2)"
   ]
  },
  {
   "cell_type": "code",
   "execution_count": null,
   "id": "d269ac11-7620-4f21-a8a5-eb83bfa32ddb",
   "metadata": {
    "tags": []
   },
   "outputs": [],
   "source": [
    "import numpy as np\n",
    "import statsmodels.api as sm\n",
    "import pylab as py\n",
    "sm.qqplot(moms, line ='45', fit=False)\n",
    "py.show()"
   ]
  },
  {
   "cell_type": "code",
   "execution_count": null,
   "id": "739bb532-ea6e-4b34-9939-07e01c001a9f",
   "metadata": {
    "tags": []
   },
   "outputs": [],
   "source": [
    "sm.qqplot(mles, line ='45')\n",
    "py.show()"
   ]
  },
  {
   "cell_type": "code",
   "execution_count": null,
   "id": "1e09ae28-902e-4ce2-b147-154b497ec374",
   "metadata": {},
   "outputs": [],
   "source": [
    "print(mles.var())\n",
    "print(moms.var())\n",
    "print((5-mles).mean())\n",
    "print((5-moms).mean())\n",
    "print(np.sqrt((5-mles)**2).mean())\n",
    "print(np.sqrt((5-moms)**2).mean())"
   ]
  },
  {
   "cell_type": "code",
   "execution_count": null,
   "id": "ef43a59e-dcd1-44a7-a171-05b974216192",
   "metadata": {},
   "outputs": [],
   "source": [
    "36/20"
   ]
  },
  {
   "cell_type": "code",
   "execution_count": null,
   "id": "b039820b-3b80-4a83-a3a4-2e6ab607c3e6",
   "metadata": {},
   "outputs": [],
   "source": [
    "st.t.interval(alpha=0.95, df=len(mles)-1,\n",
    "              loc=np.mean(mles),\n",
    "              scale=st.sem(mles))"
   ]
  },
  {
   "cell_type": "code",
   "execution_count": null,
   "id": "117c5ef4-16e1-4b6f-801b-c5c2d896dabe",
   "metadata": {},
   "outputs": [],
   "source": [
    "st.t.interval(alpha=0.95, df=len(moms)-1,\n",
    "              loc=np.mean(moms),\n",
    "              scale=st.sem(moms))"
   ]
  },
  {
   "cell_type": "code",
   "execution_count": null,
   "id": "6431c418-8914-4dbc-ae1e-71dce0503c30",
   "metadata": {},
   "outputs": [],
   "source": []
  }
 ],
 "metadata": {
  "kernelspec": {
   "display_name": "Python 3 (ipykernel)",
   "language": "python",
   "name": "python3"
  },
  "language_info": {
   "codemirror_mode": {
    "name": "ipython",
    "version": 3
   },
   "file_extension": ".py",
   "mimetype": "text/x-python",
   "name": "python",
   "nbconvert_exporter": "python",
   "pygments_lexer": "ipython3",
   "version": "3.10.6"
  }
 },
 "nbformat": 4,
 "nbformat_minor": 5
}
