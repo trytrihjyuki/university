{
 "cells": [
  {
   "cell_type": "code",
   "execution_count": 2,
   "id": "eb8b63f9-2390-4764-a383-430b55485db5",
   "metadata": {},
   "outputs": [],
   "source": [
    "import numpy as np\n",
    "from scipy.stats import norm, binom, poisson\n",
    "from scipy import stats\n",
    "from tqdm import tqdm\n",
    "import itertools\n",
    "import matplotlib.pyplot as plt\n",
    "import statsmodels.api as sm\n",
    "import pylab as py"
   ]
  },
  {
   "cell_type": "code",
   "execution_count": 21,
   "id": "56de643e-26b0-47e4-811c-6f8f11dfc6dd",
   "metadata": {},
   "outputs": [],
   "source": [
    "NUM_EXPERIMENTS = 10000\n",
    "SAMPLE_SIZE = np.arange(10,110,10)"
   ]
  },
  {
   "cell_type": "code",
   "execution_count": 22,
   "id": "7927f963-a5c2-4854-b2bb-3f8d5a2bab03",
   "metadata": {},
   "outputs": [],
   "source": [
    "# Legendre polynomial\n",
    "def Legendre_poly(n, x):\n",
    "    if(n == 0):\n",
    "        return 1 # P0 = 1\n",
    "    elif(n == 1):\n",
    "        return x # P1 = x\n",
    "    else:\n",
    "        return (((2 * n)-1)*x * Legendre_poly(n-1, x)-(n-1)*Legendre_poly(n-2, x))/float(n)"
   ]
  },
  {
   "cell_type": "markdown",
   "id": "fdb366ba-b899-4e1c-93b7-737b10b02036",
   "metadata": {},
   "source": [
    "### Statistics"
   ]
  },
  {
   "cell_type": "code",
   "execution_count": 23,
   "id": "f846392e-2397-448f-99d7-1e5b38f6b96c",
   "metadata": {},
   "outputs": [],
   "source": [
    "def get_P_statistic(k):\n",
    "    As = np.linspace(0,1,k+1)\n",
    "    \n",
    "    def P(ns):\n",
    "        res = 0\n",
    "        n = len(ns)\n",
    "        for j in range(k):\n",
    "            Nj = 0\n",
    "            for x in ns:\n",
    "                if x > As[j] and x <= As[j+1]:\n",
    "                    Nj+=1\n",
    "            pj = (As[j+1]-As[j])\n",
    "            res += (Nj-n*pj)**2 / (n*pj)\n",
    "        return res\n",
    "    return P\n",
    "\n",
    "def get_N_statistic(k):\n",
    "    def K(ns):\n",
    "        res = 0\n",
    "        n = len(ns)\n",
    "        for j in range(1,k+1):\n",
    "            inner_sum = 0\n",
    "            for x in ns:\n",
    "                inner_sum += Legendre_poly(j, x)\n",
    "            inner_sum *= 1/np.sqrt(n)\n",
    "            res += inner_sum\n",
    "        return res\n",
    "    return K\n",
    "\n",
    "def KS(ns):\n",
    "    ns.sort()\n",
    "    n = len(ns)\n",
    "    maks = -5\n",
    "    for i in range(1,n+1):\n",
    "        cand = max(np.abs(i/n - ns[i-1]), np.abs((i-1)/n - ns[i-1]))\n",
    "        maks = max(cand, maks)\n",
    "    return maks"
   ]
  },
  {
   "cell_type": "code",
   "execution_count": 24,
   "id": "76782751-b514-479f-b002-560130c7dbe0",
   "metadata": {},
   "outputs": [],
   "source": [
    "statistics = {'P4': get_P_statistic(4), 'P8': get_P_statistic(8),\n",
    "              'N1': get_N_statistic(1), 'N4': get_N_statistic(4), \n",
    "              'N8': get_N_statistic(8), 'KS': KS}"
   ]
  },
  {
   "cell_type": "markdown",
   "id": "acd571f2-0ab1-4f21-8c4f-44ed790d7799",
   "metadata": {},
   "source": [
    "### Ex. 1"
   ]
  },
  {
   "cell_type": "code",
   "execution_count": 26,
   "id": "5b2db76d-0fe0-44d8-a53c-14cfc1bb1d10",
   "metadata": {},
   "outputs": [],
   "source": [
    "results = np.zeros((6, len(SAMPLE_SIZE), NUM_EXPERIMENTS))"
   ]
  },
  {
   "cell_type": "code",
   "execution_count": 19,
   "id": "7cdd37c6-3276-477e-b185-533cdf5ea4ff",
   "metadata": {},
   "outputs": [
    {
     "name": "stderr",
     "output_type": "stream",
     "text": [
      "100%|████████████████████████████████████| 10000/10000 [00:48<00:00, 206.35it/s]\n"
     ]
    }
   ],
   "source": [
    "for sample_size in SAMPLE_SIZE:\n",
    "    for j in tqdm(range(NUM_EXPERIMENTS)):\n",
    "        ns = np.random.uniform(0,1,sample_size)\n",
    "        for i, stat in enumerate(statistics.values()):\n",
    "            results[i][j] = stat(ns)"
   ]
  },
  {
   "cell_type": "code",
   "execution_count": 20,
   "id": "5de30366-3f9c-4ef7-85e1-4211873db9bb",
   "metadata": {},
   "outputs": [
    {
     "name": "stdout",
     "output_type": "stream",
     "text": [
      "[ 7.76       14.08        5.47189035  5.66531582  6.31988545  0.13486399]\n"
     ]
    }
   ],
   "source": [
    "print(np.quantile(results, 0.95, axis=1))"
   ]
  },
  {
   "cell_type": "markdown",
   "id": "ba082045-5548-4d2a-a993-57e3f67d37ef",
   "metadata": {},
   "source": [
    "### Ex. 2"
   ]
  },
  {
   "cell_type": "markdown",
   "id": "6996329e-726a-48e7-bab4-fddff13140d5",
   "metadata": {},
   "source": [
    "Ja bym może troszkę bardziej się rozpisał (1-2 informacje) o studiach.\n",
    "I generalnie masz fajne projekty i mam wrażenie że za mało się nimi chwalisz. To co umiesz to co robisz na co dzień jest najważniejsze  a u Ciebie sekcja project zajmuje <25% miejsca w CV a w doświadczeniu też nie za bardzo wiadomo co dokładnie robisz i JAKI MA TO WPŁYW.\n",
    "\n",
    "Generalnie dobrym patternem do opisu projektu/doświadczenia jest:\n",
    "Robiłem to... w takiej technologii ... taki to miało impact...\n",
    "\n",
    "KoNaR i Kite jest mniej ważny niż robienie stronek z ziomalami a tego nie ma.\n",
    "\n",
    "Interest to mało dająca kategoria w CV.\n",
    "\n",
    "Nie wiem jak masz w pdf (ja mam screen) ale koniecznie do każdego linkedina, maila, projektów, githubow daj hiperłącza (najlepiej krótki tekst z hiperłączem a nie cały URL)\n",
    "\n",
    "\n",
    "Jak już piszesz o Kite to fajnie napisać że praca z ludźmi, teamwork, organizacja czasu itp. W sensie w CV lepiej napisać takie rzeczy również niż te które rzeczywiście dawały frajde.\n",
    "\n",
    "Generalnie to bardzo fajne CV! Jedynie bardziej rozpisz się o projektach bo to jest 1. rzecz na którą się patrzy bo jest najbardziej miarodajna :D"
   ]
  },
  {
   "cell_type": "code",
   "execution_count": null,
   "id": "8c514659-ee25-4a40-81ba-b9b6c92977c8",
   "metadata": {},
   "outputs": [],
   "source": []
  },
  {
   "cell_type": "code",
   "execution_count": null,
   "id": "e296e904-a37c-4f6f-ac0c-521f8102122c",
   "metadata": {},
   "outputs": [],
   "source": []
  }
 ],
 "metadata": {
  "kernelspec": {
   "display_name": "Python 3 (ipykernel)",
   "language": "python",
   "name": "python3"
  },
  "language_info": {
   "codemirror_mode": {
    "name": "ipython",
    "version": 3
   },
   "file_extension": ".py",
   "mimetype": "text/x-python",
   "name": "python",
   "nbconvert_exporter": "python",
   "pygments_lexer": "ipython3",
   "version": "3.10.6"
  }
 },
 "nbformat": 4,
 "nbformat_minor": 5
}
