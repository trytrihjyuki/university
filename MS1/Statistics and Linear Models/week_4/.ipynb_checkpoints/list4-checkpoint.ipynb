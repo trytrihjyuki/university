{
 "cells": [
  {
   "cell_type": "code",
   "execution_count": 7,
   "id": "fdf05a53-1f67-4840-948e-86240b3ccc0c",
   "metadata": {},
   "outputs": [],
   "source": [
    "import numpy as np\n",
    "from scipy.stats import norm, binom, poisson, rankdata\n",
    "from scipy import stats\n",
    "from tqdm import tqdm\n",
    "import itertools\n",
    "import matplotlib.pyplot as plt\n",
    "import statsmodels.api as sm\n",
    "import pylab as py"
   ]
  },
  {
   "cell_type": "code",
   "execution_count": 8,
   "id": "33f54e87-36b6-4ecc-b5a2-9d4d4023e1df",
   "metadata": {},
   "outputs": [],
   "source": [
    "NUM_EXPERIMENTS = 10000\n",
    "SAMPLE_SIZE = 20"
   ]
  },
  {
   "cell_type": "code",
   "execution_count": 9,
   "id": "a37024a7-23ee-44e7-8126-2bfec2107b5d",
   "metadata": {},
   "outputs": [],
   "source": [
    "def get_T_statistic(f):\n",
    "    def statistic(ns, ms):\n",
    "        n, m = len(ns), len(ms)\n",
    "        N = n + m\n",
    "        zs = np.concatenate((ms, ns))\n",
    "        return np.sqrt((n*m)/N) * (1/m)*np.sum(f((rankdata(zs[:m]) - 0.5)/N)) - (1/n)*np.sum(f((rankdata(zs[m:]) - 0.5)/N))\n",
    "    return statistic\n",
    "\n",
    "def KS(ns, ms):\n",
    "    m, n = len(ms), len(ns)\n",
    "    return np.sqrt(m*n/(m+n)) * stats.kstest(rvs=ns, cdf=ms).statistic"
   ]
  },
  {
   "cell_type": "code",
   "execution_count": 10,
   "id": "e0769700-bd36-418f-aef1-025c67d7f67d",
   "metadata": {},
   "outputs": [],
   "source": [
    "statistics = {'KS': KS, 'W': get_T_statistic(lambda u: np.sqrt(3)*(2*u-1)),\n",
    "              'AB': get_T_statistic(lambda u: np.sqrt(48)*(0.25-np.abs(2*u-1)))}\n",
    "statistics['L'] = lambda u: statistics['AB'](u) + statistics['W'](u)"
   ]
  },
  {
   "cell_type": "markdown",
   "id": "f7baa301-6736-40fe-974b-25de4d660225",
   "metadata": {},
   "source": [
    "### EX.1"
   ]
  },
  {
   "cell_type": "code",
   "execution_count": 11,
   "id": "03bb7808-f612-451a-ae5f-72bb6629104f",
   "metadata": {},
   "outputs": [],
   "source": [
    "results = np.zeros((2,4,NUM_EXPERIMENTS))"
   ]
  },
  {
   "cell_type": "code",
   "execution_count": 13,
   "id": "98ec38e1-4a50-41ee-88d8-42b47b0cecf6",
   "metadata": {},
   "outputs": [
    {
     "ename": "TypeError",
     "evalue": "cannot unpack non-iterable function object",
     "output_type": "error",
     "traceback": [
      "\u001b[0;31m---------------------------------------------------------------------------\u001b[0m",
      "\u001b[0;31mTypeError\u001b[0m                                 Traceback (most recent call last)",
      "Cell \u001b[0;32mIn [13], line 5\u001b[0m\n\u001b[1;32m      2\u001b[0m ms \u001b[38;5;241m=\u001b[39m norm\u001b[38;5;241m.\u001b[39mrvs(loc\u001b[38;5;241m=\u001b[39m\u001b[38;5;241m0\u001b[39m, scale\u001b[38;5;241m=\u001b[39m\u001b[38;5;241m1\u001b[39m, size\u001b[38;5;241m=\u001b[39mSAMPLE_SIZE)\n\u001b[1;32m      3\u001b[0m ns \u001b[38;5;241m=\u001b[39m norm\u001b[38;5;241m.\u001b[39mrvs(loc\u001b[38;5;241m=\u001b[39m\u001b[38;5;241m0\u001b[39m, scale\u001b[38;5;241m=\u001b[39m\u001b[38;5;241m1\u001b[39m, size\u001b[38;5;241m=\u001b[39mSAMPLE_SIZE)\n\u001b[0;32m----> 5\u001b[0m \u001b[38;5;28;01mfor\u001b[39;00m j, (name, statistic) \u001b[38;5;129;01min\u001b[39;00m \u001b[38;5;28menumerate\u001b[39m(statistics\u001b[38;5;241m.\u001b[39mvalues()):\n\u001b[1;32m      6\u001b[0m     results[\u001b[38;5;241m0\u001b[39m][j][i] \u001b[38;5;241m=\u001b[39m statistic(ns)\n\u001b[1;32m      7\u001b[0m     results[\u001b[38;5;241m1\u001b[39m][j][i] \u001b[38;5;241m=\u001b[39m statistic(ms)\n",
      "\u001b[0;31mTypeError\u001b[0m: cannot unpack non-iterable function object"
     ]
    }
   ],
   "source": [
    "for i in range(NUM_EXPERIMENTS):\n",
    "    ms = norm.rvs(loc=0, scale=1, size=SAMPLE_SIZE)\n",
    "    ns = norm.rvs(loc=0, scale=1, size=SAMPLE_SIZE)\n",
    "    \n",
    "    for j, (name, statistic) in enumerate(statistics):\n",
    "        results[0][j][i] = statistic(ns)\n",
    "        results[1][j][i] = statistic(ms)"
   ]
  },
  {
   "cell_type": "code",
   "execution_count": 17,
   "id": "de2754ff-eb6d-44ea-825d-3f3094c00168",
   "metadata": {},
   "outputs": [
    {
     "data": {
      "text/plain": [
       "{'KS': <function __main__.KS(ns, ms)>,\n",
       " 'W': <function __main__.get_T_statistic.<locals>.statistic(ns, ms)>,\n",
       " 'AB': <function __main__.get_T_statistic.<locals>.statistic(ns, ms)>,\n",
       " 'L': <function __main__.<lambda>(u)>}"
      ]
     },
     "execution_count": 17,
     "metadata": {},
     "output_type": "execute_result"
    }
   ],
   "source": [
    "statistics"
   ]
  },
  {
   "cell_type": "code",
   "execution_count": null,
   "id": "fc95ffb5-b0c5-4cb8-85d1-4b2ca11e5750",
   "metadata": {},
   "outputs": [],
   "source": []
  }
 ],
 "metadata": {
  "kernelspec": {
   "display_name": "Python 3 (ipykernel)",
   "language": "python",
   "name": "python3"
  },
  "language_info": {
   "codemirror_mode": {
    "name": "ipython",
    "version": 3
   },
   "file_extension": ".py",
   "mimetype": "text/x-python",
   "name": "python",
   "nbconvert_exporter": "python",
   "pygments_lexer": "ipython3",
   "version": "3.10.6"
  }
 },
 "nbformat": 4,
 "nbformat_minor": 5
}
