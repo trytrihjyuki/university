{
 "cells": [
  {
   "cell_type": "code",
   "execution_count": 16,
   "metadata": {
    "id": "Eo0cru8Qv1O0"
   },
   "outputs": [],
   "source": [
    "import numpy as np\n",
    "import pandas as pd\n",
    "import matplotlib.pyplot as plt\n",
    "from copy import copy\n",
    "import seaborn as sns\n",
    "from scipy.stats import t\n",
    "from collections import defaultdict \n",
    "from tqdm import tqdm\n",
    "sns.set(rc={'figure.figsize':(16,8)})"
   ]
  },
  {
   "cell_type": "markdown",
   "metadata": {
    "id": "esEFXHdyv1O4"
   },
   "source": [
    "# EX 1"
   ]
  },
  {
   "cell_type": "markdown",
   "metadata": {
    "id": "pOwsl6Lvv1O7"
   },
   "source": [
    "## T test for coefficients significance:\n",
    "\n",
    "$\\frac{B_i}{SE(B_i)} = \\frac{B_i}{SE(B_i)}$\n",
    "\n",
    "$SE(B_i)  = \\sqrt{\\frac{1}{n - k} * \\sum(y_i - \\hat y_i)^2 * (X^TX)^{-1}_{i,i}}$\n",
    "\n",
    "T has t-student with n-k-1 df\n",
    "\n",
    "We reject null Hypothesis if  $|T| \\geq q_{t(n-k)}(1-a/2)$"
   ]
  },
  {
   "cell_type": "code",
   "execution_count": 3,
   "metadata": {
    "id": "ouCgOQ2a2zCG"
   },
   "outputs": [],
   "source": [
    "class Model:\n",
    "\n",
    "  def __init__(self):\n",
    "    self.X = np.random.normal(0, 1/np.sqrt(1000), size=(1000,950))\n",
    "    self.beta = np.array([[3,3,3,3,3] + [0 for i in range(945)]]).T\n",
    "    self.eps = np.random.normal(0, 1, size=(1000, 1))\n",
    "    self.p = 950\n",
    "    self.n = self.X.shape[0]\n",
    "\n",
    "  def solve(self):\n",
    "    Y = self.get_true_Y()\n",
    "    self.beta_least_squares = np.linalg.inv(self.X.T @ self.X) @ self.X.T @ Y\n",
    "    Y_pred = self.get_perdicted_Y()\n",
    "    self.variances = np.linalg.inv(self.X.T @ self.X) * 1/(self.n - self.p) * ((Y - Y_pred)**2).sum()\n",
    "    self.variances = self.variances.diagonal().flatten()\n",
    "\n",
    "  def get_perdicted_Y(self):\n",
    "    Y_pred = self.X @ self.beta_least_squares\n",
    "    return Y_pred\n",
    "  \n",
    "  def get_true_Y(self):\n",
    "    return (self.X @ self.beta) + self.eps\n",
    "  \n",
    "  def get_smaller_instance(self, p: int):\n",
    "    M = copy(self)\n",
    "    M.X = self.X[:, :p]\n",
    "    M.beta= self.beta[:p]\n",
    "    M.eps = self.eps\n",
    "    M.p = p\n",
    "    M.n = M.X.shape[0]\n",
    "    return M"
   ]
  },
  {
   "cell_type": "markdown",
   "metadata": {
    "id": "6k9tVscNv1O_"
   },
   "source": [
    "## I"
   ]
  },
  {
   "cell_type": "code",
   "execution_count": 31,
   "metadata": {
    "colab": {
     "base_uri": "https://localhost:8080/"
    },
    "id": "-RgFuYIqv1PA",
    "outputId": "e52dc25e-0f58-4b07-a86e-08864f2d6fe1"
   },
   "outputs": [
    {
     "name": "stdout",
     "output_type": "stream",
     "text": [
      "P =  2\n",
      "PE 1002\n",
      "PE with rss: 1017.3827763278514\n",
      "PE with rss sigma unknowed: 1017.444430741991\n",
      "PE with cross_validation: 1017.499127130649\n",
      "RSS 1013.3827763278514 \n",
      "\n",
      "P =  5\n",
      "PE 1005\n",
      "PE with rss: 1020.9419522964303\n",
      "PE with rss sigma unknowed: 1021.102172922525\n",
      "PE with cross_validation: 1021.1758072072404\n",
      "RSS 1010.9419522964303 \n",
      "\n",
      "P =  10\n",
      "PE 1010\n",
      "PE with rss: 1017.4951910772381\n",
      "PE with rss sigma unknowed: 1017.6466090787985\n",
      "PE with cross_validation: 1017.9201229313844\n",
      "RSS 997.4951910772381 \n",
      "\n",
      "P =  100\n",
      "PE 1100\n",
      "PE with rss: 1106.7798573061073\n",
      "PE with rss sigma unknowed: 1108.28649226302\n",
      "PE with cross_validation: 1119.490918348121\n",
      "RSS 906.7798573061073 \n",
      "\n",
      "P =  500\n",
      "PE 1500\n",
      "PE with rss: 1487.765211598199\n",
      "PE with rss sigma unknowed: 1463.295634794597\n",
      "PE with cross_validation: 1968.9608751228634\n",
      "RSS 487.76521159819896 \n",
      "\n",
      "P =  950\n",
      "PE 1950\n",
      "PE with rss: 1947.6640943761397\n",
      "PE with rss sigma unknowed: 1858.899680669448\n",
      "PE with cross_validation: 19725.809370890813\n",
      "RSS 47.66409437613969 \n",
      "\n"
     ]
    }
   ],
   "source": [
    "base_model = Model()\n",
    "\n",
    "for p in [2,5,10,100,500,950]:\n",
    "    model = base_model.get_smaller_instance(p)\n",
    "    model.solve()\n",
    "\n",
    "    # response variable\n",
    "    Y = model.get_true_Y()\n",
    "    Y_pred = model.get_perdicted_Y()\n",
    "    RSS = ((Y - Y_pred) ** 2).sum()\n",
    "    \n",
    "    #E[PE] = E[RSS] + 2sigma^2p\n",
    "    # = sigma^2(n - p) + 2sigma^2p \n",
    "    # because errors have variance = 1 (Identity on covariance) sigma = 1\n",
    "    print(\"P = \", p)\n",
    "    sigma = 1\n",
    "    if p < -1:\n",
    "        PE = RSS + model.n * (sigma ** 2)\n",
    "        print(\"PE\", PE) \n",
    "    else:\n",
    "        PE = (sigma ** 2) * (model.n - p) + 2 * (sigma ** 2) * (p)\n",
    "        print(\"PE\", PE)\n",
    "\n",
    "    \n",
    "    #E[PE] = E[RSS] + 2sigma^2p = RSS + 2sigma^2 * p\n",
    "    PE = RSS + 2 * (sigma ** 2) * p\n",
    "    print(\"PE with rss:\", PE)\n",
    "\n",
    "    #E[PE] = E[RSS] + 2sigma^2p = RSS + 2sigma^2 * p\n",
    "    # sigma = RSS / (n-p)\n",
    "    PE = RSS + 2 * (RSS / (model.n - p)) * p\n",
    "    print(\"PE with rss sigma unknowed:\", PE)\n",
    "\n",
    "    M = model.X @ np.linalg.inv(model.X.T @ model.X) @ model.X.T\n",
    "    PE = (((Y - Y_pred) / (1 - np.diag(M).reshape((-1,1)))) ** 2).sum()\n",
    "\n",
    "    print(\"PE with cross_validation:\", PE)\n",
    "    \n",
    "    print(\"RSS\", RSS, \"\\n\")"
   ]
  },
  {
   "cell_type": "markdown",
   "metadata": {
    "id": "TPjYJDDjv1PD"
   },
   "source": [
    "## II"
   ]
  },
  {
   "cell_type": "code",
   "execution_count": 14,
   "metadata": {},
   "outputs": [],
   "source": [
    "results = np.zeros((100,6, 4))"
   ]
  },
  {
   "cell_type": "code",
   "execution_count": 38,
   "metadata": {
    "id": "bDjzOFHBv1Pa"
   },
   "outputs": [
    {
     "name": "stderr",
     "output_type": "stream",
     "text": [
      "100%|█████████████████████████████████████████| 100/100 [00:31<00:00,  3.13it/s]\n"
     ]
    }
   ],
   "source": [
    "for it in tqdm(range(100)):\n",
    "    base_model = Model()\n",
    "    for i, p in enumerate([2,5,10,100,500,950]):\n",
    "        model = base_model.get_smaller_instance(p)\n",
    "        model.solve()\n",
    "\n",
    "        # response variable\n",
    "        Y = model.get_true_Y()\n",
    "        Y_pred = model.get_perdicted_Y()\n",
    "        RSS = ((Y - Y_pred) ** 2).sum()\n",
    "\n",
    "        #E[PE] = E[RSS] + 2sigma^2p\n",
    "        # = sigma^2(n - p) + 2sigma^2p \n",
    "        # because errors have variance = 1 (Identity on covariance) sigma = 1\n",
    "        # print(\"P = \", p)\n",
    "        sigma = 1\n",
    "        if p < -1:\n",
    "            PE = RSS + model.n * (sigma ** 2)\n",
    "            # print(\"PE\", PE) \n",
    "        else:\n",
    "            PE = (sigma ** 2) * (model.n - p) + 2 * (sigma ** 2) * (p)\n",
    "            # print(\"PE\", PE)\n",
    "\n",
    "\n",
    "        #E[PE] = E[RSS] + 2sigma^2p = RSS + 2sigma^2 * p\n",
    "        PE_rss = RSS + 2 * (sigma ** 2) * p\n",
    "        # print(\"PE with rss:\", PE)\n",
    "\n",
    "        #E[PE] = E[RSS] + 2sigma^2p = RSS + 2sigma^2 * p\n",
    "        # sigma = RSS / (n-p)\n",
    "        PE_unkown = RSS + 2 * (RSS / (model.n - p)) * p\n",
    "        # print(\"PE with rss sigma unknowed:\", PE)\n",
    "\n",
    "        M = model.X @ np.linalg.inv(model.X.T @ model.X) @ model.X.T\n",
    "        PE_cv = (((Y - Y_pred) / (1 - np.diag(M).reshape((-1,1)))) ** 2).sum()\n",
    "        results[it][i] = [PE, PE_rss, PE_unkown, PE_cv]\n",
    "\n",
    "        # print(\"PE with cross_validation:\", PE)\n",
    "        \n"
   ]
  },
  {
   "cell_type": "code",
   "execution_count": 43,
   "metadata": {},
   "outputs": [],
   "source": [
    "data = results[:,:,3] - results[:,:,0]"
   ]
  },
  {
   "cell_type": "code",
   "execution_count": 44,
   "metadata": {},
   "outputs": [
    {
     "data": {
      "image/png": "[encoded data removed]",
      "text/plain": [
       "<Figure size 1600x800 with 1 Axes>"
      ]
     },
     "metadata": {},
     "output_type": "display_data"
    }
   ],
   "source": [
    "fig, ax = plt.subplots()\n",
    "ax.boxplot(data)\n",
    "ax.set_xticklabels(['2', '5', '10', '100', '500', '950'])\n",
    "plt.show()"
   ]
  },
  {
   "cell_type": "code",
   "execution_count": null,
   "metadata": {},
   "outputs": [],
   "source": []
  }
 ],
 "metadata": {
  "colab": {
   "provenance": []
  },
  "kernelspec": {
   "display_name": "Python 3 (ipykernel)",
   "language": "python",
   "name": "python3"
  },
  "language_info": {
   "codemirror_mode": {
    "name": "ipython",
    "version": 3
   },
   "file_extension": ".py",
   "mimetype": "text/x-python",
   "name": "python",
   "nbconvert_exporter": "python",
   "pygments_lexer": "ipython3",
   "version": "3.10.6"
  },
  "vscode": {
   "interpreter": {
    "hash": "40d3a090f54c6569ab1632332b64b2c03c39dcf918b08424e98f38b5ae0af88f"
   }
  }
 },
 "nbformat": 4,
 "nbformat_minor": 4
}
