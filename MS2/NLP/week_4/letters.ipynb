{
 "cells": [
  {
   "cell_type": "code",
   "execution_count": 3,
   "id": "7f1bdd0b",
   "metadata": {},
   "outputs": [
    {
     "name": "stdout",
     "output_type": "stream",
     "text": [
      "['a', 'n', 'd', ' ', 'b', 'e', 'g', 'a', 'n', ' ', 't', 'o', ' ', 't', 'h', 'i', 'n', 'k', ' ', 'a', 'g', 'a', 'i', 'n', '.', ' ', 'A', 'n', 'd', ' ', 't', 'h', 'e', ' ', 'f', 'i', 'r', 's', 't', ' ', 'p', 'e', 'r', 's', 'o', 'n', ' ', 'h', 'e', ' ', 't', 'h', 'o', 'u', 'g', 'h', 't', ' ', 'o', 'f', ' ', 'w', 'a', 's']\n"
     ]
    }
   ],
   "source": [
    "from gensim.models import Word2Vec\n",
    "\n",
    "corpus = [list(line.strip()) for line in open('winnie-the-pooh.txt')]\n",
    "print (corpus[320])"
   ]
  },
  {
   "cell_type": "code",
   "execution_count": 4,
   "id": "ed31a0d4",
   "metadata": {},
   "outputs": [
    {
     "name": "stdout",
     "output_type": "stream",
     "text": [
      "KEY: a\n",
      "    0.953622043132782 i\n",
      "    0.8279221057891846 k\n",
      "    0.8126952052116394 u\n",
      "    0.8053285479545593 h\n",
      "    0.8036769032478333 e\n",
      "\n",
      "KEY: b\n",
      "    0.7891533970832825 r\n",
      "    0.7882174849510193 v\n",
      "    0.7784802317619324 m\n",
      "    0.7414548397064209 q\n",
      "    0.7404842376708984 x\n",
      "\n",
      "KEY: c\n",
      "    0.9305084347724915 f\n",
      "    0.9235197901725769 m\n",
      "    0.9155570864677429 s\n",
      "    0.9127271771430969 t\n",
      "    0.903745174407959 p\n",
      "\n",
      "KEY: e\n",
      "    0.856377124786377 o\n",
      "    0.8556371331214905 u\n",
      "    0.8553453683853149 i\n",
      "    0.8036769032478333 a\n",
      "    0.8015445470809937 t\n",
      "\n",
      "KEY: 1\n",
      "    0.9881694316864014 V\n",
      "    0.9843664765357971 F\n",
      "    0.9835191965103149 M\n",
      "    0.9821212291717529 L\n",
      "    0.9803079962730408 D\n",
      "\n",
      "KEY: 2\n",
      "    0.9934987425804138 X\n",
      "    0.9928309917449951 9\n",
      "    0.992201030254364 4\n",
      "    0.9886924624443054 8\n",
      "    0.9880703687667847 0\n",
      "\n",
      "KEY: 3\n",
      "    0.9857587218284607 5\n",
      "    0.9818176627159119 X\n",
      "    0.9797806143760681 4\n",
      "    0.9795699119567871 0\n",
      "    0.9754013419151306 2\n",
      "\n",
      "[' ', 'e', 't', 'o', 'a', 'i', 'n', 'h', 's', 'r', 'd', 'l', 'u', '\"', 'w', 'g', ',', 'y', 'm', '.', 'f', 'c', 'b', 'p', 'k', 'I', 'P', '-', \"'\", 'v', '_', 'R', 'T', 'A', 'E', 'O', 'H', 'W', 'S', '?', 'C', 'B', 'N', '!', 'j', 'G', 'Y', 'F', 'D', 'L', 'x', 'U', 'M', 'K', 'q', '1', ':', 'z', ';', 'V', '*', ')', '(', 'J', '3', '0', '2', '9', '8', 'Q', '6', '5', '4', 'X', '/', '7', 'Z', '&', '$', '[', ']', '%', 'æ', '#']\n"
     ]
    }
   ],
   "source": [
    "model = Word2Vec(sentences=corpus, vector_size=20, window=2, min_count=1, workers=4)\n",
    "keys = model.wv.index_to_key\n",
    "\n",
    "for k in \"abce123\":\n",
    "    print ('KEY:', k)\n",
    "    for k0, v in model.wv.most_similar(k, topn=5):\n",
    "        print ('   ', v, k0)\n",
    "    print ()\n",
    "print (keys)    "
   ]
  },
  {
   "cell_type": "code",
   "execution_count": 5,
   "id": "fc912211",
   "metadata": {},
   "outputs": [
    {
     "data": {
      "text/plain": [
       "(gensim.models.keyedvectors.KeyedVectors,\n",
       " array([-0.71733046,  0.49830908,  0.17674656, -0.00261012,  0.5602212 ,\n",
       "        -0.27138317,  0.84832174,  0.5215614 , -0.42317683,  0.1091621 ,\n",
       "         0.44978407, -0.16002788, -0.2028104 , -0.5917576 ,  0.9351794 ,\n",
       "         0.20649074,  0.29000387,  0.3504621 , -0.3078706 ,  0.7828746 ],\n",
       "       dtype=float32))"
      ]
     },
     "execution_count": 5,
     "metadata": {},
     "output_type": "execute_result"
    }
   ],
   "source": [
    "kv = model.wv\n",
    "type(kv), kv['a']"
   ]
  },
  {
   "cell_type": "code",
   "execution_count": 6,
   "id": "d9f865ac",
   "metadata": {},
   "outputs": [
    {
     "name": "stdout",
     "output_type": "stream",
     "text": [
      "CLUSTER 0: # $ % & ) * / 3 4 5 6 7 8 : ; ? B C F G J K P Q R W X Z [ ] x z æ\n",
      "CLUSTER 1: b c d f g h j k l m n p q r s t v w y\n",
      "CLUSTER 2: ! ( . 0 1 2 9 A D E H I L M N O S T U V Y _\n",
      "CLUSTER 3:   ' , a e i o u\n",
      "CLUSTER 4: -\n",
      "CLUSTER 5: \"\n"
     ]
    }
   ],
   "source": [
    "model = Word2Vec(sentences=corpus, vector_size=30, window=1, min_count=1, workers=4)\n",
    "keys = model.wv.index_to_key\n",
    "\n",
    "from sklearn.cluster import KMeans\n",
    "\n",
    "data = []\n",
    "for k in keys:\n",
    "    data.append(model.wv[k])\n",
    "\n",
    "K = 6\n",
    "\n",
    "kmeans = KMeans(n_clusters=K, random_state=0).fit(data)\n",
    "\n",
    "clusters = [set() for i in range(K)]\n",
    "\n",
    "for k, lab in zip(keys, kmeans.labels_):\n",
    "    clusters[lab].add(k)\n",
    "    \n",
    "for i, c in enumerate(clusters):\n",
    "    txt = ' '.join(sorted(c))\n",
    "    print (f'CLUSTER {i}: {txt}')"
   ]
  },
  {
   "cell_type": "code",
   "execution_count": 7,
   "id": "b00e99af",
   "metadata": {},
   "outputs": [],
   "source": [
    "import gensim.downloader\n",
    "gn = gensim.downloader.load('word2vec-google-news-300')"
   ]
  },
  {
   "cell_type": "code",
   "execution_count": 8,
   "id": "61a188cf",
   "metadata": {},
   "outputs": [
    {
     "name": "stdout",
     "output_type": "stream",
     "text": [
      "<class 'numpy.ndarray'> (300,)\n"
     ]
    }
   ],
   "source": [
    "b = gn['bicycle']\n",
    "print (type(b),b.shape)"
   ]
  },
  {
   "cell_type": "code",
   "execution_count": 12,
   "id": "8bfdf22d",
   "metadata": {},
   "outputs": [
    {
     "data": {
      "text/plain": [
       "[('anteater', 0.5329378843307495),\n",
       " ('Purple_Crayon', 0.516756534576416),\n",
       " ('beagle_Snoopy', 0.49860453605651855),\n",
       " ('Jemima_Puddle_Duck', 0.48574796319007874),\n",
       " ('Ted_Geisel', 0.48295915126800537),\n",
       " ('griffon', 0.48098838329315186),\n",
       " ('Snuffleupagus', 0.48054713010787964),\n",
       " ('orange_tabby', 0.47874805331230164),\n",
       " ('male_domestic_shorthair', 0.4785928726196289),\n",
       " ('Pooh_Bear', 0.47825562953948975),\n",
       " ('mandrill', 0.4764895439147949),\n",
       " ('duck_billed_platypus', 0.4754992127418518),\n",
       " ('Pooh_Eeyore', 0.4744637608528137),\n",
       " ('Abby_Cadabby', 0.4742622971534729),\n",
       " ('mischievous_monkey', 0.4742276072502136)]"
      ]
     },
     "execution_count": 12,
     "metadata": {},
     "output_type": "execute_result"
    }
   ],
   "source": [
    "gn.most_similar('aardvark', topn=15)"
   ]
  },
  {
   "cell_type": "code",
   "execution_count": 17,
   "id": "5fff9603",
   "metadata": {},
   "outputs": [
    {
     "data": {
      "text/plain": [
       "[('currency', 0.7635710835456848),\n",
       " ('Polish', 0.7057421207427979),\n",
       " ('zloty', 0.6644977927207947),\n",
       " ('Polish_zloty', 0.6625140309333801),\n",
       " ('złoty', 0.6597855091094971),\n",
       " ('z_³_oty', 0.6316425800323486),\n",
       " ('ruble', 0.6200553178787231),\n",
       " ('Russian_ruble', 0.6176289319992065),\n",
       " ('forint', 0.6161772012710571),\n",
       " ('euro', 0.610364556312561),\n",
       " ('Belarussian_ruble', 0.6029039025306702),\n",
       " ('Poland_zloty', 0.6005409359931946),\n",
       " ('Slovak', 0.5915793776512146),\n",
       " ('Estonian_kroon', 0.5860008001327515),\n",
       " ('currencies', 0.5808800458908081)]"
      ]
     },
     "execution_count": 17,
     "metadata": {},
     "output_type": "execute_result"
    }
   ],
   "source": [
    "gn.similar_by_vector(gn['Polish'] + gn['currency'], topn=15)"
   ]
  },
  {
   "cell_type": "code",
   "execution_count": null,
   "id": "44c61a06",
   "metadata": {},
   "outputs": [],
   "source": []
  },
  {
   "cell_type": "code",
   "execution_count": null,
   "id": "59a80554",
   "metadata": {},
   "outputs": [],
   "source": []
  }
 ],
 "metadata": {
  "kernelspec": {
   "display_name": "Python 3 (ipykernel)",
   "language": "python",
   "name": "python3"
  },
  "language_info": {
   "codemirror_mode": {
    "name": "ipython",
    "version": 3
   },
   "file_extension": ".py",
   "mimetype": "text/x-python",
   "name": "python",
   "nbconvert_exporter": "python",
   "pygments_lexer": "ipython3",
   "version": "3.10.6"
  }
 },
 "nbformat": 4,
 "nbformat_minor": 5
}
