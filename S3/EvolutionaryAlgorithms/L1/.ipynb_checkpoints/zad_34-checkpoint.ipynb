{
 "cells": [
  {
   "cell_type": "code",
   "execution_count": 1,
   "metadata": {},
   "outputs": [],
   "source": [
    "import numpy as np\n",
    "import matplotlib.pyplot as plt\n",
    "import time\n",
    "import urllib.request"
   ]
  },
  {
   "cell_type": "markdown",
   "metadata": {},
   "source": [
    "Get and format data"
   ]
  },
  {
   "cell_type": "code",
   "execution_count": null,
   "metadata": {},
   "outputs": [],
   "source": []
  },
  {
   "cell_type": "markdown",
   "metadata": {},
   "source": [
    "Implementacja PBIL z zad. 2"
   ]
  },
  {
   "cell_type": "code",
   "execution_count": 2,
   "metadata": {},
   "outputs": [],
   "source": [
    "def random_individual(p,d):\n",
    "    random_vec = np.random.rand(d)\n",
    "    return (random_vec < p).astype(int)\n",
    "\n",
    "def random_population(p,d,N):\n",
    "    return np.array([random_individual(p,d) for i in range(N)])\n"
   ]
  },
  {
   "cell_type": "code",
   "execution_count": 3,
   "metadata": {},
   "outputs": [],
   "source": [
    "def PBIL(d,N,t1,t2,t3,T):\n",
    "\n",
    "    costs = []\n",
    "    for f_ind in range(len(functions)):\n",
    "        costs.append(np.zeros(T))\n",
    "        opt_f = functions[f_ind]\n",
    "        p = np.ones(d)\n",
    "        p = p/2\n",
    "        P = random_population(p,d,N)\n",
    "        for t in range(T):\n",
    "            val = np.array([opt_f(P[i]) for i in range(N)])\n",
    "            x_best = P[val.argmax()]\n",
    "            costs[f_ind][t] = opt_f(x_best)\n",
    "\n",
    "            for i in range(N):\n",
    "                p = p * (1 - t1) + x_best * t1\n",
    "\n",
    "            for j in range(N):\n",
    "                if np.random.rand() < t2:\n",
    "                    p = p * (1 - t3) + random_individual((np.ones(d)/2),d) * t3\n",
    "\n",
    "            P = random_population(p,d,N)\n",
    "        \n",
    "    return costs"
   ]
  },
  {
   "cell_type": "code",
   "execution_count": null,
   "metadata": {},
   "outputs": [],
   "source": []
  }
 ],
 "metadata": {
  "kernelspec": {
   "display_name": "Python 3",
   "language": "python",
   "name": "python3"
  },
  "language_info": {
   "codemirror_mode": {
    "name": "ipython",
    "version": 3
   },
   "file_extension": ".py",
   "mimetype": "text/x-python",
   "name": "python",
   "nbconvert_exporter": "python",
   "pygments_lexer": "ipython3",
   "version": "3.8.5"
  }
 },
 "nbformat": 4,
 "nbformat_minor": 4
}
