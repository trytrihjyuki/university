{
 "cells": [
  {
   "cell_type": "code",
   "execution_count": null,
   "metadata": {},
   "outputs": [],
   "source": [
    "import numpy as np\n",
    "import matplotlib.pyplot as plt\n",
    "import time\n",
    "import urllib.request\n",
    "from scipy.stats import mode"
   ]
  },
  {
   "cell_type": "code",
   "execution_count": null,
   "metadata": {},
   "outputs": [],
   "source": [
    "rules_file = open(\"dane/ClassificationRules.txt\",\"r\")\n",
    "rules_data = rules_file.readlines()\n",
    "rules = np.empty((266,9350))\n",
    "for i in range(266):\n",
    "     rules[i, :] = list(map(float, rules_data[i].split()))\n",
    "        \n",
    "\n",
    "expert_file = open(\"dane/ImageExpertReduced.txt\",\"r\")\n",
    "expert = expert_file.readlines()\n",
    "expert = np.array([list(map(float, expert[0].split()))])\n",
    "\n",
    "print(expert.shape)\n",
    "print(rules.shape)"
   ]
  },
  {
   "cell_type": "code",
   "execution_count": null,
   "metadata": {},
   "outputs": [],
   "source": [
    "def random_individual(p,d):\n",
    "    random_vec = np.random.rand(d)\n",
    "    return (random_vec < p).astype(int)\n",
    "\n",
    "def random_population(p,d,N):\n",
    "    return np.array([random_individual(p,d) for i in range(N)])"
   ]
  },
  {
   "cell_type": "code",
   "execution_count": null,
   "metadata": {},
   "outputs": [],
   "source": [
    "most_voted = lambda v: mode(v)[0]\n",
    "\n",
    "def opt_f(x):\n",
    "    x = x[np.newaxis,:]\n",
    "    a = rules * x.T\n",
    "    b = a[~(a==0).all(1)]  #remove 0 rows\n",
    "    votes = np.array([most_voted(v) for v in b.T])\n",
    "    return ((votes == expert).sum() / len(expert))"
   ]
  },
  {
   "cell_type": "code",
   "execution_count": null,
   "metadata": {},
   "outputs": [],
   "source": [
    "def PBIL(d,N,t1,t2,t3,T):\n",
    "\n",
    "    costs = np.zeros((3,T))\n",
    "    bests = np.zeros((T,d))\n",
    "    \n",
    "    p = np.ones(d)\n",
    "    p = p/2\n",
    "    P = random_population(p,d,N)\n",
    "    for t in range(T):\n",
    "        val = np.array([opt_f(P[i]) for i in range(N)])\n",
    "        x_best = P[val.argmax()]\n",
    "\n",
    "        costs[0][t] = val.max()\n",
    "        costs[1][t] = val.mean()\n",
    "        costs[2][t] = val.min()\n",
    "\n",
    "        bests[t] = x_best\n",
    "        \n",
    "        for i in range(N):\n",
    "            p = p * (1 - t1) + x_best * t1\n",
    "\n",
    "        for j in range(N):\n",
    "            if np.random.rand() < t2:\n",
    "                p = p * (1 - t3) + random_individual((np.ones(d)/2),d) * t3\n",
    "\n",
    "        P = random_population(p,d,N)\n",
    "        \n",
    "        print(t)\n",
    "    return (costs,bests)"
   ]
  },
  {
   "cell_type": "code",
   "execution_count": null,
   "metadata": {},
   "outputs": [],
   "source": [
    "data = PBIL(266,50,0.045,0.015,0.02,900)"
   ]
  }
 ],
 "metadata": {
  "kernelspec": {
   "display_name": "Python 3",
   "language": "python",
   "name": "python3"
  },
  "language_info": {
   "codemirror_mode": {
    "name": "ipython",
    "version": 3
   },
   "file_extension": ".py",
   "mimetype": "text/x-python",
   "name": "python",
   "nbconvert_exporter": "python",
   "pygments_lexer": "ipython3",
   "version": "3.8.5"
  }
 },
 "nbformat": 4,
 "nbformat_minor": 4
}
