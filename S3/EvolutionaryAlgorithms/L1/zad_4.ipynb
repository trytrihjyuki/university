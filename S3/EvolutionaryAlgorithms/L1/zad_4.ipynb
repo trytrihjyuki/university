{
 "cells": [
  {
   "cell_type": "code",
   "execution_count": 2,
   "metadata": {},
   "outputs": [],
   "source": [
    "import numpy as np\n",
    "import matplotlib.pyplot as plt\n",
    "import time\n",
    "import urllib.request\n",
    "from scipy.stats import mode\n",
    "\n",
    "from multiprocessing import Pool"
   ]
  },
  {
   "cell_type": "code",
   "execution_count": 3,
   "metadata": {},
   "outputs": [
    {
     "name": "stdout",
     "output_type": "stream",
     "text": [
      "(1, 9350)\n",
      "(266, 9350)\n"
     ]
    }
   ],
   "source": [
    "rules_file = open(\"dane/ClassificationRules.txt\",\"r\")\n",
    "rules_data = rules_file.readlines()\n",
    "rules = np.empty((266,9350))\n",
    "for i in range(266):\n",
    "     rules[i, :] = list(map(float, rules_data[i].split()))\n",
    "        \n",
    "\n",
    "expert_file = open(\"dane/ImageExpertReduced.txt\",\"r\")\n",
    "expert = expert_file.readlines()\n",
    "expert = np.array([list(map(float, expert[0].split()))])\n",
    "\n",
    "print(expert.shape)\n",
    "print(rules.shape)"
   ]
  },
  {
   "cell_type": "code",
   "execution_count": 4,
   "metadata": {},
   "outputs": [],
   "source": [
    "def random_individual(p,d):\n",
    "    random_vec = np.random.rand(d)\n",
    "    return (random_vec < p).astype(int)\n",
    "\n",
    "def random_population(p,d,N):\n",
    "    return np.array([random_individual(p,d) for i in range(N)])"
   ]
  },
  {
   "cell_type": "code",
   "execution_count": 5,
   "metadata": {},
   "outputs": [],
   "source": [
    "most_voted = lambda v: mode(v)[0]\n",
    "\n",
    "def opt_f(x):\n",
    "    x = x[np.newaxis,:]\n",
    "    rules_in_use = rules[np.nonzero(x)[1]]\n",
    "    votes = np.array([most_voted(v) for v in rules_in_use.T])\n",
    "    votes = votes.T\n",
    "    return ((votes == expert).sum() / expert.shape[1])"
   ]
  },
  {
   "cell_type": "code",
   "execution_count": 6,
   "metadata": {},
   "outputs": [],
   "source": [
    "def PBIL(d,N,t1,t2,t3,T,threads):\n",
    "\n",
    "    costs = np.zeros((3,T))\n",
    "    bests = np.zeros((T,d))\n",
    "    p_arr = np.zeros((T,d))\n",
    "    \n",
    "    p = np.ones(d)\n",
    "    p = p/2\n",
    "    P = random_population(p,d,N)\n",
    "    last = time.time()\n",
    "    for t in range(T):\n",
    "        \n",
    "        val = np.empty(1)\n",
    "        with Pool(threads) as pool:\n",
    "            val = np.array(pool.map(opt_f, P))\n",
    "            pool.close()\n",
    "            pool.join()\n",
    "        x_best = P[val.argmax()]\n",
    "\n",
    "        costs[0][t] = val.max()\n",
    "        costs[1][t] = val.mean()\n",
    "        costs[2][t] = val.min()\n",
    "\n",
    "        bests[t] = x_best\n",
    "        p_arr[t] = p\n",
    "        \n",
    "        for i in range(N):\n",
    "            p = p * (1 - t1) + x_best * t1\n",
    "\n",
    "        for j in range(N):\n",
    "            if np.random.rand() < t2:\n",
    "                p = p * (1 - t3) + random_individual((np.ones(d)/2),d) * t3\n",
    "\n",
    "        P = random_population(p,d,N)\n",
    "        \n",
    "        print(t, time.time() - last)\n",
    "        last = time.time()\n",
    "    return (costs,bests,p_arr)"
   ]
  },
  {
   "cell_type": "code",
   "execution_count": 7,
   "metadata": {},
   "outputs": [],
   "source": [
    "#data = PBIL(266,50,0.045,0.015,0.02,900)u"
   ]
  },
  {
   "cell_type": "code",
   "execution_count": null,
   "metadata": {},
   "outputs": [],
   "source": []
  }
 ],
 "metadata": {
  "kernelspec": {
   "display_name": "Python 3",
   "language": "python",
   "name": "python3"
  },
  "language_info": {
   "codemirror_mode": {
    "name": "ipython",
    "version": 3
   },
   "file_extension": ".py",
   "mimetype": "text/x-python",
   "name": "python",
   "nbconvert_exporter": "python",
   "pygments_lexer": "ipython3",
   "version": "3.8.5"
  }
 },
 "nbformat": 4,
 "nbformat_minor": 4
}
