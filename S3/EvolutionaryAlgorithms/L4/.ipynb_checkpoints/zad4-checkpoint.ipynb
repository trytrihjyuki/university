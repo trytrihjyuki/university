{
 "cells": [
  {
   "cell_type": "code",
   "execution_count": 698,
   "metadata": {},
   "outputs": [],
   "source": [
    "import numpy as np\n",
    "import matplotlib.pyplot as plt\n",
    "from matplotlib.animation import FuncAnimation\n",
    "from IPython.display import HTML"
   ]
  },
  {
   "cell_type": "code",
   "execution_count": 699,
   "metadata": {},
   "outputs": [],
   "source": [
    "def es(objective_function, chromosome_length, population_size, number_of_iterations, number_of_offspring, number_of_parents, sigma, tau, tau_0, log_frequency=1):\n",
    "\n",
    "    best_solution = np.empty((1, chromosome_length))\n",
    "    best_solution_objective_value = -100000\n",
    "\n",
    "    log_objective_values = np.empty((number_of_iterations, 4))\n",
    "    log_best_solutions = np.empty((number_of_iterations, chromosome_length))\n",
    "    log_best_sigmas = np.empty((number_of_iterations, chromosome_length))\n",
    "\n",
    "    # generating an initial population\n",
    "    current_population_solutions = 100.0 * np.random.rand(population_size, chromosome_length)\n",
    "    current_population_sigmas = sigma * np.ones((population_size, chromosome_length))\n",
    "\n",
    "    # evaluating the objective function on the current population\n",
    "    current_population_objective_values = np.array([objective_function(c) for c in current_population_solutions])\n",
    "\n",
    "    for t in range(number_of_iterations):\n",
    "\n",
    "        # selecting the parent indices by the roulette wheel method\n",
    "        fitness_values = current_population_objective_values - current_population_objective_values.min()\n",
    "        if fitness_values.sum() > 0:\n",
    "            fitness_values = fitness_values / fitness_values.sum()\n",
    "        else:\n",
    "            fitness_values = 1.0 / population_size * np.ones(population_size)\n",
    "        parent_indices = np.random.choice(population_size, (number_of_offspring, number_of_parents), True, fitness_values).astype(np.int64)\n",
    "\n",
    "        # creating the children population by Global Intermediere Recombination\n",
    "        children_population_solutions = np.zeros((number_of_offspring, chromosome_length))\n",
    "        children_population_sigmas = np.zeros((number_of_offspring, chromosome_length))\n",
    "        for i in range(number_of_offspring):\n",
    "            children_population_solutions[i, :] = current_population_solutions[parent_indices[i, :], :].mean(axis=0)\n",
    "            children_population_sigmas[i, :] = current_population_sigmas[parent_indices[i, :], :].mean(axis=0)\n",
    "\n",
    "        # mutating the children population by adding random gaussian noise\n",
    "        children_population_sigmas = children_population_sigmas * np.exp(tau * np.random.randn(number_of_offspring, chromosome_length) + tau_0 * np.random.randn(number_of_offspring, 1))\n",
    "        children_population_solutions = children_population_solutions + children_population_sigmas * np.random.randn(number_of_offspring, chromosome_length)\n",
    "\n",
    "        # evaluating the objective function on the children population\n",
    "        children_population_objective_values = np.array([objective_function(c) for c in children_population_solutions])\n",
    "        # replacing the current population by (Mu + Lambda) Replacement\n",
    "        current_population_objective_values = np.hstack([current_population_objective_values, children_population_objective_values])\n",
    "        current_population_solutions = np.vstack([current_population_solutions, children_population_solutions])\n",
    "        current_population_sigmas = np.vstack([current_population_sigmas, children_population_sigmas])\n",
    "\n",
    "        I = np.argsort(current_population_objective_values)[::-1]\n",
    "        current_population_solutions = current_population_solutions[I[:population_size], :]\n",
    "        current_population_sigmas = current_population_sigmas[I[:population_size], :]\n",
    "        current_population_objective_values = current_population_objective_values[I[:population_size]]\n",
    "\n",
    "        # recording some statistics\n",
    "        if best_solution_objective_value < current_population_objective_values[0]:\n",
    "            best_solution = current_population_solutions[0, :]\n",
    "            best_solution_objective_value = current_population_objective_values[0]\n",
    "        log_objective_values[t, :] = [current_population_objective_values.min(), current_population_objective_values.max(), current_population_objective_values.mean(), current_population_objective_values.std()]\n",
    "        log_best_solutions[t, :] = current_population_solutions[0, :]\n",
    "        log_best_sigmas[t, :] = current_population_sigmas[0, :]\n",
    "\n",
    "        if np.mod(t, log_frequency) == 0 and False:\n",
    "            print(\"Iteration %04d : best score = %0.8f, mean score = %0.8f.\" % (t, log_objective_values[:t+1, 1].max(), log_objective_values[t, 2]))\n",
    "\n",
    "    return best_solution_objective_value, best_solution, log_objective_values, log_best_solutions, log_best_sigmas"
   ]
  },
  {
   "cell_type": "code",
   "execution_count": 700,
   "metadata": {},
   "outputs": [],
   "source": [
    "def get_points(x_start,y_start,components, alphas):\n",
    "    x = [x_start]\n",
    "    y = [y_start]\n",
    "    alphas_r = np.radians(alphas)\n",
    "    last_x, last_y = x_start, y_start\n",
    "    for (c,a) in zip(components,alphas_r):\n",
    "        x_curr = last_x + c * np.cos(a)\n",
    "        y_curr = last_y + c * np.sin(a)\n",
    "        last_x, last_y = x_curr, y_curr\n",
    "        x.append(x_curr)\n",
    "        y.append(y_curr)\n",
    "    \n",
    "    return x,y"
   ]
  },
  {
   "cell_type": "code",
   "execution_count": 701,
   "metadata": {},
   "outputs": [],
   "source": [
    "def plot_robot(x,y,x_dest,y_dest):\n",
    "    plt.figure()\n",
    "#     plt.xlim(-10,10)\n",
    "#     plt.ylim(-10,10)\n",
    "    plt.plot(x_dest, y_dest, 'bo')\n",
    "    plt.plot(x, y, '-bo',  c='black', markerfacecolor='red', markeredgecolor='k')"
   ]
  },
  {
   "cell_type": "code",
   "execution_count": 702,
   "metadata": {},
   "outputs": [],
   "source": [
    "def get_objective_f(x_start,y_start,x_dest,y_dest,components):\n",
    "    def obj_f(alphas):\n",
    "        x,y = get_points(x_start,y_start,components, alphas)\n",
    "        x_last = x[-1]\n",
    "        y_last = y[-1]\n",
    "        return -(x_last - x_dest)**2 - (y_last - y_dest)**2\n",
    "    return obj_f"
   ]
  },
  {
   "cell_type": "code",
   "execution_count": 703,
   "metadata": {},
   "outputs": [],
   "source": [
    "x_start = 0.0\n",
    "y_start = 0.0\n",
    "\n",
    "x_dest = 5.0\n",
    "y_dest = 5.0\n",
    "components_t = [1,3,2,2,1]"
   ]
  },
  {
   "cell_type": "code",
   "execution_count": 707,
   "metadata": {},
   "outputs": [],
   "source": [
    "def solve(x_start, y_start, x_dest, y_dest, components, population_size):\n",
    "    obj_f = get_objective_f(x_start, y_start, x_dest, y_dest, components)\n",
    "    best_solution_objective_value, best_solution, \\\n",
    "    log_objective_values, log_best_solutions, log_best_sigmas = es(\n",
    "        obj_f, len(components), population_size, 100, 2*population_size, 2, 50.0, 1/np.sqrt(2*len(components)), 1/np.sqrt(2*np.sqrt(len(components))), 10)\n",
    "\n",
    "    x,y = get_points(x_start,y_start,components,best_solution)\n",
    "    plot_robot(x,y,x_dest,y_dest)\n",
    "    \n",
    "#     def init():\n",
    "#         line.set_data([], [])\n",
    "#         return line,\n",
    "    \n",
    "#     def animate(i):\n",
    "#         x,y = get_points(x_start,y_start,components,log_best_solutions[i])\n",
    "#         line.set_data(x, y)\n",
    "#         return line,\n",
    "    \n",
    "#     fig = plt.figure()\n",
    "#     ax = plt.axes(xlim=(-7, 7), ylim=(-7, 7))\n",
    "#     line, = ax.plot([], [], lw=3)\n",
    "\n",
    "#     anim = FuncAnimation(fig, animate, init_func=init,\n",
    "#                                frames=99, interval=20, blit=True)\n",
    "#     anim.save('sine_wave.gif', writer='imagemagick')\n",
    "#     HTML(anim.to_html5_video())\n",
    "    #print(log_best_solutions)"
   ]
  },
  {
   "cell_type": "code",
   "execution_count": 708,
   "metadata": {},
   "outputs": [
    {
     "data": {
      "image/png": "[encoded data removed]",
      "text/plain": [
       "<Figure size 432x288 with 1 Axes>"
      ]
     },
     "metadata": {
      "needs_background": "light"
     },
     "output_type": "display_data"
    }
   ],
   "source": [
    "solve(x_start, y_start, x_dest, y_dest, components_t, 20)"
   ]
  },
  {
   "cell_type": "code",
   "execution_count": null,
   "metadata": {},
   "outputs": [],
   "source": []
  }
 ],
 "metadata": {
  "kernelspec": {
   "display_name": "Python 3",
   "language": "python",
   "name": "python3"
  },
  "language_info": {
   "codemirror_mode": {
    "name": "ipython",
    "version": 3
   },
   "file_extension": ".py",
   "mimetype": "text/x-python",
   "name": "python",
   "nbconvert_exporter": "python",
   "pygments_lexer": "ipython3",
   "version": "3.8.5"
  }
 },
 "nbformat": 4,
 "nbformat_minor": 4
}
