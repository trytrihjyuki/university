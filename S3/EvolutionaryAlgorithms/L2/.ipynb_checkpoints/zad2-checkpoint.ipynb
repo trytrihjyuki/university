{
 "cells": [
  {
   "cell_type": "markdown",
   "metadata": {},
   "source": [
    "## Init"
   ]
  },
  {
   "cell_type": "code",
   "execution_count": 16,
   "metadata": {},
   "outputs": [],
   "source": [
    "import numpy as np\n",
    "import matplotlib.pyplot as plt\n",
    "import time\n",
    "\n",
    "%matplotlib inline"
   ]
  },
  {
   "cell_type": "code",
   "execution_count": 17,
   "metadata": {},
   "outputs": [
    {
     "name": "stdout",
     "output_type": "stream",
     "text": [
      "Problem size: 52\n",
      "Distance matrix:\n",
      " [[   0.          666.10809934  281.11385594 ...  217.08293346\n",
      "   789.38267019 1220.46097848]\n",
      " [ 666.10809934    0.          649.32657423 ...  596.25917184\n",
      "  1421.55724471 1716.04924172]\n",
      " [ 281.11385594  649.32657423    0.         ...  463.24939288\n",
      "   995.3140208  1483.59361012]\n",
      " ...\n",
      " [ 217.08293346  596.25917184  463.24939288 ...    0.\n",
      "   829.60834133 1150.76061803]\n",
      " [ 789.38267019 1421.55724471  995.3140208  ...  829.60834133\n",
      "     0.          624.81997407]\n",
      " [1220.46097848 1716.04924172 1483.59361012 ... 1150.76061803\n",
      "   624.81997407    0.        ]]\n",
      "Optimal solution:\n",
      " [0, 48, 31, 44, 18, 40, 7, 8, 9, 42, 32, 50, 10, 51, 13, 12, 46, 25, 26, 27, 11, 24, 3, 5, 14, 4, 23, 47, 37, 36, 39, 38, 35, 34, 33, 43, 45, 15, 28, 49, 19, 22, 29, 1, 6, 41, 20, 16, 2, 17, 30, 21]\n"
     ]
    }
   ],
   "source": [
    "# BERLIN52\n",
    "\n",
    "n = 52\n",
    "print('Problem size: %d' % n)\n",
    "\n",
    "coords = np.array([565.0, 575.0, 25.0, 185.0, 345.0, 750.0, 945.0, 685.0, 845.0, 655.0, 880.0, 660.0, 25.0, 230.0, 525.0, 1000.0, 580.0, 1175.0, 650.0, 1130.0, 1605.0, 620.0, 1220.0, 580.0, 1465.0, 200.0, 1530.0, 5.0, 845.0, 680.0, 725.0, 370.0, 145.0, 665.0, 415.0, 635.0, 510.0, 875.0, 560.0, 365.0, 300.0, 465.0, 520.0, 585.0, 480.0, 415.0, 835.0, 625.0, 975.0, 580.0, 1215.0, 245.0, 1320.0, 315.0, 1250.0, 400.0, 660.0, 180.0, 410.0, 250.0, 420.0, 555.0, 575.0, 665.0, 1150.0, 1160.0, 700.0, 580.0, 685.0, 595.0, 685.0, 610.0, 770.0, 610.0, 795.0, 645.0, 720.0, 635.0, 760.0, 650.0, 475.0, 960.0, 95.0, 260.0, 875.0, 920.0, 700.0, 500.0, 555.0, 815.0, 830.0, 485.0, 1170.0, 65.0, 830.0, 610.0, 605.0, 625.0, 595.0, 360.0, 1340.0, 725.0, 1740.0, 245.0])\n",
    "coords = coords.reshape(n, 2)\n",
    "\n",
    "A = np.empty((n, n))\n",
    "for i in range(n):\n",
    "    for j in range(n):\n",
    "        A[i, j] = np.sqrt(((coords[i, :] - coords[j, :])**2).sum())\n",
    "print('Distance matrix:\\n', A)\n",
    "\n",
    "p = [0, 48, 31, 44, 18, 40,  7,  8,  9, 42, 32, 50, 10, 51, 13, 12, 46, 25, 26, 27, 11, 24,  3,  5, 14,  4, 23, 47, 37, 36, 39, 38, 35, 34, 33, 43, 45, 15, 28, 49, 19, 22, 29,  1,  6, 41, 20, 16,  2, 17, 30, 21]\n",
    "print('Optimal solution:\\n', p)"
   ]
  },
  {
   "cell_type": "markdown",
   "metadata": {},
   "source": [
    "### Objective function"
   ]
  },
  {
   "cell_type": "code",
   "execution_count": 18,
   "metadata": {},
   "outputs": [],
   "source": [
    "def tsp_objective_function(p):\n",
    "    s = 0.0\n",
    "    for i in range(n):\n",
    "        s += A[p[i-1], p[i]]\n",
    "    return s"
   ]
  },
  {
   "cell_type": "code",
   "execution_count": 31,
   "metadata": {},
   "outputs": [],
   "source": [
    "def sga(crossover_f, mutation_f):\n",
    "    population_size = 500\n",
    "    chromosome_length = n\n",
    "    number_of_offspring = population_size\n",
    "    crossover_probability = 0.95\n",
    "    mutation_probability = 0.25\n",
    "    number_of_iterations = 250\n",
    "\n",
    "    time0 = time.time()\n",
    "    \n",
    "    costs = np.zeros(number_of_iterations)\n",
    "    \n",
    "    best_objective_value = np.Inf\n",
    "    best_chromosome = np.zeros((1, chromosome_length))\n",
    "\n",
    "    # generating an initial population\n",
    "    current_population = np.zeros((population_size, chromosome_length), dtype=np.int64)\n",
    "    for i in range(population_size):\n",
    "        current_population[i, :] = np.random.permutation(chromosome_length)\n",
    "\n",
    "    # evaluating the objective function on the current population\n",
    "    objective_values = np.zeros(population_size)\n",
    "    for i in range(population_size):\n",
    "        objective_values[i] = tsp_objective_function(current_population[i, :])\n",
    "\n",
    "    for t in range(number_of_iterations):\n",
    "\n",
    "        # selecting the parent indices by the roulette wheel method\n",
    "        fitness_values = objective_values.max() - objective_values\n",
    "        if fitness_values.sum() > 0:\n",
    "            fitness_values = fitness_values / fitness_values.sum()\n",
    "        else:\n",
    "            fitness_values = np.ones(population_size) / population_size\n",
    "        parent_indices = np.random.choice(population_size, number_of_offspring, True, fitness_values).astype(np.int64)\n",
    "\n",
    "        # creating the children population\n",
    "        children_population = np.zeros((number_of_offspring, chromosome_length), dtype=np.int64)\n",
    "        for i in range(int(number_of_offspring/2)):\n",
    "            if np.random.random() < crossover_probability:\n",
    "                children_population[2*i, :], children_population[2*i+1, :] = PMX(current_population[parent_indices[2*i], :].copy(), current_population[parent_indices[2*i+1], :].copy())\n",
    "            else:\n",
    "                children_population[2*i, :], children_population[2*i+1, :] = current_population[parent_indices[2*i], :].copy(), current_population[parent_indices[2*i+1]].copy()\n",
    "        if np.mod(number_of_offspring, 2) == 1:\n",
    "            children_population[-1, :] = current_population[parent_indices[-1], :]\n",
    "\n",
    "        # mutating the children population\n",
    "        for i in range(number_of_offspring):\n",
    "            if np.random.random() < mutation_probability:\n",
    "                children_population[i, :] = reverse_sequence_mutation(children_population[i, :])\n",
    "\n",
    "        # evaluating the objective function on the children population\n",
    "        children_objective_values = np.zeros(number_of_offspring)\n",
    "        for i in range(number_of_offspring):\n",
    "            children_objective_values[i] = tsp_objective_function(children_population[i, :])\n",
    "\n",
    "        # replacing the current population by (Mu + Lambda) Replacement\n",
    "        objective_values = np.hstack([objective_values, children_objective_values])\n",
    "        current_population = np.vstack([current_population, children_population])\n",
    "\n",
    "        I = np.argsort(objective_values)\n",
    "        current_population = current_population[I[:population_size], :]\n",
    "        objective_values = objective_values[I[:population_size]]\n",
    "\n",
    "        # recording some statistics\n",
    "        if best_objective_value < objective_values[0]:\n",
    "            best_objective_value = objective_values[0]\n",
    "        best_chromosome = current_population[0, :]\n",
    "        \n",
    "        costs[t] = objective_values[0]\n",
    "        #print('%3d %14.8f %12.8f %12.8f %12.8f %12.8f' % (t, time.time() - time0, objective_values.min(), objective_values.mean(), objective_values.max(), objective_values.std()))\n",
    "        \n",
    "    return costs"
   ]
  },
  {
   "cell_type": "markdown",
   "metadata": {},
   "source": [
    "## Crossover functions"
   ]
  },
  {
   "cell_type": "code",
   "execution_count": 32,
   "metadata": {},
   "outputs": [],
   "source": [
    "def PMX(ind1, ind2):\n",
    "    a = np.random.choice(len(ind1)-2, 2, False)\n",
    "    i, j = a.min(), a.max()\n",
    "    np.vstack((ind1[i:j],ind2[i:j])).T\n",
    "    match = np.zeros(len(ind1)).astype(int)\n",
    "    for p in np.vstack((ind1[i:j],ind2[i:j])).T:\n",
    "        match[p[0]] = p[1]    \n",
    "        match[p[1]] = p[0]\n",
    "    \n",
    "    child1 = np.concatenate((ind1[:i], ind2[i:j], ind1[j:]))\n",
    "    child2 = np.concatenate((ind2[:i], ind1[i:j], ind2[j:]))\n",
    "\n",
    "    for k in np.delete(np.arange(len(ind1)), np.arange(i,j)):\n",
    "        while child1[k] in ind2[i:j]:\n",
    "            index = np.where(ind2[i:j] == child1[k])[0][0]\n",
    "            child1[k] = ind1[i:j][index]\n",
    "        while child2[k] in ind1[i:j]:\n",
    "            index = np.where(ind1[i:j] == child2[k])[0][0]\n",
    "            child2[k] = ind2[i:j][index]\n",
    "    return child1, child2"
   ]
  },
  {
   "cell_type": "markdown",
   "metadata": {},
   "source": [
    "## Mutation functions"
   ]
  },
  {
   "cell_type": "code",
   "execution_count": 33,
   "metadata": {},
   "outputs": [],
   "source": [
    "def reverse_sequence_mutation(p):\n",
    "    a = np.random.choice(len(p), 2, False)\n",
    "    i, j = a.min(), a.max()\n",
    "    q = p.copy()\n",
    "    q[i:j+1] = q[i:j+1][::-1]\n",
    "    return q"
   ]
  },
  {
   "cell_type": "code",
   "execution_count": 34,
   "metadata": {},
   "outputs": [],
   "source": [
    "d = {}"
   ]
  },
  {
   "cell_type": "code",
   "execution_count": 35,
   "metadata": {},
   "outputs": [],
   "source": [
    "d[('PMX','REV')] = sga(PMX, reverse_sequence_mutation)"
   ]
  },
  {
   "cell_type": "code",
   "execution_count": 36,
   "metadata": {},
   "outputs": [
    {
     "data": {
      "image/png": "[encoded data removed]",
      "text/plain": [
       "<Figure size 432x288 with 1 Axes>"
      ]
     },
     "metadata": {
      "needs_background": "light"
     },
     "output_type": "display_data"
    }
   ],
   "source": [
    "plt.figure()\n",
    "plt.plot(d[('PMX','REV')])\n",
    "plt.show()"
   ]
  },
  {
   "cell_type": "code",
   "execution_count": null,
   "metadata": {},
   "outputs": [],
   "source": []
  }
 ],
 "metadata": {
  "kernelspec": {
   "display_name": "Python 3",
   "language": "python",
   "name": "python3"
  },
  "language_info": {
   "codemirror_mode": {
    "name": "ipython",
    "version": 3
   },
   "file_extension": ".py",
   "mimetype": "text/x-python",
   "name": "python",
   "nbconvert_exporter": "python",
   "pygments_lexer": "ipython3",
   "version": "3.8.5"
  }
 },
 "nbformat": 4,
 "nbformat_minor": 4
}
