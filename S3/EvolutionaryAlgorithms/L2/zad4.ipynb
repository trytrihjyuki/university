{
 "cells": [
  {
   "cell_type": "code",
   "execution_count": 38,
   "metadata": {},
   "outputs": [],
   "source": [
    "import numpy as np\n",
    "import matplotlib.pyplot as plt\n",
    "import time\n",
    "import urllib.request\n",
    "\n",
    "%matplotlib inline"
   ]
  },
  {
   "cell_type": "code",
   "execution_count": 39,
   "metadata": {},
   "outputs": [],
   "source": [
    "def reverse_sequence_mutation(p):\n",
    "    a = np.random.choice(len(p), 2, False)\n",
    "    i, j = a.min(), a.max()\n",
    "    q = p.copy()\n",
    "    q[i:j+1] = q[i:j+1][::-1]\n",
    "    return q"
   ]
  },
  {
   "cell_type": "code",
   "execution_count": 40,
   "metadata": {},
   "outputs": [],
   "source": [
    "def PMX(ind1, ind2):\n",
    "    a = np.random.choice(len(ind1)-2, 2, False)\n",
    "    i, j = a.min(), a.max()\n",
    "    np.vstack((ind1[i:j],ind2[i:j])).T\n",
    "    match = np.zeros(len(ind1)).astype(int)\n",
    "    for p in np.vstack((ind1[i:j],ind2[i:j])).T:\n",
    "        match[p[0]] = p[1]    \n",
    "        match[p[1]] = p[0]\n",
    "    \n",
    "    child1 = np.concatenate((ind1[:i], ind2[i:j], ind1[j:]))\n",
    "    child2 = np.concatenate((ind2[:i], ind1[i:j], ind2[j:]))\n",
    "\n",
    "    for k in np.delete(np.arange(len(ind1)), np.arange(i,j)):\n",
    "        while child1[k] in ind2[i:j]:\n",
    "            index = np.where(ind2[i:j] == child1[k])[0][0]\n",
    "            child1[k] = ind1[i:j][index]\n",
    "        while child2[k] in ind1[i:j]:\n",
    "            index = np.where(ind1[i:j] == child2[k])[0][0]\n",
    "            child2[k] = ind2[i:j][index]\n",
    "    return child1, child2"
   ]
  },
  {
   "cell_type": "code",
   "execution_count": 41,
   "metadata": {},
   "outputs": [],
   "source": [
    "def sga(tsp_objective_function, n):\n",
    "    population_size = 500\n",
    "    chromosome_length = n\n",
    "    number_of_offspring = population_size\n",
    "    crossover_probability = 0.95\n",
    "    mutation_probability = 0.25\n",
    "    number_of_iterations = 250\n",
    "\n",
    "    time0 = time.time()\n",
    "\n",
    "    best_objective_value = np.Inf\n",
    "    best_chromosome = np.zeros((1, chromosome_length))\n",
    "\n",
    "    costs = np.zeros(number_of_iterations)\n",
    "    \n",
    "    # generating an initial population\n",
    "    current_population = np.zeros((population_size, chromosome_length), dtype=np.int64)\n",
    "    for i in range(population_size):\n",
    "        current_population[i, :] = np.random.permutation(chromosome_length)\n",
    "\n",
    "    # evaluating the objective function on the current population\n",
    "    objective_values = np.zeros(population_size)\n",
    "    for i in range(population_size):\n",
    "        objective_values[i] = tsp_objective_function(current_population[i, :])\n",
    "\n",
    "    for t in range(number_of_iterations):\n",
    "\n",
    "        # selecting the parent indices by the roulette wheel method\n",
    "        fitness_values = objective_values.max() - objective_values\n",
    "        if fitness_values.sum() > 0:\n",
    "            fitness_values = fitness_values / fitness_values.sum()\n",
    "        else:\n",
    "            fitness_values = np.ones(population_size) / population_size\n",
    "        parent_indices = np.random.choice(population_size, number_of_offspring, True, fitness_values).astype(np.int64)\n",
    "\n",
    "        # creating the children population\n",
    "        children_population = np.zeros((number_of_offspring, chromosome_length), dtype=np.int64)\n",
    "        for i in range(int(number_of_offspring/2)):\n",
    "            if np.random.random() < crossover_probability:\n",
    "                children_population[2*i, :], children_population[2*i+1, :] = PMX(current_population[parent_indices[2*i], :].copy(), current_population[parent_indices[2*i+1], :].copy())\n",
    "            else:\n",
    "                children_population[2*i, :], children_population[2*i+1, :] = current_population[parent_indices[2*i], :].copy(), current_population[parent_indices[2*i+1]].copy()\n",
    "        if np.mod(number_of_offspring, 2) == 1:\n",
    "            children_population[-1, :] = current_population[parent_indices[-1], :]\n",
    "\n",
    "        # mutating the children population\n",
    "        for i in range(number_of_offspring):\n",
    "            if np.random.random() < mutation_probability:\n",
    "                children_population[i, :] = reverse_sequence_mutation(children_population[i, :])\n",
    "\n",
    "        # evaluating the objective function on the children population\n",
    "        children_objective_values = np.zeros(number_of_offspring)\n",
    "        for i in range(number_of_offspring):\n",
    "            children_objective_values[i] = tsp_objective_function(children_population[i, :])\n",
    "\n",
    "        # replacing the current population by (Mu + Lambda) Replacement\n",
    "        objective_values = np.hstack([objective_values, children_objective_values])\n",
    "        current_population = np.vstack([current_population, children_population])\n",
    "\n",
    "        I = np.argsort(objective_values)\n",
    "        current_population = current_population[I[:population_size], :]\n",
    "        objective_values = objective_values[I[:population_size]]\n",
    "\n",
    "        # recording some statistics\n",
    "        if best_objective_value < objective_values[0]:\n",
    "            best_objective_value = objective_values[0]\n",
    "        best_chromosome = current_population[0, :]\n",
    "        costs[t] = objective_values[0]\n",
    "        #print('%3d %14.8f %12.8f %12.8f %12.8f %12.8f' % (t, time.time() - time0, objective_values.min(), objective_values.mean(), objective_values.max(), objective_values.std()))\n",
    "        \n",
    "    return costs"
   ]
  },
  {
   "cell_type": "markdown",
   "metadata": {},
   "source": [
    "### QAP"
   ]
  },
  {
   "cell_type": "code",
   "execution_count": 42,
   "metadata": {},
   "outputs": [],
   "source": [
    "instances = [12,14,15,17,18,20,21,22,24,25,27,28]#50,60,80]\n",
    "urls = {n: 'http://anjos.mgi.polymtl.ca/qaplib/data.d/nug{}.dat'.format(n) for n in instances}\n",
    "urls[50] = 'http://anjos.mgi.polymtl.ca/qaplib/data.d/tai50a.dat'\n",
    "urls[60] = 'http://anjos.mgi.polymtl.ca/qaplib/data.d/tai60a.dat'\n",
    "urls[80] = 'http://anjos.mgi.polymtl.ca/qaplib/data.d/tai80a.dat'\n",
    "\n",
    "opt = {12: 578, 14: 1014, 15: 1150, 17: 1732, 18:1930, 20:2570, 21:2438, 22:3596 ,24:3488 ,25:3744 ,27:5234 ,28:5166 ,30:6124, 50:4938796, 60:7205962 , 80:13499184}"
   ]
  },
  {
   "cell_type": "code",
   "execution_count": 43,
   "metadata": {},
   "outputs": [],
   "source": [
    "def get_data(n):\n",
    "    qap_instance_file = urllib.request.urlopen(urls[n])\n",
    "    line = qap_instance_file.readline()\n",
    "    n = int(line.decode()[:-1].split()[0])\n",
    "\n",
    "    A = np.empty((n, n))\n",
    "    qap_instance_file.readline()\n",
    "    for i in range(n):\n",
    "        line = qap_instance_file.readline()\n",
    "        A[i, :] = list(map(int, line.decode()[:-1].split()))\n",
    "\n",
    "    B = np.empty((n, n))\n",
    "    qap_instance_file.readline()\n",
    "    for i in range(n):\n",
    "        line = qap_instance_file.readline()\n",
    "        B[i, :] = list(map(int, line.decode()[:-1].split()))\n",
    "    return A, B"
   ]
  },
  {
   "cell_type": "code",
   "execution_count": 44,
   "metadata": {},
   "outputs": [],
   "source": [
    "def qap_objective_function_AB(A,B,n):\n",
    "    def f(p):\n",
    "        s = 0.0\n",
    "        for i in range(n):\n",
    "            s += (A[i, :] * B[p[i], p]).sum()\n",
    "        return s\n",
    "    return f"
   ]
  },
  {
   "cell_type": "code",
   "execution_count": 45,
   "metadata": {},
   "outputs": [],
   "source": [
    "d = {}"
   ]
  },
  {
   "cell_type": "code",
   "execution_count": null,
   "metadata": {},
   "outputs": [
    {
     "name": "stdout",
     "output_type": "stream",
     "text": [
      "opt solution:  578  sga solution:  600.0 with time:  16.23266363143921\n",
      "opt solution:  1014  sga solution:  1048.0 with time:  17.484334707260132\n",
      "opt solution:  1150  sga solution:  1160.0 with time:  17.249878406524658\n",
      "opt solution:  1732  sga solution:  1788.0 with time:  18.65092420578003\n",
      "opt solution:  1930  sga solution:  1992.0 with time:  19.430846691131592\n",
      "opt solution:  2570  sga solution:  2612.0 with time:  21.030895471572876\n",
      "opt solution:  2438  sga solution:  2488.0 with time:  21.771910429000854\n",
      "opt solution:  3596  sga solution:  3704.0 with time:  22.41923689842224\n",
      "opt solution:  3488  sga solution:  3756.0 with time:  24.038860321044922\n",
      "opt solution:  3744  sga solution:  3954.0 with time:  25.2945613861084\n",
      "opt solution:  5234  sga solution:  5400.0 with time:  28.739774465560913\n"
     ]
    }
   ],
   "source": [
    "for n in instances:\n",
    "    A, B = get_data(n)\n",
    "\n",
    "    t0 = time.time()\n",
    "\n",
    "    d[n] = sga(qap_objective_function_AB(A,B,n), n)\n",
    "    print('opt solution: ',opt[n],' sga solution: ',d[n].min(), \"with time: \", time.time() - t0)\n",
    "    "
   ]
  },
  {
   "cell_type": "code",
   "execution_count": null,
   "metadata": {},
   "outputs": [],
   "source": [
    "for n in instances:\n",
    "    plt.figure()\n",
    "    plt.title = str(n)\n",
    "    plt.plot(d[n])\n",
    "    plt.show()"
   ]
  },
  {
   "cell_type": "code",
   "execution_count": null,
   "metadata": {},
   "outputs": [],
   "source": []
  }
 ],
 "metadata": {
  "kernelspec": {
   "display_name": "Python 3",
   "language": "python",
   "name": "python3"
  }
 },
 "nbformat": 4,
 "nbformat_minor": 4
}
