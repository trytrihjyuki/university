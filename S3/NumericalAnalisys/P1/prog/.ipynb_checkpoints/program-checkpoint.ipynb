{
 "cells": [
  {
   "cell_type": "markdown",
   "metadata": {},
   "source": [
    "# Prezentacja wykorzystanego w sprawozdaniu programu"
   ]
  },
  {
   "cell_type": "markdown",
   "metadata": {},
   "source": [
    "Najpierw w interpeterze Julii ustawiamy tryb obliczeń jako Float64"
   ]
  },
  {
   "cell_type": "code",
   "execution_count": 1,
   "metadata": {},
   "outputs": [
    {
     "data": {
      "text/plain": [
       "Float64"
      ]
     },
     "execution_count": 1,
     "metadata": {},
     "output_type": "execute_result"
    }
   ],
   "source": [
    "Float64"
   ]
  },
  {
   "cell_type": "markdown",
   "metadata": {},
   "source": [
    "## Implementacja funkcji służacej do wyznaczania miejsc zerowych funkcji za pomocą metody Siecznych"
   ]
  },
  {
   "cell_type": "code",
   "execution_count": 2,
   "metadata": {},
   "outputs": [
    {
     "data": {
      "text/plain": [
       "metodasiecznych (generic function with 1 method)"
      ]
     },
     "execution_count": 2,
     "metadata": {},
     "output_type": "execute_result"
    }
   ],
   "source": [
    "# Implementacja metody siecznych\n",
    "function metodasiecznych(f,a,b,M,prec1,prec2)\n",
    "    fa = f(a) # Zapisanie wartości funkcji w punkcie a=x_0 oraz b=x_1\n",
    "    fb = f(b)\n",
    "    println(0,\";\",a,\";\",fa) # Wypisanie pierwszych 2 kroków\n",
    "    println(1,\";\",b,\";\",fb)\n",
    "    for k = 2:M\n",
    "        if abs(fa) > abs(fb) # Drobna optymalizacja, kolejne a i b są zamieniane ze sobą jeśli moduł wartości f(a) jest większy od modułu wartości f(b)\n",
    "            c=a\n",
    "            a=b\n",
    "            b=c\n",
    "            c=fa\n",
    "            fa=fb\n",
    "            fb=c\n",
    "        end\n",
    "        s=(b-a)/(fb-fa) # Częściowa suma nowego punktu x_n+1\n",
    "        b=a # Zamiana b i a\n",
    "        fb=fa\n",
    "        a=a-fa*s # Obliczenie punktu x_n+1 i zapisanie go jako a\n",
    "        fa=f(a) # Obliczenie wartości funkcji w punkcie x_n+1\n",
    "        println(k,\";\",a,\";\",fa) # Wypisanie wartości funkcji w kroku k\n",
    "        if abs(fa)<prec1 # Sprawdzenie czy osiągnelismy wymaganą precyzję pod względem zbliżenia wyniku f(x_n+1) do zera\n",
    "            return \n",
    "        end\n",
    "        if abs(b-a)<prec2 # Sprawdzenie czy b i a są nadal rózne od siebie w pewnej precyzji\n",
    "            return\n",
    "        end\n",
    "    end\n",
    "end"
   ]
  },
  {
   "cell_type": "markdown",
   "metadata": {},
   "source": [
    "## Używanie funkcji:\n",
    "- Jako argument f przekazujemy funkcję dla której chcemy zastosować metodę Siecznych.\n",
    "- Jako argument a i b przekazujemy początkowe przybliżenia ($x_0$,$x_1$).\n",
    "- Jako argument M przekazujemy maksymalną liczbę kroków w jakiej chcemy przeprowadzić metodę Siecznych.\n",
    "- Jako argument ```prec1``` i ```prec2``` przekazujemy precyzje obliczeń w jakiej chcemy aby metoda Siecznych została przeprowadzona. Argument ```prec1``` określa precyzję jak zbliżona do 0 powinna być wartość badanej funkcji w punkcie wynikowym. Argument ```prec2``` określa w jakim momencie powinniśmy przerwać obliczenia względem odległości od kolejnych punktów $x_n$ oraz $x_{n-1}$, tak aby metoda Siecznych nie wykonywała zbędnych obliczeń od pewnego momentu w którym różnice dla kolejnych $x_n$ będą pomijalnie małe."
   ]
  },
  {
   "cell_type": "markdown",
   "metadata": {},
   "source": [
    "## Implementacja funkcji służacej do wyznaczania miejsc zerowych funkcji za pomocą Regula Falsi"
   ]
  },
  {
   "cell_type": "code",
   "execution_count": 3,
   "metadata": {},
   "outputs": [
    {
     "data": {
      "text/plain": [
       "regulafalsi (generic function with 1 method)"
      ]
     },
     "execution_count": 3,
     "metadata": {},
     "output_type": "execute_result"
    }
   ],
   "source": [
    "# Implementacja Regula Falsi\n",
    "function regulafalsi(f,a,b,M,prec1,prec2)\n",
    "    fa=f(a) # Zapisanie wartości funkcji w punkcie a=x_0 oraz b=x_1\n",
    "    fb=f(b)\n",
    "    println(0,\";\",a,\";\",fa) # Wypisanie pierwszych 2 kroków\n",
    "    println(1,\";\",b,\";\",fb)\n",
    "    oldy=0 # Stare przybliżenie funkcji, wartość f(x_n)\n",
    "    for k = 2:M\n",
    "        if abs(fa) > abs(fb) # Drobna optymalizacja, kolejne a i b są zamieniane ze sobą jeśli moduł wartości f(a) jest większy od modułu wartości f(b)\n",
    "            c=a\n",
    "            a=b\n",
    "            b=c\n",
    "            c=fa\n",
    "            fa=fb\n",
    "            fb=c\n",
    "        end\n",
    "        y=b-((b-a)/(fb-fa))*fb # Wyznaczenie punktu x_n+1\n",
    "        fy=f(y) # Obliczenie wartości funkcji w punkcie x_n+1\n",
    "        if (fb)*(fy)<0 # Odpowiednie wybranie następnego badanego przedziału tak aby metoda była zbieżna\n",
    "            a=y\n",
    "            fa=fy \n",
    "        else\n",
    "            b=y\n",
    "            fb=fy\n",
    "        end\n",
    "        println(k,\";\",y,\";\",fy) # Wypisanie wartości osiągniętych w kroku k\n",
    "        if abs(fy)<prec1 # Sprawdzenie czy wartość funkcji f(x_n)\n",
    "            return \n",
    "        end\n",
    "        if abs(oldy-y)<prec2 # Sprawdzenie czy różnica między f(x_n+1) i f(x_n) jest wystarczająco duża aby można było nadal obliczać regule Falsi\n",
    "            break\n",
    "        end\n",
    "        oldy=y # Zapisanie x_n+1 do użycia w następnej iteracji\n",
    "    end\n",
    "end"
   ]
  },
  {
   "cell_type": "markdown",
   "metadata": {},
   "source": [
    "## Używanie funkcji:\n",
    "- Jako argument f przekazujemy funkcję dla której chcemy zastosować Regula Falsi.\n",
    "- Jako argument a i b przekazujemy początkowe przybliżenia ($x_0$,$x_1$).\n",
    "- Jako argument M przekazujemy maksymalną liczbę kroków w jakiej chcemy przeprowadzić Regula Falsi.\n",
    "- Jako argument ```prec1``` i ```prec2``` przekazujemy precyzje obliczeń w jakiej chcemy aby Regula Falsi została przeprowadzona. Argument ```prec1``` określa precyzję jak zbliżona do 0 powinna być wartość badanej funkcji w punkcie wynikowym. Argument ```prec2``` określa w jakim momencie powinniśmy przerwać obliczenia względem odległości od kolejnych punktów $x_n$ oraz $x_{n-1}$, tak aby metoda Siecznych nie wykonywała zbędnych obliczeń od pewnego momentu w którym różnice dla kolejnych $x_n$ będą pomijalnie małe."
   ]
  },
  {
   "cell_type": "markdown",
   "metadata": {},
   "source": [
    "Przekazujemy do programu definicje funkcji dla których będziemy używać metody Siecznych oraz Regula Falsi"
   ]
  },
  {
   "cell_type": "code",
   "execution_count": 4,
   "metadata": {},
   "outputs": [
    {
     "data": {
      "text/plain": [
       "k (generic function with 1 method)"
      ]
     },
     "execution_count": 4,
     "metadata": {},
     "output_type": "execute_result"
    }
   ],
   "source": [
    "# Definicje pochodnych badanych funkcji\n",
    "f(x)=2.0*pi*cos(2.0*pi*x)\n",
    "g(x)=-2x*MathConstants.e^(-x^2)\n",
    "h(x)=(1-x^2)/((1+x^2)^2)\n",
    "k(x)=2x+1"
   ]
  },
  {
   "cell_type": "markdown",
   "metadata": {},
   "source": [
    "## Wyniki obliczeń dla wszystkich badanych funkcji: "
   ]
  },
  {
   "cell_type": "code",
   "execution_count": 5,
   "metadata": {},
   "outputs": [
    {
     "name": "stdout",
     "output_type": "stream",
     "text": [
      "\n",
      "Pierwsza metoda Siecznych dla pochodnej funkcji numer 1:\n",
      "0;0.0;6.283185307179586\n",
      "1;0.5;-6.283185307179586\n",
      "2;0.25;3.8473413874435795e-16\n",
      "3;0.25;3.8473413874435795e-16\n"
     ]
    }
   ],
   "source": [
    "println(\"\\nPierwsza metoda Siecznych dla pochodnej funkcji numer 1:\")\n",
    "metodasiecznych(f,0.0,0.5,100,1e-25,1e-25)"
   ]
  },
  {
   "cell_type": "code",
   "execution_count": 6,
   "metadata": {},
   "outputs": [
    {
     "name": "stdout",
     "output_type": "stream",
     "text": [
      "\n",
      "Druga metoda Siecznych dla pochodnej funkcji numer 1:\n",
      "0;0.5;-6.283185307179586\n",
      "1;1.0;6.283185307179586\n",
      "2;0.75;-1.1542024162330739e-15\n",
      "3;0.75;-1.1542024162330739e-15\n"
     ]
    }
   ],
   "source": [
    "println(\"\\nDruga metoda Siecznych dla pochodnej funkcji numer 1:\")\n",
    "metodasiecznych(f,0.5,1.0,100,1e-25,1e-25)"
   ]
  },
  {
   "cell_type": "code",
   "execution_count": 7,
   "metadata": {},
   "outputs": [
    {
     "name": "stdout",
     "output_type": "stream",
     "text": [
      "\n",
      "Metoda Siecznych dla pochodnej funkcji numer 2:\n",
      "0;-1.0;0.7357588823428847\n",
      "1;1.0;-0.7357588823428847\n",
      "2;0.0;-0.0\n"
     ]
    }
   ],
   "source": [
    "println(\"\\nMetoda Siecznych dla pochodnej funkcji numer 2:\")\n",
    "metodasiecznych(g,-1.0,1.0,100,1e-25,1e-25)"
   ]
  },
  {
   "cell_type": "code",
   "execution_count": 8,
   "metadata": {},
   "outputs": [
    {
     "name": "stdout",
     "output_type": "stream",
     "text": [
      "\n",
      "Pierwsza metoda Siecznych dla pochodnej funkcji numer 3:\n",
      "0;0.0;1.0\n",
      "1;10.0;-0.009704930889128516\n",
      "2;9.903883495145632;-0.009888447583770823\n",
      "3;15.082938305609535;-0.004338155990904781\n",
      "4;19.191659032684854;-0.0026930175480695097\n",
      "5;25.91744984154913;-0.0014820959033723133\n",
      "6;34.14941683000738;-0.0008552958315470829\n",
      "7;45.38229213928894;-0.00048483570095253975\n",
      "8;60.08319656737863;-0.00027677894268866035\n",
      "9;79.63988301258942;-0.00015759170631239293\n",
      "10;105.49811817619036;-8.982423222685938e-5\n",
      "11;139.77261566418014;-5.117868531243741e-5\n",
      "12;185.16267638874814;-2.9164537909518127e-5\n",
      "13;245.29583178596545;-1.6618736801061697e-5\n",
      "14;324.95093502924095;-9.470045799707508e-6\n",
      "15;430.47199836116476;-5.3963878547705636e-6\n",
      "16;570.2560922354685;-3.0750779285089325e-6\n",
      "17;755.4304099629345;-1.7523013279438736e-6\n",
      "18;1000.7335115723286;-9.985315981868367e-7\n",
      "19;1325.6907079420594;-5.690033642729015e-7\n",
      "20;1756.1670384365889;-3.242410031260495e-7\n",
      "21;2326.4266019069023;-1.847655711429453e-7\n",
      "22;3081.8595297438474;-1.0528686227784216e-7\n",
      "23;4082.5949942354964;-5.999669458906063e-8\n",
      "24;5408.287149763095;-3.4188533405734694e-8\n",
      "25;7164.455294522599;-1.948200365477239e-8\n",
      "26;9490.882724648374;-1.1101630578495009e-8\n",
      "27;12572.742883123141;-6.326156381674714e-9\n",
      "28;16655.33835017553;-3.604898787763676e-9\n",
      "29;22063.625857774037;-2.054216572377761e-9\n",
      "30;29228.08142195138;-1.1705753687769913e-9\n",
      "31;38718.96435039426;-6.670410085833539e-10\n",
      "32;51291.70738723591;-3.801068423754346e-10\n",
      "33;67947.045853512;-2.1660019364895727e-10\n",
      "34;90010.6717988962;-1.234275173724733e-10\n",
      "35;119238.75328699863;-7.033397241452515e-11\n",
      "36;157957.7176873206;-4.007913130703716e-11\n",
      "37;209249.42511225003;-2.2838703846722247e-11\n",
      "38;277196.47099421395;-1.3014413645960218e-11\n",
      "39;367207.14281458885;-7.416137259158865e-12\n",
      "40;486445.8961178008;-4.226013813832753e-12\n",
      "41;644403.6138173607;-2.4081529414337035e-12\n",
      "42;853653.0389388498;-1.3722625729135727e-12\n",
      "43;1.130849509940038e6;-7.819705038745396e-13\n",
      "44;1.498056652759892e6;-4.455982994796746e-13\n",
      "45;1.9845025488816667e6;-2.5391986464370723e-13\n",
      "46;2.6289061627020277e6;-1.4469376955874718e-13\n",
      "47;3.482559201643142e6;-8.24523397509588e-14\n",
      "48;4.61340871158489e6;-4.698466527715574e-14\n",
      "49;6.111465364346073e6;-2.6773755333980235e-14\n",
      "50;8.095967913228714e6;-1.5256764530625876e-14\n",
      "51;1.0724874075931476e7;-8.693919139820596e-15\n",
      "52;1.4207433277575176e7;-4.954145412548901e-15\n",
      "53;1.8820841989160486e7;-2.823071663533533e-15\n",
      "54;2.4932307353506874e7;-1.6086999782563053e-15\n",
      "55;3.3028275266735822e7;-9.16702063738135e-16\n",
      "56;4.375314934266748e7;-5.223737707590546e-16\n",
      "57;5.796058262024279e7;-2.976696215390901e-16\n",
      "58;7.678142460940339e7;-1.696241437591154e-16\n",
      "59;1.0171373196291032e8;-9.665867143998993e-17\n",
      "60;1.347420072296462e8;-5.5080005460849107e-17\n",
      "61;1.784951565723138e8;-3.13868063399846e-17\n",
      "62;2.364557391925566e8;-1.788546685827637e-17\n",
      "63;3.1323716380196e8;-1.0191859639156245e-17\n",
      "64;4.1495089576487035e8;-5.8077322625881096e-18\n",
      "65;5.496929029945166e8;-3.3094798425519893e-18\n",
      "66;7.281880595668303e8;-1.885874956532018e-18\n",
      "67;9.64643798759387e8;-1.0746475340161456e-18\n",
      "68;1.2778809625613468e9;-6.123774635041011e-19\n",
      "69;1.6928318583262172e9;-3.4895735200382667e-19\n",
      "70;2.242524761320734e9;-1.9884995901177063e-19\n",
      "71;2.970712820887564e9;-1.1331271850821838e-19\n",
      "72;3.9353566196469517e9;-6.457015248850363e-20\n",
      "73;5.213237582208298e9;-3.6794674483837596e-20\n",
      "74;6.906069440534515e9;-2.096708801504866e-20\n",
      "75;9.14859420185525e9;-1.1947891535877123e-20\n",
      "76;1.2119307022742813e10;-6.808389989617398e-21\n",
      "77;1.6054663642389765e10;-3.87969493291181e-21\n",
      "78;2.126790122459806e10;-2.2108064895541392e-21\n",
      "79;2.8173970665132576e10;-1.2598066133479154e-21\n",
      "80;3.732256486698782e10;-7.17888567151448e-22\n",
      "81;4.944187188973064e10;-4.090818300097567e-22\n",
      "82;6.549653553212041e10;-2.3311130905477585e-22\n",
      "83;8.676443675671846e10;-1.3283621618671062e-22\n",
      "84;1.1493840742185104e11;-7.569542808691548e-23\n",
      "85;1.5226097228883887e11;-4.3134304768270136e-23\n",
      "86;2.0170284417856952e11;-2.4579664781149765e-23\n",
      "87;2.671993797106899e11;-1.4006483331524986e-23\n",
      "88;3.539638164674084e11;-7.98145853749558e-24\n",
      "89;4.6890222388925946e11;-4.548156655595378e-24\n",
      "90;6.211631961780984e11;-2.5917229121292027e-24\n",
      "91;8.22866040356668e11;-1.4768681384340265e-24\n",
      "92;1.0900654200673578e12;-8.415789697709991e-25\n",
      "93;1.444029236534766e12;-4.79565605032148e-25\n",
      "94;1.9129314604240256e12;-2.7327580392417673e-25\n",
      "95;2.534094656602124e12;-1.557235636308798e-25\n",
      "96;3.356960696958792e12;-8.873756081467439e-26\n"
     ]
    }
   ],
   "source": [
    "println(\"\\nPierwsza metoda Siecznych dla pochodnej funkcji numer 3:\")\n",
    "metodasiecznych(h,0.0,10.0,100,1e-25,1e-25)"
   ]
  },
  {
   "cell_type": "code",
   "execution_count": 9,
   "metadata": {},
   "outputs": [
    {
     "name": "stdout",
     "output_type": "stream",
     "text": [
      "\n",
      "Druga metoda Siecznych dla pochodnej funkcji numer 3:\n",
      "0;0.0;1.0\n",
      "1;1.55;-0.12114530904740593\n",
      "2;1.3825148154229674;-0.10752163591492728\n",
      "3;0.06067738860562888;0.989022192082631\n",
      "4;1.2529020093352068;-0.08627963284009665\n",
      "5;0.726447640543727;0.20234982718415628\n",
      "6;1.0955296827453398;-0.04135363026915134\n",
      "7;0.9506711011674116;0.026549355596775185\n",
      "8;1.007309287905629;-0.0036147699296654964\n",
      "9;1.0005219532582967;-0.0002607723738447163\n",
      "10;0.9999942398838515;2.880082958558098e-6\n",
      "11;1.0000000045117072;-2.255853594663064e-9\n",
      "12;1.000000000000039;-1.9539925233401228e-14\n",
      "13;1.0;0.0\n"
     ]
    }
   ],
   "source": [
    "println(\"\\nDruga metoda Siecznych dla pochodnej funkcji numer 3:\")\n",
    "metodasiecznych(h,0.0,1.55,100,1e-25,1e-25)"
   ]
  },
  {
   "cell_type": "code",
   "execution_count": 10,
   "metadata": {
    "scrolled": true
   },
   "outputs": [
    {
     "name": "stdout",
     "output_type": "stream",
     "text": [
      "\n",
      "Metoda Siecznych dla pochodnej funkcji numer 4:\n",
      "0;-2.0;-3.0\n",
      "1;2.0;5.0\n",
      "2;-0.5;0.0\n"
     ]
    }
   ],
   "source": [
    "println(\"\\nMetoda Siecznych dla pochodnej funkcji numer 4:\")\n",
    "metodasiecznych(k,-2.0,2.0,100,1e-25,1e-25)"
   ]
  },
  {
   "cell_type": "code",
   "execution_count": 11,
   "metadata": {},
   "outputs": [
    {
     "name": "stdout",
     "output_type": "stream",
     "text": [
      "\n",
      "Regula Falsi dla pochodnej funkcji numer 3:\n",
      "0;0.0;1.0\n",
      "1;10;-0.009704930889128516\n",
      "2;9.90388349514563;-0.009888447583770827\n",
      "3;9.806908395517711;-0.010078869174949101\n",
      "4;9.709052129293797;-0.010276585937774802\n",
      "5;9.610291146440368;-0.010482017694695558\n",
      "6;9.510600859939297;-0.010695616629414751\n",
      "7;9.409955582528749;-0.01091787042473134\n",
      "8;9.30832845854749;-0.011149305768139797\n",
      "9;9.20569139042847;-0.011390492275864047\n",
      "10;9.102014959339316;-0.011642046894041243\n",
      "11;8.99726833941359;-0.01190463884525932\n",
      "12;8.891419204956778;-0.01217899519987793\n",
      "13;8.784433629944044;-0.012465907164881003\n",
      "14;8.67627597905229;-0.01276623719885695\n",
      "15;8.566908789386016;-0.013080927080616443\n",
      "16;8.45629264196413;-0.013411007081599454\n",
      "17;8.344386021932396;-0.01375760641941325\n",
      "18;8.231145166352661;-0.014121965202600013\n",
      "19;8.116523898294869;-0.014505448116326335\n",
      "20;8.000473445820473;-0.014909560146705546\n",
      "21;7.882942244296134;-0.01533596469990052\n",
      "22;7.763875720314969;-0.015786504543518144\n",
      "23;7.643216055330405;-0.016263226085267094\n",
      "24;7.520901926927659;-0.01676840761142273\n",
      "25;7.396868225474915;-0.017304592240430173\n",
      "26;7.271045743718353;-0.017874626511480803\n",
      "27;7.143360836725151;-0.018481705732421885\n",
      "28;7.013735049455933;-0.019129427466527456\n",
      "29;6.882084709192929;-0.01982185485707665\n",
      "30;6.748320480107207;-0.020563591889779395\n",
      "31;6.61234687748495;-0.021359873198144547\n",
      "32;6.474061739649086;-0.022216671654301388\n",
      "33;6.333355656557438;-0.023140827793508158\n",
      "34;6.1901113556536185;-0.024140206139579075\n",
      "35;6.04420304812247;-0.0252238847858936\n",
      "36;5.895495742751578;-0.0264023862079333\n",
      "37;5.7438445408653225;-0.027687959311361733\n",
      "38;5.589093935394734;-0.02909492522602118\n",
      "39;5.431077151767313;-0.030640102388773117\n",
      "40;5.269615590524177;-0.03234332999202127\n",
      "41;5.104518465349027;-0.03422811270885842\n",
      "42;4.935582781615975;-0.03632241315007923\n",
      "43;4.7625938790742035;-0.03865962035429675\n",
      "44;4.585326882592814;-0.04127971967026485\n",
      "45;4.4035495899649515;-0.04423067516212116\n",
      "46;4.217027611529686;-0.0475699967969052\n",
      "47;4.025533018723188;-0.051366374071970984\n",
      "48;3.8288584436386217;-0.05570106100816493\n",
      "49;3.6268396282392374;-0.06066828650059766\n",
      "50;3.419391033369219;-0.06637312796609465\n",
      "51;3.20656151556544;-0.07292362739466884\n",
      "52;2.9886204699879575;-0.08041075009048189\n",
      "53;2.7661891273644468;-0.08886406167699241\n",
      "54;2.5404356932344294;-0.0981619637219423\n",
      "55;2.3133524718196075;-0.10786553468899505\n",
      "56;2.0881166525945067;-0.11695050914670657\n",
      "57;1.8694800132100047;-0.1234843756995133\n",
      "58;1.664001790898083;-0.12453002705653925\n",
      "59;1.4797308661055613;-0.11693077521420127\n",
      "60;1.3248187792316704;-0.09948128312878768\n",
      "61;1.204948915057145;-0.0751688627275109\n",
      "62;1.1207066692764944;-0.05029676516357073\n",
      "63;1.0670381043227894;-0.030298640264670322\n",
      "64;1.0356590435261384;-0.016898496922516503\n",
      "65;1.0184487897861956;-0.008972265320458361\n",
      "66;1.009392254664926;-0.004630380735864361\n",
      "67;1.0047399262657912;-0.002353166201976607\n",
      "68;1.0023811568060967;-0.0011863327226880492\n",
      "69;1.001193408304086;-0.0005956368343469697\n",
      "70;1.0005974156269863;-0.00029844024103007364\n",
      "71;1.000298886186291;-0.0001493761067813911\n",
      "72;1.0001494877496113;-7.472711653545906e-5\n",
      "73;1.0000747550468467;-3.737333239444379e-5\n",
      "74;1.0000373803174254;-1.8689110772697998e-5\n",
      "75;1.0000186908573372;-9.345166660737866e-6\n",
      "76;1.0000093456033403;-4.672736165353666e-6\n",
      "77;1.00000467284534;-2.3364062934248163e-6\n",
      "78;1.0000023364335877;-1.1682126996826002e-6\n",
      "79;1.0000011682195233;-5.841087381053712e-7\n",
      "80;1.000000584110444;-2.920549661422103e-7\n",
      "81;1.0000002920553925;-1.4602763228831154e-7\n",
      "82;1.000000146027739;-7.30138535109494e-8\n",
      "83;1.0000000730138803;-3.650693613881172e-8\n",
      "84;1.0000000365069428;-1.8253470401362994e-8\n",
      "85;1.000000018253472;-9.126735811426435e-9\n",
      "86;1.0000000091267363;-4.563368044521676e-9\n",
      "87;1.0000000045633681;-2.2816840430851663e-9\n",
      "88;1.0000000022816842;-1.140842082259816e-9\n",
      "89;1.000000001140842;-5.704210424314287e-10\n",
      "90;1.000000000570421;-2.852105215410945e-10\n",
      "91;1.0000000002852105;-1.426052608518923e-10\n",
      "92;1.0000000001426053;-7.13026304462824e-11\n",
      "93;1.0000000000713027;-3.5651370739376486e-11\n",
      "94;1.0000000000356515;-1.7825740882110486e-11\n",
      "95;1.0000000000178257;-8.912870441373e-12\n",
      "96;1.0000000000089129;-4.456435220765939e-12\n",
      "97;1.0000000000044564;-2.228217610402829e-12\n",
      "98;1.0000000000022282;-1.1141088052063797e-12\n",
      "99;1.0000000000011142;-5.571099137556621e-13\n",
      "100;1.000000000000557;-2.785549568781414e-13\n",
      "101;1.0000000000002787;-1.393329895903795e-13\n",
      "102;1.0000000000001394;-6.972200594644038e-14\n",
      "103;1.0000000000000697;-3.4861002973225056e-14\n",
      "104;1.0000000000000349;-1.7430501486613743e-14\n",
      "105;1.0000000000000175;-8.770761894538429e-15\n",
      "106;1.0000000000000089;-4.440892098500547e-15\n",
      "107;1.0000000000000044;-2.2204460492502934e-15\n",
      "108;1.0000000000000022;-1.1102230246251516e-15\n",
      "109;1.000000000000001;-5.551115123125771e-16\n",
      "110;1.0000000000000007;-3.330669073875465e-16\n",
      "111;1.0000000000000004;-2.220446049250311e-16\n",
      "112;1.0000000000000002;-1.110223024625156e-16\n",
      "113;1.0000000000000002;-1.110223024625156e-16\n"
     ]
    }
   ],
   "source": [
    "println(\"\\nRegula Falsi dla pochodnej funkcji numer 3:\")\n",
    "regulafalsi(h,0.0,10,1000,1e-25,1e-25)"
   ]
  }
 ],
 "metadata": {
  "kernelspec": {
   "display_name": "Julia 1.4.1",
   "language": "julia",
   "name": "julia-1.4"
  },
  "language_info": {
   "file_extension": ".jl",
   "mimetype": "application/julia",
   "name": "julia",
   "version": "1.4.1"
  }
 },
 "nbformat": 4,
 "nbformat_minor": 4
}
