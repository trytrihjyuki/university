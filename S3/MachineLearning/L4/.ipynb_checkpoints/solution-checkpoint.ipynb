{
 "cells": [
  {
   "cell_type": "markdown",
   "metadata": {},
   "source": [
    "### Init"
   ]
  },
  {
   "cell_type": "code",
   "execution_count": 2,
   "metadata": {},
   "outputs": [],
   "source": [
    "import itertools\n",
    "import io\n",
    "import os\n",
    "\n",
    "from xgboost import XGBClassifier\n",
    "from xgboost import XGBRegressor\n",
    "\n",
    "import string\n",
    "import matplotlib.pyplot as plt\n",
    "import numpy as np\n",
    "import pandas as pd"
   ]
  },
  {
   "cell_type": "code",
   "execution_count": 3,
   "metadata": {},
   "outputs": [],
   "source": [
    "medical_df = pd.read_csv('data.csv')"
   ]
  },
  {
   "cell_type": "code",
   "execution_count": 59,
   "metadata": {
    "scrolled": true
   },
   "outputs": [
    {
     "name": "stdout",
     "output_type": "stream",
     "text": [
      "32\n"
     ]
    },
    {
     "name": "stderr",
     "output_type": "stream",
     "text": [
      "<ipython-input-59-639aadbdbf4f>:10: SettingWithCopyWarning: \n",
      "A value is trying to be set on a copy of a slice from a DataFrame.\n",
      "Try using .loc[row_indexer,col_indexer] = value instead\n",
      "\n",
      "See the caveats in the documentation: https://pandas.pydata.org/pandas-docs/stable/user_guide/indexing.html#returning-a-view-versus-a-copy\n",
      "  X[c] = pd.factorize(X[c])[0]\n"
     ]
    }
   ],
   "source": [
    "y = medical_df['target']\n",
    "#medical_df = pd.get_dummies(medical_df)\n",
    "X = medical_df.iloc[:, medical_df.columns != 'target']\n",
    "# y = y>0\n",
    "y = y.astype(int)\n",
    "print(sum(y))\n",
    "#print(medical_df.columns.values[1:])\n",
    "categorical_columns = [str(n) for n in np.arange(34,73)]\n",
    "for c in categorical_columns:\n",
    "    X[c] = pd.factorize(X[c])[0]\n",
    "# numerical_columns = [str(i) for i in range(1,94) if str(i) not in categorical_columns]"
   ]
  },
  {
   "cell_type": "code",
   "execution_count": 49,
   "metadata": {},
   "outputs": [],
   "source": [
    "from sklearn.datasets import load_digits\n",
    "from sklearn.feature_selection import SelectKBest, f_classif, chi2, mutual_info_classif"
   ]
  },
  {
   "cell_type": "code",
   "execution_count": 50,
   "metadata": {},
   "outputs": [],
   "source": [
    "X_new = SelectKBest(chi2, k=15).fit(X, y)"
   ]
  },
  {
   "cell_type": "code",
   "execution_count": 51,
   "metadata": {
    "scrolled": true
   },
   "outputs": [],
   "source": [
    "mask = SelectKBest(chi2, k=15).fit(X, y).get_support() #list of booleans\n",
    "new_features = [] # The list of your K best features\n",
    "\n",
    "for bool, feature in zip(mask, X.columns):\n",
    "    if bool:\n",
    "        new_features.append(feature)"
   ]
  },
  {
   "cell_type": "code",
   "execution_count": 52,
   "metadata": {},
   "outputs": [
    {
     "name": "stdout",
     "output_type": "stream",
     "text": [
      "1,34\n",
      "1,38\n",
      "1,47\n",
      "1,48\n",
      "1,50\n",
      "1,53\n",
      "1,54\n",
      "1,55\n",
      "1,59\n",
      "1,63\n",
      "1,64\n",
      "1,71\n",
      "1,79\n",
      "1,81\n",
      "1,86\n"
     ]
    }
   ],
   "source": [
    "for f in new_features:\n",
    "    print('1,{}'.format(int(f)))"
   ]
  },
  {
   "cell_type": "code",
   "execution_count": 9,
   "metadata": {},
   "outputs": [
    {
     "name": "stderr",
     "output_type": "stream",
     "text": [
      "/home/maurykdell/anaconda3/lib/python3.8/site-packages/xgboost/sklearn.py:892: UserWarning: The use of label encoder in XGBClassifier is deprecated and will be removed in a future release. To remove this warning, do the following: 1) Pass option use_label_encoder=False when constructing XGBClassifier object; and 2) Encode your labels (y) as integers starting with 0, i.e. 0, 1, 2, ..., [num_class - 1].\n",
      "  warnings.warn(label_encoder_deprecation_msg, UserWarning)\n"
     ]
    },
    {
     "name": "stdout",
     "output_type": "stream",
     "text": [
      "[10:40:53] WARNING: ../src/learner.cc:1061: Starting in XGBoost 1.3.0, the default evaluation metric used with the objective 'binary:logistic' was changed from 'error' to 'logloss'. Explicitly set eval_metric if you'd like to restore the old behavior.\n",
      "1,22\n",
      "1,45\n",
      "1,40\n",
      "1,38\n",
      "1,35\n",
      "1,53\n",
      "1,17\n",
      "1,20\n",
      "1,48\n",
      "1,4\n",
      "1,11\n",
      "1,36\n",
      "1,75\n",
      "1,15\n",
      "1,60\n"
     ]
    }
   ],
   "source": [
    "from sklearn.datasets import make_classification\n",
    "from xgboost import XGBClassifier\n",
    "from matplotlib import pyplot\n",
    "model = XGBClassifier()\n",
    "model.fit(X, y)\n",
    "importance = model.feature_importances_\n",
    "sorted_idx = importance.argsort()\n",
    "for i in X.columns[sorted_idx[::-1][:15]]:\n",
    "    print('1,{}'.format(i))\n",
    "#3.5"
   ]
  },
  {
   "cell_type": "code",
   "execution_count": 10,
   "metadata": {
    "scrolled": true
   },
   "outputs": [
    {
     "name": "stdout",
     "output_type": "stream",
     "text": [
      "1,35\n",
      "1,41\n",
      "1,48\n",
      "1,46\n",
      "1,44\n",
      "1,38\n",
      "1,45\n",
      "1,89\n",
      "1,79\n",
      "1,19\n",
      "1,58\n",
      "1,78\n",
      "1,25\n",
      "1,15\n",
      "1,4\n"
     ]
    }
   ],
   "source": [
    "from sklearn.datasets import make_classification\n",
    "from sklearn.neighbors import KNeighborsClassifier\n",
    "from sklearn.inspection import permutation_importance\n",
    "\n",
    "model = KNeighborsClassifier()\n",
    "model.fit(X, y)\n",
    "results = permutation_importance(model, X, y, scoring='accuracy')\n",
    "importance = results.importances_mean\n",
    "sorted_idx = importance.argsort()\n",
    "for i in X.columns[sorted_idx[::-1][:15]]:\n",
    "    print('1,{}'.format(i))\n",
    "# 1.7"
   ]
  },
  {
   "cell_type": "code",
   "execution_count": 11,
   "metadata": {},
   "outputs": [
    {
     "name": "stdout",
     "output_type": "stream",
     "text": [
      "1,22\n",
      "1,15\n",
      "1,23\n",
      "1,31\n",
      "1,17\n",
      "1,8\n",
      "1,25\n",
      "1,11\n",
      "1,12\n",
      "1,2\n",
      "1,20\n",
      "1,33\n",
      "1,24\n",
      "1,28\n",
      "1,4\n"
     ]
    }
   ],
   "source": [
    "from sklearn.datasets import make_classification\n",
    "from sklearn.ensemble import RandomForestClassifier\n",
    "from matplotlib import pyplot\n",
    "\n",
    "model = RandomForestClassifier()\n",
    "model.fit(X, y)\n",
    "importance = model.feature_importances_\n",
    "sorted_idx = importance.argsort()\n",
    "for i in X.columns[sorted_idx[::-1][:15]]:\n",
    "    print('1,{}'.format(i))\n",
    "#2.01"
   ]
  },
  {
   "cell_type": "code",
   "execution_count": 15,
   "metadata": {},
   "outputs": [
    {
     "name": "stdout",
     "output_type": "stream",
     "text": [
      "1,93\n",
      "1,34\n",
      "1,25\n",
      "1,26\n",
      "1,27\n",
      "1,28\n",
      "1,29\n",
      "1,30\n",
      "1,31\n",
      "1,32\n",
      "1,33\n",
      "1,35\n",
      "1,46\n",
      "1,36\n",
      "1,37\n"
     ]
    }
   ],
   "source": [
    "from sklearn import linear_model\n",
    "model = linear_model.Lasso(alpha=5.7)\n",
    "model.fit(X, y)\n",
    "importance = model.coef_\n",
    "sorted_idx = importance.argsort()\n",
    "for i in X.columns[sorted_idx[::-1][:15]]:\n",
    "    print('1,{}'.format(i))\n"
   ]
  },
  {
   "cell_type": "code",
   "execution_count": null,
   "metadata": {},
   "outputs": [],
   "source": []
  }
 ],
 "metadata": {
  "kernelspec": {
   "display_name": "Python 3",
   "language": "python",
   "name": "python3"
  },
  "language_info": {
   "codemirror_mode": {
    "name": "ipython",
    "version": 3
   },
   "file_extension": ".py",
   "mimetype": "text/x-python",
   "name": "python",
   "nbconvert_exporter": "python",
   "pygments_lexer": "ipython3",
   "version": "3.8.5"
  }
 },
 "nbformat": 4,
 "nbformat_minor": 4
}
