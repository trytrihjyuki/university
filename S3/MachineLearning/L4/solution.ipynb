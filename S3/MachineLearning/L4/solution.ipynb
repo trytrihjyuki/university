{
 "cells": [
  {
   "cell_type": "markdown",
   "metadata": {},
   "source": [
    "### Init"
   ]
  },
  {
   "cell_type": "code",
   "execution_count": 1,
   "metadata": {},
   "outputs": [],
   "source": [
    "import itertools\n",
    "import io\n",
    "import os\n",
    "\n",
    "from xgboost import XGBClassifier\n",
    "\n",
    "import string\n",
    "import matplotlib.pyplot as plt\n",
    "import numpy as np\n",
    "import pandas as pd"
   ]
  },
  {
   "cell_type": "code",
   "execution_count": 2,
   "metadata": {},
   "outputs": [],
   "source": [
    "medical_df = pd.read_csv('data.csv')"
   ]
  },
  {
   "cell_type": "code",
   "execution_count": 3,
   "metadata": {
    "scrolled": true
   },
   "outputs": [
    {
     "name": "stderr",
     "output_type": "stream",
     "text": [
      "<ipython-input-3-3e8a2cc03a92>:9: SettingWithCopyWarning: \n",
      "A value is trying to be set on a copy of a slice from a DataFrame.\n",
      "Try using .loc[row_indexer,col_indexer] = value instead\n",
      "\n",
      "See the caveats in the documentation: https://pandas.pydata.org/pandas-docs/stable/user_guide/indexing.html#returning-a-view-versus-a-copy\n",
      "  X[c] = pd.factorize(X[c])[0]\n"
     ]
    }
   ],
   "source": [
    "y = medical_df['target']\n",
    "#medical_df = pd.get_dummies(medical_df)\n",
    "X = medical_df.iloc[:, medical_df.columns != 'target']\n",
    "y = y > 0\n",
    "y = y.astype(int)\n",
    "#print(medical_df.columns.values[1:])\n",
    "categorical_columns = [str(n) for n in np.arange(34,73)]\n",
    "for c in categorical_columns:\n",
    "    X[c] = pd.factorize(X[c])[0]\n",
    "# numerical_columns = [str(i) for i in range(1,94) if str(i) not in categorical_columns]\n",
    "y = y > 0\n",
    "y = y.astype(int)"
   ]
  },
  {
   "cell_type": "code",
   "execution_count": 11,
   "metadata": {},
   "outputs": [],
   "source": [
    "from sklearn.datasets import load_digits\n",
    "from sklearn.feature_selection import SelectKBest, f_classif, chi2"
   ]
  },
  {
   "cell_type": "code",
   "execution_count": 12,
   "metadata": {},
   "outputs": [],
   "source": [
    "X_new = SelectKBest(chi2, k=15).fit(X, y)"
   ]
  },
  {
   "cell_type": "code",
   "execution_count": 15,
   "metadata": {
    "scrolled": true
   },
   "outputs": [
    {
     "name": "stderr",
     "output_type": "stream",
     "text": [
      "/home/maurykdell/.local/lib/python3.8/site-packages/sklearn/feature_selection/_univariate_selection.py:114: UserWarning: Features [82] are constant.\n",
      "  warnings.warn(\"Features %s are constant.\" % constant_features_idx,\n",
      "/home/maurykdell/.local/lib/python3.8/site-packages/sklearn/feature_selection/_univariate_selection.py:116: RuntimeWarning: invalid value encountered in true_divide\n",
      "  f = msb / msw\n"
     ]
    }
   ],
   "source": [
    "mask = SelectKBest(f_classif, k=15).fit(X, y).get_support() #list of booleans\n",
    "new_features = [] # The list of your K best features\n",
    "\n",
    "for bool, feature in zip(mask, X.columns):\n",
    "    if bool:\n",
    "        new_features.append(feature)"
   ]
  },
  {
   "cell_type": "code",
   "execution_count": 16,
   "metadata": {},
   "outputs": [
    {
     "name": "stdout",
     "output_type": "stream",
     "text": [
      "1,4\n",
      "1,11\n",
      "1,12\n",
      "1,15\n",
      "1,17\n",
      "1,22\n",
      "1,23\n",
      "1,26\n",
      "1,31\n",
      "1,34\n",
      "1,36\n",
      "1,37\n",
      "1,39\n",
      "1,60\n",
      "1,69\n"
     ]
    }
   ],
   "source": [
    "for f in new_features:\n",
    "    print('1,{}'.format(int(f)))"
   ]
  },
  {
   "cell_type": "code",
   "execution_count": 10,
   "metadata": {},
   "outputs": [
    {
     "name": "stderr",
     "output_type": "stream",
     "text": [
      "/home/maurykdell/anaconda3/lib/python3.8/site-packages/xgboost/sklearn.py:892: UserWarning: The use of label encoder in XGBClassifier is deprecated and will be removed in a future release. To remove this warning, do the following: 1) Pass option use_label_encoder=False when constructing XGBClassifier object; and 2) Encode your labels (y) as integers starting with 0, i.e. 0, 1, 2, ..., [num_class - 1].\n",
      "  warnings.warn(label_encoder_deprecation_msg, UserWarning)\n"
     ]
    },
    {
     "name": "stdout",
     "output_type": "stream",
     "text": [
      "[15:59:13] WARNING: ../src/learner.cc:1061: Starting in XGBoost 1.3.0, the default evaluation metric used with the objective 'binary:logistic' was changed from 'error' to 'logloss'. Explicitly set eval_metric if you'd like to restore the old behavior.\n",
      "1,22\n",
      "1,45\n",
      "1,40\n",
      "1,38\n",
      "1,35\n",
      "1,53\n",
      "1,17\n",
      "1,20\n",
      "1,48\n",
      "1,4\n",
      "1,11\n",
      "1,36\n",
      "1,75\n",
      "1,15\n",
      "1,60\n"
     ]
    }
   ],
   "source": [
    "from sklearn.datasets import make_classification\n",
    "from xgboost import XGBClassifier\n",
    "from matplotlib import pyplot\n",
    "model = XGBClassifier()\n",
    "model.fit(X, y)\n",
    "importance = model.feature_importances_\n",
    "sorted_idx = importance.argsort()\n",
    "for i in X.columns[sorted_idx[::-1][:15]]:\n",
    "    print('1,{}'.format(i))\n",
    "#3.5"
   ]
  },
  {
   "cell_type": "code",
   "execution_count": 8,
   "metadata": {
    "scrolled": true
   },
   "outputs": [
    {
     "name": "stdout",
     "output_type": "stream",
     "text": [
      "1,35\n",
      "1,41\n",
      "1,46\n",
      "1,44\n",
      "1,38\n",
      "1,79\n",
      "1,45\n",
      "1,4\n",
      "1,71\n",
      "1,91\n",
      "1,48\n",
      "1,62\n",
      "1,25\n",
      "1,5\n",
      "1,60\n"
     ]
    }
   ],
   "source": [
    "from sklearn.datasets import make_classification\n",
    "from sklearn.neighbors import KNeighborsClassifier\n",
    "from sklearn.inspection import permutation_importance\n",
    "\n",
    "model = KNeighborsClassifier()\n",
    "model.fit(X, y)\n",
    "results = permutation_importance(model, X, y, scoring='accuracy')\n",
    "importance = results.importances_mean\n",
    "sorted_idx = importance.argsort()\n",
    "for i in X.columns[sorted_idx[::-1][:15]]:\n",
    "    print('1,{}'.format(i))\n",
    "# 1.7"
   ]
  },
  {
   "cell_type": "code",
   "execution_count": 18,
   "metadata": {},
   "outputs": [
    {
     "name": "stdout",
     "output_type": "stream",
     "text": [
      "1,22\n",
      "1,11\n",
      "1,23\n",
      "1,31\n",
      "1,15\n",
      "1,17\n",
      "1,5\n",
      "1,12\n",
      "1,4\n",
      "1,25\n",
      "1,26\n",
      "1,20\n",
      "1,28\n",
      "1,9\n",
      "1,3\n"
     ]
    }
   ],
   "source": [
    "from sklearn.datasets import make_classification\n",
    "from sklearn.ensemble import RandomForestClassifier\n",
    "from matplotlib import pyplot\n",
    "\n",
    "model = RandomForestClassifier()\n",
    "model.fit(X, y)\n",
    "importance = model.feature_importances_\n",
    "sorted_idx = importance.argsort()\n",
    "for i in X.columns[sorted_idx[::-1][:15]]:\n",
    "    print('1,{}'.format(i))\n",
    "#2.01"
   ]
  },
  {
   "cell_type": "code",
   "execution_count": 22,
   "metadata": {},
   "outputs": [
    {
     "name": "stdout",
     "output_type": "stream",
     "text": [
      "1,93\n",
      "1,34\n",
      "1,25\n",
      "1,26\n",
      "1,27\n",
      "1,28\n",
      "1,29\n",
      "1,30\n",
      "1,31\n",
      "1,32\n",
      "1,33\n",
      "1,35\n",
      "1,46\n",
      "1,36\n",
      "1,37\n"
     ]
    }
   ],
   "source": [
    "from sklearn import linear_model\n",
    "model = linear_model.Lasso(alpha=0.3)\n",
    "model.fit(X, y)\n",
    "importance = model.coef_\n",
    "sorted_idx = importance.argsort()\n",
    "for i in X.columns[sorted_idx[::-1][:15]]:\n",
    "    print('1,{}'.format(i))\n"
   ]
  },
  {
   "cell_type": "code",
   "execution_count": null,
   "metadata": {},
   "outputs": [],
   "source": []
  }
 ],
 "metadata": {
  "kernelspec": {
   "display_name": "Python 3",
   "language": "python",
   "name": "python3"
  },
  "language_info": {
   "codemirror_mode": {
    "name": "ipython",
    "version": 3
   },
   "file_extension": ".py",
   "mimetype": "text/x-python",
   "name": "python",
   "nbconvert_exporter": "python",
   "pygments_lexer": "ipython3",
   "version": "3.8.5"
  }
 },
 "nbformat": 4,
 "nbformat_minor": 4
}
