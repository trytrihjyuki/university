{
 "cells": [
  {
   "cell_type": "markdown",
   "metadata": {},
   "source": [
    "Init"
   ]
  },
  {
   "cell_type": "code",
   "execution_count": 63,
   "metadata": {},
   "outputs": [],
   "source": [
    "import os\n",
    "import random\n",
    "import matplotlib.pyplot as plt\n",
    "import numpy as np\n",
    "import pandas as pd\n",
    "import seaborn as sns\n",
    "from tqdm import tqdm_notebook\n",
    "import sklearn.preprocessing\n",
    "\n",
    "from xgboost import XGBClassifier\n",
    "from sklearn.svm import SVC\n",
    "from sklearn.linear_model import LogisticRegression\n",
    "\n",
    "from sklearn.metrics import accuracy_score\n",
    "from sklearn.model_selection import train_test_split\n",
    "\n",
    "from sklearn.ensemble import RandomForestClassifier, AdaBoostClassifier\n",
    "from sklearn.naive_bayes import BernoulliNB, GaussianNB, MultinomialNB\n",
    "from sklearn.neighbors import KNeighborsClassifier\n",
    "from sklearn.neural_network import MLPClassifier\n",
    "from sklearn.linear_model import RidgeClassifier\n",
    "from sklearn.utils.class_weight import compute_class_weight, compute_sample_weight\n",
    "from catboost import CatBoostClassifier\n",
    "\n",
    "from sklearn.model_selection import StratifiedKFold"
   ]
  },
  {
   "cell_type": "markdown",
   "metadata": {},
   "source": [
    "### Pucydane"
   ]
  },
  {
   "cell_type": "code",
   "execution_count": 64,
   "metadata": {},
   "outputs": [],
   "source": [
    "df = pd.read_csv('data/DIAMOND_eun1_SOLOQ_cleared.csv')"
   ]
  },
  {
   "cell_type": "code",
   "execution_count": 65,
   "metadata": {},
   "outputs": [],
   "source": [
    "df.rename(columns={'1_result': '1_win'})\n",
    "df.iloc[:,1] = df.iloc[:,1] == \"Win\"\n",
    "min_max_scaler = sklearn.preprocessing.MinMaxScaler()\n",
    "df = pd.DataFrame(min_max_scaler.fit_transform(df), columns = df.columns)"
   ]
  },
  {
   "cell_type": "code",
   "execution_count": 66,
   "metadata": {},
   "outputs": [],
   "source": [
    "X = df.iloc[:,2:]\n",
    "y = df.iloc[:,1]\n",
    "X_train, X_test, y_train, y_test = train_test_split(X, y, test_size=0.2, random_state=420)"
   ]
  },
  {
   "cell_type": "code",
   "execution_count": 67,
   "metadata": {},
   "outputs": [],
   "source": [
    "model = LogisticRegression()"
   ]
  },
  {
   "cell_type": "code",
   "execution_count": 68,
   "metadata": {},
   "outputs": [
    {
     "data": {
      "text/plain": [
       "LogisticRegression()"
      ]
     },
     "execution_count": 68,
     "metadata": {},
     "output_type": "execute_result"
    }
   ],
   "source": [
    "model.fit(X_train, y_train)"
   ]
  },
  {
   "cell_type": "code",
   "execution_count": 69,
   "metadata": {},
   "outputs": [],
   "source": [
    "predictions = model.predict(X_test)"
   ]
  },
  {
   "cell_type": "code",
   "execution_count": 70,
   "metadata": {},
   "outputs": [
    {
     "data": {
      "text/plain": [
       "0.7124117053481333"
      ]
     },
     "execution_count": 70,
     "metadata": {},
     "output_type": "execute_result"
    }
   ],
   "source": [
    "accuracy_score(y_test, predictions)"
   ]
  },
  {
   "cell_type": "code",
   "execution_count": 71,
   "metadata": {},
   "outputs": [],
   "source": [
    "results = {\n",
    "    'XGBoost bez skalowania': 0.677598385469223,\n",
    "    'XGBoost ze skalowaniem': 0.6770938446014128,\n",
    "    'LogisticRegression bez skalowania': 0.6937436932391524,\n",
    "    'LogisticRegression z skalowania': 0.7124117053481333,\n",
    "    'SVC bez skalowania': 0.6927346115035318,\n",
    "    'SVC ze skalowaniem': 0.7048435923309788,\n",
    "}"
   ]
  },
  {
   "cell_type": "code",
   "execution_count": 72,
   "metadata": {},
   "outputs": [],
   "source": [
    "def get_acc(model):\n",
    "    model.fit(X_train, y_train)\n",
    "    predictions = model.predict(X_test)\n",
    "    print(accuracy_score(y_test, predictions))"
   ]
  },
  {
   "cell_type": "code",
   "execution_count": 73,
   "metadata": {},
   "outputs": [
    {
     "name": "stderr",
     "output_type": "stream",
     "text": [
      "/home/maurykdell/.local/lib/python3.8/site-packages/seaborn/_decorators.py:36: FutureWarning: Pass the following variable as a keyword arg: x. From version 0.12, the only valid positional argument will be `data`, and passing other arguments without an explicit keyword will result in an error or misinterpretation.\n",
      "  warnings.warn(\n"
     ]
    },
    {
     "data": {
      "image/png": "[encoded data removed]",
      "text/plain": [
       "<Figure size 432x288 with 1 Axes>"
      ]
     },
     "metadata": {
      "needs_background": "light"
     },
     "output_type": "display_data"
    }
   ],
   "source": [
    "sns.countplot(y_train)\n",
    "plt.show()"
   ]
  },
  {
   "cell_type": "markdown",
   "metadata": {},
   "source": [
    "Model stacking"
   ]
  },
  {
   "cell_type": "code",
   "execution_count": 74,
   "metadata": {},
   "outputs": [],
   "source": [
    "# Initializing CatBoost classifier, fitting and then predicting\n",
    "cat_model = CatBoostClassifier(iterations=500, learning_rate=0.3, depth=5, loss_function='MultiClass', classes_count=2, logging_level='Silent', l2_leaf_reg=2, thread_count=4)\n",
    "cat_model.fit(X_train, y_train)\n",
    "cat_preds = cat_model.predict(X_test)\n",
    "cat_preds = cat_preds.reshape((-1,)).astype(int)"
   ]
  },
  {
   "cell_type": "code",
   "execution_count": 75,
   "metadata": {},
   "outputs": [],
   "source": [
    "# Initializing Random Forest classifier, fitting and then predicting\n",
    "rfc_clf = RandomForestClassifier(n_estimators=70, max_depth=5, max_features=0.8, n_jobs=4, class_weight='balanced')\n",
    "rfc_clf.fit(X_train, y_train)\n",
    "rfc_preds = rfc_clf.predict(X_test).astype(int)"
   ]
  },
  {
   "cell_type": "code",
   "execution_count": 76,
   "metadata": {},
   "outputs": [],
   "source": [
    "# Initializing Adam Boost classifier, fitting and then predicting\n",
    "ada_clf = AdaBoostClassifier(n_estimators=70, learning_rate=0.3)\n",
    "ada_clf.fit(X_train, y_train)\n",
    "ada_preds = ada_clf.predict(X_test).astype(int)"
   ]
  },
  {
   "cell_type": "code",
   "execution_count": 77,
   "metadata": {},
   "outputs": [],
   "source": [
    "# Initializing Bernoulli naive-bayes classifier, fitting and then predicting\n",
    "bernoulli_clf = BernoulliNB()\n",
    "bernoulli_clf.fit(X_train, y_train)\n",
    "bernoulli_preds = bernoulli_clf.predict(X_test).astype(int)"
   ]
  },
  {
   "cell_type": "code",
   "execution_count": 78,
   "metadata": {},
   "outputs": [],
   "source": [
    "# Initializing Gaussian naive-bayes classifier, fitting and then predicting\n",
    "gaussian_clf = GaussianNB()\n",
    "gaussian_clf.fit(X_train, y_train)\n",
    "gaussian_preds = gaussian_clf.predict(X_test).astype(int)"
   ]
  },
  {
   "cell_type": "code",
   "execution_count": 79,
   "metadata": {},
   "outputs": [],
   "source": [
    "# Initializing KNN classifier, fitting and then predicting\n",
    "knn_clf = KNeighborsClassifier(n_neighbors=8, weights='uniform', n_jobs=4)\n",
    "knn_clf.fit(X_train, y_train)\n",
    "knn_preds = knn_clf.predict(X_test).astype(int)"
   ]
  },
  {
   "cell_type": "code",
   "execution_count": 80,
   "metadata": {},
   "outputs": [],
   "source": [
    "# Initializing Multilayer Perceptron, fitting and then predicting\n",
    "mlp_clf = MLPClassifier(hidden_layer_sizes=(50), batch_size=50, learning_rate='constant', learning_rate_init=0.0005, early_stopping=True)\n",
    "mlp_clf.fit(X_train, y_train)\n",
    "mlp_preds = mlp_clf.predict(X_test).astype(int)"
   ]
  },
  {
   "cell_type": "code",
   "execution_count": 81,
   "metadata": {},
   "outputs": [
    {
     "data": {
      "image/png": "[encoded data removed]",
      "text/plain": [
       "<Figure size 432x288 with 2 Axes>"
      ]
     },
     "metadata": {
      "needs_background": "light"
     },
     "output_type": "display_data"
    }
   ],
   "source": [
    "# Combining all predictions and creating a heatplot of their correlations\n",
    "all_preds = np.concatenate((cat_preds.reshape((-1, 1)), rfc_preds.reshape((-1, 1))), axis=1)\n",
    "all_preds = np.concatenate((all_preds, ada_preds.reshape((-1, 1))), axis=1)\n",
    "all_preds = np.concatenate((all_preds, bernoulli_preds.reshape((-1, 1))), axis=1)\n",
    "all_preds = np.concatenate((all_preds, gaussian_preds.reshape((-1, 1))), axis=1)\n",
    "all_preds = np.concatenate((all_preds, knn_preds.reshape((-1, 1))), axis=1)\n",
    "all_preds = np.concatenate((all_preds, mlp_preds.reshape((-1, 1))), axis=1)\n",
    "\n",
    "all_preds_df = pd.DataFrame(all_preds, columns=['cat_preds', 'rfc_preds', 'ada_preds', 'bernoulli_preds', 'gaussian_preds', 'knn_preds', 'mlp_preds'])\n",
    "sns.heatmap(all_preds_df.corr())\n",
    "plt.show()\n"
   ]
  },
  {
   "cell_type": "code",
   "execution_count": 82,
   "metadata": {},
   "outputs": [
    {
     "name": "stderr",
     "output_type": "stream",
     "text": [
      "/home/maurykdell/.local/lib/python3.8/site-packages/seaborn/axisgrid.py:645: UserWarning: Using the countplot function without specifying `order` is likely to produce an incorrect plot.\n",
      "  warnings.warn(warning)\n"
     ]
    },
    {
     "data": {
      "image/png": "[encoded data removed]",
      "text/plain": [
       "<Figure size 864x432 with 7 Axes>"
      ]
     },
     "metadata": {
      "needs_background": "light"
     },
     "output_type": "display_data"
    }
   ],
   "source": [
    "# Visualizing and comparing the freqencies of predicted classes of all models\n",
    "all_preds_flat = pd.melt(all_preds_df)\n",
    "g = sns.FacetGrid(all_preds_flat, col='variable', col_wrap=4, sharex=False, sharey=False)\n",
    "g = g.map(sns.countplot, 'value')\n",
    "plt.show()"
   ]
  },
  {
   "cell_type": "code",
   "execution_count": 90,
   "metadata": {},
   "outputs": [],
   "source": [
    "# Creating level1_train dataset\n",
    "level1_train = np.zeros((X_train.shape[0], 14))\n",
    "skf = StratifiedKFold(n_splits=5)\n",
    "\n",
    "for tr_idx, te_idx in skf.split(X_train, y_train):\n",
    "    \n",
    "    X_tr, y_tr = X_train.iloc[tr_idx], y_train.iloc[tr_idx]\n",
    "    X_te, y_te = X_train.iloc[te_idx], y_train.iloc[te_idx]\n",
    "    \n",
    "    cat_model.fit(X_tr, y_tr)\n",
    "    cat_preds = cat_model.predict_proba(X_te)\n",
    "    for i in range(2):\n",
    "        level1_train[te_idx, i*7] = cat_preds[:, i]\n",
    "    \n",
    "    rfc_clf.fit(X_tr, y_tr)\n",
    "    rfc_preds = rfc_clf.predict_proba(X_te)\n",
    "    for i in range(2):\n",
    "        level1_train[te_idx, i*7+1] = rfc_preds[:, i]\n",
    "    \n",
    "    ada_clf.fit(X_tr, y_tr)\n",
    "    ada_preds = ada_clf.predict_proba(X_te)\n",
    "    for i in range(2):\n",
    "        level1_train[te_idx, i*7+2] = ada_preds[:, i]\n",
    "    \n",
    "    bernoulli_clf.fit(X_tr, y_tr)\n",
    "    bernoulli_preds = bernoulli_clf.predict_proba(X_te)\n",
    "    for i in range(2):\n",
    "        level1_train[te_idx, i*7+3] = bernoulli_preds[:, i]\n",
    "    \n",
    "    gaussian_clf.fit(X_tr, y_tr)\n",
    "    gaussian_preds = gaussian_clf.predict_proba(X_te)\n",
    "    for i in range(2):\n",
    "        level1_train[te_idx, i*7+4] = gaussian_preds[:, i]\n",
    "    \n",
    "    knn_clf.fit(X_tr, y_tr)\n",
    "    knn_preds = knn_clf.predict_proba(X_te)\n",
    "    for i in range(2):\n",
    "        level1_train[te_idx, i*7+5] = knn_preds[:, i]\n",
    "\n",
    "    mlp_clf.fit(X_tr, y_tr)\n",
    "    mlp_preds = mlp_clf.predict_proba(X_te)\n",
    "    for i in range(2):\n",
    "        level1_train[te_idx, i*7+6] = mlp_preds[:, i]\n",
    "\n"
   ]
  },
  {
   "cell_type": "code",
   "execution_count": 91,
   "metadata": {},
   "outputs": [],
   "source": [
    "# Creating level1_test dataset\n",
    "level1_test = np.zeros((X_test.shape[0], 14))\n",
    "\n",
    "cat_model.fit(X_train, y_train)\n",
    "cat_preds = cat_model.predict_proba(X_test)\n",
    "for i in range(2):\n",
    "    level1_test[:, i*7] = cat_preds[:, i]\n",
    "\n",
    "rfc_clf.fit(X_train, y_train)\n",
    "rfc_preds = rfc_clf.predict_proba(X_test)\n",
    "for i in range(2):\n",
    "    level1_test[:, i*7+1] = rfc_preds[:, i]\n",
    "\n",
    "ada_clf.fit(X_train, y_train)\n",
    "ada_preds = ada_clf.predict_proba(X_test)\n",
    "for i in range(2):\n",
    "    level1_test[:, i*7+2] = ada_preds[:, i]\n",
    "\n",
    "bernoulli_clf.fit(X_train, y_train)\n",
    "bernoulli_preds = bernoulli_clf.predict_proba(X_test)\n",
    "for i in range(2):\n",
    "    level1_test[:, i*7+3] = bernoulli_preds[:, i]\n",
    "    \n",
    "gaussian_clf.fit(X_train, y_train)\n",
    "gaussian_preds = gaussian_clf.predict_proba(X_test)\n",
    "for i in range(2):\n",
    "    level1_test[:, i*7+4] = gaussian_preds[:, i]\n",
    "    \n",
    "knn_clf.fit(X_train, y_train)\n",
    "knn_preds = knn_clf.predict_proba(X_test)\n",
    "for i in range(2):\n",
    "    level1_test[:, i*7+5] = knn_preds[:, i]\n",
    "\n",
    "mlp_clf.fit(X_train, y_train)\n",
    "mlp_preds = mlp_clf.predict_proba(X_test)\n",
    "for i in range(2):\n",
    "    level1_test[:, i*7+6] = mlp_preds[:, i]"
   ]
  },
  {
   "cell_type": "code",
   "execution_count": 100,
   "metadata": {},
   "outputs": [
    {
     "name": "stdout",
     "output_type": "stream",
     "text": [
      "0.7033299697275479\n"
     ]
    }
   ],
   "source": [
    "# Training a meta classifier on level1_train dataset and making predictions on level1_test dataset\n",
    "meta_clf = LogisticRegression()\n",
    "meta_clf.fit(level1_train, y_train)\n",
    "meta_preds = meta_clf.predict(level1_test).astype(int)\n",
    "print(accuracy_score(y_test, meta_preds))"
   ]
  },
  {
   "cell_type": "code",
   "execution_count": null,
   "metadata": {},
   "outputs": [],
   "source": [
    "0.7048435923309788"
   ]
  },
  {
   "cell_type": "markdown",
   "metadata": {},
   "source": [
    "Czyjś pomysł xD"
   ]
  },
  {
   "cell_type": "code",
   "execution_count": 108,
   "metadata": {},
   "outputs": [
    {
     "name": "stdout",
     "output_type": "stream",
     "text": [
      "|   iter    |  target   | baggin... | featur... | lambda_l1 | lambda_l2 | max_depth | min_ch... | min_sp... | num_le... |\n",
      "-------------------------------------------------------------------------------------------------------------------------\n"
     ]
    },
    {
     "name": "stderr",
     "output_type": "stream",
     "text": [
      "/home/maurykdell/anaconda3/lib/python3.8/site-packages/lightgbm/engine.py:530: UserWarning: Found `num_iterations` in params. Will use it instead of argument\n",
      "  warnings.warn(\"Found `{}` in params. Will use it instead of argument\".format(alias))\n",
      "/home/maurykdell/anaconda3/lib/python3.8/site-packages/lightgbm/engine.py:535: UserWarning: Found `early_stopping_round` in params. Will use it instead of argument\n",
      "  warnings.warn(\"Found `{}` in params. Will use it instead of argument\".format(alias))\n"
     ]
    },
    {
     "name": "stdout",
     "output_type": "stream",
     "text": [
      "| \u001b[0m 1       \u001b[0m | \u001b[0m 0.7462  \u001b[0m | \u001b[0m 0.9098  \u001b[0m | \u001b[0m 0.6722  \u001b[0m | \u001b[0m 3.014   \u001b[0m | \u001b[0m 1.635   \u001b[0m | \u001b[0m 6.69    \u001b[0m | \u001b[0m 34.07   \u001b[0m | \u001b[0m 0.04432 \u001b[0m | \u001b[0m 42.73   \u001b[0m |\n"
     ]
    },
    {
     "name": "stderr",
     "output_type": "stream",
     "text": [
      "/home/maurykdell/anaconda3/lib/python3.8/site-packages/lightgbm/engine.py:530: UserWarning: Found `num_iterations` in params. Will use it instead of argument\n",
      "  warnings.warn(\"Found `{}` in params. Will use it instead of argument\".format(alias))\n",
      "/home/maurykdell/anaconda3/lib/python3.8/site-packages/lightgbm/engine.py:535: UserWarning: Found `early_stopping_round` in params. Will use it instead of argument\n",
      "  warnings.warn(\"Found `{}` in params. Will use it instead of argument\".format(alias))\n"
     ]
    },
    {
     "name": "stdout",
     "output_type": "stream",
     "text": [
      "| \u001b[95m 2       \u001b[0m | \u001b[95m 0.747   \u001b[0m | \u001b[95m 0.9927  \u001b[0m | \u001b[95m 0.4068  \u001b[0m | \u001b[95m 3.959   \u001b[0m | \u001b[95m 1.587   \u001b[0m | \u001b[95m 7.266   \u001b[0m | \u001b[95m 46.65   \u001b[0m | \u001b[95m 0.008033\u001b[0m | \u001b[95m 25.83   \u001b[0m |\n"
     ]
    },
    {
     "name": "stderr",
     "output_type": "stream",
     "text": [
      "/home/maurykdell/anaconda3/lib/python3.8/site-packages/lightgbm/engine.py:530: UserWarning: Found `num_iterations` in params. Will use it instead of argument\n",
      "  warnings.warn(\"Found `{}` in params. Will use it instead of argument\".format(alias))\n",
      "/home/maurykdell/anaconda3/lib/python3.8/site-packages/lightgbm/engine.py:535: UserWarning: Found `early_stopping_round` in params. Will use it instead of argument\n",
      "  warnings.warn(\"Found `{}` in params. Will use it instead of argument\".format(alias))\n"
     ]
    },
    {
     "name": "stdout",
     "output_type": "stream",
     "text": [
      "| \u001b[0m 3       \u001b[0m | \u001b[0m 0.7463  \u001b[0m | \u001b[0m 0.804   \u001b[0m | \u001b[0m 0.7661  \u001b[0m | \u001b[0m 3.891   \u001b[0m | \u001b[0m 2.61    \u001b[0m | \u001b[0m 8.905   \u001b[0m | \u001b[0m 40.96   \u001b[0m | \u001b[0m 0.04669 \u001b[0m | \u001b[0m 40.39   \u001b[0m |\n"
     ]
    },
    {
     "name": "stderr",
     "output_type": "stream",
     "text": [
      "/home/maurykdell/anaconda3/lib/python3.8/site-packages/lightgbm/engine.py:530: UserWarning: Found `num_iterations` in params. Will use it instead of argument\n",
      "  warnings.warn(\"Found `{}` in params. Will use it instead of argument\".format(alias))\n",
      "/home/maurykdell/anaconda3/lib/python3.8/site-packages/lightgbm/engine.py:535: UserWarning: Found `early_stopping_round` in params. Will use it instead of argument\n",
      "  warnings.warn(\"Found `{}` in params. Will use it instead of argument\".format(alias))\n"
     ]
    },
    {
     "name": "stdout",
     "output_type": "stream",
     "text": [
      "| \u001b[95m 4       \u001b[0m | \u001b[95m 0.7474  \u001b[0m | \u001b[95m 0.8237  \u001b[0m | \u001b[95m 0.6119  \u001b[0m | \u001b[95m 0.7168  \u001b[0m | \u001b[95m 2.834   \u001b[0m | \u001b[95m 7.082   \u001b[0m | \u001b[95m 23.66   \u001b[0m | \u001b[95m 0.02719 \u001b[0m | \u001b[95m 40.26   \u001b[0m |\n"
     ]
    },
    {
     "name": "stderr",
     "output_type": "stream",
     "text": [
      "/home/maurykdell/anaconda3/lib/python3.8/site-packages/lightgbm/engine.py:530: UserWarning: Found `num_iterations` in params. Will use it instead of argument\n",
      "  warnings.warn(\"Found `{}` in params. Will use it instead of argument\".format(alias))\n",
      "/home/maurykdell/anaconda3/lib/python3.8/site-packages/lightgbm/engine.py:535: UserWarning: Found `early_stopping_round` in params. Will use it instead of argument\n",
      "  warnings.warn(\"Found `{}` in params. Will use it instead of argument\".format(alias))\n"
     ]
    },
    {
     "name": "stdout",
     "output_type": "stream",
     "text": [
      "| \u001b[0m 5       \u001b[0m | \u001b[0m 0.7463  \u001b[0m | \u001b[0m 0.8912  \u001b[0m | \u001b[0m 0.5547  \u001b[0m | \u001b[0m 0.09395 \u001b[0m | \u001b[0m 1.853   \u001b[0m | \u001b[0m 7.442   \u001b[0m | \u001b[0m 32.76   \u001b[0m | \u001b[0m 0.09443 \u001b[0m | \u001b[0m 38.32   \u001b[0m |\n"
     ]
    },
    {
     "name": "stderr",
     "output_type": "stream",
     "text": [
      "/home/maurykdell/anaconda3/lib/python3.8/site-packages/lightgbm/engine.py:530: UserWarning: Found `num_iterations` in params. Will use it instead of argument\n",
      "  warnings.warn(\"Found `{}` in params. Will use it instead of argument\".format(alias))\n",
      "/home/maurykdell/anaconda3/lib/python3.8/site-packages/lightgbm/engine.py:535: UserWarning: Found `early_stopping_round` in params. Will use it instead of argument\n",
      "  warnings.warn(\"Found `{}` in params. Will use it instead of argument\".format(alias))\n"
     ]
    },
    {
     "name": "stdout",
     "output_type": "stream",
     "text": [
      "| \u001b[95m 6       \u001b[0m | \u001b[95m 0.7475  \u001b[0m | \u001b[95m 0.8011  \u001b[0m | \u001b[95m 0.3097  \u001b[0m | \u001b[95m 0.6466  \u001b[0m | \u001b[95m 2.962   \u001b[0m | \u001b[95m 6.669   \u001b[0m | \u001b[95m 18.44   \u001b[0m | \u001b[95m 0.026   \u001b[0m | \u001b[95m 39.36   \u001b[0m |\n"
     ]
    },
    {
     "name": "stderr",
     "output_type": "stream",
     "text": [
      "/home/maurykdell/anaconda3/lib/python3.8/site-packages/lightgbm/engine.py:530: UserWarning: Found `num_iterations` in params. Will use it instead of argument\n",
      "  warnings.warn(\"Found `{}` in params. Will use it instead of argument\".format(alias))\n",
      "/home/maurykdell/anaconda3/lib/python3.8/site-packages/lightgbm/engine.py:535: UserWarning: Found `early_stopping_round` in params. Will use it instead of argument\n",
      "  warnings.warn(\"Found `{}` in params. Will use it instead of argument\".format(alias))\n"
     ]
    },
    {
     "name": "stdout",
     "output_type": "stream",
     "text": [
      "| \u001b[0m 7       \u001b[0m | \u001b[0m 0.7457  \u001b[0m | \u001b[0m 0.876   \u001b[0m | \u001b[0m 0.7927  \u001b[0m | \u001b[0m 4.381   \u001b[0m | \u001b[0m 1.31    \u001b[0m | \u001b[0m 8.653   \u001b[0m | \u001b[0m 18.45   \u001b[0m | \u001b[0m 0.01395 \u001b[0m | \u001b[0m 30.27   \u001b[0m |\n"
     ]
    },
    {
     "name": "stderr",
     "output_type": "stream",
     "text": [
      "/home/maurykdell/anaconda3/lib/python3.8/site-packages/lightgbm/engine.py:530: UserWarning: Found `num_iterations` in params. Will use it instead of argument\n",
      "  warnings.warn(\"Found `{}` in params. Will use it instead of argument\".format(alias))\n",
      "/home/maurykdell/anaconda3/lib/python3.8/site-packages/lightgbm/engine.py:535: UserWarning: Found `early_stopping_round` in params. Will use it instead of argument\n",
      "  warnings.warn(\"Found `{}` in params. Will use it instead of argument\".format(alias))\n"
     ]
    },
    {
     "name": "stdout",
     "output_type": "stream",
     "text": [
      "| \u001b[0m 8       \u001b[0m | \u001b[0m 0.7469  \u001b[0m | \u001b[0m 0.8334  \u001b[0m | \u001b[0m 0.8964  \u001b[0m | \u001b[0m 0.0     \u001b[0m | \u001b[0m 3.0     \u001b[0m | \u001b[0m 5.007   \u001b[0m | \u001b[0m 19.5    \u001b[0m | \u001b[0m 0.04407 \u001b[0m | \u001b[0m 45.0    \u001b[0m |\n"
     ]
    },
    {
     "name": "stderr",
     "output_type": "stream",
     "text": [
      "/home/maurykdell/anaconda3/lib/python3.8/site-packages/lightgbm/engine.py:530: UserWarning: Found `num_iterations` in params. Will use it instead of argument\n",
      "  warnings.warn(\"Found `{}` in params. Will use it instead of argument\".format(alias))\n",
      "/home/maurykdell/anaconda3/lib/python3.8/site-packages/lightgbm/engine.py:535: UserWarning: Found `early_stopping_round` in params. Will use it instead of argument\n",
      "  warnings.warn(\"Found `{}` in params. Will use it instead of argument\".format(alias))\n"
     ]
    },
    {
     "name": "stdout",
     "output_type": "stream",
     "text": [
      "| \u001b[0m 9       \u001b[0m | \u001b[0m 0.7442  \u001b[0m | \u001b[0m 1.0     \u001b[0m | \u001b[0m 0.1     \u001b[0m | \u001b[0m 0.0     \u001b[0m | \u001b[0m 0.0     \u001b[0m | \u001b[0m 8.99    \u001b[0m | \u001b[0m 20.51   \u001b[0m | \u001b[0m 0.1     \u001b[0m | \u001b[0m 40.44   \u001b[0m |\n"
     ]
    },
    {
     "name": "stderr",
     "output_type": "stream",
     "text": [
      "/home/maurykdell/anaconda3/lib/python3.8/site-packages/lightgbm/engine.py:530: UserWarning: Found `num_iterations` in params. Will use it instead of argument\n",
      "  warnings.warn(\"Found `{}` in params. Will use it instead of argument\".format(alias))\n",
      "/home/maurykdell/anaconda3/lib/python3.8/site-packages/lightgbm/engine.py:535: UserWarning: Found `early_stopping_round` in params. Will use it instead of argument\n",
      "  warnings.warn(\"Found `{}` in params. Will use it instead of argument\".format(alias))\n"
     ]
    },
    {
     "name": "stdout",
     "output_type": "stream",
     "text": [
      "| \u001b[95m 10      \u001b[0m | \u001b[95m 0.748   \u001b[0m | \u001b[95m 0.9175  \u001b[0m | \u001b[95m 0.2053  \u001b[0m | \u001b[95m 0.7007  \u001b[0m | \u001b[95m 0.203   \u001b[0m | \u001b[95m 8.891   \u001b[0m | \u001b[95m 41.4    \u001b[0m | \u001b[95m 0.06127 \u001b[0m | \u001b[95m 25.83   \u001b[0m |\n"
     ]
    },
    {
     "name": "stderr",
     "output_type": "stream",
     "text": [
      "/home/maurykdell/anaconda3/lib/python3.8/site-packages/lightgbm/engine.py:530: UserWarning: Found `num_iterations` in params. Will use it instead of argument\n",
      "  warnings.warn(\"Found `{}` in params. Will use it instead of argument\".format(alias))\n",
      "/home/maurykdell/anaconda3/lib/python3.8/site-packages/lightgbm/engine.py:535: UserWarning: Found `early_stopping_round` in params. Will use it instead of argument\n",
      "  warnings.warn(\"Found `{}` in params. Will use it instead of argument\".format(alias))\n"
     ]
    },
    {
     "name": "stdout",
     "output_type": "stream",
     "text": [
      "| \u001b[0m 11      \u001b[0m | \u001b[0m 0.7459  \u001b[0m | \u001b[0m 0.9723  \u001b[0m | \u001b[0m 0.4481  \u001b[0m | \u001b[0m 1.993   \u001b[0m | \u001b[0m 1.737   \u001b[0m | \u001b[0m 7.396   \u001b[0m | \u001b[0m 22.67   \u001b[0m | \u001b[0m 0.03566 \u001b[0m | \u001b[0m 42.06   \u001b[0m |\n"
     ]
    },
    {
     "name": "stderr",
     "output_type": "stream",
     "text": [
      "/home/maurykdell/anaconda3/lib/python3.8/site-packages/lightgbm/engine.py:530: UserWarning: Found `num_iterations` in params. Will use it instead of argument\n",
      "  warnings.warn(\"Found `{}` in params. Will use it instead of argument\".format(alias))\n",
      "/home/maurykdell/anaconda3/lib/python3.8/site-packages/lightgbm/engine.py:535: UserWarning: Found `early_stopping_round` in params. Will use it instead of argument\n",
      "  warnings.warn(\"Found `{}` in params. Will use it instead of argument\".format(alias))\n"
     ]
    },
    {
     "name": "stdout",
     "output_type": "stream",
     "text": [
      "| \u001b[0m 12      \u001b[0m | \u001b[0m 0.7463  \u001b[0m | \u001b[0m 0.9172  \u001b[0m | \u001b[0m 0.8446  \u001b[0m | \u001b[0m 2.612   \u001b[0m | \u001b[0m 0.9115  \u001b[0m | \u001b[0m 8.531   \u001b[0m | \u001b[0m 13.87   \u001b[0m | \u001b[0m 0.06858 \u001b[0m | \u001b[0m 31.82   \u001b[0m |\n"
     ]
    },
    {
     "name": "stderr",
     "output_type": "stream",
     "text": [
      "/home/maurykdell/anaconda3/lib/python3.8/site-packages/lightgbm/engine.py:530: UserWarning: Found `num_iterations` in params. Will use it instead of argument\n",
      "  warnings.warn(\"Found `{}` in params. Will use it instead of argument\".format(alias))\n",
      "/home/maurykdell/anaconda3/lib/python3.8/site-packages/lightgbm/engine.py:535: UserWarning: Found `early_stopping_round` in params. Will use it instead of argument\n",
      "  warnings.warn(\"Found `{}` in params. Will use it instead of argument\".format(alias))\n"
     ]
    },
    {
     "name": "stdout",
     "output_type": "stream",
     "text": [
      "| \u001b[0m 13      \u001b[0m | \u001b[0m 0.7467  \u001b[0m | \u001b[0m 0.8104  \u001b[0m | \u001b[0m 0.5932  \u001b[0m | \u001b[0m 4.229   \u001b[0m | \u001b[0m 1.605   \u001b[0m | \u001b[0m 7.63    \u001b[0m | \u001b[0m 47.09   \u001b[0m | \u001b[0m 0.05909 \u001b[0m | \u001b[0m 25.5    \u001b[0m |\n"
     ]
    },
    {
     "name": "stderr",
     "output_type": "stream",
     "text": [
      "/home/maurykdell/anaconda3/lib/python3.8/site-packages/lightgbm/engine.py:530: UserWarning: Found `num_iterations` in params. Will use it instead of argument\n",
      "  warnings.warn(\"Found `{}` in params. Will use it instead of argument\".format(alias))\n",
      "/home/maurykdell/anaconda3/lib/python3.8/site-packages/lightgbm/engine.py:535: UserWarning: Found `early_stopping_round` in params. Will use it instead of argument\n",
      "  warnings.warn(\"Found `{}` in params. Will use it instead of argument\".format(alias))\n"
     ]
    },
    {
     "name": "stdout",
     "output_type": "stream",
     "text": [
      "| \u001b[95m 14      \u001b[0m | \u001b[95m 0.7486  \u001b[0m | \u001b[95m 0.9221  \u001b[0m | \u001b[95m 0.327   \u001b[0m | \u001b[95m 1.368   \u001b[0m | \u001b[95m 0.8621  \u001b[0m | \u001b[95m 8.355   \u001b[0m | \u001b[95m 42.16   \u001b[0m | \u001b[95m 0.04255 \u001b[0m | \u001b[95m 25.86   \u001b[0m |\n"
     ]
    },
    {
     "name": "stderr",
     "output_type": "stream",
     "text": [
      "/home/maurykdell/anaconda3/lib/python3.8/site-packages/lightgbm/engine.py:530: UserWarning: Found `num_iterations` in params. Will use it instead of argument\n",
      "  warnings.warn(\"Found `{}` in params. Will use it instead of argument\".format(alias))\n",
      "/home/maurykdell/anaconda3/lib/python3.8/site-packages/lightgbm/engine.py:535: UserWarning: Found `early_stopping_round` in params. Will use it instead of argument\n",
      "  warnings.warn(\"Found `{}` in params. Will use it instead of argument\".format(alias))\n"
     ]
    },
    {
     "name": "stdout",
     "output_type": "stream",
     "text": [
      "| \u001b[0m 15      \u001b[0m | \u001b[0m 0.746   \u001b[0m | \u001b[0m 1.0     \u001b[0m | \u001b[0m 0.1466  \u001b[0m | \u001b[0m 2.989   \u001b[0m | \u001b[0m 0.07056 \u001b[0m | \u001b[0m 8.35    \u001b[0m | \u001b[0m 42.67   \u001b[0m | \u001b[0m 0.001   \u001b[0m | \u001b[0m 25.54   \u001b[0m |\n",
      "=========================================================================================================================\n"
     ]
    }
   ],
   "source": [
    "# X = MinMaxScaler().fit_transform(df.drop(['blueWins', 'gameId'], axis=1))\n",
    "import lightgbm as lgb\n",
    "from bayes_opt import BayesianOptimization\n",
    "def bayes_parameter_opt_lgb(X = X, y = y, init_round=15, opt_round=25, n_folds=5, random_seed=6, n_estimators=10000, learning_rate=0.05, output_process=False):\n",
    "    # prepare data\n",
    "    train_data = lgb.Dataset(data=X, label=y, free_raw_data=False)\n",
    "    # parameters\n",
    "    def lgb_eval(num_leaves, feature_fraction, bagging_fraction, max_depth, lambda_l1, lambda_l2, min_split_gain, min_child_weight):\n",
    "        params = {'verbose': -1, 'application':'binary','num_iterations': n_estimators, 'learning_rate':learning_rate, 'early_stopping_round':100, 'metric':'auc'}\n",
    "        params[\"num_leaves\"] = int(round(num_leaves))\n",
    "        params['feature_fraction'] = max(min(feature_fraction, 1), 0)\n",
    "        params['bagging_fraction'] = max(min(bagging_fraction, 1), 0)\n",
    "        params['max_depth'] = int(round(max_depth))\n",
    "        params['lambda_l1'] = max(lambda_l1, 0)\n",
    "        params['lambda_l2'] = max(lambda_l2, 0)\n",
    "        params['min_split_gain'] = min_split_gain\n",
    "        params['min_child_weight'] = min_child_weight\n",
    "        cv_result = lgb.cv(params, train_data, nfold=n_folds, seed=random_seed, stratified=True, verbose_eval =200, metrics=['auc'])\n",
    "        return max(cv_result['auc-mean'])\n",
    "    # range \n",
    "    lgbBO = BayesianOptimization(lgb_eval, {'num_leaves': (24, 45),\n",
    "                                            'feature_fraction': (0.1, 0.9),\n",
    "                                            'bagging_fraction': (0.8, 1),\n",
    "                                            'max_depth': (5, 8.99),\n",
    "                                            #'verbose': (-1),\n",
    "                                            'lambda_l1': (0, 5),\n",
    "                                            'lambda_l2': (0, 3),\n",
    "                                            'min_split_gain': (0.001, 0.1),\n",
    "                                            'min_child_weight': (5, 50)}, random_state=0)\n",
    "    # optimize\n",
    "    lgbBO.maximize(init_points=init_round, n_iter=opt_round)\n",
    "    \n",
    "    # output optimization process\n",
    "    if output_process==True: lgbBO.points_to_csv(\"bayes_opt_result.csv\")\n",
    "    \n",
    "    # return best parameters\n",
    "    return lgbBO\n",
    "\n",
    "opt_params = bayes_parameter_opt_lgb(X, y, init_round=5, opt_round=10, n_folds=3, random_seed=6, n_estimators=100, learning_rate=0.05)"
   ]
  },
  {
   "cell_type": "code",
   "execution_count": null,
   "metadata": {},
   "outputs": [],
   "source": []
  }
 ],
 "metadata": {
  "kernelspec": {
   "display_name": "Python 3",
   "language": "python",
   "name": "python3"
  },
  "language_info": {
   "codemirror_mode": {
    "name": "ipython",
    "version": 3
   },
   "file_extension": ".py",
   "mimetype": "text/x-python",
   "name": "python",
   "nbconvert_exporter": "python",
   "pygments_lexer": "ipython3",
   "version": "3.8.5"
  }
 },
 "nbformat": 4,
 "nbformat_minor": 4
}
