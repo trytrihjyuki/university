{
 "cells": [
  {
   "cell_type": "markdown",
   "id": "moderate-music",
   "metadata": {},
   "source": [
    "# How to win League of Legends?"
   ]
  },
  {
   "cell_type": "markdown",
   "id": "impressed-ecuador",
   "metadata": {},
   "source": [
    "#### The following notebook shows the results of our joint work on the Machine Learning Course Final Project"
   ]
  },
  {
   "cell_type": "markdown",
   "id": "stupid-faith",
   "metadata": {},
   "source": [
    "### What is League of Legends?"
   ]
  },
  {
   "cell_type": "markdown",
   "id": "ranging-referral",
   "metadata": {},
   "source": [
    "From Wikipedia:\n",
    "\n",
    "League of Legends is a 2009 multiplayer online battle arena video game developed and published by Riot Games.\n",
    "\n",
    "In the game, two teams of five players battle in player versus player combat, with each team occupying and defending their own half of the map. Each of the ten players controls a character, known as a \"champion\", with unique abilities and differing styles of play. During a match, champions become more powerful by collecting experience points and purchasing items in order to defeat the opposing team. In the game's main mode, Summoner's Rift, a team wins by pushing through to the enemy base and destroying their \"nexus\", a large structure located within it."
   ]
  },
  {
   "cell_type": "markdown",
   "id": "printable-mouth",
   "metadata": {},
   "source": [
    "Teams consist of five unique roles, TOP, JUNGLE, MID, ADC, SUPPORT. As features, we used 3 basic variables for each role in both teams. Unfortunately, initially the datasets had completely permuted roles, so we had to segregate (based on the meta, i.e. the frequency of playing team-comps) featurings to specific roles."
   ]
  },
  {
   "cell_type": "markdown",
   "id": "appointed-identification",
   "metadata": {},
   "source": [
    "## Our goal"
   ]
  },
  {
   "cell_type": "markdown",
   "id": "forward-hundred",
   "metadata": {},
   "source": [
    "We wanted to create a model that would be able to judge the final result of the match from the match statistics from the 10th minute of the game, ava. As data, we used 90 features 45 per team.\n",
    "\n",
    "The average length of a game in LoL is about 35 minutes, so we want to try to predict the result in less than 1/3 of the match!"
   ]
  },
  {
   "cell_type": "markdown",
   "id": "absent-polls",
   "metadata": {},
   "source": [
    "## Data "
   ]
  },
  {
   "cell_type": "markdown",
   "id": "rotary-smell",
   "metadata": {},
   "source": [
    "More about data in the second notebook."
   ]
  },
  {
   "cell_type": "markdown",
   "id": "located-olympus",
   "metadata": {},
   "source": [
    "## Data collecting"
   ]
  },
  {
   "cell_type": "markdown",
   "id": "finite-president",
   "metadata": {},
   "source": [
    "We collected data using a hand-written Python class that creates datasets using the [API](https://developer.riotgames.com/) provided by Riot Games. More info about data collecting proccess in the rest of the repository."
   ]
  },
  {
   "cell_type": "markdown",
   "id": "respiratory-nursery",
   "metadata": {},
   "source": [
    "## INIT"
   ]
  },
  {
   "cell_type": "code",
   "execution_count": 1,
   "id": "useful-georgia",
   "metadata": {},
   "outputs": [],
   "source": [
    "import os\n",
    "import random\n",
    "import matplotlib.pyplot as plt\n",
    "import numpy as np\n",
    "import pandas as pd\n",
    "import seaborn as sns\n",
    "from tqdm import tqdm_notebook\n",
    "import sklearn.preprocessing\n",
    "\n",
    "from xgboost import XGBClassifier\n",
    "from sklearn.svm import SVC\n",
    "\n",
    "from sklearn.metrics import accuracy_score\n",
    "\n",
    "from sklearn.preprocessing import OneHotEncoder\n",
    "\n",
    "from sklearn.ensemble import RandomForestClassifier, AdaBoostClassifier\n",
    "from sklearn.naive_bayes import BernoulliNB, GaussianNB, MultinomialNB\n",
    "from sklearn.neighbors import KNeighborsClassifier\n",
    "from sklearn.neural_network import MLPClassifier\n",
    "from sklearn.linear_model import RidgeClassifier, LogisticRegression\n",
    "from sklearn.utils.class_weight import compute_class_weight, compute_sample_weight\n",
    "from catboost import CatBoostClassifier\n",
    "\n",
    "from sklearn.model_selection import GridSearchCV\n",
    "from skopt import BayesSearchCV\n",
    "\n",
    "from mlxtend.classifier import StackingClassifier\n",
    "\n",
    "from sklearn.model_selection import train_test_split\n",
    "from sklearn.model_selection import StratifiedKFold"
   ]
  },
  {
   "cell_type": "markdown",
   "id": "typical-audit",
   "metadata": {},
   "source": [
    "### Getting data"
   ]
  },
  {
   "cell_type": "code",
   "execution_count": 2,
   "id": "vietnamese-pulse",
   "metadata": {},
   "outputs": [
    {
     "data": {
      "text/html": [
       "<div>\n",
       "<style scoped>\n",
       "    .dataframe tbody tr th:only-of-type {\n",
       "        vertical-align: middle;\n",
       "    }\n",
       "\n",
       "    .dataframe tbody tr th {\n",
       "        vertical-align: top;\n",
       "    }\n",
       "\n",
       "    .dataframe thead th {\n",
       "        text-align: right;\n",
       "    }\n",
       "</style>\n",
       "<table border=\"1\" class=\"dataframe\">\n",
       "  <thead>\n",
       "    <tr style=\"text-align: right;\">\n",
       "      <th></th>\n",
       "      <th>match_id</th>\n",
       "      <th>1_win</th>\n",
       "      <th>1_firstDragon</th>\n",
       "      <th>1_MIDDLE_xp_per_min</th>\n",
       "      <th>1_MIDDLE_creeps_per_min</th>\n",
       "      <th>1_MIDDLE_gold_per_min</th>\n",
       "      <th>1_MIDDLE_damage_taken_per_min</th>\n",
       "      <th>1_MIDDLE_first_blood</th>\n",
       "      <th>1_MIDDLE_first_blood_assist</th>\n",
       "      <th>1_MIDDLE_first_tower</th>\n",
       "      <th>...</th>\n",
       "      <th>2_MIDDLE_champion_name</th>\n",
       "      <th>2_MIDDLE_champion_attribute</th>\n",
       "      <th>2_TOP_champion_name</th>\n",
       "      <th>2_TOP_champion_attribute</th>\n",
       "      <th>2_JUNGLE_champion_name</th>\n",
       "      <th>2_JUNGLE_champion_attribute</th>\n",
       "      <th>2_SUPPORT_champion_name</th>\n",
       "      <th>2_SUPPORT_champion_attribute</th>\n",
       "      <th>2_ADC_champion_name</th>\n",
       "      <th>2_ADC_champion_attribute</th>\n",
       "    </tr>\n",
       "  </thead>\n",
       "  <tbody>\n",
       "    <tr>\n",
       "      <th>0</th>\n",
       "      <td>2725511175</td>\n",
       "      <td>True</td>\n",
       "      <td>False</td>\n",
       "      <td>410.5</td>\n",
       "      <td>7.4</td>\n",
       "      <td>293.4</td>\n",
       "      <td>430.0</td>\n",
       "      <td>True</td>\n",
       "      <td>False</td>\n",
       "      <td>False</td>\n",
       "      <td>...</td>\n",
       "      <td>Kalista</td>\n",
       "      <td>Marksman</td>\n",
       "      <td>Viego</td>\n",
       "      <td>Assassin</td>\n",
       "      <td>Graves</td>\n",
       "      <td>Marksman</td>\n",
       "      <td>Janna</td>\n",
       "      <td>Support</td>\n",
       "      <td>Aphelios</td>\n",
       "      <td>Marksman</td>\n",
       "    </tr>\n",
       "    <tr>\n",
       "      <th>1</th>\n",
       "      <td>2710306824</td>\n",
       "      <td>False</td>\n",
       "      <td>True</td>\n",
       "      <td>465.0</td>\n",
       "      <td>7.1</td>\n",
       "      <td>328.0</td>\n",
       "      <td>450.8</td>\n",
       "      <td>False</td>\n",
       "      <td>False</td>\n",
       "      <td>False</td>\n",
       "      <td>...</td>\n",
       "      <td>Tristana</td>\n",
       "      <td>Marksman</td>\n",
       "      <td>Fiora</td>\n",
       "      <td>Fighter</td>\n",
       "      <td>Fiddlesticks</td>\n",
       "      <td>Mage</td>\n",
       "      <td>Senna</td>\n",
       "      <td>Marksman</td>\n",
       "      <td>Tahm Kench</td>\n",
       "      <td>Support</td>\n",
       "    </tr>\n",
       "    <tr>\n",
       "      <th>2</th>\n",
       "      <td>2677276686</td>\n",
       "      <td>False</td>\n",
       "      <td>True</td>\n",
       "      <td>437.9</td>\n",
       "      <td>5.5</td>\n",
       "      <td>354.6</td>\n",
       "      <td>578.9</td>\n",
       "      <td>False</td>\n",
       "      <td>False</td>\n",
       "      <td>False</td>\n",
       "      <td>...</td>\n",
       "      <td>Orianna</td>\n",
       "      <td>Mage</td>\n",
       "      <td>Darius</td>\n",
       "      <td>Fighter</td>\n",
       "      <td>Olaf</td>\n",
       "      <td>Fighter</td>\n",
       "      <td>Soraka</td>\n",
       "      <td>Support</td>\n",
       "      <td>Kalista</td>\n",
       "      <td>Marksman</td>\n",
       "    </tr>\n",
       "    <tr>\n",
       "      <th>3</th>\n",
       "      <td>2713845795</td>\n",
       "      <td>True</td>\n",
       "      <td>True</td>\n",
       "      <td>403.3</td>\n",
       "      <td>5.7</td>\n",
       "      <td>270.3</td>\n",
       "      <td>426.6</td>\n",
       "      <td>False</td>\n",
       "      <td>False</td>\n",
       "      <td>False</td>\n",
       "      <td>...</td>\n",
       "      <td>Viktor</td>\n",
       "      <td>Mage</td>\n",
       "      <td>Renekton</td>\n",
       "      <td>Fighter</td>\n",
       "      <td>Yone</td>\n",
       "      <td>Assassin</td>\n",
       "      <td>Vel'Koz</td>\n",
       "      <td>Mage</td>\n",
       "      <td>Rengar</td>\n",
       "      <td>Assassin</td>\n",
       "    </tr>\n",
       "    <tr>\n",
       "      <th>4</th>\n",
       "      <td>2596012070</td>\n",
       "      <td>False</td>\n",
       "      <td>False</td>\n",
       "      <td>444.0</td>\n",
       "      <td>7.2</td>\n",
       "      <td>276.0</td>\n",
       "      <td>294.8</td>\n",
       "      <td>False</td>\n",
       "      <td>False</td>\n",
       "      <td>False</td>\n",
       "      <td>...</td>\n",
       "      <td>Rumble</td>\n",
       "      <td>Fighter</td>\n",
       "      <td>Sett</td>\n",
       "      <td>Fighter</td>\n",
       "      <td>Rammus</td>\n",
       "      <td>Tank</td>\n",
       "      <td>Pyke</td>\n",
       "      <td>Support</td>\n",
       "      <td>Ezreal</td>\n",
       "      <td>Marksman</td>\n",
       "    </tr>\n",
       "    <tr>\n",
       "      <th>5</th>\n",
       "      <td>2696413232</td>\n",
       "      <td>False</td>\n",
       "      <td>True</td>\n",
       "      <td>445.4</td>\n",
       "      <td>7.1</td>\n",
       "      <td>238.4</td>\n",
       "      <td>277.6</td>\n",
       "      <td>False</td>\n",
       "      <td>False</td>\n",
       "      <td>False</td>\n",
       "      <td>...</td>\n",
       "      <td>Syndra</td>\n",
       "      <td>Mage</td>\n",
       "      <td>Sion</td>\n",
       "      <td>Tank</td>\n",
       "      <td>Rek'Sai</td>\n",
       "      <td>Fighter</td>\n",
       "      <td>Thresh</td>\n",
       "      <td>Support</td>\n",
       "      <td>Vayne</td>\n",
       "      <td>Marksman</td>\n",
       "    </tr>\n",
       "    <tr>\n",
       "      <th>6</th>\n",
       "      <td>2704146490</td>\n",
       "      <td>False</td>\n",
       "      <td>False</td>\n",
       "      <td>386.0</td>\n",
       "      <td>4.4</td>\n",
       "      <td>280.6</td>\n",
       "      <td>490.4</td>\n",
       "      <td>True</td>\n",
       "      <td>False</td>\n",
       "      <td>False</td>\n",
       "      <td>...</td>\n",
       "      <td>Yasuo</td>\n",
       "      <td>Fighter</td>\n",
       "      <td>Vladimir</td>\n",
       "      <td>Mage</td>\n",
       "      <td>Taliyah</td>\n",
       "      <td>Mage</td>\n",
       "      <td>Seraphine</td>\n",
       "      <td>Mage</td>\n",
       "      <td>Jhin</td>\n",
       "      <td>Marksman</td>\n",
       "    </tr>\n",
       "    <tr>\n",
       "      <th>7</th>\n",
       "      <td>2718302283</td>\n",
       "      <td>False</td>\n",
       "      <td>False</td>\n",
       "      <td>504.6</td>\n",
       "      <td>7.4</td>\n",
       "      <td>337.0</td>\n",
       "      <td>405.8</td>\n",
       "      <td>True</td>\n",
       "      <td>False</td>\n",
       "      <td>False</td>\n",
       "      <td>...</td>\n",
       "      <td>Mordekaiser</td>\n",
       "      <td>Fighter</td>\n",
       "      <td>Irelia</td>\n",
       "      <td>Fighter</td>\n",
       "      <td>Kha'Zix</td>\n",
       "      <td>Assassin</td>\n",
       "      <td>Yuumi</td>\n",
       "      <td>Support</td>\n",
       "      <td>Kai'Sa</td>\n",
       "      <td>Marksman</td>\n",
       "    </tr>\n",
       "    <tr>\n",
       "      <th>8</th>\n",
       "      <td>2709258316</td>\n",
       "      <td>True</td>\n",
       "      <td>True</td>\n",
       "      <td>473.8</td>\n",
       "      <td>7.6</td>\n",
       "      <td>272.2</td>\n",
       "      <td>402.5</td>\n",
       "      <td>False</td>\n",
       "      <td>False</td>\n",
       "      <td>False</td>\n",
       "      <td>...</td>\n",
       "      <td>Quinn</td>\n",
       "      <td>Marksman</td>\n",
       "      <td>Yone</td>\n",
       "      <td>Assassin</td>\n",
       "      <td>Evelynn</td>\n",
       "      <td>Assassin</td>\n",
       "      <td>Karma</td>\n",
       "      <td>Mage</td>\n",
       "      <td>Jhin</td>\n",
       "      <td>Marksman</td>\n",
       "    </tr>\n",
       "    <tr>\n",
       "      <th>9</th>\n",
       "      <td>2713714766</td>\n",
       "      <td>False</td>\n",
       "      <td>False</td>\n",
       "      <td>442.5</td>\n",
       "      <td>6.5</td>\n",
       "      <td>327.4</td>\n",
       "      <td>319.4</td>\n",
       "      <td>False</td>\n",
       "      <td>False</td>\n",
       "      <td>False</td>\n",
       "      <td>...</td>\n",
       "      <td>Viego</td>\n",
       "      <td>Assassin</td>\n",
       "      <td>Malphite</td>\n",
       "      <td>Tank</td>\n",
       "      <td>Shen</td>\n",
       "      <td>Tank</td>\n",
       "      <td>Morgana</td>\n",
       "      <td>Mage</td>\n",
       "      <td>Samira</td>\n",
       "      <td>Marksman</td>\n",
       "    </tr>\n",
       "  </tbody>\n",
       "</table>\n",
       "<p>10 rows × 103 columns</p>\n",
       "</div>"
      ],
      "text/plain": [
       "     match_id  1_win  1_firstDragon  1_MIDDLE_xp_per_min  \\\n",
       "0  2725511175   True          False                410.5   \n",
       "1  2710306824  False           True                465.0   \n",
       "2  2677276686  False           True                437.9   \n",
       "3  2713845795   True           True                403.3   \n",
       "4  2596012070  False          False                444.0   \n",
       "5  2696413232  False           True                445.4   \n",
       "6  2704146490  False          False                386.0   \n",
       "7  2718302283  False          False                504.6   \n",
       "8  2709258316   True           True                473.8   \n",
       "9  2713714766  False          False                442.5   \n",
       "\n",
       "   1_MIDDLE_creeps_per_min  1_MIDDLE_gold_per_min  \\\n",
       "0                      7.4                  293.4   \n",
       "1                      7.1                  328.0   \n",
       "2                      5.5                  354.6   \n",
       "3                      5.7                  270.3   \n",
       "4                      7.2                  276.0   \n",
       "5                      7.1                  238.4   \n",
       "6                      4.4                  280.6   \n",
       "7                      7.4                  337.0   \n",
       "8                      7.6                  272.2   \n",
       "9                      6.5                  327.4   \n",
       "\n",
       "   1_MIDDLE_damage_taken_per_min  1_MIDDLE_first_blood  \\\n",
       "0                          430.0                  True   \n",
       "1                          450.8                 False   \n",
       "2                          578.9                 False   \n",
       "3                          426.6                 False   \n",
       "4                          294.8                 False   \n",
       "5                          277.6                 False   \n",
       "6                          490.4                  True   \n",
       "7                          405.8                  True   \n",
       "8                          402.5                 False   \n",
       "9                          319.4                 False   \n",
       "\n",
       "   1_MIDDLE_first_blood_assist  1_MIDDLE_first_tower  ...  \\\n",
       "0                        False                 False  ...   \n",
       "1                        False                 False  ...   \n",
       "2                        False                 False  ...   \n",
       "3                        False                 False  ...   \n",
       "4                        False                 False  ...   \n",
       "5                        False                 False  ...   \n",
       "6                        False                 False  ...   \n",
       "7                        False                 False  ...   \n",
       "8                        False                 False  ...   \n",
       "9                        False                 False  ...   \n",
       "\n",
       "   2_MIDDLE_champion_name  2_MIDDLE_champion_attribute  2_TOP_champion_name  \\\n",
       "0                 Kalista                     Marksman                Viego   \n",
       "1                Tristana                     Marksman                Fiora   \n",
       "2                 Orianna                         Mage               Darius   \n",
       "3                  Viktor                         Mage             Renekton   \n",
       "4                  Rumble                      Fighter                 Sett   \n",
       "5                  Syndra                         Mage                 Sion   \n",
       "6                   Yasuo                      Fighter             Vladimir   \n",
       "7             Mordekaiser                      Fighter               Irelia   \n",
       "8                   Quinn                     Marksman                 Yone   \n",
       "9                   Viego                     Assassin             Malphite   \n",
       "\n",
       "   2_TOP_champion_attribute  2_JUNGLE_champion_name  \\\n",
       "0                  Assassin                  Graves   \n",
       "1                   Fighter            Fiddlesticks   \n",
       "2                   Fighter                    Olaf   \n",
       "3                   Fighter                    Yone   \n",
       "4                   Fighter                  Rammus   \n",
       "5                      Tank                 Rek'Sai   \n",
       "6                      Mage                 Taliyah   \n",
       "7                   Fighter                 Kha'Zix   \n",
       "8                  Assassin                 Evelynn   \n",
       "9                      Tank                    Shen   \n",
       "\n",
       "   2_JUNGLE_champion_attribute  2_SUPPORT_champion_name  \\\n",
       "0                     Marksman                    Janna   \n",
       "1                         Mage                    Senna   \n",
       "2                      Fighter                   Soraka   \n",
       "3                     Assassin                  Vel'Koz   \n",
       "4                         Tank                     Pyke   \n",
       "5                      Fighter                   Thresh   \n",
       "6                         Mage                Seraphine   \n",
       "7                     Assassin                    Yuumi   \n",
       "8                     Assassin                    Karma   \n",
       "9                         Tank                  Morgana   \n",
       "\n",
       "   2_SUPPORT_champion_attribute  2_ADC_champion_name  2_ADC_champion_attribute  \n",
       "0                       Support             Aphelios                  Marksman  \n",
       "1                      Marksman           Tahm Kench                   Support  \n",
       "2                       Support              Kalista                  Marksman  \n",
       "3                          Mage               Rengar                  Assassin  \n",
       "4                       Support               Ezreal                  Marksman  \n",
       "5                       Support                Vayne                  Marksman  \n",
       "6                          Mage                 Jhin                  Marksman  \n",
       "7                       Support               Kai'Sa                  Marksman  \n",
       "8                          Mage                 Jhin                  Marksman  \n",
       "9                          Mage               Samira                  Marksman  \n",
       "\n",
       "[10 rows x 103 columns]"
      ]
     },
     "execution_count": 2,
     "metadata": {},
     "output_type": "execute_result"
    }
   ],
   "source": [
    "df = pd.read_csv('eun1_DIAMOND_RANKED_SOLO_BEST.csv')\n",
    "df.head(10)"
   ]
  },
  {
   "cell_type": "markdown",
   "id": "colored-comment",
   "metadata": {},
   "source": [
    "### Data pre-processing"
   ]
  },
  {
   "cell_type": "code",
   "execution_count": 3,
   "id": "million-dubai",
   "metadata": {},
   "outputs": [],
   "source": [
    "champion_attribute_feats = [col for col in df.columns if col.endswith('champion_attribute')]\n",
    "\n",
    "onehotencoder = OneHotEncoder()\n",
    "\n",
    "attributes_encoding = onehotencoder.fit_transform(df[champion_attribute_feats]).toarray()\n",
    "\n",
    "to_drop_feats = [col for col in df.columns if col.endswith('champion_attribute') or col.endswith('champion_name')]\n",
    "\n",
    "df = df.drop(columns = to_drop_feats)\n",
    "\n",
    "df = pd.concat([df, pd.DataFrame(attributes_encoding, index=df.index)], axis=1)"
   ]
  },
  {
   "cell_type": "code",
   "execution_count": 4,
   "id": "promotional-quest",
   "metadata": {},
   "outputs": [],
   "source": [
    "df.iloc[:,1] = df.iloc[:,1] == 1 # We need classes to classifiers (NIE WIEM CZY TO POTRZEBNA)"
   ]
  },
  {
   "cell_type": "code",
   "execution_count": 5,
   "id": "shared-staff",
   "metadata": {},
   "outputs": [],
   "source": [
    "min_max_scaler = sklearn.preprocessing.MinMaxScaler()\n",
    "df = pd.DataFrame(min_max_scaler.fit_transform(df), columns = df.columns)"
   ]
  },
  {
   "cell_type": "code",
   "execution_count": 6,
   "id": "associate-newcastle",
   "metadata": {},
   "outputs": [],
   "source": [
    "X = df.iloc[:,2:]\n",
    "y = df.iloc[:,1]"
   ]
  },
  {
   "cell_type": "code",
   "execution_count": 321,
   "id": "confirmed-defensive",
   "metadata": {},
   "outputs": [],
   "source": [
    "# get train and test dataset\n",
    "X_train, X_test, y_train, y_test = train_test_split(X, y, test_size=0.15, random_state=42)"
   ]
  },
  {
   "cell_type": "code",
   "execution_count": 322,
   "id": "approximate-american",
   "metadata": {},
   "outputs": [
    {
     "name": "stdout",
     "output_type": "stream",
     "text": [
      "0.0    5064\n",
      "1.0    5029\n",
      "Name: 1_win, dtype: int64\n"
     ]
    },
    {
     "data": {
      "image/png": "[encoded data removed]",
      "text/plain": [
       "<Figure size 432x288 with 1 Axes>"
      ]
     },
     "metadata": {
      "needs_background": "light"
     },
     "output_type": "display_data"
    }
   ],
   "source": [
    "counts = y.value_counts()\n",
    "print(counts)\n",
    "b = plt.bar(counts.index, counts.values)\n",
    "b[0].set_color('r')\n",
    "plt.show()"
   ]
  },
  {
   "cell_type": "markdown",
   "id": "contrary-british",
   "metadata": {},
   "source": [
    "As we can see, the distribution of the target value is very balanced, so the assessment of the model by ordinary accuracy is reliable"
   ]
  },
  {
   "cell_type": "markdown",
   "id": "iraqi-possession",
   "metadata": {},
   "source": [
    "### Early results"
   ]
  },
  {
   "cell_type": "code",
   "execution_count": 323,
   "id": "armed-seeking",
   "metadata": {},
   "outputs": [],
   "source": [
    "clfs = {\n",
    "    'SVC': SVC(probability=True),\n",
    "    'Logistic Regression': LogisticRegression(),\n",
    "    'Ridge Regression': RidgeClassifier(),\n",
    "    'XGBoost': XGBClassifier(use_label_encoder=False),\n",
    "    'AdaBoost': AdaBoostClassifier(),\n",
    "    'Bernouli Naive Bayes': BernoulliNB(),\n",
    "    'Gaussian Naive Bayes': GaussianNB(),\n",
    "    'Multinomial Naive Bayes': MultinomialNB(),\n",
    "    'KNN': KNeighborsClassifier(),\n",
    "    'MLP': MLPClassifier(),\n",
    "}\n",
    "clfs_acc = {}\n",
    "clfs_props = {}\n",
    "clfs_preds ={}"
   ]
  },
  {
   "cell_type": "markdown",
   "id": "specified-fireplace",
   "metadata": {},
   "source": [
    "We wanted to try our data on few pure classifiers with defalut settings.\n",
    "Here are our early results:"
   ]
  },
  {
   "cell_type": "code",
   "execution_count": 324,
   "id": "visible-liberia",
   "metadata": {},
   "outputs": [
    {
     "name": "stdout",
     "output_type": "stream",
     "text": [
      "         Model          |  Accuracy \n",
      "          SVC           |    0.71   \n"
     ]
    },
    {
     "name": "stderr",
     "output_type": "stream",
     "text": [
      "/home/maurykdell/.local/lib/python3.8/site-packages/sklearn/linear_model/_logistic.py:762: ConvergenceWarning: lbfgs failed to converge (status=1):\n",
      "STOP: TOTAL NO. of ITERATIONS REACHED LIMIT.\n",
      "\n",
      "Increase the number of iterations (max_iter) or scale the data as shown in:\n",
      "    https://scikit-learn.org/stable/modules/preprocessing.html\n",
      "Please also refer to the documentation for alternative solver options:\n",
      "    https://scikit-learn.org/stable/modules/linear_model.html#logistic-regression\n",
      "  n_iter_i = _check_optimize_result(\n"
     ]
    },
    {
     "name": "stdout",
     "output_type": "stream",
     "text": [
      "  Logistic Regression   |    0.71   \n",
      "   Ridge Regression     |    0.71   \n",
      "[19:06:55] WARNING: ../src/learner.cc:1061: Starting in XGBoost 1.3.0, the default evaluation metric used with the objective 'binary:logistic' was changed from 'error' to 'logloss'. Explicitly set eval_metric if you'd like to restore the old behavior.\n",
      "        XGBoost         |    0.67   \n",
      "       AdaBoost         |    0.70   \n",
      " Bernouli Naive Bayes   |    0.69   \n",
      " Gaussian Naive Bayes   |    0.69   \n",
      "Multinomial Naive Bayes |    0.70   \n",
      "          KNN           |    0.59   \n",
      "          MLP           |    0.63   \n"
     ]
    },
    {
     "name": "stderr",
     "output_type": "stream",
     "text": [
      "/home/maurykdell/.local/lib/python3.8/site-packages/sklearn/neural_network/_multilayer_perceptron.py:582: ConvergenceWarning: Stochastic Optimizer: Maximum iterations (200) reached and the optimization hasn't converged yet.\n",
      "  warnings.warn(\n"
     ]
    }
   ],
   "source": [
    "print('{:^23} | {:^10}'.format('Model', 'Accuracy'))\n",
    "for (clf_n, clf) in clfs.items():\n",
    "    clf.fit(X_train, y_train)\n",
    "    predictions = clf.predict(X_test)\n",
    "    acc = accuracy_score(y_test, predictions)\n",
    "    clfs_acc[clf_n] = acc\n",
    "    print('{:^23} | {:^10.2f}'.format(clf_n, acc))"
   ]
  },
  {
   "cell_type": "markdown",
   "id": "infinite-subscription",
   "metadata": {},
   "source": [
    "As we can see, the early results are satisfactory (~0.7 acc), but let's try to improve them by tuning hyperparameters, e.g. Grid-Search."
   ]
  },
  {
   "cell_type": "markdown",
   "id": "dependent-designer",
   "metadata": {},
   "source": [
    "## Hyperparameteres tuning"
   ]
  },
  {
   "cell_type": "markdown",
   "id": "bottom-restriction",
   "metadata": {},
   "source": [
    "SVC"
   ]
  },
  {
   "cell_type": "code",
   "execution_count": 11,
   "id": "protecting-gregory",
   "metadata": {},
   "outputs": [
    {
     "name": "stdout",
     "output_type": "stream",
     "text": [
      "Best parameters on testing set:\n",
      "{'C': 50, 'gamma': 0.001, 'kernel': 'rbf'}\n"
     ]
    }
   ],
   "source": [
    "# SVC parameters tuning by Grid Search\n",
    "params = {\n",
    "    'kernel': ['poly', 'rbf', 'sigmoid'],\n",
    "    'gamma': [1e-2, 1e-3, 1e-4, 1e-5],\n",
    "    'C': [0.001, 0.10, 0.1, 10, 25, 50, 100, 1000],\n",
    "    'probability': [True]\n",
    "}\n",
    "clf = GridSearchCV(SVC(), params, cv=5, scoring='accuracy', n_jobs=12)\n",
    "clf.fit(X_train, y_train)\n",
    "\n",
    "print(\"Best parameters on testing set:\")\n",
    "print(clf.best_params_)"
   ]
  },
  {
   "cell_type": "code",
   "execution_count": 332,
   "id": "public-dimension",
   "metadata": {},
   "outputs": [
    {
     "name": "stdout",
     "output_type": "stream",
     "text": [
      "SVC update:\n",
      "old accuracy: 0.7054161162483488 new accuracy: 0.7113606340819022\n"
     ]
    }
   ],
   "source": [
    "# Updating SVC\n",
    "model = SVC()\n",
    "model.set_params(**clf.best_params_)\n",
    "clfs['SVC'] = model\n",
    "clfs['SVC'].fit(X_train, y_train)\n",
    "predictions = model.predict(X_test)\n",
    "acc = accuracy_score(y_test, predictions)\n",
    "print('SVC update:\\nold accuracy: {} new accuracy: {}'.format(clfs_acc['SVC'], acc))\n",
    "\n",
    "clfs_preds['SVC'] = model.predict(X_train)\n",
    "clfs_props['SVC'] = model.predict_proba(X_train)"
   ]
  },
  {
   "cell_type": "markdown",
   "id": "logical-toyota",
   "metadata": {},
   "source": [
    "Logistic Regression"
   ]
  },
  {
   "cell_type": "code",
   "execution_count": 325,
   "id": "transsexual-residence",
   "metadata": {},
   "outputs": [
    {
     "name": "stdout",
     "output_type": "stream",
     "text": [
      "Best parameters on testing set:\n",
      "{'C': 1.0}\n"
     ]
    }
   ],
   "source": [
    "# Logistic Regression parameters tuning by Grid Search\n",
    "params_grid = {\n",
    "    'C': [0.001, 0.01, 0.1, 1., 10., 100., 1000.]\n",
    "}\n",
    "clf = GridSearchCV(LogisticRegression(max_iter=1000), params_grid, cv=5, scoring='accuracy', n_jobs=12)\n",
    "clf.fit(X_train, y_train)\n",
    "\n",
    "print(\"Best parameters on testing set:\")\n",
    "print(clf.best_params_)"
   ]
  },
  {
   "cell_type": "code",
   "execution_count": 326,
   "id": "floating-rolling",
   "metadata": {},
   "outputs": [
    {
     "name": "stdout",
     "output_type": "stream",
     "text": [
      "Logistic Regression update:\n",
      "old accuracy: 0.7060766182298547 new accuracy: 0.7060766182298547\n"
     ]
    },
    {
     "name": "stderr",
     "output_type": "stream",
     "text": [
      "/home/maurykdell/.local/lib/python3.8/site-packages/sklearn/linear_model/_logistic.py:762: ConvergenceWarning: lbfgs failed to converge (status=1):\n",
      "STOP: TOTAL NO. of ITERATIONS REACHED LIMIT.\n",
      "\n",
      "Increase the number of iterations (max_iter) or scale the data as shown in:\n",
      "    https://scikit-learn.org/stable/modules/preprocessing.html\n",
      "Please also refer to the documentation for alternative solver options:\n",
      "    https://scikit-learn.org/stable/modules/linear_model.html#logistic-regression\n",
      "  n_iter_i = _check_optimize_result(\n"
     ]
    }
   ],
   "source": [
    "# Updating Logistic Regression\n",
    "model = LogisticRegression()\n",
    "model.set_params(**clf.best_params_)\n",
    "clfs['Logistic Regression'] = model\n",
    "clfs['Logistic Regression'].fit(X_train, y_train)\n",
    "predictions = model.predict(X_test)\n",
    "acc = accuracy_score(y_test, predictions)\n",
    "print('Logistic Regression update:\\nold accuracy: {} new accuracy: {}'.format(clfs_acc['Logistic Regression'], acc))\n",
    "\n",
    "clfs_preds['Logistic Regression'] = model.predict(X_train)\n",
    "clfs_props['Logistic Regression'] = model.predict_proba(X_train)"
   ]
  },
  {
   "cell_type": "markdown",
   "id": "single-moral",
   "metadata": {},
   "source": [
    "Ridge Regression"
   ]
  },
  {
   "cell_type": "code",
   "execution_count": 333,
   "id": "sought-wheat",
   "metadata": {},
   "outputs": [
    {
     "name": "stdout",
     "output_type": "stream",
     "text": [
      "Best parameters on testing set:\n",
      "{'alpha': 10.0, 'fit_intercept': False, 'solver': 'lsqr'}\n"
     ]
    }
   ],
   "source": [
    "# Ridge Regression parameters tuning by Grid Search\n",
    "params_grid = {\n",
    "    'alpha': [0.,0.00001,0.0001,0.001,0.01,0.1,1.0,10.,100.] , \n",
    "    'fit_intercept': [True, False],\n",
    "    'solver': ['svd', 'cholesky', 'lsqr', 'sparse_cg', 'sag', 'saga']\n",
    "}\n",
    "clf = GridSearchCV(RidgeClassifier(), params_grid, cv=5, scoring='accuracy', n_jobs=12)\n",
    "clf.fit(X_train, y_train)\n",
    "\n",
    "print(\"Best parameters on testing set:\")\n",
    "print(clf.best_params_)"
   ]
  },
  {
   "cell_type": "code",
   "execution_count": 334,
   "id": "exciting-clerk",
   "metadata": {},
   "outputs": [
    {
     "name": "stdout",
     "output_type": "stream",
     "text": [
      "Ridge Regression update:\n",
      "old accuracy: 0.7087186261558784 new accuracy: 0.7100396301188904\n"
     ]
    }
   ],
   "source": [
    "# Updating Ridge Regression\n",
    "model = RidgeClassifier()\n",
    "model.set_params(**clf.best_params_)\n",
    "clfs['Ridge Regression'] = model\n",
    "clfs['Ridge Regression'].fit(X_train, y_train)\n",
    "predictions = model.predict(X_test)\n",
    "acc = accuracy_score(y_test, predictions)\n",
    "print('Ridge Regression update:\\nold accuracy: {} new accuracy: {}'.format(clfs_acc['Ridge Regression'], acc))\n",
    "\n",
    "tmp = model.predict(X_train)\n",
    "clfs_preds['Ridge Regression'] = tmp\n",
    "clfs_props['Ridge Regression'] = np.column_stack((tmp,1-tmp))"
   ]
  },
  {
   "cell_type": "markdown",
   "id": "cheap-asthma",
   "metadata": {},
   "source": [
    "Ada Boost"
   ]
  },
  {
   "cell_type": "code",
   "execution_count": 327,
   "id": "complex-shock",
   "metadata": {},
   "outputs": [
    {
     "name": "stdout",
     "output_type": "stream",
     "text": [
      "Best parameters on testing set:\n",
      "{'algorithm': 'SAMME', 'learning_rate': 0.1, 'n_estimators': 800}\n"
     ]
    }
   ],
   "source": [
    "# Ada Boost parameters tuning by Grid Search\n",
    "params_grid = {\n",
    "    'algorithm': ['SAMME'],\n",
    "    'n_estimators': [10,50,100,150,200,300,500,700,800],\n",
    "    'learning_rate': [0.0001, 0.001, 0.01, 0.1, 1.0]\n",
    "    }\n",
    "clf = GridSearchCV(AdaBoostClassifier(), params_grid, cv=5, scoring='accuracy', n_jobs=12)\n",
    "clf.fit(X_train, y_train)\n",
    "\n",
    "print(\"Best parameters on testing set:\")\n",
    "print(clf.best_params_)"
   ]
  },
  {
   "cell_type": "code",
   "execution_count": 328,
   "id": "mathematical-tender",
   "metadata": {},
   "outputs": [
    {
     "name": "stdout",
     "output_type": "stream",
     "text": [
      "Ada Boost update:\n",
      "old accuracy: 0.6961690885072656 new accuracy: 0.7007926023778072\n"
     ]
    }
   ],
   "source": [
    "# Updating Ada Boost\n",
    "model = AdaBoostClassifier(algorithm='SAMME')\n",
    "model.set_params(**clf.best_params_)\n",
    "clfs['AdaBoost'] = model\n",
    "clfs['AdaBoost'].fit(X_train, y_train)\n",
    "predictions = model.predict(X_test)\n",
    "acc = accuracy_score(y_test, predictions)\n",
    "print('Ada Boost update:\\nold accuracy: {} new accuracy: {}'.format(clfs_acc['AdaBoost'], acc))\n",
    "\n",
    "clfs_preds['AdaBoost'] = model.predict(X_train)\n",
    "clfs_props['AdaBoost'] = model.predict_proba(X_train)"
   ]
  },
  {
   "cell_type": "markdown",
   "id": "isolated-termination",
   "metadata": {},
   "source": [
    "Bernoulli (Naive Bayes)"
   ]
  },
  {
   "cell_type": "code",
   "execution_count": 335,
   "id": "nutritional-authority",
   "metadata": {},
   "outputs": [
    {
     "name": "stdout",
     "output_type": "stream",
     "text": [
      "Best parameters on testing set:\n",
      "{'alpha': 1e-10}\n"
     ]
    }
   ],
   "source": [
    "# Bernoulli (Naive Bayes) parameters tuning by Grid Search\n",
    "params_grid = {'alpha': [1e-10, 1e-09, 1e-08, 1e-07, 1e-06, 1e-05, 0.0001, 0.001, 0.01, 0.1]}\n",
    "clf = GridSearchCV(BernoulliNB(), params_grid, cv=5, scoring='accuracy', n_jobs=12)\n",
    "clf.fit(X_train, y_train)\n",
    "\n",
    "print(\"Best parameters on testing set:\")\n",
    "print(clf.best_params_)"
   ]
  },
  {
   "cell_type": "code",
   "execution_count": 336,
   "id": "velvet-roads",
   "metadata": {},
   "outputs": [
    {
     "name": "stdout",
     "output_type": "stream",
     "text": [
      "Bernouli Naive Bayes update:\n",
      "old accuracy: 0.6882430647291942 new accuracy: 0.6882430647291942\n"
     ]
    }
   ],
   "source": [
    "# Updating BernoulliNB\n",
    "model = BernoulliNB()\n",
    "model.set_params(**clf.best_params_)\n",
    "clfs['Bernouli Naive Bayes'] = model\n",
    "clfs['Bernouli Naive Bayes'].fit(X_train, y_train)\n",
    "predictions = model.predict(X_test)\n",
    "acc = accuracy_score(y_test, predictions)\n",
    "print('Bernouli Naive Bayes update:\\nold accuracy: {} new accuracy: {}'.format(clfs_acc['Bernouli Naive Bayes'], acc))\n",
    "\n",
    "clfs_preds['Bernouli Naive Bayes'] = model.predict(X_train)\n",
    "clfs_props['Bernouli Naive Bayes'] = model.predict_proba(X_train)"
   ]
  },
  {
   "cell_type": "markdown",
   "id": "applicable-exclusion",
   "metadata": {},
   "source": [
    "Gaussain (Naive Bayes)"
   ]
  },
  {
   "cell_type": "code",
   "execution_count": 342,
   "id": "angry-andrews",
   "metadata": {},
   "outputs": [
    {
     "name": "stdout",
     "output_type": "stream",
     "text": [
      "Best parameters on testing set:\n",
      "{'var_smoothing': 1.0}\n"
     ]
    }
   ],
   "source": [
    "# Gaussian (Naive Bayes) parameters tuning by Grid Search\n",
    "params_grid = {'var_smoothing': [1e-10, 1e-09, 1e-08, 1e-07, 1e-06, 1e-05, 0.0001, 0.001, 0.01, 0.1, 1.0, 10.]}\n",
    "clf = GridSearchCV(GaussianNB(), params_grid, cv=5, scoring='accuracy', n_jobs=12)\n",
    "clf.fit(X_train, y_train)\n",
    "\n",
    "print(\"Best parameters on testing set:\")\n",
    "print(clf.best_params_)"
   ]
  },
  {
   "cell_type": "code",
   "execution_count": 343,
   "id": "outstanding-radius",
   "metadata": {},
   "outputs": [
    {
     "name": "stdout",
     "output_type": "stream",
     "text": [
      "Gaussian Naive Bayes update:\n",
      "old accuracy: 0.6895640686922061 new accuracy: 0.6928665785997358\n"
     ]
    }
   ],
   "source": [
    "# Updating GaussianNB\n",
    "model = GaussianNB()\n",
    "model.set_params(**clf.best_params_)\n",
    "clfs['Gaussian Naive Bayes'] = model\n",
    "clfs['Gaussian Naive Bayes'].fit(X_train, y_train)\n",
    "predictions = model.predict(X_test)\n",
    "acc = accuracy_score(y_test, predictions)\n",
    "print('Gaussian Naive Bayes update:\\nold accuracy: {} new accuracy: {}'.format(clfs_acc['Gaussian Naive Bayes'], acc))\n",
    "\n",
    "clfs_preds['Gaussian Naive Bayes'] = model.predict(X_train)\n",
    "clfs_props['Gaussian Naive Bayes'] = model.predict_proba(X_train)"
   ]
  },
  {
   "cell_type": "markdown",
   "id": "bibliographic-bulletin",
   "metadata": {},
   "source": [
    "Multinomial (Naive Bayes)"
   ]
  },
  {
   "cell_type": "code",
   "execution_count": 338,
   "id": "aquatic-manitoba",
   "metadata": {},
   "outputs": [
    {
     "name": "stdout",
     "output_type": "stream",
     "text": [
      "Best parameters on testing set:\n",
      "{'alpha': 1e-10}\n"
     ]
    }
   ],
   "source": [
    "# Multinomial (Naive Bayes) parameters tuning by Grid Search\n",
    "params_grid = {'alpha': [1e-10, 1e-09, 1e-08, 1e-07, 1e-06, 1e-05, 0.0001, 0.001, 0.01, 0.1]}\n",
    "clf = GridSearchCV(MultinomialNB(), params_grid, cv=5, scoring='accuracy', n_jobs=12)\n",
    "clf.fit(X_train, y_train)\n",
    "\n",
    "print(\"Best parameters on testing set:\")\n",
    "print(clf.best_params_)"
   ]
  },
  {
   "cell_type": "code",
   "execution_count": 339,
   "id": "alien-stationery",
   "metadata": {},
   "outputs": [
    {
     "name": "stdout",
     "output_type": "stream",
     "text": [
      "Multinomial Naive Bayes update:\n",
      "old accuracy: 0.6981505944517834 new accuracy: 0.6981505944517834\n"
     ]
    }
   ],
   "source": [
    "# Updating MultinomialNB\n",
    "model = MultinomialNB()\n",
    "model.set_params(**clf.best_params_)\n",
    "clfs['Multinomial Naive Bayes'] = model\n",
    "clfs['Multinomial Naive Bayes'].fit(X_train, y_train)\n",
    "predictions = model.predict(X_test)\n",
    "acc = accuracy_score(y_test, predictions)\n",
    "print('Multinomial Naive Bayes update:\\nold accuracy: {} new accuracy: {}'.format(clfs_acc['Multinomial Naive Bayes'], acc))\n",
    "\n",
    "clfs_preds['Multinomial Naive Bayes'] = model.predict(X_train)\n",
    "clfs_props['Multinomial Naive Bayes'] = model.predict_proba(X_train)"
   ]
  },
  {
   "cell_type": "markdown",
   "id": "dying-shoulder",
   "metadata": {},
   "source": [
    "KNN"
   ]
  },
  {
   "cell_type": "code",
   "execution_count": 306,
   "id": "partial-democracy",
   "metadata": {},
   "outputs": [
    {
     "name": "stdout",
     "output_type": "stream",
     "text": [
      "Best parameters on testing set:\n",
      "{'n_neighbors': 48}\n"
     ]
    }
   ],
   "source": [
    "# KNN parameters tuning by Grid Search\n",
    "params_grid = {'n_neighbors': [10, 11, 12, 13, 14, 15, 16, 17, 18, 19, 20, 21, 22, 23, 24, 25, 26, 27, 28, 29, 30, 31, 32, 33, 34, 35, 36, 37, 38, 39, 40, 41, 42, 43, 44, 45, 46, 47, 48, 49, 50]}\n",
    "clf = GridSearchCV(KNeighborsClassifier(), params_grid, cv=5, scoring='accuracy', n_jobs=12)\n",
    "clf.fit(X_train, y_train)\n",
    "\n",
    "print(\"Best parameters on testing set:\")\n",
    "print(clf.best_params_)"
   ]
  },
  {
   "cell_type": "code",
   "execution_count": 346,
   "id": "infrared-printer",
   "metadata": {},
   "outputs": [
    {
     "name": "stdout",
     "output_type": "stream",
     "text": [
      "KNN update:\n",
      "old accuracy: 0.5937912813738441 new accuracy: 0.6756935270805813\n"
     ]
    }
   ],
   "source": [
    "# Updating KNN\n",
    "model = KNeighborsClassifier()\n",
    "model.set_params(**clf.best_params_)\n",
    "clfs['KNN'] = model\n",
    "clfs['KNN'].fit(X_train, y_train)\n",
    "predictions = model.predict(X_test)\n",
    "acc = accuracy_score(y_test, predictions)\n",
    "print('KNN update:\\nold accuracy: {} new accuracy: {}'.format(clfs_acc['KNN'], acc))\n",
    "\n",
    "clfs_preds['KNN'] = model.predict(X_train)\n",
    "clfs_props['KNN'] = model.predict_proba(X_train)"
   ]
  },
  {
   "cell_type": "markdown",
   "id": "appropriate-curtis",
   "metadata": {},
   "source": [
    "MLP"
   ]
  },
  {
   "cell_type": "code",
   "execution_count": 134,
   "id": "velvet-highland",
   "metadata": {},
   "outputs": [
    {
     "name": "stdout",
     "output_type": "stream",
     "text": [
      "Best parameters on testing set:\n",
      "{'activation': 'tanh', 'alpha': 0.0005, 'hidden_layer_sizes': 45, 'learning_rate': 'adaptive', 'max_iter': 300, 'random_state': 42, 'solver': 'sgd'}\n"
     ]
    },
    {
     "name": "stderr",
     "output_type": "stream",
     "text": [
      "/home/maurykdell/.local/lib/python3.8/site-packages/sklearn/neural_network/_multilayer_perceptron.py:582: ConvergenceWarning: Stochastic Optimizer: Maximum iterations (300) reached and the optimization hasn't converged yet.\n",
      "  warnings.warn(\n"
     ]
    }
   ],
   "source": [
    "# MLP parameters tuning by Grid Search\n",
    "params_grid = {\n",
    "    'hidden_layer_sizes': [10, 15, 20, 25, 30, 35, 40, 45],\n",
    "    'activation': ['tanh', 'relu'],\n",
    "    'solver': ['sgd', 'adam'],\n",
    "    'alpha': [0.0001,0.0005,0.001,0.01],\n",
    "    'learning_rate': ['constant','adaptive'],\n",
    "    'random_state': [42],\n",
    "    'max_iter': [300]\n",
    "}\n",
    "clf = GridSearchCV(MLPClassifier(), params_grid, cv=5, scoring='accuracy', n_jobs=12)\n",
    "clf.fit(X_train, y_train)\n",
    "\n",
    "print(\"Best parameters on testing set:\")\n",
    "print(clf.best_params_)"
   ]
  },
  {
   "cell_type": "code",
   "execution_count": 349,
   "id": "japanese-clearance",
   "metadata": {},
   "outputs": [
    {
     "name": "stdout",
     "output_type": "stream",
     "text": [
      "MLP update:\n",
      "old accuracy: 0.6268163804491413 new accuracy: 0.7107001321003963\n"
     ]
    }
   ],
   "source": [
    "# Updating MLP\n",
    "model = MLPClassifier()\n",
    "model.set_params(**clf.best_params_)\n",
    "clfs['MLP'] = model\n",
    "clfs['MLP'].fit(X_train, y_train)\n",
    "predictions = model.predict(X_test)\n",
    "acc = accuracy_score(y_test, predictions)\n",
    "print('MLP update:\\nold accuracy: {} new accuracy: {}'.format(clfs_acc['MLP'], acc))\n",
    "\n",
    "clfs_preds['MLP'] = model.predict(X_train)\n",
    "clfs_props['MLP'] = model.predict_proba(X_train)"
   ]
  },
  {
   "cell_type": "markdown",
   "id": "employed-lebanon",
   "metadata": {},
   "source": [
    "### Intro to Model Stacking"
   ]
  },
  {
   "cell_type": "markdown",
   "id": "rising-weight",
   "metadata": {},
   "source": [
    "Given many models we can try to combine them. We can add their predictions to each sample and then use other, meta classifier on extended dataset, this method is called **Model Stacking**.\n",
    "\n",
    "Let's see the dependencies between the assumptions of individual classifiers:"
   ]
  },
  {
   "cell_type": "code",
   "execution_count": 350,
   "id": "demanding-underground",
   "metadata": {},
   "outputs": [
    {
     "name": "stderr",
     "output_type": "stream",
     "text": [
      "/home/maurykdell/.local/lib/python3.8/site-packages/seaborn/axisgrid.py:645: UserWarning: Using the countplot function without specifying `order` is likely to produce an incorrect plot.\n",
      "  warnings.warn(warning)\n"
     ]
    },
    {
     "data": {
      "image/png": "[encoded data removed]",
      "text/plain": [
       "<Figure size 648x648 with 9 Axes>"
      ]
     },
     "metadata": {
      "needs_background": "light"
     },
     "output_type": "display_data"
    }
   ],
   "source": [
    "# Visualization and comparison the frequency of predicted match results\n",
    "all_preds_flat = pd.melt(pd.DataFrame.from_dict(clfs_preds))\n",
    "g = sns.FacetGrid(all_preds_flat, col='variable', col_wrap=3, sharex=False, sharey=False)\n",
    "g = g.map(sns.countplot, 'value')\n",
    "plt.show()"
   ]
  },
  {
   "cell_type": "code",
   "execution_count": 351,
   "id": "functional-scheme",
   "metadata": {},
   "outputs": [
    {
     "data": {
      "image/png": "[encoded data removed]",
      "text/plain": [
       "<Figure size 432x288 with 2 Axes>"
      ]
     },
     "metadata": {
      "needs_background": "light"
     },
     "output_type": "display_data"
    }
   ],
   "source": [
    "# Visualization of correlation between individual classifiers\n",
    "\n",
    "preds_df = pd.DataFrame.from_dict(clfs_preds)\n",
    "sns.heatmap(preds_df.corr())\n",
    "plt.show()"
   ]
  },
  {
   "cell_type": "markdown",
   "id": "desirable-memorabilia",
   "metadata": {},
   "source": [
    "Particular classifiers provide different information, combining them into a stacked model can give promising results.\n",
    "\n",
    "The above heatmap shows that it is not profitable to use eg Logistic Regression and Ridge Regression as an additional column in the stacked model. This can lead to overfitting."
   ]
  },
  {
   "cell_type": "markdown",
   "id": "sharing-hydrogen",
   "metadata": {},
   "source": [
    "### Model Stacking"
   ]
  },
  {
   "cell_type": "markdown",
   "id": "interested-neighborhood",
   "metadata": {},
   "source": [
    "Our meta classifier will be XGBClassifier. First layer classifiers we trained in the previous section and now choose the least correlated.\n",
    "\n",
    "We add classifiers predictions to the original training dataset:"
   ]
  },
  {
   "cell_type": "code",
   "execution_count": 403,
   "id": "independent-envelope",
   "metadata": {},
   "outputs": [],
   "source": [
    "test_props = {}\n",
    "\n",
    "for (clf_n, clf) in clfs.items():\n",
    "    if clf_n != 'Ridge Regression':\n",
    "        test_props[clf_n] = clf.predict_proba(X_test)\n",
    "        clfs_props[clf_n] = clf.predict_proba(X_train)\n",
    "    else:\n",
    "        test_props[clf_n] = clf.predict(X_test)\n",
    "        clfs_props[clf_n] = clf.predict(X_train)\n",
    "\n",
    "for (clf_n, clf) in clfs.items():\n",
    "    if test_props[clf_n].size == 2*X_test.shape[0]:\n",
    "        test_props[clf_n] = test_props[clf_n][:,0]\n",
    "    if clfs_props[clf_n].size == 2*X_train.shape[0]:\n",
    "        clfPoniższe wyniki są przy zastosowaniu wszystkich klasyfikatorów w 1. warstwie, widać tutaj ewidentnie overfitting, bardzo szybko osiągamy 99% accuracy na  zbiorze uczącym, ale na testowym mamy  < 70%s_props[clf_n] = clfs_props[clf_n][:,0]\n",
    "\n",
    "# Bad idea\n",
    "test_props_dfALL = pd.DataFrame.from_dict(test_props)\n",
    "props_dfALL = pd.DataFrame.from_dict(clfs_props)\n",
    "\n",
    "X_testALL = X_test.copy()\n",
    "X_trainALL = X_train.copy()\n",
    "X_testALL.reset_index(drop=True, inplace=True)\n",
    "X_trainALL.reset_index(drop=True, inplace=True)\n",
    "test_props_dfALL.reset_index(drop=True, inplace=True)\n",
    "props_dfALL.reset_index(drop=True, inplace=True)\n",
    "\n",
    "X_te_extendedALL = X_testALL.join(test_props_dfALL)\n",
    "X_tr_extendedALL = X_trainALL.join(props_dfALL)\n",
    "\n",
    "# We want to avoid overfitting, we add the least correlated classifiers\n",
    "active_clfs = ['Logistic Regression', 'KNN', 'Gaussian Naive Bayes', 'MLP', 'AdaBoost']\n",
    "\n",
    "for (clf_n, clf) in clfs.items():\n",
    "    if clf_n not in active_clfs:\n",
    "        del test_props[clf_n]\n",
    "        del clfs_props[clf_n]\n",
    "\n",
    "test_props_df = pd.DataFrame.from_dict(test_props)\n",
    "props_df = pd.DataFrame.from_dict(clfs_props)\n",
    "\n",
    "X_test.reset_index(drop=True, inplace=True)\n",
    "X_train.reset_index(drop=True, inplace=True)\n",
    "test_props_df.reset_index(drop=True, inplace=True)\n",
    "props_df.reset_index(drop=True, inplace=True)\n",
    "\n",
    "X_te_extended = X_test.join(test_props_df)\n",
    "X_tr_extended = X_train.join(props_df)"
   ]
  },
  {
   "cell_type": "markdown",
   "id": "convinced-serve",
   "metadata": {},
   "source": [
    "### Bayesian optimization over hyper parameters"
   ]
  },
  {
   "cell_type": "markdown",
   "id": "acting-malpractice",
   "metadata": {},
   "source": [
    "The search space may turn out to be too large or too little precise. Instead of GridSearch we will use Bayesian Optimazation:"
   ]
  },
  {
   "cell_type": "code",
   "execution_count": 455,
   "id": "atmospheric-reform",
   "metadata": {},
   "outputs": [],
   "source": [
    "bayes_cv_tuner = BayesSearchCV(\n",
    "    estimator = XGBClassifier(\n",
    "        n_jobs = 1,\n",
    "        objective = 'binary:logistic',\n",
    "        eval_metric = 'auc',\n",
    "        silent=1,\n",
    "        tree_method='approx'\n",
    "    ),\n",
    "    search_spaces = {\n",
    "        'learning_rate': (0.01, 1.0, 'log-uniform'),\n",
    "        'min_child_weight': (0, 10),\n",
    "        'max_depth': (1, 6),\n",
    "        'max_delta_step': (0, 20),\n",
    "        'subsample': (0.01, 1.0, 'uniform'),\n",
    "        'colsample_bytree': (0.01, 0.8, 'uniform'),\n",
    "        'colsample_bylevel': (0.01, 0.8, 'uniform'),\n",
    "        'reg_lambda': (1e-9, 1000.0, 'log-uniform'),\n",
    "        'reg_alpha': (1e-9, 1.0, 'log-uniform'),\n",
    "        'gamma': (1e-9, 0.5, 'log-uniform'),\n",
    "        'min_child_weight': (0, 5),\n",
    "        'n_estimators': (50, 140),\n",
    "        'scale_pos_weight': (1e-6, 500.0, 'log-uniform')\n",
    "    },    \n",
    "    scoring = 'accuracy',\n",
    "    cv = StratifiedKFold(\n",
    "        n_splits=5,\n",
    "        shuffle=True,\n",
    "        random_state=42\n",
    "    ),\n",
    "    n_jobs = 12,\n",
    "    n_iter = 10,   \n",
    "    verbose = 0,\n",
    "    refit = True,\n",
    "    random_state = 42\n",
    ")\n",
    "\n",
    "def status_print(optim_result):\n",
    "    all_models = pd.DataFrame(bayes_cv_tuner.cv_results_)    \n",
    "    \n",
    "    best_params = pd.Series(bayes_cv_tuner.best_params_)\n",
    "    print('Model #{}\\nBest: {}\\nBest params: {}\\n'.format(\n",
    "        len(all_models),\n",
    "        np.round(bayes_cv_tuner.best_score_, 4),\n",
    "        bayes_cv_tuner.best_params_\n",
    "    ))\n"
   ]
  },
  {
   "cell_type": "markdown",
   "id": "exempt-national",
   "metadata": {},
   "source": [
    "The following results are used with all classifiers in the 1st layer, you can clearly see overfitting here, we achieve 99% accuracy very quickly on the training set, but on the test set we have <70%: "
   ]
  },
  {
   "cell_type": "code",
   "execution_count": 405,
   "id": "ambient-rebecca",
   "metadata": {
    "collapsed": true,
    "jupyter": {
     "outputs_hidden": true
    }
   },
   "outputs": [
    {
     "name": "stdout",
     "output_type": "stream",
     "text": [
      "Model #1\n",
      "Best: 0.9887\n",
      "Best params: OrderedDict([('colsample_bylevel', 0.2724665336661209), ('colsample_bytree', 0.4757444756334881), ('gamma', 0.13031389926541354), ('learning_rate', 0.042815319280763466), ('max_delta_step', 13), ('max_depth', 3), ('min_child_weight', 2), ('n_estimators', 89), ('reg_alpha', 5.497557739289786e-07), ('reg_lambda', 0.05936070635912049), ('scale_pos_weight', 0.060830282487222144), ('subsample', 0.13556548021189216)])\n",
      "\n",
      "Model #2\n",
      "Best: 0.9922\n",
      "Best params: OrderedDict([('colsample_bylevel', 0.545928547554102), ('colsample_bytree', 0.5753217775237519), ('gamma', 4.358684608480795e-07), ('learning_rate', 0.7988179462781242), ('max_delta_step', 17), ('max_depth', 1), ('min_child_weight', 1), ('n_estimators', 58), ('reg_alpha', 0.0005266983003701547), ('reg_lambda', 276.5424475574225), ('scale_pos_weight', 0.3016410771843142), ('subsample', 0.9923710598637134)])\n",
      "\n",
      "Model #3\n",
      "Best: 0.9922\n",
      "Best params: OrderedDict([('colsample_bylevel', 0.545928547554102), ('colsample_bytree', 0.5753217775237519), ('gamma', 4.358684608480795e-07), ('learning_rate', 0.7988179462781242), ('max_delta_step', 17), ('max_depth', 1), ('min_child_weight', 1), ('n_estimators', 58), ('reg_alpha', 0.0005266983003701547), ('reg_lambda', 276.5424475574225), ('scale_pos_weight', 0.3016410771843142), ('subsample', 0.9923710598637134)])\n",
      "\n",
      "Model #4\n",
      "Best: 0.9922\n",
      "Best params: OrderedDict([('colsample_bylevel', 0.545928547554102), ('colsample_bytree', 0.5753217775237519), ('gamma', 4.358684608480795e-07), ('learning_rate', 0.7988179462781242), ('max_delta_step', 17), ('max_depth', 1), ('min_child_weight', 1), ('n_estimators', 58), ('reg_alpha', 0.0005266983003701547), ('reg_lambda', 276.5424475574225), ('scale_pos_weight', 0.3016410771843142), ('subsample', 0.9923710598637134)])\n",
      "\n",
      "Model #5\n",
      "Best: 0.9923\n",
      "Best params: OrderedDict([('colsample_bylevel', 0.5217142026285908), ('colsample_bytree', 0.290338679322191), ('gamma', 3.811128976537413e-05), ('learning_rate', 0.2700390206185342), ('max_delta_step', 18), ('max_depth', 5), ('min_child_weight', 2), ('n_estimators', 82), ('reg_alpha', 1.5057560255472018e-06), ('reg_lambda', 0.08186810622382998), ('scale_pos_weight', 0.029004593634154585), ('subsample', 0.8835665823899177)])\n",
      "\n",
      "Model #6\n",
      "Best: 0.9942\n",
      "Best params: OrderedDict([('colsample_bylevel', 0.47977793151076376), ('colsample_bytree', 0.6111966320657739), ('gamma', 2.6498051478267012e-08), ('learning_rate', 0.0238149998729586), ('max_delta_step', 16), ('max_depth', 3), ('min_child_weight', 2), ('n_estimators', 73), ('reg_alpha', 0.011683028450342707), ('reg_lambda', 0.0048879464985534336), ('scale_pos_weight', 0.13267482411031659), ('subsample', 0.5689543694097536)])\n",
      "\n",
      "Model #7\n",
      "Best: 0.9978\n",
      "Best params: OrderedDict([('colsample_bylevel', 0.4049307894414825), ('colsample_bytree', 0.5062332024498448), ('gamma', 1.3277909848852635e-06), ('learning_rate', 0.5605967693796124), ('max_delta_step', 12), ('max_depth', 4), ('min_child_weight', 3), ('n_estimators', 64), ('reg_alpha', 0.004026635957416632), ('reg_lambda', 0.040887904512512056), ('scale_pos_weight', 109.72255122430063), ('subsample', 0.6612742297240571)])\n",
      "\n",
      "Model #8\n",
      "Best: 0.9978\n",
      "Best params: OrderedDict([('colsample_bylevel', 0.4049307894414825), ('colsample_bytree', 0.5062332024498448), ('gamma', 1.3277909848852635e-06), ('learning_rate', 0.5605967693796124), ('max_delta_step', 12), ('max_depth', 4), ('min_child_weight', 3), ('n_estimators', 64), ('reg_alpha', 0.004026635957416632), ('reg_lambda', 0.040887904512512056), ('scale_pos_weight', 109.72255122430063), ('subsample', 0.6612742297240571)])\n",
      "\n",
      "Model #9\n",
      "Best: 0.9978\n",
      "Best params: OrderedDict([('colsample_bylevel', 0.4049307894414825), ('colsample_bytree', 0.5062332024498448), ('gamma', 1.3277909848852635e-06), ('learning_rate', 0.5605967693796124), ('max_delta_step', 12), ('max_depth', 4), ('min_child_weight', 3), ('n_estimators', 64), ('reg_alpha', 0.004026635957416632), ('reg_lambda', 0.040887904512512056), ('scale_pos_weight', 109.72255122430063), ('subsample', 0.6612742297240571)])\n",
      "\n",
      "Model #10\n",
      "Best: 0.9978\n",
      "Best params: OrderedDict([('colsample_bylevel', 0.4049307894414825), ('colsample_bytree', 0.5062332024498448), ('gamma', 1.3277909848852635e-06), ('learning_rate', 0.5605967693796124), ('max_delta_step', 12), ('max_depth', 4), ('min_child_weight', 3), ('n_estimators', 64), ('reg_alpha', 0.004026635957416632), ('reg_lambda', 0.040887904512512056), ('scale_pos_weight', 109.72255122430063), ('subsample', 0.6612742297240571)])\n",
      "\n",
      "[20:26:06] WARNING: ../src/learner.cc:541: \n",
      "Parameters: { silent } might not be used.\n",
      "\n",
      "  This may not be accurate due to some parameters are only used in language bindings but\n",
      "  passed down to XGBoost core.  Or some parameters are not used but slip through this\n",
      "  verification. Please open an issue if you find above cases.\n",
      "\n",
      "\n"
     ]
    },
    {
     "name": "stderr",
     "output_type": "stream",
     "text": [
      "/home/maurykdell/.local/lib/python3.8/site-packages/xgboost/sklearn.py:888: UserWarning: The use of label encoder in XGBClassifier is deprecated and will be removed in a future release. To remove this warning, do the following: 1) Pass option use_label_encoder=False when constructing XGBClassifier object; and 2) Encode your labels (y) as integers starting with 0, i.e. 0, 1, 2, ..., [num_class - 1].\n",
      "  warnings.warn(label_encoder_deprecation_msg, UserWarning)\n"
     ]
    }
   ],
   "source": [
    "result = bayes_cv_tuner.fit(X_tr_extendedALL.values, y_train.values, callback=status_print)"
   ]
  },
  {
   "cell_type": "code",
   "execution_count": 406,
   "id": "auburn-mexican",
   "metadata": {},
   "outputs": [],
   "source": [
    "model = XGBClassifier(**bayes_cv_tuner.best_params_)"
   ]
  },
  {
   "cell_type": "code",
   "execution_count": 407,
   "id": "bored-ukraine",
   "metadata": {},
   "outputs": [
    {
     "name": "stdout",
     "output_type": "stream",
     "text": [
      "[20:26:08] WARNING: ../src/learner.cc:1061: Starting in XGBoost 1.3.0, the default evaluation metric used with the objective 'binary:logistic' was changed from 'error' to 'logloss'. Explicitly set eval_metric if you'd like to restore the old behavior.\n"
     ]
    },
    {
     "data": {
      "text/plain": [
       "XGBClassifier(base_score=0.5, booster='gbtree',\n",
       "              colsample_bylevel=0.4049307894414825, colsample_bynode=1,\n",
       "              colsample_bytree=0.5062332024498448, gamma=1.3277909848852635e-06,\n",
       "              gpu_id=-1, importance_type='gain', interaction_constraints='',\n",
       "              learning_rate=0.5605967693796124, max_delta_step=12, max_depth=4,\n",
       "              min_child_weight=3, missing=nan, monotone_constraints='()',\n",
       "              n_estimators=64, n_jobs=12, num_parallel_tree=1, random_state=0,\n",
       "              reg_alpha=0.004026635957416632, reg_lambda=0.040887904512512056,\n",
       "              scale_pos_weight=109.72255122430063, subsample=0.6612742297240571,\n",
       "              tree_method='exact', validate_parameters=1, verbosity=None)"
      ]
     },
     "execution_count": 407,
     "metadata": {},
     "output_type": "execute_result"
    }
   ],
   "source": [
    "model.fit(X_tr_extendedALL.values,y_train.values)"
   ]
  },
  {
   "cell_type": "code",
   "execution_count": 409,
   "id": "ambient-alarm",
   "metadata": {},
   "outputs": [
    {
     "name": "stdout",
     "output_type": "stream",
     "text": [
      "0.6862615587846763\n"
     ]
    }
   ],
   "source": [
    "predictions = model.predict(X_te_extendedALL.values)\n",
    "acc = accuracy_score(y_test, predictions)\n",
    "print(acc)"
   ]
  },
  {
   "cell_type": "markdown",
   "id": "acceptable-wisconsin",
   "metadata": {},
   "source": [
    "Here are our final results, the selection of the Bayesian Optimizer search space was done experimentally. The most important (to avoid overfitting), it turned out: *max_depth*, *n_estimators* and *colsample_bytree*:"
   ]
  },
  {
   "cell_type": "code",
   "execution_count": 456,
   "id": "civic-resistance",
   "metadata": {},
   "outputs": [
    {
     "name": "stdout",
     "output_type": "stream",
     "text": [
      "Model #1\n",
      "Best: 0.5293\n",
      "Best params: OrderedDict([('colsample_bylevel', 0.333982127494118), ('colsample_bytree', 0.5849033371100868), ('gamma', 0.13031389926541354), ('learning_rate', 0.042815319280763466), ('max_delta_step', 13), ('max_depth', 3), ('min_child_weight', 2), ('n_estimators', 117), ('reg_alpha', 5.497557739289786e-07), ('reg_lambda', 0.05936070635912049), ('scale_pos_weight', 0.060830282487222144), ('subsample', 0.13556548021189216)])\n",
      "\n",
      "Model #2\n",
      "Best: 0.6465\n",
      "Best params: OrderedDict([('colsample_bylevel', 0.6715368008870947), ('colsample_bytree', 0.7078190691308812), ('gamma', 4.358684608480795e-07), ('learning_rate', 0.7988179462781242), ('max_delta_step', 17), ('max_depth', 1), ('min_child_weight', 1), ('n_estimators', 82), ('reg_alpha', 0.0005266983003701547), ('reg_lambda', 276.5424475574225), ('scale_pos_weight', 0.3016410771843142), ('subsample', 0.9923710598637134)])\n",
      "\n",
      "Model #3\n",
      "Best: 0.7114\n",
      "Best params: OrderedDict([('colsample_bylevel', 0.36141768471790997), ('colsample_bytree', 0.7357907921188079), ('gamma', 8.168958221061441e-09), ('learning_rate', 0.07356404539935663), ('max_delta_step', 4), ('max_depth', 3), ('min_child_weight', 1), ('n_estimators', 118), ('reg_alpha', 0.00010376808625045426), ('reg_lambda', 476.96194787286544), ('scale_pos_weight', 1.3165669602830552), ('subsample', 0.387658500562527)])\n",
      "\n",
      "Model #4\n",
      "Best: 0.7114\n",
      "Best params: OrderedDict([('colsample_bylevel', 0.36141768471790997), ('colsample_bytree', 0.7357907921188079), ('gamma', 8.168958221061441e-09), ('learning_rate', 0.07356404539935663), ('max_delta_step', 4), ('max_depth', 3), ('min_child_weight', 1), ('n_estimators', 118), ('reg_alpha', 0.00010376808625045426), ('reg_lambda', 476.96194787286544), ('scale_pos_weight', 1.3165669602830552), ('subsample', 0.387658500562527)])\n",
      "\n",
      "Model #5\n",
      "Best: 0.7114\n",
      "Best params: OrderedDict([('colsample_bylevel', 0.36141768471790997), ('colsample_bytree', 0.7357907921188079), ('gamma', 8.168958221061441e-09), ('learning_rate', 0.07356404539935663), ('max_delta_step', 4), ('max_depth', 3), ('min_child_weight', 1), ('n_estimators', 118), ('reg_alpha', 0.00010376808625045426), ('reg_lambda', 476.96194787286544), ('scale_pos_weight', 1.3165669602830552), ('subsample', 0.387658500562527)])\n",
      "\n",
      "Model #6\n",
      "Best: 0.7114\n",
      "Best params: OrderedDict([('colsample_bylevel', 0.36141768471790997), ('colsample_bytree', 0.7357907921188079), ('gamma', 8.168958221061441e-09), ('learning_rate', 0.07356404539935663), ('max_delta_step', 4), ('max_depth', 3), ('min_child_weight', 1), ('n_estimators', 118), ('reg_alpha', 0.00010376808625045426), ('reg_lambda', 476.96194787286544), ('scale_pos_weight', 1.3165669602830552), ('subsample', 0.387658500562527)])\n",
      "\n",
      "Model #7\n",
      "Best: 0.7114\n",
      "Best params: OrderedDict([('colsample_bylevel', 0.36141768471790997), ('colsample_bytree', 0.7357907921188079), ('gamma', 8.168958221061441e-09), ('learning_rate', 0.07356404539935663), ('max_delta_step', 4), ('max_depth', 3), ('min_child_weight', 1), ('n_estimators', 118), ('reg_alpha', 0.00010376808625045426), ('reg_lambda', 476.96194787286544), ('scale_pos_weight', 1.3165669602830552), ('subsample', 0.387658500562527)])\n",
      "\n",
      "Model #8\n",
      "Best: 0.7114\n",
      "Best params: OrderedDict([('colsample_bylevel', 0.36141768471790997), ('colsample_bytree', 0.7357907921188079), ('gamma', 8.168958221061441e-09), ('learning_rate', 0.07356404539935663), ('max_delta_step', 4), ('max_depth', 3), ('min_child_weight', 1), ('n_estimators', 118), ('reg_alpha', 0.00010376808625045426), ('reg_lambda', 476.96194787286544), ('scale_pos_weight', 1.3165669602830552), ('subsample', 0.387658500562527)])\n",
      "\n",
      "Model #9\n",
      "Best: 0.7114\n",
      "Best params: OrderedDict([('colsample_bylevel', 0.36141768471790997), ('colsample_bytree', 0.7357907921188079), ('gamma', 8.168958221061441e-09), ('learning_rate', 0.07356404539935663), ('max_delta_step', 4), ('max_depth', 3), ('min_child_weight', 1), ('n_estimators', 118), ('reg_alpha', 0.00010376808625045426), ('reg_lambda', 476.96194787286544), ('scale_pos_weight', 1.3165669602830552), ('subsample', 0.387658500562527)])\n",
      "\n",
      "Model #10\n",
      "Best: 0.7114\n",
      "Best params: OrderedDict([('colsample_bylevel', 0.36141768471790997), ('colsample_bytree', 0.7357907921188079), ('gamma', 8.168958221061441e-09), ('learning_rate', 0.07356404539935663), ('max_delta_step', 4), ('max_depth', 3), ('min_child_weight', 1), ('n_estimators', 118), ('reg_alpha', 0.00010376808625045426), ('reg_lambda', 476.96194787286544), ('scale_pos_weight', 1.3165669602830552), ('subsample', 0.387658500562527)])\n",
      "\n",
      "[20:39:28] WARNING: ../src/learner.cc:541: \n",
      "Parameters: { silent } might not be used.\n",
      "\n",
      "  This may not be accurate due to some parameters are only used in language bindings but\n",
      "  passed down to XGBoost core.  Or some parameters are not used but slip through this\n",
      "  verification. Please open an issue if you find above cases.\n",
      "\n",
      "\n"
     ]
    },
    {
     "name": "stderr",
     "output_type": "stream",
     "text": [
      "/home/maurykdell/.local/lib/python3.8/site-packages/xgboost/sklearn.py:888: UserWarning: The use of label encoder in XGBClassifier is deprecated and will be removed in a future release. To remove this warning, do the following: 1) Pass option use_label_encoder=False when constructing XGBClassifier object; and 2) Encode your labels (y) as integers starting with 0, i.e. 0, 1, 2, ..., [num_class - 1].\n",
      "  warnings.warn(label_encoder_deprecation_msg, UserWarning)\n"
     ]
    }
   ],
   "source": [
    "result = bayes_cv_tuner.fit(X_tr_extended.values, y_train.values, callback=status_print)"
   ]
  },
  {
   "cell_type": "code",
   "execution_count": 457,
   "id": "second-scenario",
   "metadata": {},
   "outputs": [],
   "source": [
    "model = XGBClassifier(**bayes_cv_tuner.best_params_)"
   ]
  },
  {
   "cell_type": "code",
   "execution_count": 458,
   "id": "israeli-mediterranean",
   "metadata": {},
   "outputs": [
    {
     "name": "stdout",
     "output_type": "stream",
     "text": [
      "[20:39:32] WARNING: ../src/learner.cc:1061: Starting in XGBoost 1.3.0, the default evaluation metric used with the objective 'binary:logistic' was changed from 'error' to 'logloss'. Explicitly set eval_metric if you'd like to restore the old behavior.\n"
     ]
    },
    {
     "data": {
      "text/plain": [
       "XGBClassifier(base_score=0.5, booster='gbtree',\n",
       "              colsample_bylevel=0.36141768471790997, colsample_bynode=1,\n",
       "              colsample_bytree=0.7357907921188079, gamma=8.168958221061441e-09,\n",
       "              gpu_id=-1, importance_type='gain', interaction_constraints='',\n",
       "              learning_rate=0.07356404539935663, max_delta_step=4, max_depth=3,\n",
       "              min_child_weight=1, missing=nan, monotone_constraints='()',\n",
       "              n_estimators=118, n_jobs=12, num_parallel_tree=1, random_state=0,\n",
       "              reg_alpha=0.00010376808625045426, reg_lambda=476.96194787286544,\n",
       "              scale_pos_weight=1.3165669602830552, subsample=0.387658500562527,\n",
       "              tree_method='exact', validate_parameters=1, verbosity=None)"
      ]
     },
     "execution_count": 458,
     "metadata": {},
     "output_type": "execute_result"
    }
   ],
   "source": [
    "model.fit(X_tr_extended.values,y_train.values)"
   ]
  },
  {
   "cell_type": "code",
   "execution_count": 459,
   "id": "revised-needle",
   "metadata": {},
   "outputs": [
    {
     "name": "stdout",
     "output_type": "stream",
     "text": [
      "0.7219286657859973\n"
     ]
    }
   ],
   "source": [
    "predictions = model.predict(X_te_extended.values)\n",
    "acc = accuracy_score(y_test, predictions)\n",
    "print(acc)"
   ]
  },
  {
   "cell_type": "markdown",
   "id": "congressional-mining",
   "metadata": {},
   "source": [
    "## Conclusions"
   ]
  },
  {
   "cell_type": "markdown",
   "id": "exciting-colors",
   "metadata": {},
   "source": [
    "League of Legends is an esports game, so it would be strange if the result of the game could be decided in its first period (10 minutes). Perhaps, it would be possible to reach 74% +/- 1% (such best results were achieved by others on similar data).\n",
    "\n",
    "\n",
    "This project taught us a lot to handle data, analyze it and collect it, we are most satisfied with our results, more about the data analysis and results in the second notebook."
   ]
  }
 ],
 "metadata": {
  "kernelspec": {
   "display_name": "Python 3",
   "language": "python",
   "name": "python3"
  },
  "language_info": {
   "codemirror_mode": {
    "name": "ipython",
    "version": 3
   },
   "file_extension": ".py",
   "mimetype": "text/x-python",
   "name": "python",
   "nbconvert_exporter": "python",
   "pygments_lexer": "ipython3",
   "version": "3.8.5"
  }
 },
 "nbformat": 4,
 "nbformat_minor": 5
}
