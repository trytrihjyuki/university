{
 "cells": [
  {
   "cell_type": "markdown",
   "metadata": {},
   "source": [
    "Init"
   ]
  },
  {
   "cell_type": "code",
   "execution_count": 11,
   "metadata": {},
   "outputs": [],
   "source": [
    "import os\n",
    "import random\n",
    "import matplotlib.pyplot as plt\n",
    "import numpy as np\n",
    "import pandas as pd\n",
    "import seaborn as sns\n",
    "from tqdm import tqdm_notebook\n",
    "import sklearn.preprocessing\n",
    "\n",
    "from xgboost import XGBClassifier\n",
    "from sklearn.svm import SVC\n",
    "from sklearn.linear_model import LogisticRegression\n",
    "\n",
    "from sklearn.metrics import accuracy_score\n",
    "from sklearn.model_selection import train_test_split\n",
    "\n",
    "from sklearn.ensemble import RandomForestClassifier, AdaBoostClassifier\n",
    "from sklearn.naive_bayes import BernoulliNB, GaussianNB, MultinomialNB\n",
    "from sklearn.neighbors import KNeighborsClassifier\n",
    "from sklearn.neural_network import MLPClassifier\n",
    "from sklearn.linear_model import RidgeClassifier\n",
    "from sklearn.utils.class_weight import compute_class_weight, compute_sample_weight\n",
    "from catboost import CatBoostClassifier\n",
    "\n",
    "from sklearn.model_selection import StratifiedKFold"
   ]
  },
  {
   "cell_type": "markdown",
   "metadata": {},
   "source": [
    "### Pucydane"
   ]
  },
  {
   "cell_type": "code",
   "execution_count": 12,
   "metadata": {},
   "outputs": [],
   "source": [
    "df = pd.read_csv('data/DIAMOND_eun1_SOLOQ_cleared.csv')"
   ]
  },
  {
   "cell_type": "code",
   "execution_count": 13,
   "metadata": {},
   "outputs": [],
   "source": [
    "df.rename(columns={'1_result': '1_win'})\n",
    "df.iloc[:,1] = df.iloc[:,1] == \"Win\"\n",
    "min_max_scaler = sklearn.preprocessing.MinMaxScaler()\n",
    "df = pd.DataFrame(min_max_scaler.fit_transform(df), columns = df.columns)"
   ]
  },
  {
   "cell_type": "code",
   "execution_count": 14,
   "metadata": {},
   "outputs": [],
   "source": [
    "X = df.iloc[:,2:]\n",
    "y = df.iloc[:,1]\n",
    "X_train, X_test, y_train, y_test = train_test_split(X, y, test_size=0.2, random_state=420)"
   ]
  },
  {
   "cell_type": "code",
   "execution_count": 67,
   "metadata": {},
   "outputs": [],
   "source": [
    "model = LogisticRegression()"
   ]
  },
  {
   "cell_type": "code",
   "execution_count": 68,
   "metadata": {},
   "outputs": [
    {
     "data": {
      "text/plain": [
       "LogisticRegression()"
      ]
     },
     "execution_count": 68,
     "metadata": {},
     "output_type": "execute_result"
    }
   ],
   "source": [
    "model.fit(X_train, y_train)"
   ]
  },
  {
   "cell_type": "code",
   "execution_count": 69,
   "metadata": {},
   "outputs": [],
   "source": [
    "predictions = model.predict(X_test)"
   ]
  },
  {
   "cell_type": "code",
   "execution_count": 70,
   "metadata": {},
   "outputs": [
    {
     "data": {
      "text/plain": [
       "0.7124117053481333"
      ]
     },
     "execution_count": 70,
     "metadata": {},
     "output_type": "execute_result"
    }
   ],
   "source": [
    "accuracy_score(y_test, predictions)"
   ]
  },
  {
   "cell_type": "code",
   "execution_count": 71,
   "metadata": {},
   "outputs": [],
   "source": [
    "results = {\n",
    "    'XGBoost bez skalowania': 0.677598385469223,\n",
    "    'XGBoost ze skalowaniem': 0.6770938446014128,\n",
    "    'LogisticRegression bez skalowania': 0.6937436932391524,\n",
    "    'LogisticRegression z skalowania': 0.7124117053481333,\n",
    "    'SVC bez skalowania': 0.6927346115035318,\n",
    "    'SVC ze skalowaniem': 0.7048435923309788,\n",
    "}"
   ]
  },
  {
   "cell_type": "code",
   "execution_count": 49,
   "metadata": {},
   "outputs": [],
   "source": [
    "def get_acc(model):\n",
    "    model.fit(X_train, y_train)\n",
    "    predictions = model.predict(X_test)\n",
    "    print(accuracy_score(y_test, predictions))"
   ]
  },
  {
   "cell_type": "code",
   "execution_count": 50,
   "metadata": {},
   "outputs": [
    {
     "name": "stderr",
     "output_type": "stream",
     "text": [
      "/home/maurykdell/.local/lib/python3.8/site-packages/seaborn/_decorators.py:36: FutureWarning: Pass the following variable as a keyword arg: x. From version 0.12, the only valid positional argument will be `data`, and passing other arguments without an explicit keyword will result in an error or misinterpretation.\n",
      "  warnings.warn(\n"
     ]
    },
    {
     "data": {
      "image/png": "[encoded data removed]",
      "text/plain": [
       "<Figure size 432x288 with 1 Axes>"
      ]
     },
     "metadata": {
      "needs_background": "light"
     },
     "output_type": "display_data"
    }
   ],
   "source": [
    "sns.countplot(y_train)\n",
    "plt.show()"
   ]
  },
  {
   "cell_type": "markdown",
   "metadata": {},
   "source": [
    "Model stacking"
   ]
  },
  {
   "cell_type": "code",
   "execution_count": 64,
   "metadata": {},
   "outputs": [],
   "source": [
    "# Initializing CatBoost classifier, fitting and then predicting\n",
    "cat_model = CatBoostClassifier(iterations=500, learning_rate=0.3, depth=5, loss_function='MultiClass', classes_count=2, logging_level='Silent', l2_leaf_reg=2, thread_count=4)\n",
    "cat_model.fit(X_train, y_train)\n",
    "cat_preds = cat_model.predict(X_test)\n",
    "cat_preds = cat_preds.reshape((-1,)).astype(int)"
   ]
  },
  {
   "cell_type": "code",
   "execution_count": 65,
   "metadata": {},
   "outputs": [],
   "source": [
    "# Initializing Random Forest classifier, fitting and then predicting\n",
    "rfc_clf = RandomForestClassifier(n_estimators=70, max_depth=5, max_features=0.8, n_jobs=4, class_weight='balanced')\n",
    "rfc_clf.fit(X_train, y_train)\n",
    "rfc_preds = rfc_clf.predict(X_test).astype(int)"
   ]
  },
  {
   "cell_type": "code",
   "execution_count": 66,
   "metadata": {},
   "outputs": [],
   "source": [
    "# LogisticRegression\n",
    "lr_clf = LogisticRegression()\n",
    "lr_clf.fit(X_train, y_train)\n",
    "lr_preds = lr_clf.predict(X_test).astype(int)"
   ]
  },
  {
   "cell_type": "code",
   "execution_count": 67,
   "metadata": {},
   "outputs": [],
   "source": [
    "# Initializing Adam Boost classifier, fitting and then predicting\n",
    "ada_clf = AdaBoostClassifier(n_estimators=70, learning_rate=0.3)\n",
    "ada_clf.fit(X_train, y_train)\n",
    "ada_preds = ada_clf.predict(X_test).astype(int)"
   ]
  },
  {
   "cell_type": "code",
   "execution_count": 68,
   "metadata": {},
   "outputs": [],
   "source": [
    "# Initializing Bernoulli naive-bayes classifier, fitting and then predicting\n",
    "bernoulli_clf = BernoulliNB()\n",
    "bernoulli_clf.fit(X_train, y_train)\n",
    "bernoulli_preds = bernoulli_clf.predict(X_test).astype(int)"
   ]
  },
  {
   "cell_type": "code",
   "execution_count": 69,
   "metadata": {},
   "outputs": [],
   "source": [
    "# Initializing Gaussian naive-bayes classifier, fitting and then predicting\n",
    "gaussian_clf = GaussianNB()\n",
    "gaussian_clf.fit(X_train, y_train)\n",
    "gaussian_preds = gaussian_clf.predict(X_test).astype(int)"
   ]
  },
  {
   "cell_type": "code",
   "execution_count": 70,
   "metadata": {},
   "outputs": [],
   "source": [
    "# Initializing KNN classifier, fitting and then predicting\n",
    "knn_clf = KNeighborsClassifier(n_neighbors=8, weights='uniform', n_jobs=4)\n",
    "knn_clf.fit(X_train, y_train)\n",
    "knn_preds = knn_clf.predict(X_test).astype(int)"
   ]
  },
  {
   "cell_type": "code",
   "execution_count": 71,
   "metadata": {},
   "outputs": [],
   "source": [
    "# Initializing Multilayer Perceptron, fitting and then predicting\n",
    "mlp_clf = MLPClassifier(hidden_layer_sizes=(50), batch_size=50, learning_rate='constant', learning_rate_init=0.0005, early_stopping=True)\n",
    "mlp_clf.fit(X_train, y_train)\n",
    "mlp_preds = mlp_clf.predict(X_test).astype(int)"
   ]
  },
  {
   "cell_type": "code",
   "execution_count": 74,
   "metadata": {},
   "outputs": [
    {
     "name": "stdout",
     "output_type": "stream",
     "text": [
      "0.6715438950554995\n",
      "0.670534813319879\n",
      "0.6987891019172553\n",
      "0.677598385469223\n",
      "0.6856710393541877\n",
      "0.6130171543895055\n",
      "0.7053481331987891\n",
      "0.7124117053481333\n"
     ]
    }
   ],
   "source": [
    "preds = [cat_preds,rfc_preds,ada_preds,bernoulli_preds,gaussian_preds,knn_preds,mlp_preds,lr_preds]\n",
    "for p in preds:\n",
    "    print(accuracy_score(y_test, p))"
   ]
  },
  {
   "cell_type": "code",
   "execution_count": 81,
   "metadata": {},
   "outputs": [
    {
     "data": {
      "image/png": "[encoded data removed]",
      "text/plain": [
       "<Figure size 432x288 with 2 Axes>"
      ]
     },
     "metadata": {
      "needs_background": "light"
     },
     "output_type": "display_data"
    }
   ],
   "source": [
    "# Combining all predictions and creating a heatplot of their correlations\n",
    "all_preds = np.concatenate((cat_preds.reshape((-1, 1)), rfc_preds.reshape((-1, 1))), axis=1)\n",
    "all_preds = np.concatenate((all_preds, ada_preds.reshape((-1, 1))), axis=1)\n",
    "all_preds = np.concatenate((all_preds, bernoulli_preds.reshape((-1, 1))), axis=1)\n",
    "all_preds = np.concatenate((all_preds, gaussian_preds.reshape((-1, 1))), axis=1)\n",
    "all_preds = np.concatenate((all_preds, knn_preds.reshape((-1, 1))), axis=1)\n",
    "all_preds = np.concatenate((all_preds, mlp_preds.reshape((-1, 1))), axis=1)\n",
    "\n",
    "all_preds_df = pd.DataFrame(all_preds, columns=['cat_preds', 'rfc_preds', 'ada_preds', 'bernoulli_preds', 'gaussian_preds', 'knn_preds', 'mlp_preds'])\n",
    "sns.heatmap(all_preds_df.corr())\n",
    "plt.show()\n"
   ]
  },
  {
   "cell_type": "code",
   "execution_count": 82,
   "metadata": {},
   "outputs": [
    {
     "name": "stderr",
     "output_type": "stream",
     "text": [
      "/home/maurykdell/.local/lib/python3.8/site-packages/seaborn/axisgrid.py:645: UserWarning: Using the countplot function without specifying `order` is likely to produce an incorrect plot.\n",
      "  warnings.warn(warning)\n"
     ]
    },
    {
     "data": {
      "image/png": "[encoded data removed]",
      "text/plain": [
       "<Figure size 864x432 with 7 Axes>"
      ]
     },
     "metadata": {
      "needs_background": "light"
     },
     "output_type": "display_data"
    }
   ],
   "source": [
    "# Visualizing and comparing the freqencies of predicted classes of all models\n",
    "all_preds_flat = pd.melt(all_preds_df)\n",
    "g = sns.FacetGrid(all_preds_flat, col='variable', col_wrap=4, sharex=False, sharey=False)\n",
    "g = g.map(sns.countplot, 'value')\n",
    "plt.show()"
   ]
  },
  {
   "cell_type": "code",
   "execution_count": 59,
   "metadata": {},
   "outputs": [],
   "source": [
    "# Creating level1_train dataset\n",
    "level1_train = np.zeros((X_train.shape[0], 16))\n",
    "skf = StratifiedKFold(n_splits=5)\n",
    "\n",
    "for tr_idx, te_idx in skf.split(X_train, y_train):\n",
    "    \n",
    "    X_tr, y_tr = X_train.iloc[tr_idx], y_train.iloc[tr_idx]\n",
    "    X_te, y_te = X_train.iloc[te_idx], y_train.iloc[te_idx]\n",
    "    \n",
    "    cat_model.fit(X_tr, y_tr)\n",
    "    cat_preds = cat_model.predict_proba(X_te)\n",
    "    for i in range(2):\n",
    "        level1_train[te_idx, i*8] = cat_preds[:, i]\n",
    "    \n",
    "    rfc_clf.fit(X_tr, y_tr)\n",
    "    rfc_preds = rfc_clf.predict_proba(X_te)\n",
    "    for i in range(2):\n",
    "        level1_train[te_idx, i*8+1] = rfc_preds[:, i]\n",
    "    \n",
    "    ada_clf.fit(X_tr, y_tr)\n",
    "    ada_preds = ada_clf.predict_proba(X_te)\n",
    "    for i in range(2):\n",
    "        level1_train[te_idx, i*8+2] = ada_preds[:, i]\n",
    "    \n",
    "    bernoulli_clf.fit(X_tr, y_tr)\n",
    "    bernoulli_preds = bernoulli_clf.predict_proba(X_te)\n",
    "    for i in range(2):\n",
    "        level1_train[te_idx, i*8+3] = bernoulli_preds[:, i]\n",
    "    \n",
    "    gaussian_clf.fit(X_tr, y_tr)\n",
    "    gaussian_preds = gaussian_clf.predict_proba(X_te)\n",
    "    for i in range(2):\n",
    "        level1_train[te_idx, i*8+4] = gaussian_preds[:, i]\n",
    "    \n",
    "    knn_clf.fit(X_tr, y_tr)\n",
    "    knn_preds = knn_clf.predict_proba(X_te)\n",
    "    for i in range(2):\n",
    "        level1_train[te_idx, i*8+5] = knn_preds[:, i]\n",
    "\n",
    "    mlp_clf.fit(X_tr, y_tr)\n",
    "    mlp_preds = mlp_clf.predict_proba(X_te)\n",
    "    for i in range(2):\n",
    "        level1_train[te_idx, i*8+6] = mlp_preds[:, i]\n",
    "\n",
    "    lr_clf.fit(X_tr, y_tr)\n",
    "    lr_preds = lr_clf.predict_proba(X_te)\n",
    "    for i in range(2):\n",
    "        level1_train[te_idx, i*8+6] = mlp_preds[:, i]\n",
    "\n"
   ]
  },
  {
   "cell_type": "code",
   "execution_count": 60,
   "metadata": {},
   "outputs": [],
   "source": [
    "# Creating level1_test dataset\n",
    "level1_test = np.zeros((X_test.shape[0], 14))\n",
    "\n",
    "cat_model.fit(X_train, y_train)\n",
    "cat_preds = cat_model.predict_proba(X_test)\n",
    "for i in range(2):\n",
    "    level1_test[:, i*7] = cat_preds[:, i]\n",
    "\n",
    "rfc_clf.fit(X_train, y_train)\n",
    "rfc_preds = rfc_clf.predict_proba(X_test)\n",
    "for i in range(2):\n",
    "    level1_test[:, i*7+1] = rfc_preds[:, i]\n",
    "\n",
    "ada_clf.fit(X_train, y_train)\n",
    "ada_preds = ada_clf.predict_proba(X_test)\n",
    "for i in range(2):\n",
    "    level1_test[:, i*7+2] = ada_preds[:, i]\n",
    "\n",
    "bernoulli_clf.fit(X_train, y_train)\n",
    "bernoulli_preds = bernoulli_clf.predict_proba(X_test)\n",
    "for i in range(2):\n",
    "    level1_test[:, i*7+3] = bernoulli_preds[:, i]\n",
    "    \n",
    "gaussian_clf.fit(X_train, y_train)\n",
    "gaussian_preds = gaussian_clf.predict_proba(X_test)\n",
    "for i in range(2):\n",
    "    level1_test[:, i*7+4] = gaussian_preds[:, i]\n",
    "    \n",
    "knn_clf.fit(X_train, y_train)\n",
    "knn_preds = knn_clf.predict_proba(X_test)\n",
    "for i in range(2):\n",
    "    level1_test[:, i*7+5] = knn_preds[:, i]\n",
    "\n",
    "mlp_clf.fit(X_train, y_train)\n",
    "mlp_preds = mlp_clf.predict_proba(X_test)\n",
    "for i in range(2):\n",
    "    level1_test[:, i*7+6] = mlp_preds[:, i]"
   ]
  },
  {
   "cell_type": "code",
   "execution_count": 100,
   "metadata": {},
   "outputs": [
    {
     "name": "stdout",
     "output_type": "stream",
     "text": [
      "0.7033299697275479\n"
     ]
    }
   ],
   "source": [
    "# Training a meta classifier on level1_train dataset and making predictions on level1_test dataset\n",
    "meta_clf = LogisticRegression()\n",
    "meta_clf.fit(level1_train, y_train)\n",
    "meta_preds = meta_clf.predict(level1_test).astype(int)\n",
    "print(accuracy_score(y_test, meta_preds))"
   ]
  },
  {
   "cell_type": "code",
   "execution_count": null,
   "metadata": {},
   "outputs": [],
   "source": [
    "0.7048435923309788"
   ]
  },
  {
   "cell_type": "markdown",
   "metadata": {},
   "source": [
    "Czyjś pomysł xD"
   ]
  },
  {
   "cell_type": "code",
   "execution_count": 108,
   "metadata": {},
   "outputs": [
    {
     "name": "stdout",
     "output_type": "stream",
     "text": [
      "|   iter    |  target   | baggin... | featur... | lambda_l1 | lambda_l2 | max_depth | min_ch... | min_sp... | num_le... |\n",
      "-------------------------------------------------------------------------------------------------------------------------\n"
     ]
    },
    {
     "name": "stderr",
     "output_type": "stream",
     "text": [
      "/home/maurykdell/anaconda3/lib/python3.8/site-packages/lightgbm/engine.py:530: UserWarning: Found `num_iterations` in params. Will use it instead of argument\n",
      "  warnings.warn(\"Found `{}` in params. Will use it instead of argument\".format(alias))\n",
      "/home/maurykdell/anaconda3/lib/python3.8/site-packages/lightgbm/engine.py:535: UserWarning: Found `early_stopping_round` in params. Will use it instead of argument\n",
      "  warnings.warn(\"Found `{}` in params. Will use it instead of argument\".format(alias))\n"
     ]
    },
    {
     "name": "stdout",
     "output_type": "stream",
     "text": [
      "| \u001b[0m 1       \u001b[0m | \u001b[0m 0.7462  \u001b[0m | \u001b[0m 0.9098  \u001b[0m | \u001b[0m 0.6722  \u001b[0m | \u001b[0m 3.014   \u001b[0m | \u001b[0m 1.635   \u001b[0m | \u001b[0m 6.69    \u001b[0m | \u001b[0m 34.07   \u001b[0m | \u001b[0m 0.04432 \u001b[0m | \u001b[0m 42.73   \u001b[0m |\n"
     ]
    },
    {
     "name": "stderr",
     "output_type": "stream",
     "text": [
      "/home/maurykdell/anaconda3/lib/python3.8/site-packages/lightgbm/engine.py:530: UserWarning: Found `num_iterations` in params. Will use it instead of argument\n",
      "  warnings.warn(\"Found `{}` in params. Will use it instead of argument\".format(alias))\n",
      "/home/maurykdell/anaconda3/lib/python3.8/site-packages/lightgbm/engine.py:535: UserWarning: Found `early_stopping_round` in params. Will use it instead of argument\n",
      "  warnings.warn(\"Found `{}` in params. Will use it instead of argument\".format(alias))\n"
     ]
    },
    {
     "name": "stdout",
     "output_type": "stream",
     "text": [
      "| \u001b[95m 2       \u001b[0m | \u001b[95m 0.747   \u001b[0m | \u001b[95m 0.9927  \u001b[0m | \u001b[95m 0.4068  \u001b[0m | \u001b[95m 3.959   \u001b[0m | \u001b[95m 1.587   \u001b[0m | \u001b[95m 7.266   \u001b[0m | \u001b[95m 46.65   \u001b[0m | \u001b[95m 0.008033\u001b[0m | \u001b[95m 25.83   \u001b[0m |\n"
     ]
    },
    {
     "name": "stderr",
     "output_type": "stream",
     "text": [
      "/home/maurykdell/anaconda3/lib/python3.8/site-packages/lightgbm/engine.py:530: UserWarning: Found `num_iterations` in params. Will use it instead of argument\n",
      "  warnings.warn(\"Found `{}` in params. Will use it instead of argument\".format(alias))\n",
      "/home/maurykdell/anaconda3/lib/python3.8/site-packages/lightgbm/engine.py:535: UserWarning: Found `early_stopping_round` in params. Will use it instead of argument\n",
      "  warnings.warn(\"Found `{}` in params. Will use it instead of argument\".format(alias))\n"
     ]
    },
    {
     "name": "stdout",
     "output_type": "stream",
     "text": [
      "| \u001b[0m 3       \u001b[0m | \u001b[0m 0.7463  \u001b[0m | \u001b[0m 0.804   \u001b[0m | \u001b[0m 0.7661  \u001b[0m | \u001b[0m 3.891   \u001b[0m | \u001b[0m 2.61    \u001b[0m | \u001b[0m 8.905   \u001b[0m | \u001b[0m 40.96   \u001b[0m | \u001b[0m 0.04669 \u001b[0m | \u001b[0m 40.39   \u001b[0m |\n"
     ]
    },
    {
     "name": "stderr",
     "output_type": "stream",
     "text": [
      "/home/maurykdell/anaconda3/lib/python3.8/site-packages/lightgbm/engine.py:530: UserWarning: Found `num_iterations` in params. Will use it instead of argument\n",
      "  warnings.warn(\"Found `{}` in params. Will use it instead of argument\".format(alias))\n",
      "/home/maurykdell/anaconda3/lib/python3.8/site-packages/lightgbm/engine.py:535: UserWarning: Found `early_stopping_round` in params. Will use it instead of argument\n",
      "  warnings.warn(\"Found `{}` in params. Will use it instead of argument\".format(alias))\n"
     ]
    },
    {
     "name": "stdout",
     "output_type": "stream",
     "text": [
      "| \u001b[95m 4       \u001b[0m | \u001b[95m 0.7474  \u001b[0m | \u001b[95m 0.8237  \u001b[0m | \u001b[95m 0.6119  \u001b[0m | \u001b[95m 0.7168  \u001b[0m | \u001b[95m 2.834   \u001b[0m | \u001b[95m 7.082   \u001b[0m | \u001b[95m 23.66   \u001b[0m | \u001b[95m 0.02719 \u001b[0m | \u001b[95m 40.26   \u001b[0m |\n"
     ]
    },
    {
     "name": "stderr",
     "output_type": "stream",
     "text": [
      "/home/maurykdell/anaconda3/lib/python3.8/site-packages/lightgbm/engine.py:530: UserWarning: Found `num_iterations` in params. Will use it instead of argument\n",
      "  warnings.warn(\"Found `{}` in params. Will use it instead of argument\".format(alias))\n",
      "/home/maurykdell/anaconda3/lib/python3.8/site-packages/lightgbm/engine.py:535: UserWarning: Found `early_stopping_round` in params. Will use it instead of argument\n",
      "  warnings.warn(\"Found `{}` in params. Will use it instead of argument\".format(alias))\n"
     ]
    },
    {
     "name": "stdout",
     "output_type": "stream",
     "text": [
      "| \u001b[0m 5       \u001b[0m | \u001b[0m 0.7463  \u001b[0m | \u001b[0m 0.8912  \u001b[0m | \u001b[0m 0.5547  \u001b[0m | \u001b[0m 0.09395 \u001b[0m | \u001b[0m 1.853   \u001b[0m | \u001b[0m 7.442   \u001b[0m | \u001b[0m 32.76   \u001b[0m | \u001b[0m 0.09443 \u001b[0m | \u001b[0m 38.32   \u001b[0m |\n"
     ]
    },
    {
     "name": "stderr",
     "output_type": "stream",
     "text": [
      "/home/maurykdell/anaconda3/lib/python3.8/site-packages/lightgbm/engine.py:530: UserWarning: Found `num_iterations` in params. Will use it instead of argument\n",
      "  warnings.warn(\"Found `{}` in params. Will use it instead of argument\".format(alias))\n",
      "/home/maurykdell/anaconda3/lib/python3.8/site-packages/lightgbm/engine.py:535: UserWarning: Found `early_stopping_round` in params. Will use it instead of argument\n",
      "  warnings.warn(\"Found `{}` in params. Will use it instead of argument\".format(alias))\n"
     ]
    },
    {
     "name": "stdout",
     "output_type": "stream",
     "text": [
      "| \u001b[95m 6       \u001b[0m | \u001b[95m 0.7475  \u001b[0m | \u001b[95m 0.8011  \u001b[0m | \u001b[95m 0.3097  \u001b[0m | \u001b[95m 0.6466  \u001b[0m | \u001b[95m 2.962   \u001b[0m | \u001b[95m 6.669   \u001b[0m | \u001b[95m 18.44   \u001b[0m | \u001b[95m 0.026   \u001b[0m | \u001b[95m 39.36   \u001b[0m |\n"
     ]
    },
    {
     "name": "stderr",
     "output_type": "stream",
     "text": [
      "/home/maurykdell/anaconda3/lib/python3.8/site-packages/lightgbm/engine.py:530: UserWarning: Found `num_iterations` in params. Will use it instead of argument\n",
      "  warnings.warn(\"Found `{}` in params. Will use it instead of argument\".format(alias))\n",
      "/home/maurykdell/anaconda3/lib/python3.8/site-packages/lightgbm/engine.py:535: UserWarning: Found `early_stopping_round` in params. Will use it instead of argument\n",
      "  warnings.warn(\"Found `{}` in params. Will use it instead of argument\".format(alias))\n"
     ]
    },
    {
     "name": "stdout",
     "output_type": "stream",
     "text": [
      "| \u001b[0m 7       \u001b[0m | \u001b[0m 0.7457  \u001b[0m | \u001b[0m 0.876   \u001b[0m | \u001b[0m 0.7927  \u001b[0m | \u001b[0m 4.381   \u001b[0m | \u001b[0m 1.31    \u001b[0m | \u001b[0m 8.653   \u001b[0m | \u001b[0m 18.45   \u001b[0m | \u001b[0m 0.01395 \u001b[0m | \u001b[0m 30.27   \u001b[0m |\n"
     ]
    },
    {
     "name": "stderr",
     "output_type": "stream",
     "text": [
      "/home/maurykdell/anaconda3/lib/python3.8/site-packages/lightgbm/engine.py:530: UserWarning: Found `num_iterations` in params. Will use it instead of argument\n",
      "  warnings.warn(\"Found `{}` in params. Will use it instead of argument\".format(alias))\n",
      "/home/maurykdell/anaconda3/lib/python3.8/site-packages/lightgbm/engine.py:535: UserWarning: Found `early_stopping_round` in params. Will use it instead of argument\n",
      "  warnings.warn(\"Found `{}` in params. Will use it instead of argument\".format(alias))\n"
     ]
    },
    {
     "name": "stdout",
     "output_type": "stream",
     "text": [
      "| \u001b[0m 8       \u001b[0m | \u001b[0m 0.7469  \u001b[0m | \u001b[0m 0.8334  \u001b[0m | \u001b[0m 0.8964  \u001b[0m | \u001b[0m 0.0     \u001b[0m | \u001b[0m 3.0     \u001b[0m | \u001b[0m 5.007   \u001b[0m | \u001b[0m 19.5    \u001b[0m | \u001b[0m 0.04407 \u001b[0m | \u001b[0m 45.0    \u001b[0m |\n"
     ]
    },
    {
     "name": "stderr",
     "output_type": "stream",
     "text": [
      "/home/maurykdell/anaconda3/lib/python3.8/site-packages/lightgbm/engine.py:530: UserWarning: Found `num_iterations` in params. Will use it instead of argument\n",
      "  warnings.warn(\"Found `{}` in params. Will use it instead of argument\".format(alias))\n",
      "/home/maurykdell/anaconda3/lib/python3.8/site-packages/lightgbm/engine.py:535: UserWarning: Found `early_stopping_round` in params. Will use it instead of argument\n",
      "  warnings.warn(\"Found `{}` in params. Will use it instead of argument\".format(alias))\n"
     ]
    },
    {
     "name": "stdout",
     "output_type": "stream",
     "text": [
      "| \u001b[0m 9       \u001b[0m | \u001b[0m 0.7442  \u001b[0m | \u001b[0m 1.0     \u001b[0m | \u001b[0m 0.1     \u001b[0m | \u001b[0m 0.0     \u001b[0m | \u001b[0m 0.0     \u001b[0m | \u001b[0m 8.99    \u001b[0m | \u001b[0m 20.51   \u001b[0m | \u001b[0m 0.1     \u001b[0m | \u001b[0m 40.44   \u001b[0m |\n"
     ]
    },
    {
     "name": "stderr",
     "output_type": "stream",
     "text": [
      "/home/maurykdell/anaconda3/lib/python3.8/site-packages/lightgbm/engine.py:530: UserWarning: Found `num_iterations` in params. Will use it instead of argument\n",
      "  warnings.warn(\"Found `{}` in params. Will use it instead of argument\".format(alias))\n",
      "/home/maurykdell/anaconda3/lib/python3.8/site-packages/lightgbm/engine.py:535: UserWarning: Found `early_stopping_round` in params. Will use it instead of argument\n",
      "  warnings.warn(\"Found `{}` in params. Will use it instead of argument\".format(alias))\n"
     ]
    },
    {
     "name": "stdout",
     "output_type": "stream",
     "text": [
      "| \u001b[95m 10      \u001b[0m | \u001b[95m 0.748   \u001b[0m | \u001b[95m 0.9175  \u001b[0m | \u001b[95m 0.2053  \u001b[0m | \u001b[95m 0.7007  \u001b[0m | \u001b[95m 0.203   \u001b[0m | \u001b[95m 8.891   \u001b[0m | \u001b[95m 41.4    \u001b[0m | \u001b[95m 0.06127 \u001b[0m | \u001b[95m 25.83   \u001b[0m |\n"
     ]
    },
    {
     "name": "stderr",
     "output_type": "stream",
     "text": [
      "/home/maurykdell/anaconda3/lib/python3.8/site-packages/lightgbm/engine.py:530: UserWarning: Found `num_iterations` in params. Will use it instead of argument\n",
      "  warnings.warn(\"Found `{}` in params. Will use it instead of argument\".format(alias))\n",
      "/home/maurykdell/anaconda3/lib/python3.8/site-packages/lightgbm/engine.py:535: UserWarning: Found `early_stopping_round` in params. Will use it instead of argument\n",
      "  warnings.warn(\"Found `{}` in params. Will use it instead of argument\".format(alias))\n"
     ]
    },
    {
     "name": "stdout",
     "output_type": "stream",
     "text": [
      "| \u001b[0m 11      \u001b[0m | \u001b[0m 0.7459  \u001b[0m | \u001b[0m 0.9723  \u001b[0m | \u001b[0m 0.4481  \u001b[0m | \u001b[0m 1.993   \u001b[0m | \u001b[0m 1.737   \u001b[0m | \u001b[0m 7.396   \u001b[0m | \u001b[0m 22.67   \u001b[0m | \u001b[0m 0.03566 \u001b[0m | \u001b[0m 42.06   \u001b[0m |\n"
     ]
    },
    {
     "name": "stderr",
     "output_type": "stream",
     "text": [
      "/home/maurykdell/anaconda3/lib/python3.8/site-packages/lightgbm/engine.py:530: UserWarning: Found `num_iterations` in params. Will use it instead of argument\n",
      "  warnings.warn(\"Found `{}` in params. Will use it instead of argument\".format(alias))\n",
      "/home/maurykdell/anaconda3/lib/python3.8/site-packages/lightgbm/engine.py:535: UserWarning: Found `early_stopping_round` in params. Will use it instead of argument\n",
      "  warnings.warn(\"Found `{}` in params. Will use it instead of argument\".format(alias))\n"
     ]
    },
    {
     "name": "stdout",
     "output_type": "stream",
     "text": [
      "| \u001b[0m 12      \u001b[0m | \u001b[0m 0.7463  \u001b[0m | \u001b[0m 0.9172  \u001b[0m | \u001b[0m 0.8446  \u001b[0m | \u001b[0m 2.612   \u001b[0m | \u001b[0m 0.9115  \u001b[0m | \u001b[0m 8.531   \u001b[0m | \u001b[0m 13.87   \u001b[0m | \u001b[0m 0.06858 \u001b[0m | \u001b[0m 31.82   \u001b[0m |\n"
     ]
    },
    {
     "name": "stderr",
     "output_type": "stream",
     "text": [
      "/home/maurykdell/anaconda3/lib/python3.8/site-packages/lightgbm/engine.py:530: UserWarning: Found `num_iterations` in params. Will use it instead of argument\n",
      "  warnings.warn(\"Found `{}` in params. Will use it instead of argument\".format(alias))\n",
      "/home/maurykdell/anaconda3/lib/python3.8/site-packages/lightgbm/engine.py:535: UserWarning: Found `early_stopping_round` in params. Will use it instead of argument\n",
      "  warnings.warn(\"Found `{}` in params. Will use it instead of argument\".format(alias))\n"
     ]
    },
    {
     "name": "stdout",
     "output_type": "stream",
     "text": [
      "| \u001b[0m 13      \u001b[0m | \u001b[0m 0.7467  \u001b[0m | \u001b[0m 0.8104  \u001b[0m | \u001b[0m 0.5932  \u001b[0m | \u001b[0m 4.229   \u001b[0m | \u001b[0m 1.605   \u001b[0m | \u001b[0m 7.63    \u001b[0m | \u001b[0m 47.09   \u001b[0m | \u001b[0m 0.05909 \u001b[0m | \u001b[0m 25.5    \u001b[0m |\n"
     ]
    },
    {
     "name": "stderr",
     "output_type": "stream",
     "text": [
      "/home/maurykdell/anaconda3/lib/python3.8/site-packages/lightgbm/engine.py:530: UserWarning: Found `num_iterations` in params. Will use it instead of argument\n",
      "  warnings.warn(\"Found `{}` in params. Will use it instead of argument\".format(alias))\n",
      "/home/maurykdell/anaconda3/lib/python3.8/site-packages/lightgbm/engine.py:535: UserWarning: Found `early_stopping_round` in params. Will use it instead of argument\n",
      "  warnings.warn(\"Found `{}` in params. Will use it instead of argument\".format(alias))\n"
     ]
    },
    {
     "name": "stdout",
     "output_type": "stream",
     "text": [
      "| \u001b[95m 14      \u001b[0m | \u001b[95m 0.7486  \u001b[0m | \u001b[95m 0.9221  \u001b[0m | \u001b[95m 0.327   \u001b[0m | \u001b[95m 1.368   \u001b[0m | \u001b[95m 0.8621  \u001b[0m | \u001b[95m 8.355   \u001b[0m | \u001b[95m 42.16   \u001b[0m | \u001b[95m 0.04255 \u001b[0m | \u001b[95m 25.86   \u001b[0m |\n"
     ]
    },
    {
     "name": "stderr",
     "output_type": "stream",
     "text": [
      "/home/maurykdell/anaconda3/lib/python3.8/site-packages/lightgbm/engine.py:530: UserWarning: Found `num_iterations` in params. Will use it instead of argument\n",
      "  warnings.warn(\"Found `{}` in params. Will use it instead of argument\".format(alias))\n",
      "/home/maurykdell/anaconda3/lib/python3.8/site-packages/lightgbm/engine.py:535: UserWarning: Found `early_stopping_round` in params. Will use it instead of argument\n",
      "  warnings.warn(\"Found `{}` in params. Will use it instead of argument\".format(alias))\n"
     ]
    },
    {
     "name": "stdout",
     "output_type": "stream",
     "text": [
      "| \u001b[0m 15      \u001b[0m | \u001b[0m 0.746   \u001b[0m | \u001b[0m 1.0     \u001b[0m | \u001b[0m 0.1466  \u001b[0m | \u001b[0m 2.989   \u001b[0m | \u001b[0m 0.07056 \u001b[0m | \u001b[0m 8.35    \u001b[0m | \u001b[0m 42.67   \u001b[0m | \u001b[0m 0.001   \u001b[0m | \u001b[0m 25.54   \u001b[0m |\n",
      "=========================================================================================================================\n"
     ]
    }
   ],
   "source": [
    "# X = MinMaxScaler().fit_transform(df.drop(['blueWins', 'gameId'], axis=1))\n",
    "import lightgbm as lgb\n",
    "from bayes_opt import BayesianOptimization\n",
    "def bayes_parameter_opt_lgb(X = X, y = y, init_round=15, opt_round=25, n_folds=5, random_seed=6, n_estimators=10000, learning_rate=0.05, output_process=False):\n",
    "    # prepare data\n",
    "    train_data = lgb.Dataset(data=X, label=y, free_raw_data=False)\n",
    "    # parameters\n",
    "    def lgb_eval(num_leaves, feature_fraction, bagging_fraction, max_depth, lambda_l1, lambda_l2, min_split_gain, min_child_weight):\n",
    "        params = {'verbose': -1, 'application':'binary','num_iterations': n_estimators, 'learning_rate':learning_rate, 'early_stopping_round':100, 'metric':'auc'}\n",
    "        params[\"num_leaves\"] = int(round(num_leaves))\n",
    "        params['feature_fraction'] = max(min(feature_fraction, 1), 0)\n",
    "        params['bagging_fraction'] = max(min(bagging_fraction, 1), 0)\n",
    "        params['max_depth'] = int(round(max_depth))\n",
    "        params['lambda_l1'] = max(lambda_l1, 0)\n",
    "        params['lambda_l2'] = max(lambda_l2, 0)\n",
    "        params['min_split_gain'] = min_split_gain\n",
    "        params['min_child_weight'] = min_child_weight\n",
    "        cv_result = lgb.cv(params, train_data, nfold=n_folds, seed=random_seed, stratified=True, verbose_eval =200, metrics=['auc'])\n",
    "        return max(cv_result['auc-mean'])\n",
    "    # range \n",
    "    lgbBO = BayesianOptimization(lgb_eval, {'num_leaves': (24, 45),\n",
    "                                            'feature_fraction': (0.1, 0.9),\n",
    "        https://www.kaggle.com/nanomathias/bayesian-optimization-of-xgboost-lb-0-9769                                    'bagging_fraction': (0.8, 1),\n",
    "                                            'max_depth': (5, 8.99),\n",
    "                                            #'verbose': (-1),\n",
    "                                            'lambda_l1': (0, 5),\n",
    "                                            'lambda_l2': (0, 3),\n",
    "                                            'min_split_gain': (0.001, 0.1),\n",
    "                                            'min_child_weight': (5, 50)}, random_state=0)\n",
    "    # optimize\n",
    "    lgbBO.maximize(init_points=init_round, n_iter=opt_round)\n",
    "    \n",
    "    # output optimization process\n",
    "    if output_process==True: lgbBO.points_to_csv(\"bayes_opt_result.csv\")\n",
    "    \n",
    "    # return best parameters\n",
    "    return lgbBO\n",
    "\n",
    "opt_params = bayes_parameter_opt_lgb(X, y, init_round=5, opt_round=10, n_folds=3, random_seed=6, n_estimators=100, learning_rate=0.05)"
   ]
  },
  {
   "cell_type": "code",
   "execution_count": 47,
   "metadata": {},
   "outputs": [],
   "source": [
    "from skopt import BayesSearchCV\n",
    "import xgboost as xgb\n",
    "from sklearn.model_selection import StratifiedKFold\n",
    "# SETTINGS - CHANGE THESE TO GET SOMETHING MEANINGFUL\n",
    "ITERATIONS = 100\n",
    "\n",
    "# Classifier\n",
    "bayes_cv_tuner = BayesSearchCV(\n",
    "    estimator = xgb.XGBClassifier(\n",
    "        n_jobs = 1,\n",
    "        objective = 'binary:logistic',\n",
    "        eval_metric = 'auc',\n",
    "        silent=1,\n",
    "        tree_method='approx'\n",
    "    ),\n",
    "    search_spaces = {\n",
    "        'learning_rate': (0.01, 1.0, 'log-uniform'),\n",
    "        'min_child_weight': (0, 10),\n",
    "        'max_depth': (1, 50),\n",
    "        'max_delta_step': (0, 20),\n",
    "        'subsample': (0.01, 1.0, 'uniform'),\n",
    "        'colsample_bytree': (0.01, 1.0, 'uniform'),\n",
    "        'colsample_bylevel': (0.01, 1.0, 'uniform'),\n",
    "        'reg_lambda': (1e-9, 1000.0, 'log-uniform'),\n",
    "        'reg_alpha': (1e-9, 1.0, 'log-uniform'),\n",
    "        'gamma': (1e-9, 0.5, 'log-uniform'),\n",
    "        'min_child_weight': (0, 5),\n",
    "        'n_estimators': (50, 100),\n",
    "        'scale_pos_weight': (1e-6, 500.0, 'log-uniform')\n",
    "    },    \n",
    "    scoring = 'roc_auc',\n",
    "    cv = StratifiedKFold(\n",
    "        n_splits=3,\n",
    "        shuffle=True,\n",
    "        random_state=42\n",
    "    ),\n",
    "    n_jobs = 3,\n",
    "    n_iter = ITERATIONS,   \n",
    "    verbose = 0,\n",
    "    refit = True,\n",
    "    random_state = 42\n",
    ")\n",
    "\n",
    "def status_print(optim_result):\n",
    "    \"\"\"Status callback durring bayesian hyperparameter search\"\"\"\n",
    "    \n",
    "    # Get all the models tested so far in DataFrame format\n",
    "    all_models = pd.DataFrame(bayes_cv_tuner.cv_results_)    \n",
    "    \n",
    "    # Get current parameters and the best parameters    \n",
    "    best_params = pd.Series(bayes_cv_tuner.best_params_)\n",
    "    print('Model #{}\\nBest ROC-AUC: {}\\nBest params: {}\\n'.format(\n",
    "        len(all_models),\n",
    "        np.round(bayes_cv_tuner.best_score_, 4),\n",
    "        bayes_cv_tuner.best_params_\n",
    "    ))\n",
    "    \n",
    "    # Save all model results\n",
    "    clf_name = bayes_cv_tuner.estimator.__class__.__name__\n",
    "    all_models.to_csv(clf_name+\"_cv_results.csv\")\n"
   ]
  },
  {
   "cell_type": "code",
   "execution_count": 48,
   "metadata": {},
   "outputs": [
    {
     "name": "stdout",
     "output_type": "stream",
     "text": [
      "Model #1\n",
      "Best ROC-AUC: 0.7427\n",
      "Best params: OrderedDict([('colsample_bylevel', 0.4160029192647807), ('colsample_bytree', 0.7304484857455519), ('gamma', 0.13031389926541354), ('learning_rate', 0.042815319280763466), ('max_delta_step', 13), ('max_depth', 21), ('min_child_weight', 2), ('n_estimators', 87), ('reg_alpha', 5.497557739289786e-07), ('reg_lambda', 0.05936070635912049), ('scale_pos_weight', 0.060830282487222144), ('subsample', 0.13556548021189216)])\n",
      "\n",
      "Model #2\n",
      "Best ROC-AUC: 0.746\n",
      "Best params: OrderedDict([('colsample_bylevel', 0.8390144719977516), ('colsample_bytree', 0.8844821246070537), ('gamma', 4.358684608480795e-07), ('learning_rate', 0.7988179462781242), ('max_delta_step', 17), ('max_depth', 4), ('min_child_weight', 1), ('n_estimators', 68), ('reg_alpha', 0.0005266983003701547), ('reg_lambda', 276.5424475574225), ('scale_pos_weight', 0.3016410771843142), ('subsample', 0.9923710598637134)])\n",
      "\n",
      "Model #3\n",
      "Best ROC-AUC: 0.7488\n",
      "Best params: OrderedDict([('colsample_bylevel', 0.4503841871781403), ('colsample_bytree', 0.9195352964526833), ('gamma', 8.168958221061441e-09), ('learning_rate', 0.07356404539935663), ('max_delta_step', 4), ('max_depth', 23), ('min_child_weight', 1), ('n_estimators', 88), ('reg_alpha', 0.00010376808625045426), ('reg_lambda', 476.96194787286544), ('scale_pos_weight', 1.3165669602830552), ('subsample', 0.387658500562527)])\n",
      "\n",
      "Model #4\n",
      "Best ROC-AUC: 0.7488\n",
      "Best params: OrderedDict([('colsample_bylevel', 0.4503841871781403), ('colsample_bytree', 0.9195352964526833), ('gamma', 8.168958221061441e-09), ('learning_rate', 0.07356404539935663), ('max_delta_step', 4), ('max_depth', 23), ('min_child_weight', 1), ('n_estimators', 88), ('reg_alpha', 0.00010376808625045426), ('reg_lambda', 476.96194787286544), ('scale_pos_weight', 1.3165669602830552), ('subsample', 0.387658500562527)])\n",
      "\n",
      "Model #5\n",
      "Best ROC-AUC: 0.7488\n",
      "Best params: OrderedDict([('colsample_bylevel', 0.4503841871781403), ('colsample_bytree', 0.9195352964526833), ('gamma', 8.168958221061441e-09), ('learning_rate', 0.07356404539935663), ('max_delta_step', 4), ('max_depth', 23), ('min_child_weight', 1), ('n_estimators', 88), ('reg_alpha', 0.00010376808625045426), ('reg_lambda', 476.96194787286544), ('scale_pos_weight', 1.3165669602830552), ('subsample', 0.387658500562527)])\n",
      "\n",
      "Model #6\n",
      "Best ROC-AUC: 0.7488\n",
      "Best params: OrderedDict([('colsample_bylevel', 0.4503841871781403), ('colsample_bytree', 0.9195352964526833), ('gamma', 8.168958221061441e-09), ('learning_rate', 0.07356404539935663), ('max_delta_step', 4), ('max_depth', 23), ('min_child_weight', 1), ('n_estimators', 88), ('reg_alpha', 0.00010376808625045426), ('reg_lambda', 476.96194787286544), ('scale_pos_weight', 1.3165669602830552), ('subsample', 0.387658500562527)])\n",
      "\n",
      "Model #7\n",
      "Best ROC-AUC: 0.7488\n",
      "Best params: OrderedDict([('colsample_bylevel', 0.4503841871781403), ('colsample_bytree', 0.9195352964526833), ('gamma', 8.168958221061441e-09), ('learning_rate', 0.07356404539935663), ('max_delta_step', 4), ('max_depth', 23), ('min_child_weight', 1), ('n_estimators', 88), ('reg_alpha', 0.00010376808625045426), ('reg_lambda', 476.96194787286544), ('scale_pos_weight', 1.3165669602830552), ('subsample', 0.387658500562527)])\n",
      "\n",
      "Model #8\n",
      "Best ROC-AUC: 0.7488\n",
      "Best params: OrderedDict([('colsample_bylevel', 0.4503841871781403), ('colsample_bytree', 0.9195352964526833), ('gamma', 8.168958221061441e-09), ('learning_rate', 0.07356404539935663), ('max_delta_step', 4), ('max_depth', 23), ('min_child_weight', 1), ('n_estimators', 88), ('reg_alpha', 0.00010376808625045426), ('reg_lambda', 476.96194787286544), ('scale_pos_weight', 1.3165669602830552), ('subsample', 0.387658500562527)])\n",
      "\n",
      "Model #9\n",
      "Best ROC-AUC: 0.7488\n",
      "Best params: OrderedDict([('colsample_bylevel', 0.4503841871781403), ('colsample_bytree', 0.9195352964526833), ('gamma', 8.168958221061441e-09), ('learning_rate', 0.07356404539935663), ('max_delta_step', 4), ('max_depth', 23), ('min_child_weight', 1), ('n_estimators', 88), ('reg_alpha', 0.00010376808625045426), ('reg_lambda', 476.96194787286544), ('scale_pos_weight', 1.3165669602830552), ('subsample', 0.387658500562527)])\n",
      "\n",
      "Model #10\n",
      "Best ROC-AUC: 0.7488\n",
      "Best params: OrderedDict([('colsample_bylevel', 0.4503841871781403), ('colsample_bytree', 0.9195352964526833), ('gamma', 8.168958221061441e-09), ('learning_rate', 0.07356404539935663), ('max_delta_step', 4), ('max_depth', 23), ('min_child_weight', 1), ('n_estimators', 88), ('reg_alpha', 0.00010376808625045426), ('reg_lambda', 476.96194787286544), ('scale_pos_weight', 1.3165669602830552), ('subsample', 0.387658500562527)])\n",
      "\n",
      "Model #11\n",
      "Best ROC-AUC: 0.7488\n",
      "Best params: OrderedDict([('colsample_bylevel', 0.4503841871781403), ('colsample_bytree', 0.9195352964526833), ('gamma', 8.168958221061441e-09), ('learning_rate', 0.07356404539935663), ('max_delta_step', 4), ('max_depth', 23), ('min_child_weight', 1), ('n_estimators', 88), ('reg_alpha', 0.00010376808625045426), ('reg_lambda', 476.96194787286544), ('scale_pos_weight', 1.3165669602830552), ('subsample', 0.387658500562527)])\n",
      "\n",
      "Model #12\n",
      "Best ROC-AUC: 0.7488\n",
      "Best params: OrderedDict([('colsample_bylevel', 0.4503841871781403), ('colsample_bytree', 0.9195352964526833), ('gamma', 8.168958221061441e-09), ('learning_rate', 0.07356404539935663), ('max_delta_step', 4), ('max_depth', 23), ('min_child_weight', 1), ('n_estimators', 88), ('reg_alpha', 0.00010376808625045426), ('reg_lambda', 476.96194787286544), ('scale_pos_weight', 1.3165669602830552), ('subsample', 0.387658500562527)])\n",
      "\n",
      "Model #13\n",
      "Best ROC-AUC: 0.7488\n",
      "Best params: OrderedDict([('colsample_bylevel', 0.4503841871781403), ('colsample_bytree', 0.9195352964526833), ('gamma', 8.168958221061441e-09), ('learning_rate', 0.07356404539935663), ('max_delta_step', 4), ('max_depth', 23), ('min_child_weight', 1), ('n_estimators', 88), ('reg_alpha', 0.00010376808625045426), ('reg_lambda', 476.96194787286544), ('scale_pos_weight', 1.3165669602830552), ('subsample', 0.387658500562527)])\n",
      "\n",
      "Model #14\n",
      "Best ROC-AUC: 0.7488\n",
      "Best params: OrderedDict([('colsample_bylevel', 0.4503841871781403), ('colsample_bytree', 0.9195352964526833), ('gamma', 8.168958221061441e-09), ('learning_rate', 0.07356404539935663), ('max_delta_step', 4), ('max_depth', 23), ('min_child_weight', 1), ('n_estimators', 88), ('reg_alpha', 0.00010376808625045426), ('reg_lambda', 476.96194787286544), ('scale_pos_weight', 1.3165669602830552), ('subsample', 0.387658500562527)])\n",
      "\n",
      "Model #15\n",
      "Best ROC-AUC: 0.7488\n",
      "Best params: OrderedDict([('colsample_bylevel', 0.4503841871781403), ('colsample_bytree', 0.9195352964526833), ('gamma', 8.168958221061441e-09), ('learning_rate', 0.07356404539935663), ('max_delta_step', 4), ('max_depth', 23), ('min_child_weight', 1), ('n_estimators', 88), ('reg_alpha', 0.00010376808625045426), ('reg_lambda', 476.96194787286544), ('scale_pos_weight', 1.3165669602830552), ('subsample', 0.387658500562527)])\n",
      "\n",
      "Model #16\n",
      "Best ROC-AUC: 0.7488\n",
      "Best params: OrderedDict([('colsample_bylevel', 0.4503841871781403), ('colsample_bytree', 0.9195352964526833), ('gamma', 8.168958221061441e-09), ('learning_rate', 0.07356404539935663), ('max_delta_step', 4), ('max_depth', 23), ('min_child_weight', 1), ('n_estimators', 88), ('reg_alpha', 0.00010376808625045426), ('reg_lambda', 476.96194787286544), ('scale_pos_weight', 1.3165669602830552), ('subsample', 0.387658500562527)])\n",
      "\n",
      "Model #17\n",
      "Best ROC-AUC: 0.7488\n",
      "Best params: OrderedDict([('colsample_bylevel', 0.4503841871781403), ('colsample_bytree', 0.9195352964526833), ('gamma', 8.168958221061441e-09), ('learning_rate', 0.07356404539935663), ('max_delta_step', 4), ('max_depth', 23), ('min_child_weight', 1), ('n_estimators', 88), ('reg_alpha', 0.00010376808625045426), ('reg_lambda', 476.96194787286544), ('scale_pos_weight', 1.3165669602830552), ('subsample', 0.387658500562527)])\n",
      "\n",
      "Model #18\n",
      "Best ROC-AUC: 0.7488\n",
      "Best params: OrderedDict([('colsample_bylevel', 0.4503841871781403), ('colsample_bytree', 0.9195352964526833), ('gamma', 8.168958221061441e-09), ('learning_rate', 0.07356404539935663), ('max_delta_step', 4), ('max_depth', 23), ('min_child_weight', 1), ('n_estimators', 88), ('reg_alpha', 0.00010376808625045426), ('reg_lambda', 476.96194787286544), ('scale_pos_weight', 1.3165669602830552), ('subsample', 0.387658500562527)])\n",
      "\n",
      "Model #19\n",
      "Best ROC-AUC: 0.7488\n",
      "Best params: OrderedDict([('colsample_bylevel', 0.4503841871781403), ('colsample_bytree', 0.9195352964526833), ('gamma', 8.168958221061441e-09), ('learning_rate', 0.07356404539935663), ('max_delta_step', 4), ('max_depth', 23), ('min_child_weight', 1), ('n_estimators', 88), ('reg_alpha', 0.00010376808625045426), ('reg_lambda', 476.96194787286544), ('scale_pos_weight', 1.3165669602830552), ('subsample', 0.387658500562527)])\n",
      "\n",
      "Model #20\n",
      "Best ROC-AUC: 0.7488\n",
      "Best params: OrderedDict([('colsample_bylevel', 0.4503841871781403), ('colsample_bytree', 0.9195352964526833), ('gamma', 8.168958221061441e-09), ('learning_rate', 0.07356404539935663), ('max_delta_step', 4), ('max_depth', 23), ('min_child_weight', 1), ('n_estimators', 88), ('reg_alpha', 0.00010376808625045426), ('reg_lambda', 476.96194787286544), ('scale_pos_weight', 1.3165669602830552), ('subsample', 0.387658500562527)])\n",
      "\n",
      "Model #21\n",
      "Best ROC-AUC: 0.7488\n",
      "Best params: OrderedDict([('colsample_bylevel', 0.4503841871781403), ('colsample_bytree', 0.9195352964526833), ('gamma', 8.168958221061441e-09), ('learning_rate', 0.07356404539935663), ('max_delta_step', 4), ('max_depth', 23), ('min_child_weight', 1), ('n_estimators', 88), ('reg_alpha', 0.00010376808625045426), ('reg_lambda', 476.96194787286544), ('scale_pos_weight', 1.3165669602830552), ('subsample', 0.387658500562527)])\n",
      "\n",
      "Model #22\n",
      "Best ROC-AUC: 0.7488\n",
      "Best params: OrderedDict([('colsample_bylevel', 0.4503841871781403), ('colsample_bytree', 0.9195352964526833), ('gamma', 8.168958221061441e-09), ('learning_rate', 0.07356404539935663), ('max_delta_step', 4), ('max_depth', 23), ('min_child_weight', 1), ('n_estimators', 88), ('reg_alpha', 0.00010376808625045426), ('reg_lambda', 476.96194787286544), ('scale_pos_weight', 1.3165669602830552), ('subsample', 0.387658500562527)])\n",
      "\n",
      "Model #23\n",
      "Best ROC-AUC: 0.7488\n",
      "Best params: OrderedDict([('colsample_bylevel', 0.4503841871781403), ('colsample_bytree', 0.9195352964526833), ('gamma', 8.168958221061441e-09), ('learning_rate', 0.07356404539935663), ('max_delta_step', 4), ('max_depth', 23), ('min_child_weight', 1), ('n_estimators', 88), ('reg_alpha', 0.00010376808625045426), ('reg_lambda', 476.96194787286544), ('scale_pos_weight', 1.3165669602830552), ('subsample', 0.387658500562527)])\n",
      "\n",
      "Model #24\n",
      "Best ROC-AUC: 0.7488\n",
      "Best params: OrderedDict([('colsample_bylevel', 0.4503841871781403), ('colsample_bytree', 0.9195352964526833), ('gamma', 8.168958221061441e-09), ('learning_rate', 0.07356404539935663), ('max_delta_step', 4), ('max_depth', 23), ('min_child_weight', 1), ('n_estimators', 88), ('reg_alpha', 0.00010376808625045426), ('reg_lambda', 476.96194787286544), ('scale_pos_weight', 1.3165669602830552), ('subsample', 0.387658500562527)])\n",
      "\n",
      "Model #25\n",
      "Best ROC-AUC: 0.7488\n",
      "Best params: OrderedDict([('colsample_bylevel', 0.4503841871781403), ('colsample_bytree', 0.9195352964526833), ('gamma', 8.168958221061441e-09), ('learning_rate', 0.07356404539935663), ('max_delta_step', 4), ('max_depth', 23), ('min_child_weight', 1), ('n_estimators', 88), ('reg_alpha', 0.00010376808625045426), ('reg_lambda', 476.96194787286544), ('scale_pos_weight', 1.3165669602830552), ('subsample', 0.387658500562527)])\n",
      "\n",
      "Model #26\n",
      "Best ROC-AUC: 0.7488\n",
      "Best params: OrderedDict([('colsample_bylevel', 0.4503841871781403), ('colsample_bytree', 0.9195352964526833), ('gamma', 8.168958221061441e-09), ('learning_rate', 0.07356404539935663), ('max_delta_step', 4), ('max_depth', 23), ('min_child_weight', 1), ('n_estimators', 88), ('reg_alpha', 0.00010376808625045426), ('reg_lambda', 476.96194787286544), ('scale_pos_weight', 1.3165669602830552), ('subsample', 0.387658500562527)])\n",
      "\n",
      "Model #27\n",
      "Best ROC-AUC: 0.7488\n",
      "Best params: OrderedDict([('colsample_bylevel', 0.4503841871781403), ('colsample_bytree', 0.9195352964526833), ('gamma', 8.168958221061441e-09), ('learning_rate', 0.07356404539935663), ('max_delta_step', 4), ('max_depth', 23), ('min_child_weight', 1), ('n_estimators', 88), ('reg_alpha', 0.00010376808625045426), ('reg_lambda', 476.96194787286544), ('scale_pos_weight', 1.3165669602830552), ('subsample', 0.387658500562527)])\n",
      "\n",
      "Model #28\n",
      "Best ROC-AUC: 0.7488\n",
      "Best params: OrderedDict([('colsample_bylevel', 0.4503841871781403), ('colsample_bytree', 0.9195352964526833), ('gamma', 8.168958221061441e-09), ('learning_rate', 0.07356404539935663), ('max_delta_step', 4), ('max_depth', 23), ('min_child_weight', 1), ('n_estimators', 88), ('reg_alpha', 0.00010376808625045426), ('reg_lambda', 476.96194787286544), ('scale_pos_weight', 1.3165669602830552), ('subsample', 0.387658500562527)])\n",
      "\n",
      "Model #29\n",
      "Best ROC-AUC: 0.7488\n",
      "Best params: OrderedDict([('colsample_bylevel', 0.4503841871781403), ('colsample_bytree', 0.9195352964526833), ('gamma', 8.168958221061441e-09), ('learning_rate', 0.07356404539935663), ('max_delta_step', 4), ('max_depth', 23), ('min_child_weight', 1), ('n_estimators', 88), ('reg_alpha', 0.00010376808625045426), ('reg_lambda', 476.96194787286544), ('scale_pos_weight', 1.3165669602830552), ('subsample', 0.387658500562527)])\n",
      "\n",
      "Model #30\n",
      "Best ROC-AUC: 0.7488\n",
      "Best params: OrderedDict([('colsample_bylevel', 0.4503841871781403), ('colsample_bytree', 0.9195352964526833), ('gamma', 8.168958221061441e-09), ('learning_rate', 0.07356404539935663), ('max_delta_step', 4), ('max_depth', 23), ('min_child_weight', 1), ('n_estimators', 88), ('reg_alpha', 0.00010376808625045426), ('reg_lambda', 476.96194787286544), ('scale_pos_weight', 1.3165669602830552), ('subsample', 0.387658500562527)])\n",
      "\n",
      "Model #31\n",
      "Best ROC-AUC: 0.7488\n",
      "Best params: OrderedDict([('colsample_bylevel', 0.4503841871781403), ('colsample_bytree', 0.9195352964526833), ('gamma', 8.168958221061441e-09), ('learning_rate', 0.07356404539935663), ('max_delta_step', 4), ('max_depth', 23), ('min_child_weight', 1), ('n_estimators', 88), ('reg_alpha', 0.00010376808625045426), ('reg_lambda', 476.96194787286544), ('scale_pos_weight', 1.3165669602830552), ('subsample', 0.387658500562527)])\n",
      "\n",
      "Model #32\n",
      "Best ROC-AUC: 0.7488\n",
      "Best params: OrderedDict([('colsample_bylevel', 0.4503841871781403), ('colsample_bytree', 0.9195352964526833), ('gamma', 8.168958221061441e-09), ('learning_rate', 0.07356404539935663), ('max_delta_step', 4), ('max_depth', 23), ('min_child_weight', 1), ('n_estimators', 88), ('reg_alpha', 0.00010376808625045426), ('reg_lambda', 476.96194787286544), ('scale_pos_weight', 1.3165669602830552), ('subsample', 0.387658500562527)])\n",
      "\n",
      "Model #33\n",
      "Best ROC-AUC: 0.7488\n",
      "Best params: OrderedDict([('colsample_bylevel', 0.4503841871781403), ('colsample_bytree', 0.9195352964526833), ('gamma', 8.168958221061441e-09), ('learning_rate', 0.07356404539935663), ('max_delta_step', 4), ('max_depth', 23), ('min_child_weight', 1), ('n_estimators', 88), ('reg_alpha', 0.00010376808625045426), ('reg_lambda', 476.96194787286544), ('scale_pos_weight', 1.3165669602830552), ('subsample', 0.387658500562527)])\n",
      "\n",
      "Model #34\n",
      "Best ROC-AUC: 0.7488\n",
      "Best params: OrderedDict([('colsample_bylevel', 0.4503841871781403), ('colsample_bytree', 0.9195352964526833), ('gamma', 8.168958221061441e-09), ('learning_rate', 0.07356404539935663), ('max_delta_step', 4), ('max_depth', 23), ('min_child_weight', 1), ('n_estimators', 88), ('reg_alpha', 0.00010376808625045426), ('reg_lambda', 476.96194787286544), ('scale_pos_weight', 1.3165669602830552), ('subsample', 0.387658500562527)])\n",
      "\n",
      "Model #35\n",
      "Best ROC-AUC: 0.7488\n",
      "Best params: OrderedDict([('colsample_bylevel', 0.4503841871781403), ('colsample_bytree', 0.9195352964526833), ('gamma', 8.168958221061441e-09), ('learning_rate', 0.07356404539935663), ('max_delta_step', 4), ('max_depth', 23), ('min_child_weight', 1), ('n_estimators', 88), ('reg_alpha', 0.00010376808625045426), ('reg_lambda', 476.96194787286544), ('scale_pos_weight', 1.3165669602830552), ('subsample', 0.387658500562527)])\n",
      "\n",
      "Model #36\n",
      "Best ROC-AUC: 0.7488\n",
      "Best params: OrderedDict([('colsample_bylevel', 0.4503841871781403), ('colsample_bytree', 0.9195352964526833), ('gamma', 8.168958221061441e-09), ('learning_rate', 0.07356404539935663), ('max_delta_step', 4), ('max_depth', 23), ('min_child_weight', 1), ('n_estimators', 88), ('reg_alpha', 0.00010376808625045426), ('reg_lambda', 476.96194787286544), ('scale_pos_weight', 1.3165669602830552), ('subsample', 0.387658500562527)])\n",
      "\n",
      "Model #37\n",
      "Best ROC-AUC: 0.7488\n",
      "Best params: OrderedDict([('colsample_bylevel', 0.4503841871781403), ('colsample_bytree', 0.9195352964526833), ('gamma', 8.168958221061441e-09), ('learning_rate', 0.07356404539935663), ('max_delta_step', 4), ('max_depth', 23), ('min_child_weight', 1), ('n_estimators', 88), ('reg_alpha', 0.00010376808625045426), ('reg_lambda', 476.96194787286544), ('scale_pos_weight', 1.3165669602830552), ('subsample', 0.387658500562527)])\n",
      "\n",
      "Model #38\n",
      "Best ROC-AUC: 0.7488\n",
      "Best params: OrderedDict([('colsample_bylevel', 0.4503841871781403), ('colsample_bytree', 0.9195352964526833), ('gamma', 8.168958221061441e-09), ('learning_rate', 0.07356404539935663), ('max_delta_step', 4), ('max_depth', 23), ('min_child_weight', 1), ('n_estimators', 88), ('reg_alpha', 0.00010376808625045426), ('reg_lambda', 476.96194787286544), ('scale_pos_weight', 1.3165669602830552), ('subsample', 0.387658500562527)])\n",
      "\n",
      "Model #39\n",
      "Best ROC-AUC: 0.7488\n",
      "Best params: OrderedDict([('colsample_bylevel', 0.4503841871781403), ('colsample_bytree', 0.9195352964526833), ('gamma', 8.168958221061441e-09), ('learning_rate', 0.07356404539935663), ('max_delta_step', 4), ('max_depth', 23), ('min_child_weight', 1), ('n_estimators', 88), ('reg_alpha', 0.00010376808625045426), ('reg_lambda', 476.96194787286544), ('scale_pos_weight', 1.3165669602830552), ('subsample', 0.387658500562527)])\n",
      "\n",
      "Model #40\n",
      "Best ROC-AUC: 0.7488\n",
      "Best params: OrderedDict([('colsample_bylevel', 0.4503841871781403), ('colsample_bytree', 0.9195352964526833), ('gamma', 8.168958221061441e-09), ('learning_rate', 0.07356404539935663), ('max_delta_step', 4), ('max_depth', 23), ('min_child_weight', 1), ('n_estimators', 88), ('reg_alpha', 0.00010376808625045426), ('reg_lambda', 476.96194787286544), ('scale_pos_weight', 1.3165669602830552), ('subsample', 0.387658500562527)])\n",
      "\n",
      "Model #41\n",
      "Best ROC-AUC: 0.7488\n",
      "Best params: OrderedDict([('colsample_bylevel', 0.4503841871781403), ('colsample_bytree', 0.9195352964526833), ('gamma', 8.168958221061441e-09), ('learning_rate', 0.07356404539935663), ('max_delta_step', 4), ('max_depth', 23), ('min_child_weight', 1), ('n_estimators', 88), ('reg_alpha', 0.00010376808625045426), ('reg_lambda', 476.96194787286544), ('scale_pos_weight', 1.3165669602830552), ('subsample', 0.387658500562527)])\n",
      "\n",
      "Model #42\n",
      "Best ROC-AUC: 0.7511\n",
      "Best params: OrderedDict([('colsample_bylevel', 0.1430489555640129), ('colsample_bytree', 0.9537135576324947), ('gamma', 1.0627512492613798e-08), ('learning_rate', 0.637159601757966), ('max_delta_step', 20), ('max_depth', 37), ('min_child_weight', 2), ('n_estimators', 60), ('reg_alpha', 1.2026811737187764e-07), ('reg_lambda', 1000.0), ('scale_pos_weight', 0.32147394916309646), ('subsample', 0.9125993243960027)])\n",
      "\n",
      "Model #43\n",
      "Best ROC-AUC: 0.7511\n",
      "Best params: OrderedDict([('colsample_bylevel', 0.1430489555640129), ('colsample_bytree', 0.9537135576324947), ('gamma', 1.0627512492613798e-08), ('learning_rate', 0.637159601757966), ('max_delta_step', 20), ('max_depth', 37), ('min_child_weight', 2), ('n_estimators', 60), ('reg_alpha', 1.2026811737187764e-07), ('reg_lambda', 1000.0), ('scale_pos_weight', 0.32147394916309646), ('subsample', 0.9125993243960027)])\n",
      "\n",
      "Model #44\n",
      "Best ROC-AUC: 0.7511\n",
      "Best params: OrderedDict([('colsample_bylevel', 0.1430489555640129), ('colsample_bytree', 0.9537135576324947), ('gamma', 1.0627512492613798e-08), ('learning_rate', 0.637159601757966), ('max_delta_step', 20), ('max_depth', 37), ('min_child_weight', 2), ('n_estimators', 60), ('reg_alpha', 1.2026811737187764e-07), ('reg_lambda', 1000.0), ('scale_pos_weight', 0.32147394916309646), ('subsample', 0.9125993243960027)])\n",
      "\n",
      "Model #45\n",
      "Best ROC-AUC: 0.7511\n",
      "Best params: OrderedDict([('colsample_bylevel', 0.1430489555640129), ('colsample_bytree', 0.9537135576324947), ('gamma', 1.0627512492613798e-08), ('learning_rate', 0.637159601757966), ('max_delta_step', 20), ('max_depth', 37), ('min_child_weight', 2), ('n_estimators', 60), ('reg_alpha', 1.2026811737187764e-07), ('reg_lambda', 1000.0), ('scale_pos_weight', 0.32147394916309646), ('subsample', 0.9125993243960027)])\n",
      "\n",
      "Model #46\n",
      "Best ROC-AUC: 0.7511\n",
      "Best params: OrderedDict([('colsample_bylevel', 0.1430489555640129), ('colsample_bytree', 0.9537135576324947), ('gamma', 1.0627512492613798e-08), ('learning_rate', 0.637159601757966), ('max_delta_step', 20), ('max_depth', 37), ('min_child_weight', 2), ('n_estimators', 60), ('reg_alpha', 1.2026811737187764e-07), ('reg_lambda', 1000.0), ('scale_pos_weight', 0.32147394916309646), ('subsample', 0.9125993243960027)])\n",
      "\n",
      "Model #47\n",
      "Best ROC-AUC: 0.7511\n",
      "Best params: OrderedDict([('colsample_bylevel', 0.1430489555640129), ('colsample_bytree', 0.9537135576324947), ('gamma', 1.0627512492613798e-08), ('learning_rate', 0.637159601757966), ('max_delta_step', 20), ('max_depth', 37), ('min_child_weight', 2), ('n_estimators', 60), ('reg_alpha', 1.2026811737187764e-07), ('reg_lambda', 1000.0), ('scale_pos_weight', 0.32147394916309646), ('subsample', 0.9125993243960027)])\n",
      "\n",
      "Model #48\n",
      "Best ROC-AUC: 0.7511\n",
      "Best params: OrderedDict([('colsample_bylevel', 0.1430489555640129), ('colsample_bytree', 0.9537135576324947), ('gamma', 1.0627512492613798e-08), ('learning_rate', 0.637159601757966), ('max_delta_step', 20), ('max_depth', 37), ('min_child_weight', 2), ('n_estimators', 60), ('reg_alpha', 1.2026811737187764e-07), ('reg_lambda', 1000.0), ('scale_pos_weight', 0.32147394916309646), ('subsample', 0.9125993243960027)])\n",
      "\n",
      "Model #49\n",
      "Best ROC-AUC: 0.7511\n",
      "Best params: OrderedDict([('colsample_bylevel', 0.1430489555640129), ('colsample_bytree', 0.9537135576324947), ('gamma', 1.0627512492613798e-08), ('learning_rate', 0.637159601757966), ('max_delta_step', 20), ('max_depth', 37), ('min_child_weight', 2), ('n_estimators', 60), ('reg_alpha', 1.2026811737187764e-07), ('reg_lambda', 1000.0), ('scale_pos_weight', 0.32147394916309646), ('subsample', 0.9125993243960027)])\n",
      "\n",
      "Model #50\n",
      "Best ROC-AUC: 0.7511\n",
      "Best params: OrderedDict([('colsample_bylevel', 0.1430489555640129), ('colsample_bytree', 0.9537135576324947), ('gamma', 1.0627512492613798e-08), ('learning_rate', 0.637159601757966), ('max_delta_step', 20), ('max_depth', 37), ('min_child_weight', 2), ('n_estimators', 60), ('reg_alpha', 1.2026811737187764e-07), ('reg_lambda', 1000.0), ('scale_pos_weight', 0.32147394916309646), ('subsample', 0.9125993243960027)])\n",
      "\n",
      "Model #51\n",
      "Best ROC-AUC: 0.7511\n",
      "Best params: OrderedDict([('colsample_bylevel', 0.1430489555640129), ('colsample_bytree', 0.9537135576324947), ('gamma', 1.0627512492613798e-08), ('learning_rate', 0.637159601757966), ('max_delta_step', 20), ('max_depth', 37), ('min_child_weight', 2), ('n_estimators', 60), ('reg_alpha', 1.2026811737187764e-07), ('reg_lambda', 1000.0), ('scale_pos_weight', 0.32147394916309646), ('subsample', 0.9125993243960027)])\n",
      "\n",
      "Model #52\n",
      "Best ROC-AUC: 0.7511\n",
      "Best params: OrderedDict([('colsample_bylevel', 0.1430489555640129), ('colsample_bytree', 0.9537135576324947), ('gamma', 1.0627512492613798e-08), ('learning_rate', 0.637159601757966), ('max_delta_step', 20), ('max_depth', 37), ('min_child_weight', 2), ('n_estimators', 60), ('reg_alpha', 1.2026811737187764e-07), ('reg_lambda', 1000.0), ('scale_pos_weight', 0.32147394916309646), ('subsample', 0.9125993243960027)])\n",
      "\n",
      "Model #53\n",
      "Best ROC-AUC: 0.7511\n",
      "Best params: OrderedDict([('colsample_bylevel', 0.1430489555640129), ('colsample_bytree', 0.9537135576324947), ('gamma', 1.0627512492613798e-08), ('learning_rate', 0.637159601757966), ('max_delta_step', 20), ('max_depth', 37), ('min_child_weight', 2), ('n_estimators', 60), ('reg_alpha', 1.2026811737187764e-07), ('reg_lambda', 1000.0), ('scale_pos_weight', 0.32147394916309646), ('subsample', 0.9125993243960027)])\n",
      "\n",
      "Model #54\n",
      "Best ROC-AUC: 0.7511\n",
      "Best params: OrderedDict([('colsample_bylevel', 0.1430489555640129), ('colsample_bytree', 0.9537135576324947), ('gamma', 1.0627512492613798e-08), ('learning_rate', 0.637159601757966), ('max_delta_step', 20), ('max_depth', 37), ('min_child_weight', 2), ('n_estimators', 60), ('reg_alpha', 1.2026811737187764e-07), ('reg_lambda', 1000.0), ('scale_pos_weight', 0.32147394916309646), ('subsample', 0.9125993243960027)])\n",
      "\n",
      "Model #55\n",
      "Best ROC-AUC: 0.7511\n",
      "Best params: OrderedDict([('colsample_bylevel', 0.1430489555640129), ('colsample_bytree', 0.9537135576324947), ('gamma', 1.0627512492613798e-08), ('learning_rate', 0.637159601757966), ('max_delta_step', 20), ('max_depth', 37), ('min_child_weight', 2), ('n_estimators', 60), ('reg_alpha', 1.2026811737187764e-07), ('reg_lambda', 1000.0), ('scale_pos_weight', 0.32147394916309646), ('subsample', 0.9125993243960027)])\n",
      "\n",
      "Model #56\n",
      "Best ROC-AUC: 0.7511\n",
      "Best params: OrderedDict([('colsample_bylevel', 0.1430489555640129), ('colsample_bytree', 0.9537135576324947), ('gamma', 1.0627512492613798e-08), ('learning_rate', 0.637159601757966), ('max_delta_step', 20), ('max_depth', 37), ('min_child_weight', 2), ('n_estimators', 60), ('reg_alpha', 1.2026811737187764e-07), ('reg_lambda', 1000.0), ('scale_pos_weight', 0.32147394916309646), ('subsample', 0.9125993243960027)])\n",
      "\n",
      "Model #57\n",
      "Best ROC-AUC: 0.7511\n",
      "Best params: OrderedDict([('colsample_bylevel', 0.1430489555640129), ('colsample_bytree', 0.9537135576324947), ('gamma', 1.0627512492613798e-08), ('learning_rate', 0.637159601757966), ('max_delta_step', 20), ('max_depth', 37), ('min_child_weight', 2), ('n_estimators', 60), ('reg_alpha', 1.2026811737187764e-07), ('reg_lambda', 1000.0), ('scale_pos_weight', 0.32147394916309646), ('subsample', 0.9125993243960027)])\n",
      "\n",
      "Model #58\n",
      "Best ROC-AUC: 0.7511\n",
      "Best params: OrderedDict([('colsample_bylevel', 0.1430489555640129), ('colsample_bytree', 0.9537135576324947), ('gamma', 1.0627512492613798e-08), ('learning_rate', 0.637159601757966), ('max_delta_step', 20), ('max_depth', 37), ('min_child_weight', 2), ('n_estimators', 60), ('reg_alpha', 1.2026811737187764e-07), ('reg_lambda', 1000.0), ('scale_pos_weight', 0.32147394916309646), ('subsample', 0.9125993243960027)])\n",
      "\n",
      "Model #59\n",
      "Best ROC-AUC: 0.7511\n",
      "Best params: OrderedDict([('colsample_bylevel', 0.1430489555640129), ('colsample_bytree', 0.9537135576324947), ('gamma', 1.0627512492613798e-08), ('learning_rate', 0.637159601757966), ('max_delta_step', 20), ('max_depth', 37), ('min_child_weight', 2), ('n_estimators', 60), ('reg_alpha', 1.2026811737187764e-07), ('reg_lambda', 1000.0), ('scale_pos_weight', 0.32147394916309646), ('subsample', 0.9125993243960027)])\n",
      "\n",
      "Model #60\n",
      "Best ROC-AUC: 0.7511\n",
      "Best params: OrderedDict([('colsample_bylevel', 0.1430489555640129), ('colsample_bytree', 0.9537135576324947), ('gamma', 1.0627512492613798e-08), ('learning_rate', 0.637159601757966), ('max_delta_step', 20), ('max_depth', 37), ('min_child_weight', 2), ('n_estimators', 60), ('reg_alpha', 1.2026811737187764e-07), ('reg_lambda', 1000.0), ('scale_pos_weight', 0.32147394916309646), ('subsample', 0.9125993243960027)])\n",
      "\n",
      "Model #61\n",
      "Best ROC-AUC: 0.7511\n",
      "Best params: OrderedDict([('colsample_bylevel', 0.1430489555640129), ('colsample_bytree', 0.9537135576324947), ('gamma', 1.0627512492613798e-08), ('learning_rate', 0.637159601757966), ('max_delta_step', 20), ('max_depth', 37), ('min_child_weight', 2), ('n_estimators', 60), ('reg_alpha', 1.2026811737187764e-07), ('reg_lambda', 1000.0), ('scale_pos_weight', 0.32147394916309646), ('subsample', 0.9125993243960027)])\n",
      "\n",
      "Model #62\n",
      "Best ROC-AUC: 0.7511\n",
      "Best params: OrderedDict([('colsample_bylevel', 0.1430489555640129), ('colsample_bytree', 0.9537135576324947), ('gamma', 1.0627512492613798e-08), ('learning_rate', 0.637159601757966), ('max_delta_step', 20), ('max_depth', 37), ('min_child_weight', 2), ('n_estimators', 60), ('reg_alpha', 1.2026811737187764e-07), ('reg_lambda', 1000.0), ('scale_pos_weight', 0.32147394916309646), ('subsample', 0.9125993243960027)])\n",
      "\n",
      "Model #63\n",
      "Best ROC-AUC: 0.7511\n",
      "Best params: OrderedDict([('colsample_bylevel', 0.1430489555640129), ('colsample_bytree', 0.9537135576324947), ('gamma', 1.0627512492613798e-08), ('learning_rate', 0.637159601757966), ('max_delta_step', 20), ('max_depth', 37), ('min_child_weight', 2), ('n_estimators', 60), ('reg_alpha', 1.2026811737187764e-07), ('reg_lambda', 1000.0), ('scale_pos_weight', 0.32147394916309646), ('subsample', 0.9125993243960027)])\n",
      "\n",
      "Model #64\n",
      "Best ROC-AUC: 0.7511\n",
      "Best params: OrderedDict([('colsample_bylevel', 0.1430489555640129), ('colsample_bytree', 0.9537135576324947), ('gamma', 1.0627512492613798e-08), ('learning_rate', 0.637159601757966), ('max_delta_step', 20), ('max_depth', 37), ('min_child_weight', 2), ('n_estimators', 60), ('reg_alpha', 1.2026811737187764e-07), ('reg_lambda', 1000.0), ('scale_pos_weight', 0.32147394916309646), ('subsample', 0.9125993243960027)])\n",
      "\n",
      "Model #65\n",
      "Best ROC-AUC: 0.7511\n",
      "Best params: OrderedDict([('colsample_bylevel', 0.1430489555640129), ('colsample_bytree', 0.9537135576324947), ('gamma', 1.0627512492613798e-08), ('learning_rate', 0.637159601757966), ('max_delta_step', 20), ('max_depth', 37), ('min_child_weight', 2), ('n_estimators', 60), ('reg_alpha', 1.2026811737187764e-07), ('reg_lambda', 1000.0), ('scale_pos_weight', 0.32147394916309646), ('subsample', 0.9125993243960027)])\n",
      "\n",
      "Model #66\n",
      "Best ROC-AUC: 0.7511\n",
      "Best params: OrderedDict([('colsample_bylevel', 0.1430489555640129), ('colsample_bytree', 0.9537135576324947), ('gamma', 1.0627512492613798e-08), ('learning_rate', 0.637159601757966), ('max_delta_step', 20), ('max_depth', 37), ('min_child_weight', 2), ('n_estimators', 60), ('reg_alpha', 1.2026811737187764e-07), ('reg_lambda', 1000.0), ('scale_pos_weight', 0.32147394916309646), ('subsample', 0.9125993243960027)])\n",
      "\n",
      "Model #67\n",
      "Best ROC-AUC: 0.7511\n",
      "Best params: OrderedDict([('colsample_bylevel', 0.1430489555640129), ('colsample_bytree', 0.9537135576324947), ('gamma', 1.0627512492613798e-08), ('learning_rate', 0.637159601757966), ('max_delta_step', 20), ('max_depth', 37), ('min_child_weight', 2), ('n_estimators', 60), ('reg_alpha', 1.2026811737187764e-07), ('reg_lambda', 1000.0), ('scale_pos_weight', 0.32147394916309646), ('subsample', 0.9125993243960027)])\n",
      "\n",
      "Model #68\n",
      "Best ROC-AUC: 0.7511\n",
      "Best params: OrderedDict([('colsample_bylevel', 0.1430489555640129), ('colsample_bytree', 0.9537135576324947), ('gamma', 1.0627512492613798e-08), ('learning_rate', 0.637159601757966), ('max_delta_step', 20), ('max_depth', 37), ('min_child_weight', 2), ('n_estimators', 60), ('reg_alpha', 1.2026811737187764e-07), ('reg_lambda', 1000.0), ('scale_pos_weight', 0.32147394916309646), ('subsample', 0.9125993243960027)])\n",
      "\n",
      "Model #69\n",
      "Best ROC-AUC: 0.7511\n",
      "Best params: OrderedDict([('colsample_bylevel', 0.1430489555640129), ('colsample_bytree', 0.9537135576324947), ('gamma', 1.0627512492613798e-08), ('learning_rate', 0.637159601757966), ('max_delta_step', 20), ('max_depth', 37), ('min_child_weight', 2), ('n_estimators', 60), ('reg_alpha', 1.2026811737187764e-07), ('reg_lambda', 1000.0), ('scale_pos_weight', 0.32147394916309646), ('subsample', 0.9125993243960027)])\n",
      "\n",
      "Model #70\n",
      "Best ROC-AUC: 0.7511\n",
      "Best params: OrderedDict([('colsample_bylevel', 0.1430489555640129), ('colsample_bytree', 0.9537135576324947), ('gamma', 1.0627512492613798e-08), ('learning_rate', 0.637159601757966), ('max_delta_step', 20), ('max_depth', 37), ('min_child_weight', 2), ('n_estimators', 60), ('reg_alpha', 1.2026811737187764e-07), ('reg_lambda', 1000.0), ('scale_pos_weight', 0.32147394916309646), ('subsample', 0.9125993243960027)])\n",
      "\n",
      "Model #71\n",
      "Best ROC-AUC: 0.7511\n",
      "Best params: OrderedDict([('colsample_bylevel', 0.1430489555640129), ('colsample_bytree', 0.9537135576324947), ('gamma', 1.0627512492613798e-08), ('learning_rate', 0.637159601757966), ('max_delta_step', 20), ('max_depth', 37), ('min_child_weight', 2), ('n_estimators', 60), ('reg_alpha', 1.2026811737187764e-07), ('reg_lambda', 1000.0), ('scale_pos_weight', 0.32147394916309646), ('subsample', 0.9125993243960027)])\n",
      "\n",
      "Model #72\n",
      "Best ROC-AUC: 0.7511\n",
      "Best params: OrderedDict([('colsample_bylevel', 0.1430489555640129), ('colsample_bytree', 0.9537135576324947), ('gamma', 1.0627512492613798e-08), ('learning_rate', 0.637159601757966), ('max_delta_step', 20), ('max_depth', 37), ('min_child_weight', 2), ('n_estimators', 60), ('reg_alpha', 1.2026811737187764e-07), ('reg_lambda', 1000.0), ('scale_pos_weight', 0.32147394916309646), ('subsample', 0.9125993243960027)])\n",
      "\n",
      "Model #73\n",
      "Best ROC-AUC: 0.7511\n",
      "Best params: OrderedDict([('colsample_bylevel', 0.1430489555640129), ('colsample_bytree', 0.9537135576324947), ('gamma', 1.0627512492613798e-08), ('learning_rate', 0.637159601757966), ('max_delta_step', 20), ('max_depth', 37), ('min_child_weight', 2), ('n_estimators', 60), ('reg_alpha', 1.2026811737187764e-07), ('reg_lambda', 1000.0), ('scale_pos_weight', 0.32147394916309646), ('subsample', 0.9125993243960027)])\n",
      "\n",
      "Model #74\n",
      "Best ROC-AUC: 0.7511\n",
      "Best params: OrderedDict([('colsample_bylevel', 0.1430489555640129), ('colsample_bytree', 0.9537135576324947), ('gamma', 1.0627512492613798e-08), ('learning_rate', 0.637159601757966), ('max_delta_step', 20), ('max_depth', 37), ('min_child_weight', 2), ('n_estimators', 60), ('reg_alpha', 1.2026811737187764e-07), ('reg_lambda', 1000.0), ('scale_pos_weight', 0.32147394916309646), ('subsample', 0.9125993243960027)])\n",
      "\n",
      "Model #75\n",
      "Best ROC-AUC: 0.7511\n",
      "Best params: OrderedDict([('colsample_bylevel', 0.1430489555640129), ('colsample_bytree', 0.9537135576324947), ('gamma', 1.0627512492613798e-08), ('learning_rate', 0.637159601757966), ('max_delta_step', 20), ('max_depth', 37), ('min_child_weight', 2), ('n_estimators', 60), ('reg_alpha', 1.2026811737187764e-07), ('reg_lambda', 1000.0), ('scale_pos_weight', 0.32147394916309646), ('subsample', 0.9125993243960027)])\n",
      "\n",
      "Model #76\n",
      "Best ROC-AUC: 0.7511\n",
      "Best params: OrderedDict([('colsample_bylevel', 0.1430489555640129), ('colsample_bytree', 0.9537135576324947), ('gamma', 1.0627512492613798e-08), ('learning_rate', 0.637159601757966), ('max_delta_step', 20), ('max_depth', 37), ('min_child_weight', 2), ('n_estimators', 60), ('reg_alpha', 1.2026811737187764e-07), ('reg_lambda', 1000.0), ('scale_pos_weight', 0.32147394916309646), ('subsample', 0.9125993243960027)])\n",
      "\n",
      "Model #77\n",
      "Best ROC-AUC: 0.7511\n",
      "Best params: OrderedDict([('colsample_bylevel', 0.1430489555640129), ('colsample_bytree', 0.9537135576324947), ('gamma', 1.0627512492613798e-08), ('learning_rate', 0.637159601757966), ('max_delta_step', 20), ('max_depth', 37), ('min_child_weight', 2), ('n_estimators', 60), ('reg_alpha', 1.2026811737187764e-07), ('reg_lambda', 1000.0), ('scale_pos_weight', 0.32147394916309646), ('subsample', 0.9125993243960027)])\n",
      "\n",
      "Model #78\n",
      "Best ROC-AUC: 0.7511\n",
      "Best params: OrderedDict([('colsample_bylevel', 0.1430489555640129), ('colsample_bytree', 0.9537135576324947), ('gamma', 1.0627512492613798e-08), ('learning_rate', 0.637159601757966), ('max_delta_step', 20), ('max_depth', 37), ('min_child_weight', 2), ('n_estimators', 60), ('reg_alpha', 1.2026811737187764e-07), ('reg_lambda', 1000.0), ('scale_pos_weight', 0.32147394916309646), ('subsample', 0.9125993243960027)])\n",
      "\n",
      "Model #79\n",
      "Best ROC-AUC: 0.7511\n",
      "Best params: OrderedDict([('colsample_bylevel', 0.1430489555640129), ('colsample_bytree', 0.9537135576324947), ('gamma', 1.0627512492613798e-08), ('learning_rate', 0.637159601757966), ('max_delta_step', 20), ('max_depth', 37), ('min_child_weight', 2), ('n_estimators', 60), ('reg_alpha', 1.2026811737187764e-07), ('reg_lambda', 1000.0), ('scale_pos_weight', 0.32147394916309646), ('subsample', 0.9125993243960027)])\n",
      "\n",
      "Model #80\n",
      "Best ROC-AUC: 0.7511\n",
      "Best params: OrderedDict([('colsample_bylevel', 0.1430489555640129), ('colsample_bytree', 0.9537135576324947), ('gamma', 1.0627512492613798e-08), ('learning_rate', 0.637159601757966), ('max_delta_step', 20), ('max_depth', 37), ('min_child_weight', 2), ('n_estimators', 60), ('reg_alpha', 1.2026811737187764e-07), ('reg_lambda', 1000.0), ('scale_pos_weight', 0.32147394916309646), ('subsample', 0.9125993243960027)])\n",
      "\n",
      "Model #81\n",
      "Best ROC-AUC: 0.7511\n",
      "Best params: OrderedDict([('colsample_bylevel', 0.1430489555640129), ('colsample_bytree', 0.9537135576324947), ('gamma', 1.0627512492613798e-08), ('learning_rate', 0.637159601757966), ('max_delta_step', 20), ('max_depth', 37), ('min_child_weight', 2), ('n_estimators', 60), ('reg_alpha', 1.2026811737187764e-07), ('reg_lambda', 1000.0), ('scale_pos_weight', 0.32147394916309646), ('subsample', 0.9125993243960027)])\n",
      "\n",
      "Model #82\n",
      "Best ROC-AUC: 0.7511\n",
      "Best params: OrderedDict([('colsample_bylevel', 0.1430489555640129), ('colsample_bytree', 0.9537135576324947), ('gamma', 1.0627512492613798e-08), ('learning_rate', 0.637159601757966), ('max_delta_step', 20), ('max_depth', 37), ('min_child_weight', 2), ('n_estimators', 60), ('reg_alpha', 1.2026811737187764e-07), ('reg_lambda', 1000.0), ('scale_pos_weight', 0.32147394916309646), ('subsample', 0.9125993243960027)])\n",
      "\n",
      "Model #83\n",
      "Best ROC-AUC: 0.7511\n",
      "Best params: OrderedDict([('colsample_bylevel', 0.1430489555640129), ('colsample_bytree', 0.9537135576324947), ('gamma', 1.0627512492613798e-08), ('learning_rate', 0.637159601757966), ('max_delta_step', 20), ('max_depth', 37), ('min_child_weight', 2), ('n_estimators', 60), ('reg_alpha', 1.2026811737187764e-07), ('reg_lambda', 1000.0), ('scale_pos_weight', 0.32147394916309646), ('subsample', 0.9125993243960027)])\n",
      "\n",
      "Model #84\n",
      "Best ROC-AUC: 0.7511\n",
      "Best params: OrderedDict([('colsample_bylevel', 0.1430489555640129), ('colsample_bytree', 0.9537135576324947), ('gamma', 1.0627512492613798e-08), ('learning_rate', 0.637159601757966), ('max_delta_step', 20), ('max_depth', 37), ('min_child_weight', 2), ('n_estimators', 60), ('reg_alpha', 1.2026811737187764e-07), ('reg_lambda', 1000.0), ('scale_pos_weight', 0.32147394916309646), ('subsample', 0.9125993243960027)])\n",
      "\n",
      "Model #85\n",
      "Best ROC-AUC: 0.7511\n",
      "Best params: OrderedDict([('colsample_bylevel', 0.1430489555640129), ('colsample_bytree', 0.9537135576324947), ('gamma', 1.0627512492613798e-08), ('learning_rate', 0.637159601757966), ('max_delta_step', 20), ('max_depth', 37), ('min_child_weight', 2), ('n_estimators', 60), ('reg_alpha', 1.2026811737187764e-07), ('reg_lambda', 1000.0), ('scale_pos_weight', 0.32147394916309646), ('subsample', 0.9125993243960027)])\n",
      "\n",
      "Model #86\n",
      "Best ROC-AUC: 0.7513\n",
      "Best params: OrderedDict([('colsample_bylevel', 0.535363870854499), ('colsample_bytree', 0.840836673027889), ('gamma', 0.00010616342941418679), ('learning_rate', 1.0), ('max_delta_step', 8), ('max_depth', 9), ('min_child_weight', 0), ('n_estimators', 71), ('reg_alpha', 3.952376674853888e-09), ('reg_lambda', 1000.0), ('scale_pos_weight', 0.6220673681981993), ('subsample', 0.6250783167171895)])\n",
      "\n",
      "Model #87\n",
      "Best ROC-AUC: 0.7513\n",
      "Best params: OrderedDict([('colsample_bylevel', 0.535363870854499), ('colsample_bytree', 0.840836673027889), ('gamma', 0.00010616342941418679), ('learning_rate', 1.0), ('max_delta_step', 8), ('max_depth', 9), ('min_child_weight', 0), ('n_estimators', 71), ('reg_alpha', 3.952376674853888e-09), ('reg_lambda', 1000.0), ('scale_pos_weight', 0.6220673681981993), ('subsample', 0.6250783167171895)])\n",
      "\n",
      "Model #88\n",
      "Best ROC-AUC: 0.7513\n",
      "Best params: OrderedDict([('colsample_bylevel', 0.535363870854499), ('colsample_bytree', 0.840836673027889), ('gamma', 0.00010616342941418679), ('learning_rate', 1.0), ('max_delta_step', 8), ('max_depth', 9), ('min_child_weight', 0), ('n_estimators', 71), ('reg_alpha', 3.952376674853888e-09), ('reg_lambda', 1000.0), ('scale_pos_weight', 0.6220673681981993), ('subsample', 0.6250783167171895)])\n",
      "\n",
      "Model #89\n",
      "Best ROC-AUC: 0.7513\n",
      "Best params: OrderedDict([('colsample_bylevel', 0.535363870854499), ('colsample_bytree', 0.840836673027889), ('gamma', 0.00010616342941418679), ('learning_rate', 1.0), ('max_delta_step', 8), ('max_depth', 9), ('min_child_weight', 0), ('n_estimators', 71), ('reg_alpha', 3.952376674853888e-09), ('reg_lambda', 1000.0), ('scale_pos_weight', 0.6220673681981993), ('subsample', 0.6250783167171895)])\n",
      "\n",
      "Model #90\n",
      "Best ROC-AUC: 0.7544\n",
      "Best params: OrderedDict([('colsample_bylevel', 1.0), ('colsample_bytree', 0.8934959496581188), ('gamma', 0.49999999999999994), ('learning_rate', 0.30411217941277463), ('max_delta_step', 20), ('max_depth', 50), ('min_child_weight', 2), ('n_estimators', 77), ('reg_alpha', 0.8169695395407065), ('reg_lambda', 1000.0), ('scale_pos_weight', 0.7449593829684735), ('subsample', 0.4748541986057812)])\n",
      "\n",
      "Model #91\n",
      "Best ROC-AUC: 0.7544\n",
      "Best params: OrderedDict([('colsample_bylevel', 1.0), ('colsample_bytree', 0.8934959496581188), ('gamma', 0.49999999999999994), ('learning_rate', 0.30411217941277463), ('max_delta_step', 20), ('max_depth', 50), ('min_child_weight', 2), ('n_estimators', 77), ('reg_alpha', 0.8169695395407065), ('reg_lambda', 1000.0), ('scale_pos_weight', 0.7449593829684735), ('subsample', 0.4748541986057812)])\n",
      "\n",
      "Model #92\n",
      "Best ROC-AUC: 0.7544\n",
      "Best params: OrderedDict([('colsample_bylevel', 1.0), ('colsample_bytree', 0.8934959496581188), ('gamma', 0.49999999999999994), ('learning_rate', 0.30411217941277463), ('max_delta_step', 20), ('max_depth', 50), ('min_child_weight', 2), ('n_estimators', 77), ('reg_alpha', 0.8169695395407065), ('reg_lambda', 1000.0), ('scale_pos_weight', 0.7449593829684735), ('subsample', 0.4748541986057812)])\n",
      "\n",
      "Model #93\n",
      "Best ROC-AUC: 0.7544\n",
      "Best params: OrderedDict([('colsample_bylevel', 1.0), ('colsample_bytree', 0.8934959496581188), ('gamma', 0.49999999999999994), ('learning_rate', 0.30411217941277463), ('max_delta_step', 20), ('max_depth', 50), ('min_child_weight', 2), ('n_estimators', 77), ('reg_alpha', 0.8169695395407065), ('reg_lambda', 1000.0), ('scale_pos_weight', 0.7449593829684735), ('subsample', 0.4748541986057812)])\n",
      "\n",
      "Model #94\n",
      "Best ROC-AUC: 0.7544\n",
      "Best params: OrderedDict([('colsample_bylevel', 1.0), ('colsample_bytree', 0.8934959496581188), ('gamma', 0.49999999999999994), ('learning_rate', 0.30411217941277463), ('max_delta_step', 20), ('max_depth', 50), ('min_child_weight', 2), ('n_estimators', 77), ('reg_alpha', 0.8169695395407065), ('reg_lambda', 1000.0), ('scale_pos_weight', 0.7449593829684735), ('subsample', 0.4748541986057812)])\n",
      "\n",
      "Model #95\n",
      "Best ROC-AUC: 0.7544\n",
      "Best params: OrderedDict([('colsample_bylevel', 1.0), ('colsample_bytree', 0.8934959496581188), ('gamma', 0.49999999999999994), ('learning_rate', 0.30411217941277463), ('max_delta_step', 20), ('max_depth', 50), ('min_child_weight', 2), ('n_estimators', 77), ('reg_alpha', 0.8169695395407065), ('reg_lambda', 1000.0), ('scale_pos_weight', 0.7449593829684735), ('subsample', 0.4748541986057812)])\n",
      "\n",
      "Model #96\n",
      "Best ROC-AUC: 0.7544\n",
      "Best params: OrderedDict([('colsample_bylevel', 1.0), ('colsample_bytree', 0.8934959496581188), ('gamma', 0.49999999999999994), ('learning_rate', 0.30411217941277463), ('max_delta_step', 20), ('max_depth', 50), ('min_child_weight', 2), ('n_estimators', 77), ('reg_alpha', 0.8169695395407065), ('reg_lambda', 1000.0), ('scale_pos_weight', 0.7449593829684735), ('subsample', 0.4748541986057812)])\n",
      "\n",
      "Model #97\n",
      "Best ROC-AUC: 0.7544\n",
      "Best params: OrderedDict([('colsample_bylevel', 1.0), ('colsample_bytree', 0.8934959496581188), ('gamma', 0.49999999999999994), ('learning_rate', 0.30411217941277463), ('max_delta_step', 20), ('max_depth', 50), ('min_child_weight', 2), ('n_estimators', 77), ('reg_alpha', 0.8169695395407065), ('reg_lambda', 1000.0), ('scale_pos_weight', 0.7449593829684735), ('subsample', 0.4748541986057812)])\n",
      "\n",
      "Model #98\n",
      "Best ROC-AUC: 0.7544\n",
      "Best params: OrderedDict([('colsample_bylevel', 1.0), ('colsample_bytree', 0.8934959496581188), ('gamma', 0.49999999999999994), ('learning_rate', 0.30411217941277463), ('max_delta_step', 20), ('max_depth', 50), ('min_child_weight', 2), ('n_estimators', 77), ('reg_alpha', 0.8169695395407065), ('reg_lambda', 1000.0), ('scale_pos_weight', 0.7449593829684735), ('subsample', 0.4748541986057812)])\n",
      "\n",
      "Model #99\n",
      "Best ROC-AUC: 0.7544\n",
      "Best params: OrderedDict([('colsample_bylevel', 1.0), ('colsample_bytree', 0.8934959496581188), ('gamma', 0.49999999999999994), ('learning_rate', 0.30411217941277463), ('max_delta_step', 20), ('max_depth', 50), ('min_child_weight', 2), ('n_estimators', 77), ('reg_alpha', 0.8169695395407065), ('reg_lambda', 1000.0), ('scale_pos_weight', 0.7449593829684735), ('subsample', 0.4748541986057812)])\n",
      "\n",
      "Model #100\n",
      "Best ROC-AUC: 0.7544\n",
      "Best params: OrderedDict([('colsample_bylevel', 1.0), ('colsample_bytree', 0.8934959496581188), ('gamma', 0.49999999999999994), ('learning_rate', 0.30411217941277463), ('max_delta_step', 20), ('max_depth', 50), ('min_child_weight', 2), ('n_estimators', 77), ('reg_alpha', 0.8169695395407065), ('reg_lambda', 1000.0), ('scale_pos_weight', 0.7449593829684735), ('subsample', 0.4748541986057812)])\n",
      "\n",
      "[16:33:27] WARNING: ../src/learner.cc:541: \n",
      "Parameters: { silent } might not be used.\n",
      "\n",
      "  This may not be accurate due to some parameters are only used in language bindings but\n",
      "  passed down to XGBoost core.  Or some parameters are not used but slip through this\n",
      "  verification. Please open an issue if you find above cases.\n",
      "\n",
      "\n"
     ]
    },
    {
     "name": "stderr",
     "output_type": "stream",
     "text": [
      "/home/maurykdell/.local/lib/python3.8/site-packages/xgboost/sklearn.py:888: UserWarning: The use of label encoder in XGBClassifier is deprecated and will be removed in a future release. To remove this warning, do the following: 1) Pass option use_label_encoder=False when constructing XGBClassifier object; and 2) Encode your labels (y) as integers starting with 0, i.e. 0, 1, 2, ..., [num_class - 1].\n",
      "  warnings.warn(label_encoder_deprecation_msg, UserWarning)\n"
     ]
    }
   ],
   "source": [
    "result = bayes_cv_tuner.fit(X.values, y.values, callback=status_print)"
   ]
  },
  {
   "cell_type": "code",
   "execution_count": null,
   "metadata": {},
   "outputs": [],
   "source": []
  }
 ],
 "metadata": {
  "kernelspec": {
   "display_name": "Python 3",
   "language": "python",
   "name": "python3"
  },
  "language_info": {
   "codemirror_mode": {
    "name": "ipython",
    "version": 3
   },
   "file_extension": ".py",
   "mimetype": "text/x-python",
   "name": "python",
   "nbconvert_exporter": "python",
   "pygments_lexer": "ipython3",
   "version": "3.8.5"
  }
 },
 "nbformat": 4,
 "nbformat_minor": 4
}
