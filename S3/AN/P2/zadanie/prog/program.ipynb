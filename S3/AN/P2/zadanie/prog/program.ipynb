{
 "cells": [
  {
   "cell_type": "markdown",
   "metadata": {},
   "source": [
    "# Prezentacja implementacji rozwiązania problemu 3"
   ]
  },
  {
   "cell_type": "markdown",
   "metadata": {},
   "source": [
    "## Init"
   ]
  },
  {
   "cell_type": "code",
   "execution_count": null,
   "metadata": {},
   "outputs": [],
   "source": [
    "using Plots\n",
    "using LaTeXStringsX\n",
    "using Statistics\n",
    "using LinearAlgebra\n",
    "using Printf"
   ]
  },
  {
   "cell_type": "markdown",
   "metadata": {},
   "source": [
    "Ustawiamy rządaną dokładność"
   ]
  },
  {
   "cell_type": "code",
   "execution_count": null,
   "metadata": {},
   "outputs": [],
   "source": [
    "Float64"
   ]
  },
  {
   "cell_type": "markdown",
   "metadata": {},
   "source": [
    "### Całkowanie, liczenie iloczynu skalarnego i błędu"
   ]
  },
  {
   "cell_type": "markdown",
   "metadata": {},
   "source": [
    "Funkcja obliczająca całkę $\\int_a^b f(x)dx$ metodą Romberga"
   ]
  },
  {
   "cell_type": "code",
   "execution_count": null,
   "metadata": {
    "scrolled": true
   },
   "outputs": [],
   "source": [
    "function integrate(f, a, b)\n",
    "    M = 20 # maksymalna ilość kroków\n",
    "    acc = 1e-5 # żądana dokładność\n",
    "    \n",
    "    Rc = Vector{Float64}(undef, M) # Wektor z obecnym rzędem macierzy R obliczonym metodą Romberga\n",
    "    Rp =  Vector{Float64}(undef, M) # Wektor z poprzednim rzędem macierzy R\n",
    "    h = (b-a) # krok\n",
    "    Rp[1] = (f(a) + f(b))*h*0.5 # początek, trapezami\n",
    "\n",
    "    for i = 2:M\n",
    "        h = h/2\n",
    "        c = 0\n",
    "        ep = 2^(i-2)\n",
    "        \n",
    "        for j = 1:ep\n",
    "            c += f(a + (2*j-1)*h)\n",
    "        end\n",
    "        Rc[1] = h*c + 0.5*Rp[1]\n",
    "        \n",
    "        for j = 2:i\n",
    "            n_k = 4^(j-1)\n",
    "            Rc[j] = (n_k*Rc[j-1] - Rp[j-1])/(n_k - 1) # obliczamy R_nm zgodnie z rekurencyjnym wzorem\n",
    "        end\n",
    "        \n",
    "        if i > 2 && abs(Rp[i-1] - Rc[i]) < acc\n",
    "            return Rc[i-1] # uzyskaliśmy żądaną dokładność\n",
    "        end\n",
    "        \n",
    "        Rp, Rc = Rc, Rp # obecny wiersz staje się poprzednim\n",
    "    end\n",
    "    return Rp[M]\n",
    "end \n",
    "        "
   ]
  },
  {
   "cell_type": "markdown",
   "metadata": {},
   "source": [
    "Funkcja obliczająca iloczyn skalarny z definicji: $\\langle f,g\\rangle =  \\int_0^1 xf(x)g(x) dx$"
   ]
  },
  {
   "cell_type": "code",
   "execution_count": null,
   "metadata": {},
   "outputs": [],
   "source": [
    "function dot_prod(f, g)\n",
    "    function fg(x)\n",
    "        return x*f(x)*g(x)\n",
    "    end\n",
    "    return integrate(fg, 0, 1)\n",
    "end"
   ]
  },
  {
   "cell_type": "markdown",
   "metadata": {},
   "source": [
    "Funkcja obliczająca błąd $\\Vert f - w^*\\Vert^2 = \\langle f-w^*,f-w^*\\rangle$ wielomianu $w^*$."
   ]
  },
  {
   "cell_type": "code",
   "execution_count": null,
   "metadata": {},
   "outputs": [],
   "source": [
    "function get_err(f, w)\n",
    "    function diff(x)\n",
    "        return f(x) - w(x)\n",
    "    end\n",
    "    return dot_prod(diff, diff)\n",
    "end"
   ]
  },
  {
   "cell_type": "markdown",
   "metadata": {},
   "source": [
    "### Wyznaczenie wielomianu optymalnego $w^*$"
   ]
  },
  {
   "cell_type": "markdown",
   "metadata": {},
   "source": [
    "Funkcje pomocnicze"
   ]
  },
  {
   "cell_type": "code",
   "execution_count": null,
   "metadata": {},
   "outputs": [],
   "source": [
    "function x_pow(pow) # funkcja zwaracjąca funkcję x^pow\n",
    "    function f(x)\n",
    "        return x^pow\n",
    "    end\n",
    "    return f\n",
    "end\n",
    "\n",
    "function get_poly(alphas) # funkcja zwracająca wielomian w o współczynnikach alfa\n",
    "    n = size(alphas,1)\n",
    "    function poly(x)\n",
    "        X = [x_pow(i-1)(x) for i = 1:n]\n",
    "        return dot(X,alphas)\n",
    "    end\n",
    "    return poly\n",
    "end"
   ]
  },
  {
   "cell_type": "markdown",
   "metadata": {},
   "source": [
    "Funkcja znajdująca wielomian optymalny $n$-tego stopnia dla funkcji $f$ "
   ]
  },
  {
   "cell_type": "code",
   "execution_count": null,
   "metadata": {},
   "outputs": [],
   "source": [
    "function get_opt(f, n) # f\n",
    "    A = zeros((n+1, n+1))\n",
    "    B = zeros((n+1,1))\n",
    "    C = zeros((n+1,1))\n",
    "    # tworzymy macierz A z iloczynów skalarnych podstawowej bazy PI_n\n",
    "    for i = 1:(n+1)\n",
    "        for j = 1:(n+1)\n",
    "            A[i,j] = 1 / (i+j)\n",
    "        end\n",
    "    end\n",
    "    for i = 1:(n+1) # macierz nietrywialnych iloczynówk skalarnych\n",
    "        C[i,1] = dot_prod(f,x_pow(i-1))\n",
    "    end\n",
    "    B = inv(A)*C # rozwiązujemy układ równań liniowych\n",
    "    return get_poly(B) # zwracamy wielomian o danych współczynnikach\n",
    "end"
   ]
  },
  {
   "cell_type": "markdown",
   "metadata": {},
   "source": [
    "Szukamy optymalnego $w_n^*$ spełniającego $\\Vert f - w_n^*\\Vert^2  < \\varepsilon$ "
   ]
  },
  {
   "cell_type": "code",
   "execution_count": null,
   "metadata": {},
   "outputs": [],
   "source": [
    "function get_ans(f, eps)\n",
    "    n = 0\n",
    "    W = [] # kolejne wielomiany\n",
    "    errors = [] # błędy kolejnych wielomianów\n",
    "    while true # iterujemy się dopóki nie znajdziemy wielomianu optymalnego\n",
    "        w = get_opt(f, n)\n",
    "        n += 1\n",
    "        err = get_err(f, w)\n",
    "        push!(W,w)\n",
    "        push!(errors, err)\n",
    "        if err < eps || n > 25 # znaleźliśmy wielomian optymalny, lub max kroki\n",
    "            return W, errors\n",
    "        end\n",
    "    end\n",
    "    return W, errors\n",
    "end"
   ]
  },
  {
   "cell_type": "markdown",
   "metadata": {},
   "source": [
    "Funkcja licząca $w_n^*$, zwraca błędy kolejnych iteracji, pokazuje na animacji kolejne aproksymacje wielomianem danej funkcji"
   ]
  },
  {
   "cell_type": "code",
   "execution_count": null,
   "metadata": {},
   "outputs": [],
   "source": [
    "function solve(f, f_name, file_name, eps, animation)\n",
    "    W, e = get_ans(f, eps)\n",
    "    if animation # kod do tworzednia animacji\n",
    "        df = size(W,1)\n",
    "        anim =  @animate for i = 1:df\n",
    "            a = W[i].(0:0.01:1)\n",
    "            b = f.(0:0.01:1)\n",
    "            max = maximum([maximum(a),maximum(b)])\n",
    "            min = minimum([minimum(a),minimum(b)])\n",
    "            diff = max - min # wszystkie powyższe linijki są po to, żeby napisy nie skakały\n",
    "            plot(0:0.01:1,[W[i],f],legend=:topleft, label = [L\"w_n^*\" f_name])\n",
    "            err = @sprintf(\"%5.10f\", e[i])\n",
    "            annotate!(0.085, min+0.5*diff, text(\"n: \" * string(i), :black, :right, 10))\n",
    "            annotate!(0.3, min+0.45*diff, text(\"error: \" * err, :red, :right, 10))\n",
    "        end\n",
    "        gif(anim, file_name * \".gif\", fps = 2)\n",
    "    end\n",
    "    return e\n",
    "end"
   ]
  },
  {
   "cell_type": "markdown",
   "metadata": {},
   "source": [
    "Testujemy działanie programu dla różnych funkcji"
   ]
  },
  {
   "cell_type": "code",
   "execution_count": null,
   "metadata": {},
   "outputs": [],
   "source": [
    "almost_inv(x) = 1 / (x + 1e-3)\n",
    "poly_3(x) = 0.5 - 2*x + 0.01*x^2 + 100*x^3\n",
    "poly_4(x) = 3 + 3.5*x + x^2 - 1000*x^4\n",
    "sin_inv(x) = sin(1/(x+1e-3))"
   ]
  },
  {
   "cell_type": "code",
   "execution_count": null,
   "metadata": {},
   "outputs": [],
   "source": [
    "functions = [sin, tan, exp, almost_inv, sqrt, poly_3, poly_4, sin_inv]\n",
    "functions_names = [L\"\\sin\", L\"tg\", L\"e^x\", L\"\\frac{1}{x}\", L\"\\sqrt{x}\", L\"w_3\", L\"w_4\", L\"\\sin{\\frac{1}{x}}\"]\n",
    "eps = [1e-9, 1e-9, 1e-9, 1, 1e-6, 1e-9, 1e-9, 2*1e-2]\n",
    "file_names = [\"sin\", \"tg\", \"exp\", \"inv\", \"sqrt\", \"poly_3\", \"poly_4\", \"sin_inv\"]"
   ]
  },
  {
   "cell_type": "code",
   "execution_count": null,
   "metadata": {},
   "outputs": [],
   "source": [
    "errors = []\n",
    "for i in eachindex(functions)\n",
    "    err = solve(functions[i], functions_names[i], file_names[i], eps[i], true)\n",
    "    push!(errors, err)\n",
    "end"
   ]
  }
 ],
 "metadata": {
  "kernelspec": {
   "display_name": "Julia 1.5.2",
   "language": "julia",
   "name": "julia-1.5"
  },
  "language_info": {
   "file_extension": ".jl",
   "mimetype": "application/julia",
   "name": "julia",
   "version": "1.5.2"
  }
 },
 "nbformat": 4,
 "nbformat_minor": 4
}
