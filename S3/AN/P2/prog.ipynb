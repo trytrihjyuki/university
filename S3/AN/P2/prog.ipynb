{
 "cells": [
  {
   "cell_type": "markdown",
   "metadata": {},
   "source": [
    "# Prezentacja implementacji rozwiązania problemu 3"
   ]
  },
  {
   "cell_type": "markdown",
   "metadata": {},
   "source": [
    "## Init"
   ]
  },
  {
   "cell_type": "code",
   "execution_count": 1,
   "metadata": {},
   "outputs": [],
   "source": [
    "using Plots\n",
    "using LaTeXStrings\n",
    "using Statistics\n",
    "using LinearAlgebra\n",
    "using Printf"
   ]
  },
  {
   "cell_type": "markdown",
   "metadata": {},
   "source": [
    "Ustawiamy rządaną dokładność"
   ]
  },
  {
   "cell_type": "code",
   "execution_count": 2,
   "metadata": {},
   "outputs": [
    {
     "data": {
      "text/plain": [
       "Float64"
      ]
     },
     "execution_count": 2,
     "metadata": {},
     "output_type": "execute_result"
    }
   ],
   "source": [
    "Float64"
   ]
  },
  {
   "cell_type": "markdown",
   "metadata": {},
   "source": [
    "### Całkowanie, liczenie iloczynu skalarnego i błędu"
   ]
  },
  {
   "cell_type": "markdown",
   "metadata": {},
   "source": [
    "Funkcja obliczająca całkę $\\int_a^b f(x)dx$ metodą Romberga"
   ]
  },
  {
   "cell_type": "code",
   "execution_count": 3,
   "metadata": {
    "scrolled": true
   },
   "outputs": [
    {
     "data": {
      "text/plain": [
       "integrate (generic function with 1 method)"
      ]
     },
     "execution_count": 3,
     "metadata": {},
     "output_type": "execute_result"
    }
   ],
   "source": [
    "function integrate(f, a, b)\n",
    "    M = 20 # maksymalna ilość kroków\n",
    "    acc = 1e-5 # żądana dokładność\n",
    "    \n",
    "    Rc = Vector{Float64}(undef, M) # Wektor z obecnym rzędem macierzy R obliczonym metodą Romberga\n",
    "    Rp =  Vector{Float64}(undef, M) # Wektor z poprzednim rzędem macierzy R\n",
    "    h = (b-a) # krok\n",
    "    Rp[1] = (f(a) + f(b))*h*0.5 # początek, trapezami\n",
    "\n",
    "    for i = 2:M\n",
    "        h = h/2\n",
    "        c = 0\n",
    "        ep = 2^(i-2)\n",
    "        \n",
    "        for j = 1:ep\n",
    "            c += f(a + (2*j-1)*h)\n",
    "        end\n",
    "        Rc[1] = h*c + 0.5*Rp[1]\n",
    "        \n",
    "        for j = 2:i\n",
    "            n_k = 4^(j-1)\n",
    "            Rc[j] = (n_k*Rc[j-1] - Rp[j-1])/(n_k - 1) # obliczamy R_nm zgodnie z rekurencyjnym wzorem\n",
    "        end\n",
    "        \n",
    "        if i > 2 && abs(Rp[i-1] - Rc[i]) < acc\n",
    "            return Rc[i-1] # uzyskaliśmy żądaną dokładność\n",
    "        end\n",
    "        \n",
    "        Rp, Rc = Rc, Rp # obecny wiersz staje się poprzednim\n",
    "    end\n",
    "    return Rp[M]\n",
    "end \n",
    "        "
   ]
  },
  {
   "cell_type": "markdown",
   "metadata": {},
   "source": [
    "Funkcja obliczająca iloczyn skalarny z definicji: $\\langle f,g\\rangle =  \\int_0^1 xf(x)g(x) dx$"
   ]
  },
  {
   "cell_type": "code",
   "execution_count": 4,
   "metadata": {},
   "outputs": [
    {
     "data": {
      "text/plain": [
       "dot_prod (generic function with 1 method)"
      ]
     },
     "execution_count": 4,
     "metadata": {},
     "output_type": "execute_result"
    }
   ],
   "source": [
    "function dot_prod(f, g)\n",
    "    function fg(x)\n",
    "        return x*f(x)*g(x)\n",
    "    end\n",
    "    return integrate(fg, 0, 1)\n",
    "end"
   ]
  },
  {
   "cell_type": "markdown",
   "metadata": {},
   "source": [
    "Funkcja obliczająca błąd $\\Vert f - w^*\\Vert^2 = \\langle f-w^*,f-w^*\\rangle$ wielomianu $w^*$."
   ]
  },
  {
   "cell_type": "code",
   "execution_count": 5,
   "metadata": {},
   "outputs": [
    {
     "data": {
      "text/plain": [
       "get_err (generic function with 1 method)"
      ]
     },
     "execution_count": 5,
     "metadata": {},
     "output_type": "execute_result"
    }
   ],
   "source": [
    "function get_err(f, w)\n",
    "    function diff(x)\n",
    "        return f(x) - w(x)\n",
    "    end\n",
    "    return dot_prod(diff, diff)\n",
    "end"
   ]
  },
  {
   "cell_type": "markdown",
   "metadata": {},
   "source": [
    "### Wyznaczenie wielomianu optymalnego $w^*$"
   ]
  },
  {
   "cell_type": "markdown",
   "metadata": {},
   "source": [
    "Funkcje pomocnicze"
   ]
  },
  {
   "cell_type": "code",
   "execution_count": 6,
   "metadata": {},
   "outputs": [
    {
     "data": {
      "text/plain": [
       "get_poly (generic function with 1 method)"
      ]
     },
     "execution_count": 6,
     "metadata": {},
     "output_type": "execute_result"
    }
   ],
   "source": [
    "function x_pow(pow) # funkcja zwaracjąca funkcję x^pow\n",
    "    function f(x)\n",
    "        return x^pow\n",
    "    end\n",
    "    return f\n",
    "end\n",
    "\n",
    "function get_poly(alphas) # funkcja zwracająca wielomian w o współczynnikach alfa\n",
    "    n = size(alphas,1)\n",
    "    function poly(x)\n",
    "        X = [x_pow(i-1)(x) for i = 1:n]\n",
    "        return dot(X,alphas)\n",
    "    end\n",
    "    return poly\n",
    "end"
   ]
  },
  {
   "cell_type": "markdown",
   "metadata": {},
   "source": [
    "Funkcja znajdująca wielomian optymalny $n$-tego stopnia dla funkcji $f$ "
   ]
  },
  {
   "cell_type": "code",
   "execution_count": 7,
   "metadata": {},
   "outputs": [
    {
     "data": {
      "text/plain": [
       "get_opt (generic function with 1 method)"
      ]
     },
     "execution_count": 7,
     "metadata": {},
     "output_type": "execute_result"
    }
   ],
   "source": [
    "function get_opt(f, n) # f\n",
    "    A = zeros((n+1, n+1))\n",
    "    B = zeros((n+1,1))\n",
    "    C = zeros((n+1,1))\n",
    "    # tworzymy macierz A z iloczynów skalarnych podstawowej bazy PI_n\n",
    "    for i = 1:(n+1)\n",
    "        for j = 1:(n+1)\n",
    "            A[i,j] = 1 / (i+j)\n",
    "        end\n",
    "    end\n",
    "    for i = 1:(n+1) # macierz nietrywialnych iloczynówk skalarnych\n",
    "        C[i,1] = dot_prod(f,x_pow(i-1))\n",
    "    end\n",
    "    B = inv(A)*C # rozwiązujemy układ równań liniowych\n",
    "    return get_poly(B) # zwracamy wielomian o danych współczynnikach\n",
    "end"
   ]
  },
  {
   "cell_type": "markdown",
   "metadata": {},
   "source": [
    "Szukamy optymalnego $w_n^*$ spełniającego $\\Vert f - w_n^*\\Vert^2  < \\varepsilon$ "
   ]
  },
  {
   "cell_type": "code",
   "execution_count": 8,
   "metadata": {},
   "outputs": [
    {
     "data": {
      "text/plain": [
       "get_ans (generic function with 1 method)"
      ]
     },
     "execution_count": 8,
     "metadata": {},
     "output_type": "execute_result"
    }
   ],
   "source": [
    "function get_ans(f, eps)\n",
    "    n = 0\n",
    "    W = []\n",
    "    while true # iterujemy się dopóki nie znajdziemy wielomianu optymalnego\n",
    "        w = get_opt(f, n)\n",
    "        n += 1\n",
    "        err = get_err(f, w)\n",
    "        push!(W,w)\n",
    "        if err < eps || n > 100 # znaleźliśmy wielomian optymalny, lub max kroki\n",
    "            return W\n",
    "        end\n",
    "    end\n",
    "    return W\n",
    "end"
   ]
  },
  {
   "cell_type": "code",
   "execution_count": 11,
   "metadata": {},
   "outputs": [
    {
     "data": {
      "text/plain": [
       "5-element Array{Any,1}:\n",
       " var\"#poly#7\"{Array{Float64,2},Int64}([0.6023374353983306], 1)\n",
       " var\"#poly#7\"{Array{Float64,2},Int64}([0.06317073958675616; 0.8087500437173623], 2)\n",
       " var\"#poly#7\"{Array{Float64,2},Int64}([-0.016770597802170762; 1.1285153932730938; -0.2664711246297658], 3)\n",
       " var\"#poly#7\"{Array{Float64,2},Int64}([-0.0009256537534079452; 1.0096783129072784; -0.028796963898466352; -0.1386432604264553], 4)\n",
       " var\"#poly#7\"{Array{Float64,2},Int64}([-0.0005372690072223224; 1.0050176959531325; … ; -0.16039280621453894; 0.009787295610060363], 5)"
      ]
     },
     "execution_count": 11,
     "metadata": {},
     "output_type": "execute_result"
    }
   ],
   "source": [
    "W = get_ans(sin, 1e-9)"
   ]
  },
  {
   "cell_type": "code",
   "execution_count": 12,
   "metadata": {},
   "outputs": [
    {
     "name": "stderr",
     "output_type": "stream",
     "text": [
      "┌ Info: Saved animation to \n",
      "│   fn = /home/maurykdell/Desktop/university/S3/AN/P2/animacja.gif\n",
      "└ @ Plots /home/maurykdell/.julia/packages/Plots/uCh2y/src/animation.jl:104\n"
     ]
    },
    {
     "data": {
      "text/html": [
       "<img src=\"data:image/gif;base64,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\" />"
      ],
      "text/plain": [
       "Plots.AnimatedGif(\"/home/maurykdell/Desktop/university/S3/AN/P2/animacja.gif\")"
      ]
     },
     "execution_count": 12,
     "metadata": {},
     "output_type": "execute_result"
    }
   ],
   "source": [
    "df = size(W,1)\n",
    " \n",
    "anim =  @animate for i = 1:df\n",
    "    plot(0:0.01:1,[W[i],sin],fmt=png, leg=false)\n",
    "    err = @sprintf(\"%5.10f\",get_err(sin, W[i]))\n",
    "    annotate!(0.085, 0.5, text(\"n: \" * string(i), :red, :right, 10))\n",
    "    annotate!(0.3, 0.45, text(\"error: \" * err, :red, :right, 10))\n",
    "end\n",
    " \n",
    "gif(anim, \"animacja.gif\", fps = 2)"
   ]
  },
  {
   "cell_type": "code",
   "execution_count": null,
   "metadata": {},
   "outputs": [],
   "source": []
  },
  {
   "cell_type": "code",
   "execution_count": 5,
   "metadata": {},
   "outputs": [
    {
     "data": {
      "text/plain": [
       "0.25"
      ]
     },
     "execution_count": 5,
     "metadata": {},
     "output_type": "execute_result"
    }
   ],
   "source": [
    "functions = [sin, sqrt, inv]\n",
    "functions[3](4)"
   ]
  },
  {
   "cell_type": "code",
   "execution_count": 10,
   "metadata": {},
   "outputs": [
    {
     "data": {
      "text/plain": [
       "101-element Array{Float64,1}:\n",
       " 0.0\n",
       " 0.009999833334166664\n",
       " 0.01999866669333308\n",
       " 0.02999550020249566\n",
       " 0.03998933418663416\n",
       " 0.04997916927067833\n",
       " 0.059964006479444595\n",
       " 0.06994284733753277\n",
       " 0.0799146939691727\n",
       " 0.08987854919801104\n",
       " 0.09983341664682815\n",
       " 0.10977830083717481\n",
       " 0.11971220728891936\n",
       " ⋮\n",
       " 0.7770717475268238\n",
       " 0.7833269096274834\n",
       " 0.7895037396899505\n",
       " 0.795601620036366\n",
       " 0.8016199408837772\n",
       " 0.8075581004051142\n",
       " 0.8134155047893737\n",
       " 0.8191915683009983\n",
       " 0.8248857133384501\n",
       " 0.8304973704919705\n",
       " 0.8360259786005205\n",
       " 0.8414709848078965"
      ]
     },
     "execution_count": 10,
     "metadata": {},
     "output_type": "execute_result"
    }
   ],
   "source": [
    "sss = [2,4,9,3,0]\n",
    "sin.(0:0.01:1)"
   ]
  },
  {
   "cell_type": "code",
   "execution_count": null,
   "metadata": {},
   "outputs": [],
   "source": []
  }
 ],
 "metadata": {
  "kernelspec": {
   "display_name": "Julia 1.4.1",
   "language": "julia",
   "name": "julia-1.4"
  },
  "language_info": {
   "file_extension": ".jl",
   "mimetype": "application/julia",
   "name": "julia",
   "version": "1.4.1"
  }
 },
 "nbformat": 4,
 "nbformat_minor": 4
}
